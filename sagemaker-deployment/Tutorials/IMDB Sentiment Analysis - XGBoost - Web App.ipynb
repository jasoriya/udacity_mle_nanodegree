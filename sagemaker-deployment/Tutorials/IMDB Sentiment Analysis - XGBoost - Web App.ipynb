{
 "cells": [
  {
   "cell_type": "markdown",
   "metadata": {},
   "source": [
    "# Sentiment Analysis Web App\n",
    "\n",
    "_Deep Learning Nanodegree Program | Deployment_\n",
    "\n",
    "---\n",
    "\n",
    "In this notebook we will use Amazon's SageMaker service to construct a random tree model to predict the sentiment of a movie review. In addition, we will deploy this model to an endpoint and construct a very simple web app which will interact with our model's deployed endpoint.\n",
    "\n",
    "## General Outline\n",
    "\n",
    "Typically, when using a notebook instance with SageMaker, you will proceed through the following steps. Of course, not every step will need to be done with each project. Also, there is quite a lot of room for variation in many of the steps, as you will see throughout these lessons.\n",
    "\n",
    "1. Download or otherwise retrieve the data.\n",
    "2. Process / Prepare the data.\n",
    "3. Upload the processed data to S3.\n",
    "4. Train a chosen model.\n",
    "5. Test the trained model (typically using a batch transform job).\n",
    "6. Deploy the trained model.\n",
    "7. Use the deployed model.\n",
    "\n",
    "In this notebook we will progress through each of the steps above. We will also see that the final step, using the deployed model, can be quite challenging."
   ]
  },
  {
   "cell_type": "markdown",
   "metadata": {},
   "source": [
    "## Step 1: Downloading the data\n",
    "\n",
    "The dataset we are going to use is very popular among researchers in Natural Language Processing, usually referred to as the [IMDb dataset](http://ai.stanford.edu/~amaas/data/sentiment/). It consists of movie reviews from the website [imdb.com](http://www.imdb.com/), each labeled as either '**pos**itive', if the reviewer enjoyed the film, or '**neg**ative' otherwise.\n",
    "\n",
    "> Maas, Andrew L., et al. [Learning Word Vectors for Sentiment Analysis](http://ai.stanford.edu/~amaas/data/sentiment/). In _Proceedings of the 49th Annual Meeting of the Association for Computational Linguistics: Human Language Technologies_. Association for Computational Linguistics, 2011.\n",
    "\n",
    "We begin by using some Jupyter Notebook magic to download and extract the dataset."
   ]
  },
  {
   "cell_type": "code",
   "execution_count": 1,
   "metadata": {},
   "outputs": [
    {
     "name": "stdout",
     "output_type": "stream",
     "text": [
      "mkdir: cannot create directory ‘../data’: File exists\n",
      "--2020-05-14 21:44:15--  http://ai.stanford.edu/~amaas/data/sentiment/aclImdb_v1.tar.gz\n",
      "Resolving ai.stanford.edu (ai.stanford.edu)... 171.64.68.10\n",
      "Connecting to ai.stanford.edu (ai.stanford.edu)|171.64.68.10|:80... connected.\n",
      "HTTP request sent, awaiting response... 200 OK\n",
      "Length: 84125825 (80M) [application/x-gzip]\n",
      "Saving to: ‘../data/aclImdb_v1.tar.gz’\n",
      "\n",
      "../data/aclImdb_v1. 100%[===================>]  80.23M  28.8MB/s    in 2.8s    \n",
      "\n",
      "2020-05-14 21:44:18 (28.8 MB/s) - ‘../data/aclImdb_v1.tar.gz’ saved [84125825/84125825]\n",
      "\n"
     ]
    }
   ],
   "source": [
    "%mkdir ../data\n",
    "!wget -O ../data/aclImdb_v1.tar.gz http://ai.stanford.edu/~amaas/data/sentiment/aclImdb_v1.tar.gz\n",
    "!tar -zxf ../data/aclImdb_v1.tar.gz -C ../data"
   ]
  },
  {
   "cell_type": "markdown",
   "metadata": {},
   "source": [
    "## Step 2: Preparing and Processing the data\n",
    "\n",
    "The data we have downloaded is split into various files, each of which contains a single review. It will be much easier going forward if we combine these individual files into two large files, one for training and one for testing."
   ]
  },
  {
   "cell_type": "code",
   "execution_count": 2,
   "metadata": {},
   "outputs": [],
   "source": [
    "import os\n",
    "import glob\n",
    "\n",
    "def read_imdb_data(data_dir='../data/aclImdb'):\n",
    "    data = {}\n",
    "    labels = {}\n",
    "    \n",
    "    for data_type in ['train', 'test']:\n",
    "        data[data_type] = {}\n",
    "        labels[data_type] = {}\n",
    "        \n",
    "        for sentiment in ['pos', 'neg']:\n",
    "            data[data_type][sentiment] = []\n",
    "            labels[data_type][sentiment] = []\n",
    "            \n",
    "            path = os.path.join(data_dir, data_type, sentiment, '*.txt')\n",
    "            files = glob.glob(path)\n",
    "            \n",
    "            for f in files:\n",
    "                with open(f) as review:\n",
    "                    data[data_type][sentiment].append(review.read())\n",
    "                    # Here we represent a positive review by '1' and a negative review by '0'\n",
    "                    labels[data_type][sentiment].append(1 if sentiment == 'pos' else 0)\n",
    "                    \n",
    "            assert len(data[data_type][sentiment]) == len(labels[data_type][sentiment]), \\\n",
    "                    \"{}/{} data size does not match labels size\".format(data_type, sentiment)\n",
    "                \n",
    "    return data, labels"
   ]
  },
  {
   "cell_type": "code",
   "execution_count": 3,
   "metadata": {},
   "outputs": [
    {
     "name": "stdout",
     "output_type": "stream",
     "text": [
      "IMDB reviews: train = 12500 pos / 12500 neg, test = 12500 pos / 12500 neg\n"
     ]
    }
   ],
   "source": [
    "data, labels = read_imdb_data()\n",
    "print(\"IMDB reviews: train = {} pos / {} neg, test = {} pos / {} neg\".format(\n",
    "            len(data['train']['pos']), len(data['train']['neg']),\n",
    "            len(data['test']['pos']), len(data['test']['neg'])))"
   ]
  },
  {
   "cell_type": "code",
   "execution_count": 4,
   "metadata": {},
   "outputs": [],
   "source": [
    "from sklearn.utils import shuffle\n",
    "\n",
    "def prepare_imdb_data(data, labels):\n",
    "    \"\"\"Prepare training and test sets from IMDb movie reviews.\"\"\"\n",
    "    \n",
    "    #Combine positive and negative reviews and labels\n",
    "    data_train = data['train']['pos'] + data['train']['neg']\n",
    "    data_test = data['test']['pos'] + data['test']['neg']\n",
    "    labels_train = labels['train']['pos'] + labels['train']['neg']\n",
    "    labels_test = labels['test']['pos'] + labels['test']['neg']\n",
    "    \n",
    "    #Shuffle reviews and corresponding labels within training and test sets\n",
    "    data_train, labels_train = shuffle(data_train, labels_train)\n",
    "    data_test, labels_test = shuffle(data_test, labels_test)\n",
    "    \n",
    "    # Return a unified training data, test data, training labels, test labets\n",
    "    return data_train, data_test, labels_train, labels_test"
   ]
  },
  {
   "cell_type": "code",
   "execution_count": 5,
   "metadata": {},
   "outputs": [
    {
     "name": "stdout",
     "output_type": "stream",
     "text": [
      "IMDb reviews (combined): train = 25000, test = 25000\n"
     ]
    }
   ],
   "source": [
    "train_X, test_X, train_y, test_y = prepare_imdb_data(data, labels)\n",
    "print(\"IMDb reviews (combined): train = {}, test = {}\".format(len(train_X), len(test_X)))"
   ]
  },
  {
   "cell_type": "code",
   "execution_count": 6,
   "metadata": {},
   "outputs": [
    {
     "data": {
      "text/plain": [
       "'I haven\\'t yet read Kurt Vonnegut\\'s Mother Night (though I\\'ve read other books of his, all outstanding pieces of satire and game-changing novel pieces). After seeing Keith Gordon\\'s film adaptation of his book, it will be an immediate must-read in the near future. It\\'s the kind of material that I\\'m sure if it wasn\\'t made in 1995/96 as a film, it would be picked up right away today in the time period when many period post/present-Holocaust/WW2 movies are quite popular. Except that this is much darker, though even more resonant, about the nature of playing roles and the real underlying horror of living with life after war than say The Reader. It\\'s about the very real danger of pretending in wartime, which is what being a spy in WW2 is really all about.<br /><br />It would be one thing if Mother Night had a script with a lot of emotional depth and complexity about the moral choice and constant role- even after the war ends- for Howard W. Cambpell (Nick Nolte), which is does. But it\\'s also just a really strong feat of cinematic technique. Keith Gordon is not someone I usually think of as a director of really strong material (more-so I think back to him as an actor, oddly enough featured briefly with Vonnegut himself in Back to School), but this is a revelation. He takes the story of Campbell as a story of a fractured life: a German propaganda master (the \"only American left in Berlin\"), who is actually a spy for the Americans but can never have his identity revealed, and was before a playwright who really belonged to \"a nation of two\", himself and his wife (Sheryl Lee). It follows him from his prison cell, awaiting trial in Israel in 1961, as he writes his memoir and tells of his disillusionment about being a \\'pretend\\' Nazi, and then in 1960 in semi-hiding in a New York apartment, which is where the bulk of the film takes place.<br /><br />Mother Night can be quite heavy, like on a level one might associate with the Pianist, but on another more emotional-cerebral level than the stark poetry of that film. Gordon, by way of Vonnegut, is trying to give us a strong look at a man who has nothing, except the memory (and then later a weird transposition) of his long lost love in a \"sister\" who has come back to him in NYC, so he\\'s left to his own devices when he befriends a painter (Alan Arkin, very very good here), and then is found out as a Nazi-in-hiding by a white supremacist newsletter, leading wackos to his apartment. On the surface this should be just a straightforward spy story, but not a thing is straightforward. The \\'something\\' of this man\\'s life is staggering, but it\\'s ultimately of his own choosing. Campbell is one of those characters that could be analyzed for hours on end, but the same conclusions might be reached (and, in a way, mirrors the line Goebbels said): the bigger the lie, the more people believe it. That is except for the select few who started the lie and know its secret and power.<br /><br />But oh, it would be one thing if it were just a wonderful and tragic-comic tale, or another if it were featuring some really fantastic performances (which is does: Nolte is at his very best here, and Sheryl Lee, who we might remember from Twin Peaks as Laura Palmer, stuns in multiple roles, especially in the scene when she reveals she\\'s not \\'really\\' Helga). It\\'s also a gorgeously shot film, with brilliant lighting and shots that reflect the state of mind of the character, or just the starkness or sickening colors of the time (watch the scene where an old Campbell watches a film of his younger self spouting out a rant, the juxtaposition of faces is great). And the music selections rise the level of tragedy. It could be argued some of the music is too much, but at other times it elevates the material past its own usual dramatic dimensions and makes it operatic, solemn about human nature.<br /><br />It\\'s not always an easy film to take emotionally, and some of the twists do have that tinge of \"whoa\" as in any spy story. But it\\'s the subversion from Vonnegut that sticks through, the way of taking appearance and performance, of life imitating art imitating life imitating death, and making it into something worth remembering. I have no idea just yet if the book is better than the film (or the other way around), but at the moment it\\'s hard for me not to recommend this to anyone looking for a masterpiece of post WW2/holocaust storytelling.'"
      ]
     },
     "execution_count": 6,
     "metadata": {},
     "output_type": "execute_result"
    }
   ],
   "source": [
    "train_X[100]"
   ]
  },
  {
   "cell_type": "markdown",
   "metadata": {},
   "source": [
    "## Processing the data\n",
    "\n",
    "Now that we have our training and testing datasets merged and ready to use, we need to start processing the raw data into something that will be useable by our machine learning algorithm. To begin with, we remove any html formatting and any non-alpha numeric characters that may appear in the reviews. We will do this in a very simplistic way using Python's regular expression module. We will discuss the reason for this rather simplistic pre-processing later on."
   ]
  },
  {
   "cell_type": "code",
   "execution_count": 7,
   "metadata": {},
   "outputs": [],
   "source": [
    "import re\n",
    "\n",
    "REPLACE_NO_SPACE = re.compile(\"(\\.)|(\\;)|(\\:)|(\\!)|(\\')|(\\?)|(\\,)|(\\\")|(\\()|(\\))|(\\[)|(\\])\")\n",
    "REPLACE_WITH_SPACE = re.compile(\"(<br\\s*/><br\\s*/>)|(\\-)|(\\/)\")\n",
    "\n",
    "def review_to_words(review):\n",
    "    words = REPLACE_NO_SPACE.sub(\"\", review.lower())\n",
    "    words = REPLACE_WITH_SPACE.sub(\" \", words)\n",
    "    return words"
   ]
  },
  {
   "cell_type": "code",
   "execution_count": 8,
   "metadata": {},
   "outputs": [
    {
     "data": {
      "text/plain": [
       "'i havent yet read kurt vonneguts mother night though ive read other books of his all outstanding pieces of satire and game changing novel pieces after seeing keith gordons film adaptation of his book it will be an immediate must read in the near future its the kind of material that im sure if it wasnt made in 1995 96 as a film it would be picked up right away today in the time period when many period post present holocaust ww2 movies are quite popular except that this is much darker though even more resonant about the nature of playing roles and the real underlying horror of living with life after war than say the reader its about the very real danger of pretending in wartime which is what being a spy in ww2 is really all about it would be one thing if mother night had a script with a lot of emotional depth and complexity about the moral choice and constant role  even after the war ends  for howard w cambpell nick nolte which is does but its also just a really strong feat of cinematic technique keith gordon is not someone i usually think of as a director of really strong material more so i think back to him as an actor oddly enough featured briefly with vonnegut himself in back to school but this is a revelation he takes the story of campbell as a story of a fractured life a german propaganda master the only american left in berlin who is actually a spy for the americans but can never have his identity revealed and was before a playwright who really belonged to a nation of two himself and his wife sheryl lee it follows him from his prison cell awaiting trial in israel in 1961 as he writes his memoir and tells of his disillusionment about being a pretend nazi and then in 1960 in semi hiding in a new york apartment which is where the bulk of the film takes place mother night can be quite heavy like on a level one might associate with the pianist but on another more emotional cerebral level than the stark poetry of that film gordon by way of vonnegut is trying to give us a strong look at a man who has nothing except the memory and then later a weird transposition of his long lost love in a sister who has come back to him in nyc so hes left to his own devices when he befriends a painter alan arkin very very good here and then is found out as a nazi in hiding by a white supremacist newsletter leading wackos to his apartment on the surface this should be just a straightforward spy story but not a thing is straightforward the something of this mans life is staggering but its ultimately of his own choosing campbell is one of those characters that could be analyzed for hours on end but the same conclusions might be reached and in a way mirrors the line goebbels said the bigger the lie the more people believe it that is except for the select few who started the lie and know its secret and power but oh it would be one thing if it were just a wonderful and tragic comic tale or another if it were featuring some really fantastic performances which is does nolte is at his very best here and sheryl lee who we might remember from twin peaks as laura palmer stuns in multiple roles especially in the scene when she reveals shes not really helga its also a gorgeously shot film with brilliant lighting and shots that reflect the state of mind of the character or just the starkness or sickening colors of the time watch the scene where an old campbell watches a film of his younger self spouting out a rant the juxtaposition of faces is great and the music selections rise the level of tragedy it could be argued some of the music is too much but at other times it elevates the material past its own usual dramatic dimensions and makes it operatic solemn about human nature its not always an easy film to take emotionally and some of the twists do have that tinge of whoa as in any spy story but its the subversion from vonnegut that sticks through the way of taking appearance and performance of life imitating art imitating life imitating death and making it into something worth remembering i have no idea just yet if the book is better than the film or the other way around but at the moment its hard for me not to recommend this to anyone looking for a masterpiece of post ww2 holocaust storytelling'"
      ]
     },
     "execution_count": 8,
     "metadata": {},
     "output_type": "execute_result"
    }
   ],
   "source": [
    "review_to_words(train_X[100])"
   ]
  },
  {
   "cell_type": "code",
   "execution_count": 9,
   "metadata": {},
   "outputs": [],
   "source": [
    "import pickle\n",
    "\n",
    "cache_dir = os.path.join(\"../cache\", \"sentiment_web_app\")  # where to store cache files\n",
    "os.makedirs(cache_dir, exist_ok=True)  # ensure cache directory exists\n",
    "\n",
    "def preprocess_data(data_train, data_test, labels_train, labels_test,\n",
    "                    cache_dir=cache_dir, cache_file=\"preprocessed_data.pkl\"):\n",
    "    \"\"\"Convert each review to words; read from cache if available.\"\"\"\n",
    "\n",
    "    # If cache_file is not None, try to read from it first\n",
    "    cache_data = None\n",
    "    if cache_file is not None:\n",
    "        try:\n",
    "            with open(os.path.join(cache_dir, cache_file), \"rb\") as f:\n",
    "                cache_data = pickle.load(f)\n",
    "            print(\"Read preprocessed data from cache file:\", cache_file)\n",
    "        except:\n",
    "            pass  # unable to read from cache, but that's okay\n",
    "    \n",
    "    # If cache is missing, then do the heavy lifting\n",
    "    if cache_data is None:\n",
    "        # Preprocess training and test data to obtain words for each review\n",
    "        #words_train = list(map(review_to_words, data_train))\n",
    "        #words_test = list(map(review_to_words, data_test))\n",
    "        words_train = [review_to_words(review) for review in data_train]\n",
    "        words_test = [review_to_words(review) for review in data_test]\n",
    "        \n",
    "        # Write to cache file for future runs\n",
    "        if cache_file is not None:\n",
    "            cache_data = dict(words_train=words_train, words_test=words_test,\n",
    "                              labels_train=labels_train, labels_test=labels_test)\n",
    "            with open(os.path.join(cache_dir, cache_file), \"wb\") as f:\n",
    "                pickle.dump(cache_data, f)\n",
    "            print(\"Wrote preprocessed data to cache file:\", cache_file)\n",
    "    else:\n",
    "        # Unpack data loaded from cache file\n",
    "        words_train, words_test, labels_train, labels_test = (cache_data['words_train'],\n",
    "                cache_data['words_test'], cache_data['labels_train'], cache_data['labels_test'])\n",
    "    \n",
    "    return words_train, words_test, labels_train, labels_test"
   ]
  },
  {
   "cell_type": "code",
   "execution_count": 10,
   "metadata": {},
   "outputs": [
    {
     "name": "stdout",
     "output_type": "stream",
     "text": [
      "Wrote preprocessed data to cache file: preprocessed_data.pkl\n"
     ]
    }
   ],
   "source": [
    "# Preprocess data\n",
    "train_X, test_X, train_y, test_y = preprocess_data(train_X, test_X, train_y, test_y)"
   ]
  },
  {
   "cell_type": "markdown",
   "metadata": {},
   "source": [
    "### Extract Bag-of-Words features\n",
    "\n",
    "For the model we will be implementing, rather than using the reviews directly, we are going to transform each review into a Bag-of-Words feature representation. Keep in mind that 'in the wild' we will only have access to the training set so our transformer can only use the training set to construct a representation."
   ]
  },
  {
   "cell_type": "code",
   "execution_count": 11,
   "metadata": {},
   "outputs": [],
   "source": [
    "import numpy as np\n",
    "from sklearn.feature_extraction.text import CountVectorizer\n",
    "from sklearn.externals import joblib\n",
    "# joblib is an enhanced version of pickle that is more efficient for storing NumPy arrays\n",
    "\n",
    "def extract_BoW_features(words_train, words_test, vocabulary_size=5000,\n",
    "                         cache_dir=cache_dir, cache_file=\"bow_features.pkl\"):\n",
    "    \"\"\"Extract Bag-of-Words for a given set of documents, already preprocessed into words.\"\"\"\n",
    "    \n",
    "    # If cache_file is not None, try to read from it first\n",
    "    cache_data = None\n",
    "    if cache_file is not None:\n",
    "        try:\n",
    "            with open(os.path.join(cache_dir, cache_file), \"rb\") as f:\n",
    "                cache_data = joblib.load(f)\n",
    "            print(\"Read features from cache file:\", cache_file)\n",
    "        except:\n",
    "            pass  # unable to read from cache, but that's okay\n",
    "    \n",
    "    # If cache is missing, then do the heavy lifting\n",
    "    if cache_data is None:\n",
    "        # Fit a vectorizer to training documents and use it to transform them\n",
    "        # NOTE: Training documents have already been preprocessed and tokenized into words;\n",
    "        #       pass in dummy functions to skip those steps, e.g. preprocessor=lambda x: x\n",
    "        vectorizer = CountVectorizer(max_features=vocabulary_size)\n",
    "        features_train = vectorizer.fit_transform(words_train).toarray()\n",
    "\n",
    "        # Apply the same vectorizer to transform the test documents (ignore unknown words)\n",
    "        features_test = vectorizer.transform(words_test).toarray()\n",
    "        \n",
    "        # NOTE: Remember to convert the features using .toarray() for a compact representation\n",
    "        \n",
    "        # Write to cache file for future runs (store vocabulary as well)\n",
    "        if cache_file is not None:\n",
    "            vocabulary = vectorizer.vocabulary_\n",
    "            cache_data = dict(features_train=features_train, features_test=features_test,\n",
    "                             vocabulary=vocabulary)\n",
    "            with open(os.path.join(cache_dir, cache_file), \"wb\") as f:\n",
    "                joblib.dump(cache_data, f)\n",
    "            print(\"Wrote features to cache file:\", cache_file)\n",
    "    else:\n",
    "        # Unpack data loaded from cache file\n",
    "        features_train, features_test, vocabulary = (cache_data['features_train'],\n",
    "                cache_data['features_test'], cache_data['vocabulary'])\n",
    "    \n",
    "    # Return both the extracted features as well as the vocabulary\n",
    "    return features_train, features_test, vocabulary"
   ]
  },
  {
   "cell_type": "code",
   "execution_count": 12,
   "metadata": {},
   "outputs": [
    {
     "name": "stdout",
     "output_type": "stream",
     "text": [
      "Wrote features to cache file: bow_features.pkl\n"
     ]
    }
   ],
   "source": [
    "# Extract Bag of Words features for both training and test datasets\n",
    "train_X, test_X, vocabulary = extract_BoW_features(train_X, test_X)"
   ]
  },
  {
   "cell_type": "code",
   "execution_count": 13,
   "metadata": {},
   "outputs": [
    {
     "data": {
      "text/plain": [
       "5000"
      ]
     },
     "execution_count": 13,
     "metadata": {},
     "output_type": "execute_result"
    }
   ],
   "source": [
    "len(train_X[100])"
   ]
  },
  {
   "cell_type": "markdown",
   "metadata": {},
   "source": [
    "## Step 3: Upload data to S3\n",
    "\n",
    "Now that we have created the feature representation of our training (and testing) data, it is time to start setting up and using the XGBoost classifier provided by SageMaker.\n",
    "\n",
    "### Writing the datasets\n",
    "\n",
    "The XGBoost classifier that we will be using requires the dataset to be written to a file and stored using Amazon S3. To do this, we will start by splitting the training dataset into two parts, the data we will train the model with and a validation set. Then, we will write those datasets to a file locally and then upload the files to S3. In addition, we will write the test set to a file and upload that file to S3. This is so that we can use SageMakers Batch Transform functionality to test our model once we've fit it."
   ]
  },
  {
   "cell_type": "code",
   "execution_count": 14,
   "metadata": {},
   "outputs": [],
   "source": [
    "import pandas as pd\n",
    "\n",
    "# Earlier we shuffled the training dataset so to make things simple we can just assign\n",
    "# the first 10 000 reviews to the validation set and use the remaining reviews for training.\n",
    "val_X = pd.DataFrame(train_X[:10000])\n",
    "train_X = pd.DataFrame(train_X[10000:])\n",
    "\n",
    "val_y = pd.DataFrame(train_y[:10000])\n",
    "train_y = pd.DataFrame(train_y[10000:])"
   ]
  },
  {
   "cell_type": "markdown",
   "metadata": {},
   "source": [
    "The documentation for the XGBoost algorithm in SageMaker requires that the training and validation datasets should contain no headers or index and that the label should occur first for each sample.\n",
    "\n",
    "For more information about this and other algorithms, the SageMaker developer documentation can be found on __[Amazon's website.](https://docs.aws.amazon.com/sagemaker/latest/dg/)__"
   ]
  },
  {
   "cell_type": "code",
   "execution_count": 15,
   "metadata": {},
   "outputs": [],
   "source": [
    "# First we make sure that the local directory in which we'd like to store the training and validation csv files exists.\n",
    "data_dir = '../data/sentiment_web_app'\n",
    "if not os.path.exists(data_dir):\n",
    "    os.makedirs(data_dir)"
   ]
  },
  {
   "cell_type": "code",
   "execution_count": 16,
   "metadata": {},
   "outputs": [],
   "source": [
    "pd.DataFrame(test_X).to_csv(os.path.join(data_dir, 'test.csv'), header=False, index=False)\n",
    "\n",
    "pd.concat([val_y, val_X], axis=1).to_csv(os.path.join(data_dir, 'validation.csv'), header=False, index=False)\n",
    "pd.concat([train_y, train_X], axis=1).to_csv(os.path.join(data_dir, 'train.csv'), header=False, index=False)"
   ]
  },
  {
   "cell_type": "code",
   "execution_count": 17,
   "metadata": {},
   "outputs": [],
   "source": [
    "# To save a bit of memory we can set text_X, train_X, val_X, train_y and val_y to None.\n",
    "\n",
    "test_X = train_X = val_X = train_y = val_y = None"
   ]
  },
  {
   "cell_type": "markdown",
   "metadata": {},
   "source": [
    "### Uploading Training / Validation files to S3\n",
    "\n",
    "Amazon's S3 service allows us to store files that can be accessed by both the built-in training models such as the XGBoost model we will be using as well as custom models such as the one we will see a little later.\n",
    "\n",
    "For this and most other tasks we will be doing using SageMaker, there are two methods we could use. The first is to use the low level functionality of SageMaker which requires knowing each of the objects involved in the SageMaker environment. The second is to use the high level functionality in which certain choices have been made on the user's behalf. The low level approach benefits from allowing the user a great deal of flexibility while the high level approach makes development much quicker. For our purposes we will opt to use the high level approach although using the low-level approach is certainly an option.\n",
    "\n",
    "Recall the method `upload_data()` which is a member of the object representing our current SageMaker session. What this method does is upload the data to the default bucket (which is created if it does not exist) into the path described by the key_prefix variable. To see this for yourself, once you have uploaded the data files, go to the S3 console and look to see where the files have been uploaded.\n",
    "\n",
    "For additional resources, see the __[SageMaker API documentation](http://sagemaker.readthedocs.io/en/latest/)__ and in addition the __[SageMaker Developer Guide.](https://docs.aws.amazon.com/sagemaker/latest/dg/)__"
   ]
  },
  {
   "cell_type": "code",
   "execution_count": 18,
   "metadata": {},
   "outputs": [],
   "source": [
    "import sagemaker\n",
    "\n",
    "session = sagemaker.Session() # Store the current SageMaker session\n",
    "\n",
    "# S3 prefix (which folder will we use)\n",
    "prefix = 'sentiment-web-app'\n",
    "\n",
    "test_location = session.upload_data(os.path.join(data_dir, 'test.csv'), key_prefix=prefix)\n",
    "val_location = session.upload_data(os.path.join(data_dir, 'validation.csv'), key_prefix=prefix)\n",
    "train_location = session.upload_data(os.path.join(data_dir, 'train.csv'), key_prefix=prefix)"
   ]
  },
  {
   "cell_type": "markdown",
   "metadata": {},
   "source": [
    "## Step 4: Creating the XGBoost model\n",
    "\n",
    "Now that the data has been uploaded it is time to create the XGBoost model. To begin with, we need to do some setup. At this point it is worth discussing what a model is in SageMaker. It is easiest to think of a model of comprising three different objects in the SageMaker ecosystem, which interact with one another.\n",
    "\n",
    "- Model Artifacts\n",
    "- Training Code (Container)\n",
    "- Inference Code (Container)\n",
    "\n",
    "The Model Artifacts are what you might think of as the actual model itself. For example, if you were building a neural network, the model artifacts would be the weights of the various layers. In our case, for an XGBoost model, the artifacts are the actual trees that are created during training.\n",
    "\n",
    "The other two objects, the training code and the inference code are then used to manipulate the training artifacts. More precisely, the training code uses the training data that is provided and creates the model artifacts, while the inference code uses the model artifacts to make predictions on new data.\n",
    "\n",
    "The way that SageMaker runs the training and inference code is by making use of Docker containers. For now, think of a container as being a way of packaging code up so that dependencies aren't an issue."
   ]
  },
  {
   "cell_type": "code",
   "execution_count": 19,
   "metadata": {},
   "outputs": [],
   "source": [
    "from sagemaker import get_execution_role\n",
    "\n",
    "# Our current execution role is required when creating the model as the training\n",
    "# and inference code will need to access the model artifacts.\n",
    "role = get_execution_role()"
   ]
  },
  {
   "cell_type": "code",
   "execution_count": 20,
   "metadata": {},
   "outputs": [
    {
     "name": "stderr",
     "output_type": "stream",
     "text": [
      "WARNING:root:There is a more up to date SageMaker XGBoost image. To use the newer image, please set 'repo_version'='0.90-2'. For example:\n",
      "\tget_image_uri(region, 'xgboost', '0.90-2').\n"
     ]
    }
   ],
   "source": [
    "# We need to retrieve the location of the container which is provided by Amazon for using XGBoost.\n",
    "# As a matter of convenience, the training and inference code both use the same container.\n",
    "from sagemaker.amazon.amazon_estimator import get_image_uri\n",
    "\n",
    "container = get_image_uri(session.boto_region_name, 'xgboost')"
   ]
  },
  {
   "cell_type": "code",
   "execution_count": 21,
   "metadata": {},
   "outputs": [],
   "source": [
    "# First we create a SageMaker estimator object for our model.\n",
    "xgb = sagemaker.estimator.Estimator(container, # The location of the container we wish to use\n",
    "                                    role,                                    # What is our current IAM Role\n",
    "                                    train_instance_count=1,                  # How many compute instances\n",
    "                                    train_instance_type='ml.m4.xlarge',      # What kind of compute instances\n",
    "                                    output_path='s3://{}/{}/output'.format(session.default_bucket(), prefix),\n",
    "                                    sagemaker_session=session)\n",
    "\n",
    "# And then set the algorithm specific parameters.\n",
    "xgb.set_hyperparameters(max_depth=5,\n",
    "                        eta=0.2,\n",
    "                        gamma=4,\n",
    "                        min_child_weight=6,\n",
    "                        subsample=0.8,\n",
    "                        silent=0,\n",
    "                        objective='binary:logistic',\n",
    "                        early_stopping_rounds=10,\n",
    "                        num_round=500)"
   ]
  },
  {
   "cell_type": "markdown",
   "metadata": {},
   "source": [
    "### Fit the XGBoost model\n",
    "\n",
    "Now that our model has been set up we simply need to attach the training and validation datasets and then ask SageMaker to set up the computation."
   ]
  },
  {
   "cell_type": "code",
   "execution_count": 22,
   "metadata": {},
   "outputs": [],
   "source": [
    "s3_input_train = sagemaker.s3_input(s3_data=train_location, content_type='csv')\n",
    "s3_input_validation = sagemaker.s3_input(s3_data=val_location, content_type='csv')"
   ]
  },
  {
   "cell_type": "code",
   "execution_count": 23,
   "metadata": {},
   "outputs": [
    {
     "name": "stdout",
     "output_type": "stream",
     "text": [
      "2020-05-14 21:49:31 Starting - Starting the training job...\n",
      "2020-05-14 21:49:32 Starting - Launching requested ML instances......\n",
      "2020-05-14 21:50:37 Starting - Preparing the instances for training......\n",
      "2020-05-14 21:52:00 Downloading - Downloading input data\n",
      "2020-05-14 21:52:00 Training - Downloading the training image...\n",
      "2020-05-14 21:52:20 Training - Training image download completed. Training in progress.\u001b[34mArguments: train\u001b[0m\n",
      "\u001b[34m[2020-05-14:21:52:20:INFO] Running standalone xgboost training.\u001b[0m\n",
      "\u001b[34m[2020-05-14:21:52:20:INFO] File size need to be processed in the node: 238.5mb. Available memory size in the node: 8465.42mb\u001b[0m\n",
      "\u001b[34m[2020-05-14:21:52:20:INFO] Determined delimiter of CSV input is ','\u001b[0m\n",
      "\u001b[34m[21:52:20] S3DistributionType set as FullyReplicated\u001b[0m\n",
      "\u001b[34m[21:52:22] 15000x5000 matrix with 75000000 entries loaded from /opt/ml/input/data/train?format=csv&label_column=0&delimiter=,\u001b[0m\n",
      "\u001b[34m[2020-05-14:21:52:22:INFO] Determined delimiter of CSV input is ','\u001b[0m\n",
      "\u001b[34m[21:52:22] S3DistributionType set as FullyReplicated\u001b[0m\n",
      "\u001b[34m[21:52:23] 10000x5000 matrix with 50000000 entries loaded from /opt/ml/input/data/validation?format=csv&label_column=0&delimiter=,\u001b[0m\n",
      "\u001b[34m[21:52:27] src/tree/updater_prune.cc:74: tree pruning end, 1 roots, 40 extra nodes, 4 pruned nodes, max_depth=5\u001b[0m\n",
      "\u001b[34m[0]#011train-error:0.304667#011validation-error:0.3102\u001b[0m\n",
      "\u001b[34mMultiple eval metrics have been passed: 'validation-error' will be used for early stopping.\n",
      "\u001b[0m\n",
      "\u001b[34mWill train until validation-error hasn't improved in 10 rounds.\u001b[0m\n",
      "\u001b[34m[21:52:28] src/tree/updater_prune.cc:74: tree pruning end, 1 roots, 38 extra nodes, 6 pruned nodes, max_depth=5\u001b[0m\n",
      "\u001b[34m[1]#011train-error:0.3008#011validation-error:0.3083\u001b[0m\n",
      "\u001b[34m[21:52:29] src/tree/updater_prune.cc:74: tree pruning end, 1 roots, 34 extra nodes, 12 pruned nodes, max_depth=5\u001b[0m\n",
      "\u001b[34m[2]#011train-error:0.299#011validation-error:0.3067\u001b[0m\n",
      "\u001b[34m[21:52:31] src/tree/updater_prune.cc:74: tree pruning end, 1 roots, 28 extra nodes, 8 pruned nodes, max_depth=5\u001b[0m\n",
      "\u001b[34m[3]#011train-error:0.2884#011validation-error:0.2947\u001b[0m\n",
      "\u001b[34m[21:52:32] src/tree/updater_prune.cc:74: tree pruning end, 1 roots, 44 extra nodes, 2 pruned nodes, max_depth=5\u001b[0m\n",
      "\u001b[34m[4]#011train-error:0.267467#011validation-error:0.2771\u001b[0m\n",
      "\u001b[34m[21:52:34] src/tree/updater_prune.cc:74: tree pruning end, 1 roots, 30 extra nodes, 10 pruned nodes, max_depth=5\u001b[0m\n",
      "\u001b[34m[5]#011train-error:0.2658#011validation-error:0.2767\u001b[0m\n",
      "\u001b[34m[21:52:35] src/tree/updater_prune.cc:74: tree pruning end, 1 roots, 34 extra nodes, 2 pruned nodes, max_depth=5\u001b[0m\n",
      "\u001b[34m[6]#011train-error:0.2582#011validation-error:0.2666\u001b[0m\n",
      "\u001b[34m[21:52:36] src/tree/updater_prune.cc:74: tree pruning end, 1 roots, 36 extra nodes, 4 pruned nodes, max_depth=5\u001b[0m\n",
      "\u001b[34m[7]#011train-error:0.249333#011validation-error:0.2625\u001b[0m\n",
      "\u001b[34m[21:52:38] src/tree/updater_prune.cc:74: tree pruning end, 1 roots, 28 extra nodes, 10 pruned nodes, max_depth=5\u001b[0m\n",
      "\u001b[34m[8]#011train-error:0.242467#011validation-error:0.2541\u001b[0m\n",
      "\u001b[34m[21:52:39] src/tree/updater_prune.cc:74: tree pruning end, 1 roots, 44 extra nodes, 6 pruned nodes, max_depth=5\u001b[0m\n",
      "\u001b[34m[9]#011train-error:0.235067#011validation-error:0.2503\u001b[0m\n",
      "\u001b[34m[21:52:40] src/tree/updater_prune.cc:74: tree pruning end, 1 roots, 28 extra nodes, 4 pruned nodes, max_depth=5\u001b[0m\n",
      "\u001b[34m[10]#011train-error:0.227067#011validation-error:0.2415\u001b[0m\n",
      "\u001b[34m[21:52:42] src/tree/updater_prune.cc:74: tree pruning end, 1 roots, 38 extra nodes, 0 pruned nodes, max_depth=5\u001b[0m\n",
      "\u001b[34m[11]#011train-error:0.2204#011validation-error:0.2389\u001b[0m\n",
      "\u001b[34m[21:52:43] src/tree/updater_prune.cc:74: tree pruning end, 1 roots, 32 extra nodes, 8 pruned nodes, max_depth=5\u001b[0m\n",
      "\u001b[34m[12]#011train-error:0.217733#011validation-error:0.2372\u001b[0m\n",
      "\u001b[34m[21:52:44] src/tree/updater_prune.cc:74: tree pruning end, 1 roots, 28 extra nodes, 6 pruned nodes, max_depth=5\u001b[0m\n",
      "\u001b[34m[13]#011train-error:0.216067#011validation-error:0.2332\u001b[0m\n",
      "\u001b[34m[21:52:45] src/tree/updater_prune.cc:74: tree pruning end, 1 roots, 24 extra nodes, 4 pruned nodes, max_depth=5\u001b[0m\n",
      "\u001b[34m[14]#011train-error:0.211267#011validation-error:0.2299\u001b[0m\n",
      "\u001b[34m[21:52:47] src/tree/updater_prune.cc:74: tree pruning end, 1 roots, 24 extra nodes, 6 pruned nodes, max_depth=5\u001b[0m\n",
      "\u001b[34m[15]#011train-error:0.204667#011validation-error:0.2246\u001b[0m\n",
      "\u001b[34m[21:52:48] src/tree/updater_prune.cc:74: tree pruning end, 1 roots, 36 extra nodes, 2 pruned nodes, max_depth=5\u001b[0m\n",
      "\u001b[34m[16]#011train-error:0.2002#011validation-error:0.2191\u001b[0m\n",
      "\u001b[34m[21:52:49] src/tree/updater_prune.cc:74: tree pruning end, 1 roots, 30 extra nodes, 8 pruned nodes, max_depth=5\u001b[0m\n",
      "\u001b[34m[17]#011train-error:0.197133#011validation-error:0.216\u001b[0m\n",
      "\u001b[34m[21:52:51] src/tree/updater_prune.cc:74: tree pruning end, 1 roots, 38 extra nodes, 4 pruned nodes, max_depth=5\u001b[0m\n",
      "\u001b[34m[18]#011train-error:0.193933#011validation-error:0.2123\u001b[0m\n",
      "\u001b[34m[21:52:52] src/tree/updater_prune.cc:74: tree pruning end, 1 roots, 24 extra nodes, 10 pruned nodes, max_depth=5\u001b[0m\n",
      "\u001b[34m[19]#011train-error:0.1902#011validation-error:0.2113\u001b[0m\n",
      "\u001b[34m[21:52:53] src/tree/updater_prune.cc:74: tree pruning end, 1 roots, 26 extra nodes, 4 pruned nodes, max_depth=5\u001b[0m\n",
      "\u001b[34m[20]#011train-error:0.186933#011validation-error:0.2087\u001b[0m\n",
      "\u001b[34m[21:52:54] src/tree/updater_prune.cc:74: tree pruning end, 1 roots, 20 extra nodes, 12 pruned nodes, max_depth=5\u001b[0m\n",
      "\u001b[34m[21]#011train-error:0.185#011validation-error:0.2065\u001b[0m\n",
      "\u001b[34m[21:52:56] src/tree/updater_prune.cc:74: tree pruning end, 1 roots, 14 extra nodes, 12 pruned nodes, max_depth=5\u001b[0m\n",
      "\u001b[34m[22]#011train-error:0.1836#011validation-error:0.2062\u001b[0m\n",
      "\u001b[34m[21:52:57] src/tree/updater_prune.cc:74: tree pruning end, 1 roots, 28 extra nodes, 6 pruned nodes, max_depth=5\u001b[0m\n",
      "\u001b[34m[23]#011train-error:0.181867#011validation-error:0.2043\u001b[0m\n",
      "\u001b[34m[21:52:58] src/tree/updater_prune.cc:74: tree pruning end, 1 roots, 22 extra nodes, 6 pruned nodes, max_depth=5\u001b[0m\n",
      "\u001b[34m[24]#011train-error:0.180133#011validation-error:0.2036\u001b[0m\n",
      "\u001b[34m[21:53:00] src/tree/updater_prune.cc:74: tree pruning end, 1 roots, 40 extra nodes, 2 pruned nodes, max_depth=5\u001b[0m\n",
      "\u001b[34m[25]#011train-error:0.178933#011validation-error:0.202\u001b[0m\n",
      "\u001b[34m[21:53:01] src/tree/updater_prune.cc:74: tree pruning end, 1 roots, 30 extra nodes, 12 pruned nodes, max_depth=5\u001b[0m\n",
      "\u001b[34m[26]#011train-error:0.1778#011validation-error:0.2012\u001b[0m\n",
      "\u001b[34m[21:53:02] src/tree/updater_prune.cc:74: tree pruning end, 1 roots, 24 extra nodes, 12 pruned nodes, max_depth=5\u001b[0m\n",
      "\u001b[34m[27]#011train-error:0.175533#011validation-error:0.1995\u001b[0m\n",
      "\u001b[34m[21:53:03] src/tree/updater_prune.cc:74: tree pruning end, 1 roots, 18 extra nodes, 8 pruned nodes, max_depth=5\u001b[0m\n",
      "\u001b[34m[28]#011train-error:0.1748#011validation-error:0.198\u001b[0m\n",
      "\u001b[34m[21:53:05] src/tree/updater_prune.cc:74: tree pruning end, 1 roots, 20 extra nodes, 16 pruned nodes, max_depth=5\u001b[0m\n",
      "\u001b[34m[29]#011train-error:0.1728#011validation-error:0.1958\u001b[0m\n",
      "\u001b[34m[21:53:06] src/tree/updater_prune.cc:74: tree pruning end, 1 roots, 28 extra nodes, 10 pruned nodes, max_depth=5\u001b[0m\n",
      "\u001b[34m[30]#011train-error:0.171333#011validation-error:0.1931\u001b[0m\n",
      "\u001b[34m[21:53:07] src/tree/updater_prune.cc:74: tree pruning end, 1 roots, 22 extra nodes, 12 pruned nodes, max_depth=5\u001b[0m\n",
      "\u001b[34m[31]#011train-error:0.1684#011validation-error:0.1923\u001b[0m\n",
      "\u001b[34m[21:53:09] src/tree/updater_prune.cc:74: tree pruning end, 1 roots, 26 extra nodes, 12 pruned nodes, max_depth=5\u001b[0m\n",
      "\u001b[34m[32]#011train-error:0.1678#011validation-error:0.1915\u001b[0m\n",
      "\u001b[34m[21:53:10] src/tree/updater_prune.cc:74: tree pruning end, 1 roots, 20 extra nodes, 8 pruned nodes, max_depth=5\u001b[0m\n",
      "\u001b[34m[33]#011train-error:0.1656#011validation-error:0.1917\u001b[0m\n",
      "\u001b[34m[21:53:11] src/tree/updater_prune.cc:74: tree pruning end, 1 roots, 26 extra nodes, 10 pruned nodes, max_depth=5\u001b[0m\n",
      "\u001b[34m[34]#011train-error:0.164133#011validation-error:0.191\u001b[0m\n",
      "\u001b[34m[21:53:12] src/tree/updater_prune.cc:74: tree pruning end, 1 roots, 34 extra nodes, 6 pruned nodes, max_depth=5\u001b[0m\n",
      "\u001b[34m[35]#011train-error:0.162333#011validation-error:0.1905\u001b[0m\n",
      "\u001b[34m[21:53:14] src/tree/updater_prune.cc:74: tree pruning end, 1 roots, 22 extra nodes, 10 pruned nodes, max_depth=5\u001b[0m\n",
      "\u001b[34m[36]#011train-error:0.16#011validation-error:0.1887\u001b[0m\n",
      "\u001b[34m[21:53:15] src/tree/updater_prune.cc:74: tree pruning end, 1 roots, 22 extra nodes, 0 pruned nodes, max_depth=5\u001b[0m\n",
      "\u001b[34m[37]#011train-error:0.1574#011validation-error:0.1869\u001b[0m\n",
      "\u001b[34m[21:53:16] src/tree/updater_prune.cc:74: tree pruning end, 1 roots, 40 extra nodes, 8 pruned nodes, max_depth=5\u001b[0m\n",
      "\u001b[34m[38]#011train-error:0.156733#011validation-error:0.1875\u001b[0m\n",
      "\u001b[34m[21:53:18] src/tree/updater_prune.cc:74: tree pruning end, 1 roots, 24 extra nodes, 10 pruned nodes, max_depth=5\u001b[0m\n",
      "\u001b[34m[39]#011train-error:0.153467#011validation-error:0.1866\u001b[0m\n",
      "\u001b[34m[21:53:19] src/tree/updater_prune.cc:74: tree pruning end, 1 roots, 24 extra nodes, 14 pruned nodes, max_depth=5\u001b[0m\n",
      "\u001b[34m[40]#011train-error:0.1534#011validation-error:0.1848\u001b[0m\n"
     ]
    },
    {
     "name": "stdout",
     "output_type": "stream",
     "text": [
      "\u001b[34m[21:53:20] src/tree/updater_prune.cc:74: tree pruning end, 1 roots, 32 extra nodes, 10 pruned nodes, max_depth=5\u001b[0m\n",
      "\u001b[34m[41]#011train-error:0.152933#011validation-error:0.1841\u001b[0m\n",
      "\u001b[34m[21:53:21] src/tree/updater_prune.cc:74: tree pruning end, 1 roots, 24 extra nodes, 2 pruned nodes, max_depth=5\u001b[0m\n",
      "\u001b[34m[42]#011train-error:0.1502#011validation-error:0.184\u001b[0m\n",
      "\u001b[34m[21:53:23] src/tree/updater_prune.cc:74: tree pruning end, 1 roots, 16 extra nodes, 4 pruned nodes, max_depth=5\u001b[0m\n",
      "\u001b[34m[43]#011train-error:0.149067#011validation-error:0.1825\u001b[0m\n",
      "\u001b[34m[21:53:24] src/tree/updater_prune.cc:74: tree pruning end, 1 roots, 28 extra nodes, 12 pruned nodes, max_depth=5\u001b[0m\n",
      "\u001b[34m[44]#011train-error:0.1484#011validation-error:0.1825\u001b[0m\n",
      "\u001b[34m[21:53:25] src/tree/updater_prune.cc:74: tree pruning end, 1 roots, 20 extra nodes, 10 pruned nodes, max_depth=5\u001b[0m\n",
      "\u001b[34m[45]#011train-error:0.146067#011validation-error:0.1812\u001b[0m\n",
      "\u001b[34m[21:53:27] src/tree/updater_prune.cc:74: tree pruning end, 1 roots, 24 extra nodes, 2 pruned nodes, max_depth=5\u001b[0m\n",
      "\u001b[34m[46]#011train-error:0.1442#011validation-error:0.1809\u001b[0m\n",
      "\u001b[34m[21:53:28] src/tree/updater_prune.cc:74: tree pruning end, 1 roots, 36 extra nodes, 8 pruned nodes, max_depth=5\u001b[0m\n",
      "\u001b[34m[47]#011train-error:0.142333#011validation-error:0.1805\u001b[0m\n",
      "\u001b[34m[21:53:29] src/tree/updater_prune.cc:74: tree pruning end, 1 roots, 18 extra nodes, 6 pruned nodes, max_depth=5\u001b[0m\n",
      "\u001b[34m[48]#011train-error:0.142733#011validation-error:0.1799\u001b[0m\n",
      "\u001b[34m[21:53:30] src/tree/updater_prune.cc:74: tree pruning end, 1 roots, 20 extra nodes, 6 pruned nodes, max_depth=5\u001b[0m\n",
      "\u001b[34m[49]#011train-error:0.141#011validation-error:0.1794\u001b[0m\n",
      "\u001b[34m[21:53:32] src/tree/updater_prune.cc:74: tree pruning end, 1 roots, 22 extra nodes, 12 pruned nodes, max_depth=5\u001b[0m\n",
      "\u001b[34m[50]#011train-error:0.139933#011validation-error:0.1777\u001b[0m\n",
      "\u001b[34m[21:53:33] src/tree/updater_prune.cc:74: tree pruning end, 1 roots, 20 extra nodes, 6 pruned nodes, max_depth=5\u001b[0m\n",
      "\u001b[34m[51]#011train-error:0.139733#011validation-error:0.1787\u001b[0m\n",
      "\u001b[34m[21:53:34] src/tree/updater_prune.cc:74: tree pruning end, 1 roots, 18 extra nodes, 6 pruned nodes, max_depth=5\u001b[0m\n",
      "\u001b[34m[52]#011train-error:0.138667#011validation-error:0.1768\u001b[0m\n",
      "\u001b[34m[21:53:35] src/tree/updater_prune.cc:74: tree pruning end, 1 roots, 20 extra nodes, 4 pruned nodes, max_depth=5\u001b[0m\n",
      "\u001b[34m[53]#011train-error:0.137467#011validation-error:0.1755\u001b[0m\n",
      "\u001b[34m[21:53:37] src/tree/updater_prune.cc:74: tree pruning end, 1 roots, 18 extra nodes, 14 pruned nodes, max_depth=5\u001b[0m\n",
      "\u001b[34m[54]#011train-error:0.135933#011validation-error:0.1757\u001b[0m\n",
      "\u001b[34m[21:53:38] src/tree/updater_prune.cc:74: tree pruning end, 1 roots, 12 extra nodes, 10 pruned nodes, max_depth=5\u001b[0m\n",
      "\u001b[34m[55]#011train-error:0.134933#011validation-error:0.1746\u001b[0m\n",
      "\u001b[34m[21:53:39] src/tree/updater_prune.cc:74: tree pruning end, 1 roots, 28 extra nodes, 6 pruned nodes, max_depth=5\u001b[0m\n",
      "\u001b[34m[56]#011train-error:0.134533#011validation-error:0.1732\u001b[0m\n",
      "\u001b[34m[21:53:41] src/tree/updater_prune.cc:74: tree pruning end, 1 roots, 16 extra nodes, 6 pruned nodes, max_depth=5\u001b[0m\n",
      "\u001b[34m[57]#011train-error:0.1338#011validation-error:0.173\u001b[0m\n",
      "\u001b[34m[21:53:42] src/tree/updater_prune.cc:74: tree pruning end, 1 roots, 14 extra nodes, 12 pruned nodes, max_depth=5\u001b[0m\n",
      "\u001b[34m[58]#011train-error:0.133133#011validation-error:0.1725\u001b[0m\n",
      "\u001b[34m[21:53:43] src/tree/updater_prune.cc:74: tree pruning end, 1 roots, 14 extra nodes, 16 pruned nodes, max_depth=5\u001b[0m\n",
      "\u001b[34m[59]#011train-error:0.132533#011validation-error:0.1725\u001b[0m\n",
      "\u001b[34m[21:53:44] src/tree/updater_prune.cc:74: tree pruning end, 1 roots, 16 extra nodes, 6 pruned nodes, max_depth=5\u001b[0m\n",
      "\u001b[34m[60]#011train-error:0.131867#011validation-error:0.1698\u001b[0m\n",
      "\u001b[34m[21:53:46] src/tree/updater_prune.cc:74: tree pruning end, 1 roots, 24 extra nodes, 12 pruned nodes, max_depth=5\u001b[0m\n",
      "\u001b[34m[61]#011train-error:0.1308#011validation-error:0.1676\u001b[0m\n",
      "\u001b[34m[21:53:47] src/tree/updater_prune.cc:74: tree pruning end, 1 roots, 18 extra nodes, 10 pruned nodes, max_depth=5\u001b[0m\n",
      "\u001b[34m[62]#011train-error:0.1292#011validation-error:0.1661\u001b[0m\n",
      "\u001b[34m[21:53:48] src/tree/updater_prune.cc:74: tree pruning end, 1 roots, 24 extra nodes, 8 pruned nodes, max_depth=5\u001b[0m\n",
      "\u001b[34m[63]#011train-error:0.128867#011validation-error:0.1652\u001b[0m\n",
      "\u001b[34m[21:53:50] src/tree/updater_prune.cc:74: tree pruning end, 1 roots, 16 extra nodes, 10 pruned nodes, max_depth=5\u001b[0m\n",
      "\u001b[34m[64]#011train-error:0.1288#011validation-error:0.1641\u001b[0m\n",
      "\u001b[34m[21:53:51] src/tree/updater_prune.cc:74: tree pruning end, 1 roots, 20 extra nodes, 4 pruned nodes, max_depth=5\u001b[0m\n",
      "\u001b[34m[65]#011train-error:0.1288#011validation-error:0.1647\u001b[0m\n",
      "\u001b[34m[21:53:52] src/tree/updater_prune.cc:74: tree pruning end, 1 roots, 20 extra nodes, 6 pruned nodes, max_depth=5\u001b[0m\n",
      "\u001b[34m[66]#011train-error:0.128533#011validation-error:0.1642\u001b[0m\n",
      "\u001b[34m[21:53:53] src/tree/updater_prune.cc:74: tree pruning end, 1 roots, 24 extra nodes, 8 pruned nodes, max_depth=5\u001b[0m\n",
      "\u001b[34m[67]#011train-error:0.127533#011validation-error:0.1635\u001b[0m\n",
      "\u001b[34m[21:53:55] src/tree/updater_prune.cc:74: tree pruning end, 1 roots, 18 extra nodes, 14 pruned nodes, max_depth=5\u001b[0m\n",
      "\u001b[34m[68]#011train-error:0.126733#011validation-error:0.1631\u001b[0m\n",
      "\u001b[34m[21:53:56] src/tree/updater_prune.cc:74: tree pruning end, 1 roots, 36 extra nodes, 4 pruned nodes, max_depth=5\u001b[0m\n",
      "\u001b[34m[69]#011train-error:0.124867#011validation-error:0.1626\u001b[0m\n",
      "\u001b[34m[21:53:57] src/tree/updater_prune.cc:74: tree pruning end, 1 roots, 28 extra nodes, 12 pruned nodes, max_depth=5\u001b[0m\n",
      "\u001b[34m[70]#011train-error:0.123867#011validation-error:0.1627\u001b[0m\n",
      "\u001b[34m[21:53:59] src/tree/updater_prune.cc:74: tree pruning end, 1 roots, 16 extra nodes, 4 pruned nodes, max_depth=5\u001b[0m\n",
      "\u001b[34m[71]#011train-error:0.124267#011validation-error:0.1618\u001b[0m\n",
      "\u001b[34m[21:54:00] src/tree/updater_prune.cc:74: tree pruning end, 1 roots, 44 extra nodes, 4 pruned nodes, max_depth=5\u001b[0m\n",
      "\u001b[34m[72]#011train-error:0.123333#011validation-error:0.1624\u001b[0m\n",
      "\u001b[34m[21:54:01] src/tree/updater_prune.cc:74: tree pruning end, 1 roots, 18 extra nodes, 10 pruned nodes, max_depth=5\u001b[0m\n",
      "\u001b[34m[73]#011train-error:0.1224#011validation-error:0.1625\u001b[0m\n",
      "\u001b[34m[21:54:02] src/tree/updater_prune.cc:74: tree pruning end, 1 roots, 24 extra nodes, 6 pruned nodes, max_depth=5\u001b[0m\n",
      "\u001b[34m[74]#011train-error:0.121667#011validation-error:0.1628\u001b[0m\n",
      "\u001b[34m[21:54:04] src/tree/updater_prune.cc:74: tree pruning end, 1 roots, 32 extra nodes, 8 pruned nodes, max_depth=5\u001b[0m\n",
      "\u001b[34m[75]#011train-error:0.12#011validation-error:0.1623\u001b[0m\n",
      "\u001b[34m[21:54:05] src/tree/updater_prune.cc:74: tree pruning end, 1 roots, 30 extra nodes, 4 pruned nodes, max_depth=5\u001b[0m\n",
      "\u001b[34m[76]#011train-error:0.119067#011validation-error:0.1628\u001b[0m\n",
      "\u001b[34m[21:54:06] src/tree/updater_prune.cc:74: tree pruning end, 1 roots, 16 extra nodes, 8 pruned nodes, max_depth=5\u001b[0m\n",
      "\u001b[34m[77]#011train-error:0.1186#011validation-error:0.163\u001b[0m\n",
      "\u001b[34m[21:54:08] src/tree/updater_prune.cc:74: tree pruning end, 1 roots, 28 extra nodes, 12 pruned nodes, max_depth=5\u001b[0m\n",
      "\u001b[34m[78]#011train-error:0.116133#011validation-error:0.1615\u001b[0m\n",
      "\u001b[34m[21:54:09] src/tree/updater_prune.cc:74: tree pruning end, 1 roots, 24 extra nodes, 6 pruned nodes, max_depth=5\u001b[0m\n",
      "\u001b[34m[79]#011train-error:0.115133#011validation-error:0.1622\u001b[0m\n",
      "\u001b[34m[21:54:10] src/tree/updater_prune.cc:74: tree pruning end, 1 roots, 22 extra nodes, 8 pruned nodes, max_depth=5\u001b[0m\n",
      "\u001b[34m[80]#011train-error:0.114867#011validation-error:0.1606\u001b[0m\n",
      "\u001b[34m[21:54:12] src/tree/updater_prune.cc:74: tree pruning end, 1 roots, 22 extra nodes, 12 pruned nodes, max_depth=5\u001b[0m\n",
      "\u001b[34m[81]#011train-error:0.1144#011validation-error:0.161\u001b[0m\n",
      "\u001b[34m[21:54:13] src/tree/updater_prune.cc:74: tree pruning end, 1 roots, 26 extra nodes, 6 pruned nodes, max_depth=5\u001b[0m\n",
      "\u001b[34m[82]#011train-error:0.114333#011validation-error:0.1606\u001b[0m\n",
      "\u001b[34m[21:54:14] src/tree/updater_prune.cc:74: tree pruning end, 1 roots, 32 extra nodes, 10 pruned nodes, max_depth=5\u001b[0m\n",
      "\u001b[34m[83]#011train-error:0.112667#011validation-error:0.1599\u001b[0m\n",
      "\u001b[34m[21:54:15] src/tree/updater_prune.cc:74: tree pruning end, 1 roots, 14 extra nodes, 12 pruned nodes, max_depth=5\u001b[0m\n",
      "\u001b[34m[84]#011train-error:0.112333#011validation-error:0.1597\u001b[0m\n",
      "\u001b[34m[21:54:17] src/tree/updater_prune.cc:74: tree pruning end, 1 roots, 14 extra nodes, 10 pruned nodes, max_depth=5\u001b[0m\n",
      "\u001b[34m[85]#011train-error:0.111867#011validation-error:0.1591\u001b[0m\n",
      "\u001b[34m[21:54:18] src/tree/updater_prune.cc:74: tree pruning end, 1 roots, 18 extra nodes, 14 pruned nodes, max_depth=5\u001b[0m\n",
      "\u001b[34m[86]#011train-error:0.1114#011validation-error:0.1581\u001b[0m\n",
      "\u001b[34m[21:54:19] src/tree/updater_prune.cc:74: tree pruning end, 1 roots, 22 extra nodes, 8 pruned nodes, max_depth=5\u001b[0m\n",
      "\u001b[34m[87]#011train-error:0.111133#011validation-error:0.1578\u001b[0m\n",
      "\u001b[34m[21:54:20] src/tree/updater_prune.cc:74: tree pruning end, 1 roots, 14 extra nodes, 8 pruned nodes, max_depth=5\u001b[0m\n",
      "\u001b[34m[88]#011train-error:0.110533#011validation-error:0.1578\u001b[0m\n",
      "\u001b[34m[21:54:22] src/tree/updater_prune.cc:74: tree pruning end, 1 roots, 16 extra nodes, 16 pruned nodes, max_depth=5\u001b[0m\n",
      "\u001b[34m[89]#011train-error:0.110267#011validation-error:0.1582\u001b[0m\n",
      "\u001b[34m[21:54:23] src/tree/updater_prune.cc:74: tree pruning end, 1 roots, 14 extra nodes, 6 pruned nodes, max_depth=5\u001b[0m\n",
      "\u001b[34m[90]#011train-error:0.109933#011validation-error:0.1573\u001b[0m\n",
      "\u001b[34m[21:54:24] src/tree/updater_prune.cc:74: tree pruning end, 1 roots, 24 extra nodes, 8 pruned nodes, max_depth=5\u001b[0m\n",
      "\u001b[34m[91]#011train-error:0.1088#011validation-error:0.1571\u001b[0m\n",
      "\u001b[34m[21:54:26] src/tree/updater_prune.cc:74: tree pruning end, 1 roots, 16 extra nodes, 2 pruned nodes, max_depth=5\u001b[0m\n",
      "\u001b[34m[92]#011train-error:0.107533#011validation-error:0.1571\u001b[0m\n",
      "\u001b[34m[21:54:27] src/tree/updater_prune.cc:74: tree pruning end, 1 roots, 24 extra nodes, 6 pruned nodes, max_depth=5\u001b[0m\n",
      "\u001b[34m[93]#011train-error:0.106667#011validation-error:0.1559\u001b[0m\n",
      "\u001b[34m[21:54:28] src/tree/updater_prune.cc:74: tree pruning end, 1 roots, 18 extra nodes, 6 pruned nodes, max_depth=5\u001b[0m\n",
      "\u001b[34m[94]#011train-error:0.106133#011validation-error:0.1554\u001b[0m\n",
      "\u001b[34m[21:54:29] src/tree/updater_prune.cc:74: tree pruning end, 1 roots, 30 extra nodes, 12 pruned nodes, max_depth=5\u001b[0m\n",
      "\u001b[34m[95]#011train-error:0.1052#011validation-error:0.1554\u001b[0m\n",
      "\u001b[34m[21:54:31] src/tree/updater_prune.cc:74: tree pruning end, 1 roots, 12 extra nodes, 8 pruned nodes, max_depth=5\u001b[0m\n",
      "\u001b[34m[96]#011train-error:0.105133#011validation-error:0.155\u001b[0m\n"
     ]
    },
    {
     "name": "stdout",
     "output_type": "stream",
     "text": [
      "\u001b[34m[21:54:32] src/tree/updater_prune.cc:74: tree pruning end, 1 roots, 14 extra nodes, 4 pruned nodes, max_depth=5\u001b[0m\n",
      "\u001b[34m[97]#011train-error:0.1054#011validation-error:0.1553\u001b[0m\n",
      "\u001b[34m[21:54:33] src/tree/updater_prune.cc:74: tree pruning end, 1 roots, 12 extra nodes, 12 pruned nodes, max_depth=5\u001b[0m\n",
      "\u001b[34m[98]#011train-error:0.1054#011validation-error:0.1549\u001b[0m\n",
      "\u001b[34m[21:54:35] src/tree/updater_prune.cc:74: tree pruning end, 1 roots, 18 extra nodes, 14 pruned nodes, max_depth=5\u001b[0m\n",
      "\u001b[34m[99]#011train-error:0.104667#011validation-error:0.1549\u001b[0m\n",
      "\u001b[34m[21:54:36] src/tree/updater_prune.cc:74: tree pruning end, 1 roots, 24 extra nodes, 16 pruned nodes, max_depth=5\u001b[0m\n",
      "\u001b[34m[100]#011train-error:0.103667#011validation-error:0.155\u001b[0m\n",
      "\u001b[34m[21:54:37] src/tree/updater_prune.cc:74: tree pruning end, 1 roots, 12 extra nodes, 8 pruned nodes, max_depth=5\u001b[0m\n",
      "\u001b[34m[101]#011train-error:0.1036#011validation-error:0.1558\u001b[0m\n",
      "\u001b[34m[21:54:38] src/tree/updater_prune.cc:74: tree pruning end, 1 roots, 22 extra nodes, 6 pruned nodes, max_depth=5\u001b[0m\n",
      "\u001b[34m[102]#011train-error:0.103#011validation-error:0.1552\u001b[0m\n",
      "\u001b[34m[21:54:40] src/tree/updater_prune.cc:74: tree pruning end, 1 roots, 14 extra nodes, 8 pruned nodes, max_depth=5\u001b[0m\n",
      "\u001b[34m[103]#011train-error:0.102067#011validation-error:0.1544\u001b[0m\n",
      "\u001b[34m[21:54:41] src/tree/updater_prune.cc:74: tree pruning end, 1 roots, 24 extra nodes, 12 pruned nodes, max_depth=5\u001b[0m\n",
      "\u001b[34m[104]#011train-error:0.101#011validation-error:0.155\u001b[0m\n",
      "\u001b[34m[21:54:42] src/tree/updater_prune.cc:74: tree pruning end, 1 roots, 18 extra nodes, 12 pruned nodes, max_depth=5\u001b[0m\n",
      "\u001b[34m[105]#011train-error:0.1008#011validation-error:0.1536\u001b[0m\n",
      "\u001b[34m[21:54:44] src/tree/updater_prune.cc:74: tree pruning end, 1 roots, 20 extra nodes, 4 pruned nodes, max_depth=5\u001b[0m\n",
      "\u001b[34m[106]#011train-error:0.100067#011validation-error:0.1539\u001b[0m\n",
      "\u001b[34m[21:54:45] src/tree/updater_prune.cc:74: tree pruning end, 1 roots, 20 extra nodes, 8 pruned nodes, max_depth=5\u001b[0m\n",
      "\u001b[34m[107]#011train-error:0.099533#011validation-error:0.1529\u001b[0m\n",
      "\u001b[34m[21:54:46] src/tree/updater_prune.cc:74: tree pruning end, 1 roots, 30 extra nodes, 6 pruned nodes, max_depth=5\u001b[0m\n",
      "\u001b[34m[108]#011train-error:0.0994#011validation-error:0.1527\u001b[0m\n",
      "\u001b[34m[21:54:47] src/tree/updater_prune.cc:74: tree pruning end, 1 roots, 16 extra nodes, 8 pruned nodes, max_depth=5\u001b[0m\n",
      "\u001b[34m[109]#011train-error:0.099267#011validation-error:0.152\u001b[0m\n",
      "\u001b[34m[21:54:49] src/tree/updater_prune.cc:74: tree pruning end, 1 roots, 10 extra nodes, 0 pruned nodes, max_depth=5\u001b[0m\n",
      "\u001b[34m[110]#011train-error:0.0988#011validation-error:0.1506\u001b[0m\n",
      "\u001b[34m[21:54:50] src/tree/updater_prune.cc:74: tree pruning end, 1 roots, 18 extra nodes, 0 pruned nodes, max_depth=5\u001b[0m\n",
      "\u001b[34m[111]#011train-error:0.098267#011validation-error:0.1505\u001b[0m\n",
      "\u001b[34m[21:54:51] src/tree/updater_prune.cc:74: tree pruning end, 1 roots, 16 extra nodes, 6 pruned nodes, max_depth=5\u001b[0m\n",
      "\u001b[34m[112]#011train-error:0.097933#011validation-error:0.1502\u001b[0m\n",
      "\u001b[34m[21:54:52] src/tree/updater_prune.cc:74: tree pruning end, 1 roots, 12 extra nodes, 6 pruned nodes, max_depth=5\u001b[0m\n",
      "\u001b[34m[113]#011train-error:0.097#011validation-error:0.1507\u001b[0m\n",
      "\u001b[34m[21:54:54] src/tree/updater_prune.cc:74: tree pruning end, 1 roots, 18 extra nodes, 14 pruned nodes, max_depth=5\u001b[0m\n",
      "\u001b[34m[114]#011train-error:0.096467#011validation-error:0.1502\u001b[0m\n",
      "\u001b[34m[21:54:55] src/tree/updater_prune.cc:74: tree pruning end, 1 roots, 12 extra nodes, 8 pruned nodes, max_depth=5\u001b[0m\n",
      "\u001b[34m[115]#011train-error:0.0964#011validation-error:0.1499\u001b[0m\n",
      "\u001b[34m[21:54:56] src/tree/updater_prune.cc:74: tree pruning end, 1 roots, 16 extra nodes, 6 pruned nodes, max_depth=5\u001b[0m\n",
      "\u001b[34m[116]#011train-error:0.096067#011validation-error:0.1494\u001b[0m\n",
      "\u001b[34m[21:54:58] src/tree/updater_prune.cc:74: tree pruning end, 1 roots, 26 extra nodes, 2 pruned nodes, max_depth=5\u001b[0m\n",
      "\u001b[34m[117]#011train-error:0.0956#011validation-error:0.1485\u001b[0m\n",
      "\u001b[34m[21:54:59] src/tree/updater_prune.cc:74: tree pruning end, 1 roots, 22 extra nodes, 8 pruned nodes, max_depth=5\u001b[0m\n",
      "\u001b[34m[118]#011train-error:0.094867#011validation-error:0.1488\u001b[0m\n",
      "\u001b[34m[21:55:00] src/tree/updater_prune.cc:74: tree pruning end, 1 roots, 20 extra nodes, 6 pruned nodes, max_depth=5\u001b[0m\n",
      "\u001b[34m[119]#011train-error:0.0946#011validation-error:0.1481\u001b[0m\n",
      "\u001b[34m[21:55:01] src/tree/updater_prune.cc:74: tree pruning end, 1 roots, 10 extra nodes, 12 pruned nodes, max_depth=5\u001b[0m\n",
      "\u001b[34m[120]#011train-error:0.094133#011validation-error:0.1478\u001b[0m\n",
      "\u001b[34m[21:55:03] src/tree/updater_prune.cc:74: tree pruning end, 1 roots, 12 extra nodes, 6 pruned nodes, max_depth=5\u001b[0m\n",
      "\u001b[34m[121]#011train-error:0.095133#011validation-error:0.1478\u001b[0m\n",
      "\u001b[34m[21:55:04] src/tree/updater_prune.cc:74: tree pruning end, 1 roots, 24 extra nodes, 8 pruned nodes, max_depth=5\u001b[0m\n",
      "\u001b[34m[122]#011train-error:0.094133#011validation-error:0.1478\u001b[0m\n",
      "\u001b[34m[21:55:05] src/tree/updater_prune.cc:74: tree pruning end, 1 roots, 20 extra nodes, 6 pruned nodes, max_depth=5\u001b[0m\n",
      "\u001b[34m[123]#011train-error:0.093667#011validation-error:0.1484\u001b[0m\n",
      "\u001b[34m[21:55:07] src/tree/updater_prune.cc:74: tree pruning end, 1 roots, 14 extra nodes, 6 pruned nodes, max_depth=5\u001b[0m\n",
      "\u001b[34m[124]#011train-error:0.093867#011validation-error:0.149\u001b[0m\n",
      "\u001b[34m[21:55:08] src/tree/updater_prune.cc:74: tree pruning end, 1 roots, 10 extra nodes, 8 pruned nodes, max_depth=5\u001b[0m\n",
      "\u001b[34m[125]#011train-error:0.0934#011validation-error:0.1482\u001b[0m\n",
      "\u001b[34m[21:55:09] src/tree/updater_prune.cc:74: tree pruning end, 1 roots, 12 extra nodes, 6 pruned nodes, max_depth=5\u001b[0m\n",
      "\u001b[34m[126]#011train-error:0.092867#011validation-error:0.1484\u001b[0m\n",
      "\u001b[34m[21:55:10] src/tree/updater_prune.cc:74: tree pruning end, 1 roots, 14 extra nodes, 8 pruned nodes, max_depth=5\u001b[0m\n",
      "\u001b[34m[127]#011train-error:0.0934#011validation-error:0.1465\u001b[0m\n",
      "\u001b[34m[21:55:12] src/tree/updater_prune.cc:74: tree pruning end, 1 roots, 18 extra nodes, 10 pruned nodes, max_depth=5\u001b[0m\n",
      "\u001b[34m[128]#011train-error:0.092533#011validation-error:0.1473\u001b[0m\n",
      "\u001b[34m[21:55:13] src/tree/updater_prune.cc:74: tree pruning end, 1 roots, 10 extra nodes, 4 pruned nodes, max_depth=5\u001b[0m\n",
      "\u001b[34m[129]#011train-error:0.091933#011validation-error:0.1472\u001b[0m\n",
      "\u001b[34m[21:55:14] src/tree/updater_prune.cc:74: tree pruning end, 1 roots, 14 extra nodes, 6 pruned nodes, max_depth=5\u001b[0m\n",
      "\u001b[34m[130]#011train-error:0.091667#011validation-error:0.1476\u001b[0m\n",
      "\u001b[34m[21:55:16] src/tree/updater_prune.cc:74: tree pruning end, 1 roots, 10 extra nodes, 12 pruned nodes, max_depth=5\u001b[0m\n",
      "\u001b[34m[131]#011train-error:0.091933#011validation-error:0.1473\u001b[0m\n",
      "\u001b[34m[21:55:17] src/tree/updater_prune.cc:74: tree pruning end, 1 roots, 18 extra nodes, 10 pruned nodes, max_depth=5\u001b[0m\n",
      "\u001b[34m[132]#011train-error:0.092133#011validation-error:0.1457\u001b[0m\n",
      "\u001b[34m[21:55:18] src/tree/updater_prune.cc:74: tree pruning end, 1 roots, 10 extra nodes, 0 pruned nodes, max_depth=5\u001b[0m\n",
      "\u001b[34m[133]#011train-error:0.092#011validation-error:0.145\u001b[0m\n",
      "\u001b[34m[21:55:19] src/tree/updater_prune.cc:74: tree pruning end, 1 roots, 12 extra nodes, 6 pruned nodes, max_depth=5\u001b[0m\n",
      "\u001b[34m[134]#011train-error:0.091533#011validation-error:0.1444\u001b[0m\n",
      "\u001b[34m[21:55:21] src/tree/updater_prune.cc:74: tree pruning end, 1 roots, 10 extra nodes, 14 pruned nodes, max_depth=5\u001b[0m\n",
      "\u001b[34m[135]#011train-error:0.091533#011validation-error:0.1444\u001b[0m\n",
      "\u001b[34m[21:55:22] src/tree/updater_prune.cc:74: tree pruning end, 1 roots, 12 extra nodes, 12 pruned nodes, max_depth=5\u001b[0m\n",
      "\u001b[34m[136]#011train-error:0.0908#011validation-error:0.1431\u001b[0m\n",
      "\u001b[34m[21:55:23] src/tree/updater_prune.cc:74: tree pruning end, 1 roots, 24 extra nodes, 14 pruned nodes, max_depth=5\u001b[0m\n",
      "\u001b[34m[137]#011train-error:0.089533#011validation-error:0.1441\u001b[0m\n",
      "\u001b[34m[21:55:25] src/tree/updater_prune.cc:74: tree pruning end, 1 roots, 20 extra nodes, 6 pruned nodes, max_depth=5\u001b[0m\n",
      "\u001b[34m[138]#011train-error:0.089#011validation-error:0.1441\u001b[0m\n",
      "\u001b[34m[21:55:26] src/tree/updater_prune.cc:74: tree pruning end, 1 roots, 10 extra nodes, 8 pruned nodes, max_depth=5\u001b[0m\n",
      "\u001b[34m[139]#011train-error:0.088467#011validation-error:0.1435\u001b[0m\n",
      "\u001b[34m[21:55:27] src/tree/updater_prune.cc:74: tree pruning end, 1 roots, 10 extra nodes, 6 pruned nodes, max_depth=5\u001b[0m\n",
      "\u001b[34m[140]#011train-error:0.088533#011validation-error:0.1439\u001b[0m\n"
     ]
    },
    {
     "name": "stdout",
     "output_type": "stream",
     "text": [
      "\u001b[34m[21:55:29] src/tree/updater_prune.cc:74: tree pruning end, 1 roots, 14 extra nodes, 12 pruned nodes, max_depth=5\u001b[0m\n",
      "\u001b[34m[141]#011train-error:0.088067#011validation-error:0.1432\u001b[0m\n",
      "\u001b[34m[21:55:30] src/tree/updater_prune.cc:74: tree pruning end, 1 roots, 20 extra nodes, 6 pruned nodes, max_depth=5\u001b[0m\n",
      "\u001b[34m[142]#011train-error:0.0878#011validation-error:0.1432\u001b[0m\n",
      "\u001b[34m[21:55:31] src/tree/updater_prune.cc:74: tree pruning end, 1 roots, 16 extra nodes, 8 pruned nodes, max_depth=5\u001b[0m\n",
      "\u001b[34m[143]#011train-error:0.0876#011validation-error:0.1434\u001b[0m\n",
      "\u001b[34m[21:55:32] src/tree/updater_prune.cc:74: tree pruning end, 1 roots, 14 extra nodes, 4 pruned nodes, max_depth=5\u001b[0m\n",
      "\u001b[34m[144]#011train-error:0.087333#011validation-error:0.1426\u001b[0m\n",
      "\u001b[34m[21:55:34] src/tree/updater_prune.cc:74: tree pruning end, 1 roots, 12 extra nodes, 2 pruned nodes, max_depth=5\u001b[0m\n",
      "\u001b[34m[145]#011train-error:0.0876#011validation-error:0.1425\u001b[0m\n",
      "\u001b[34m[21:55:35] src/tree/updater_prune.cc:74: tree pruning end, 1 roots, 16 extra nodes, 10 pruned nodes, max_depth=5\u001b[0m\n",
      "\u001b[34m[146]#011train-error:0.087#011validation-error:0.142\u001b[0m\n",
      "\u001b[34m[21:55:36] src/tree/updater_prune.cc:74: tree pruning end, 1 roots, 18 extra nodes, 10 pruned nodes, max_depth=5\u001b[0m\n",
      "\u001b[34m[147]#011train-error:0.086667#011validation-error:0.1423\u001b[0m\n",
      "\u001b[34m[21:55:37] src/tree/updater_prune.cc:74: tree pruning end, 1 roots, 12 extra nodes, 4 pruned nodes, max_depth=5\u001b[0m\n",
      "\u001b[34m[148]#011train-error:0.086267#011validation-error:0.1424\u001b[0m\n",
      "\u001b[34m[21:55:39] src/tree/updater_prune.cc:74: tree pruning end, 1 roots, 14 extra nodes, 14 pruned nodes, max_depth=5\u001b[0m\n",
      "\u001b[34m[149]#011train-error:0.0862#011validation-error:0.1416\u001b[0m\n",
      "\u001b[34m[21:55:40] src/tree/updater_prune.cc:74: tree pruning end, 1 roots, 16 extra nodes, 14 pruned nodes, max_depth=5\u001b[0m\n",
      "\u001b[34m[150]#011train-error:0.085667#011validation-error:0.1409\u001b[0m\n",
      "\u001b[34m[21:55:41] src/tree/updater_prune.cc:74: tree pruning end, 1 roots, 12 extra nodes, 8 pruned nodes, max_depth=5\u001b[0m\n",
      "\u001b[34m[151]#011train-error:0.085133#011validation-error:0.1406\u001b[0m\n",
      "\u001b[34m[21:55:43] src/tree/updater_prune.cc:74: tree pruning end, 1 roots, 18 extra nodes, 6 pruned nodes, max_depth=5\u001b[0m\n",
      "\u001b[34m[152]#011train-error:0.084933#011validation-error:0.1408\u001b[0m\n",
      "\u001b[34m[21:55:44] src/tree/updater_prune.cc:74: tree pruning end, 1 roots, 16 extra nodes, 14 pruned nodes, max_depth=5\u001b[0m\n",
      "\u001b[34m[153]#011train-error:0.085067#011validation-error:0.1408\u001b[0m\n",
      "\u001b[34m[21:55:45] src/tree/updater_prune.cc:74: tree pruning end, 1 roots, 16 extra nodes, 16 pruned nodes, max_depth=5\u001b[0m\n",
      "\u001b[34m[154]#011train-error:0.084533#011validation-error:0.1405\u001b[0m\n",
      "\u001b[34m[21:55:46] src/tree/updater_prune.cc:74: tree pruning end, 1 roots, 14 extra nodes, 6 pruned nodes, max_depth=5\u001b[0m\n",
      "\u001b[34m[155]#011train-error:0.083933#011validation-error:0.1399\u001b[0m\n",
      "\u001b[34m[21:55:48] src/tree/updater_prune.cc:74: tree pruning end, 1 roots, 10 extra nodes, 12 pruned nodes, max_depth=5\u001b[0m\n",
      "\u001b[34m[156]#011train-error:0.0844#011validation-error:0.1394\u001b[0m\n",
      "\u001b[34m[21:55:49] src/tree/updater_prune.cc:74: tree pruning end, 1 roots, 16 extra nodes, 4 pruned nodes, max_depth=5\u001b[0m\n",
      "\u001b[34m[157]#011train-error:0.084467#011validation-error:0.1396\u001b[0m\n",
      "\u001b[34m[21:55:50] src/tree/updater_prune.cc:74: tree pruning end, 1 roots, 12 extra nodes, 12 pruned nodes, max_depth=5\u001b[0m\n",
      "\u001b[34m[158]#011train-error:0.084#011validation-error:0.1397\u001b[0m\n",
      "\u001b[34m[21:55:51] src/tree/updater_prune.cc:74: tree pruning end, 1 roots, 26 extra nodes, 4 pruned nodes, max_depth=5\u001b[0m\n",
      "\u001b[34m[159]#011train-error:0.083467#011validation-error:0.1393\u001b[0m\n",
      "\u001b[34m[21:55:53] src/tree/updater_prune.cc:74: tree pruning end, 1 roots, 38 extra nodes, 8 pruned nodes, max_depth=5\u001b[0m\n",
      "\u001b[34m[160]#011train-error:0.0826#011validation-error:0.1398\u001b[0m\n",
      "\u001b[34m[21:55:54] src/tree/updater_prune.cc:74: tree pruning end, 1 roots, 22 extra nodes, 4 pruned nodes, max_depth=5\u001b[0m\n",
      "\u001b[34m[161]#011train-error:0.082#011validation-error:0.1394\u001b[0m\n",
      "\u001b[34m[21:55:55] src/tree/updater_prune.cc:74: tree pruning end, 1 roots, 16 extra nodes, 2 pruned nodes, max_depth=5\u001b[0m\n",
      "\u001b[34m[162]#011train-error:0.081467#011validation-error:0.1399\u001b[0m\n",
      "\u001b[34m[21:55:57] src/tree/updater_prune.cc:74: tree pruning end, 1 roots, 24 extra nodes, 14 pruned nodes, max_depth=5\u001b[0m\n",
      "\u001b[34m[163]#011train-error:0.080533#011validation-error:0.139\u001b[0m\n",
      "\u001b[34m[21:55:58] src/tree/updater_prune.cc:74: tree pruning end, 1 roots, 12 extra nodes, 4 pruned nodes, max_depth=5\u001b[0m\n",
      "\u001b[34m[164]#011train-error:0.080467#011validation-error:0.1381\u001b[0m\n",
      "\u001b[34m[21:55:59] src/tree/updater_prune.cc:74: tree pruning end, 1 roots, 18 extra nodes, 12 pruned nodes, max_depth=5\u001b[0m\n",
      "\u001b[34m[165]#011train-error:0.080067#011validation-error:0.1389\u001b[0m\n",
      "\u001b[34m[21:56:00] src/tree/updater_prune.cc:74: tree pruning end, 1 roots, 36 extra nodes, 2 pruned nodes, max_depth=5\u001b[0m\n",
      "\u001b[34m[166]#011train-error:0.079267#011validation-error:0.1378\u001b[0m\n",
      "\u001b[34m[21:56:02] src/tree/updater_prune.cc:74: tree pruning end, 1 roots, 12 extra nodes, 6 pruned nodes, max_depth=5\u001b[0m\n",
      "\u001b[34m[167]#011train-error:0.0792#011validation-error:0.1376\u001b[0m\n",
      "\u001b[34m[21:56:03] src/tree/updater_prune.cc:74: tree pruning end, 1 roots, 12 extra nodes, 10 pruned nodes, max_depth=5\u001b[0m\n",
      "\u001b[34m[168]#011train-error:0.0788#011validation-error:0.1378\u001b[0m\n",
      "\u001b[34m[21:56:04] src/tree/updater_prune.cc:74: tree pruning end, 1 roots, 12 extra nodes, 8 pruned nodes, max_depth=5\u001b[0m\n",
      "\u001b[34m[169]#011train-error:0.0786#011validation-error:0.1377\u001b[0m\n",
      "\u001b[34m[21:56:05] src/tree/updater_prune.cc:74: tree pruning end, 1 roots, 16 extra nodes, 8 pruned nodes, max_depth=5\u001b[0m\n",
      "\u001b[34m[170]#011train-error:0.077933#011validation-error:0.1381\u001b[0m\n",
      "\u001b[34m[21:56:07] src/tree/updater_prune.cc:74: tree pruning end, 1 roots, 22 extra nodes, 18 pruned nodes, max_depth=5\u001b[0m\n",
      "\u001b[34m[171]#011train-error:0.077667#011validation-error:0.1384\u001b[0m\n",
      "\u001b[34m[21:56:08] src/tree/updater_prune.cc:74: tree pruning end, 1 roots, 12 extra nodes, 4 pruned nodes, max_depth=5\u001b[0m\n",
      "\u001b[34m[172]#011train-error:0.077467#011validation-error:0.1383\u001b[0m\n",
      "\u001b[34m[21:56:09] src/tree/updater_prune.cc:74: tree pruning end, 1 roots, 14 extra nodes, 8 pruned nodes, max_depth=5\u001b[0m\n",
      "\u001b[34m[173]#011train-error:0.0772#011validation-error:0.138\u001b[0m\n",
      "\u001b[34m[21:56:11] src/tree/updater_prune.cc:74: tree pruning end, 1 roots, 10 extra nodes, 2 pruned nodes, max_depth=5\u001b[0m\n",
      "\u001b[34m[174]#011train-error:0.077133#011validation-error:0.1378\u001b[0m\n",
      "\u001b[34m[21:56:12] src/tree/updater_prune.cc:74: tree pruning end, 1 roots, 10 extra nodes, 8 pruned nodes, max_depth=5\u001b[0m\n",
      "\u001b[34m[175]#011train-error:0.077133#011validation-error:0.1374\u001b[0m\n",
      "\u001b[34m[21:56:13] src/tree/updater_prune.cc:74: tree pruning end, 1 roots, 10 extra nodes, 8 pruned nodes, max_depth=5\u001b[0m\n",
      "\u001b[34m[176]#011train-error:0.077#011validation-error:0.1382\u001b[0m\n",
      "\u001b[34m[21:56:14] src/tree/updater_prune.cc:74: tree pruning end, 1 roots, 14 extra nodes, 6 pruned nodes, max_depth=5\u001b[0m\n",
      "\u001b[34m[177]#011train-error:0.077133#011validation-error:0.1384\u001b[0m\n",
      "\u001b[34m[21:56:16] src/tree/updater_prune.cc:74: tree pruning end, 1 roots, 20 extra nodes, 10 pruned nodes, max_depth=5\u001b[0m\n",
      "\u001b[34m[178]#011train-error:0.076533#011validation-error:0.1381\u001b[0m\n",
      "\u001b[34m[21:56:17] src/tree/updater_prune.cc:74: tree pruning end, 1 roots, 14 extra nodes, 12 pruned nodes, max_depth=5\u001b[0m\n",
      "\u001b[34m[179]#011train-error:0.076467#011validation-error:0.1374\u001b[0m\n",
      "\u001b[34m[21:56:18] src/tree/updater_prune.cc:74: tree pruning end, 1 roots, 14 extra nodes, 22 pruned nodes, max_depth=5\u001b[0m\n",
      "\u001b[34m[180]#011train-error:0.076667#011validation-error:0.1379\u001b[0m\n",
      "\u001b[34m[21:56:20] src/tree/updater_prune.cc:74: tree pruning end, 1 roots, 10 extra nodes, 2 pruned nodes, max_depth=5\u001b[0m\n",
      "\u001b[34m[181]#011train-error:0.076533#011validation-error:0.1381\u001b[0m\n",
      "\u001b[34m[21:56:21] src/tree/updater_prune.cc:74: tree pruning end, 1 roots, 14 extra nodes, 4 pruned nodes, max_depth=5\u001b[0m\n",
      "\u001b[34m[182]#011train-error:0.075333#011validation-error:0.1376\u001b[0m\n",
      "\u001b[34m[21:56:22] src/tree/updater_prune.cc:74: tree pruning end, 1 roots, 12 extra nodes, 14 pruned nodes, max_depth=5\u001b[0m\n",
      "\u001b[34m[183]#011train-error:0.075133#011validation-error:0.137\u001b[0m\n",
      "\u001b[34m[21:56:23] src/tree/updater_prune.cc:74: tree pruning end, 1 roots, 10 extra nodes, 6 pruned nodes, max_depth=5\u001b[0m\n",
      "\u001b[34m[184]#011train-error:0.074867#011validation-error:0.1367\u001b[0m\n"
     ]
    },
    {
     "name": "stdout",
     "output_type": "stream",
     "text": [
      "\u001b[34m[21:56:25] src/tree/updater_prune.cc:74: tree pruning end, 1 roots, 18 extra nodes, 6 pruned nodes, max_depth=5\u001b[0m\n",
      "\u001b[34m[185]#011train-error:0.074333#011validation-error:0.1365\u001b[0m\n",
      "\u001b[34m[21:56:26] src/tree/updater_prune.cc:74: tree pruning end, 1 roots, 16 extra nodes, 4 pruned nodes, max_depth=5\u001b[0m\n",
      "\u001b[34m[186]#011train-error:0.073667#011validation-error:0.1366\u001b[0m\n",
      "\u001b[34m[21:56:27] src/tree/updater_prune.cc:74: tree pruning end, 1 roots, 16 extra nodes, 16 pruned nodes, max_depth=5\u001b[0m\n",
      "\u001b[34m[187]#011train-error:0.074067#011validation-error:0.1369\u001b[0m\n",
      "\u001b[34m[21:56:28] src/tree/updater_prune.cc:74: tree pruning end, 1 roots, 28 extra nodes, 6 pruned nodes, max_depth=5\u001b[0m\n",
      "\u001b[34m[188]#011train-error:0.073467#011validation-error:0.137\u001b[0m\n",
      "\u001b[34m[21:56:30] src/tree/updater_prune.cc:74: tree pruning end, 1 roots, 12 extra nodes, 4 pruned nodes, max_depth=5\u001b[0m\n",
      "\u001b[34m[189]#011train-error:0.073267#011validation-error:0.1365\u001b[0m\n",
      "\u001b[34m[21:56:31] src/tree/updater_prune.cc:74: tree pruning end, 1 roots, 10 extra nodes, 2 pruned nodes, max_depth=5\u001b[0m\n",
      "\u001b[34m[190]#011train-error:0.073467#011validation-error:0.1361\u001b[0m\n",
      "\u001b[34m[21:56:32] src/tree/updater_prune.cc:74: tree pruning end, 1 roots, 12 extra nodes, 16 pruned nodes, max_depth=5\u001b[0m\n",
      "\u001b[34m[191]#011train-error:0.073533#011validation-error:0.1356\u001b[0m\n",
      "\u001b[34m[21:56:34] src/tree/updater_prune.cc:74: tree pruning end, 1 roots, 14 extra nodes, 6 pruned nodes, max_depth=5\u001b[0m\n",
      "\u001b[34m[192]#011train-error:0.0734#011validation-error:0.1344\u001b[0m\n",
      "\u001b[34m[21:56:35] src/tree/updater_prune.cc:74: tree pruning end, 1 roots, 10 extra nodes, 2 pruned nodes, max_depth=5\u001b[0m\n",
      "\u001b[34m[193]#011train-error:0.073133#011validation-error:0.1342\u001b[0m\n",
      "\u001b[34m[21:56:36] src/tree/updater_prune.cc:74: tree pruning end, 1 roots, 18 extra nodes, 14 pruned nodes, max_depth=5\u001b[0m\n",
      "\u001b[34m[194]#011train-error:0.073133#011validation-error:0.1346\u001b[0m\n",
      "\u001b[34m[21:56:37] src/tree/updater_prune.cc:74: tree pruning end, 1 roots, 12 extra nodes, 14 pruned nodes, max_depth=5\u001b[0m\n",
      "\u001b[34m[195]#011train-error:0.0732#011validation-error:0.134\u001b[0m\n",
      "\u001b[34m[21:56:39] src/tree/updater_prune.cc:74: tree pruning end, 1 roots, 10 extra nodes, 4 pruned nodes, max_depth=5\u001b[0m\n",
      "\u001b[34m[196]#011train-error:0.073133#011validation-error:0.1339\u001b[0m\n",
      "\u001b[34m[21:56:40] src/tree/updater_prune.cc:74: tree pruning end, 1 roots, 16 extra nodes, 14 pruned nodes, max_depth=5\u001b[0m\n",
      "\u001b[34m[197]#011train-error:0.0728#011validation-error:0.1333\u001b[0m\n",
      "\u001b[34m[21:56:41] src/tree/updater_prune.cc:74: tree pruning end, 1 roots, 14 extra nodes, 14 pruned nodes, max_depth=5\u001b[0m\n",
      "\u001b[34m[198]#011train-error:0.071867#011validation-error:0.1338\u001b[0m\n",
      "\u001b[34m[21:56:42] src/tree/updater_prune.cc:74: tree pruning end, 1 roots, 12 extra nodes, 12 pruned nodes, max_depth=5\u001b[0m\n",
      "\u001b[34m[199]#011train-error:0.072#011validation-error:0.1336\u001b[0m\n",
      "\u001b[34m[21:56:44] src/tree/updater_prune.cc:74: tree pruning end, 1 roots, 10 extra nodes, 2 pruned nodes, max_depth=5\u001b[0m\n",
      "\u001b[34m[200]#011train-error:0.0716#011validation-error:0.1335\u001b[0m\n",
      "\u001b[34m[21:56:45] src/tree/updater_prune.cc:74: tree pruning end, 1 roots, 12 extra nodes, 6 pruned nodes, max_depth=5\u001b[0m\n",
      "\u001b[34m[201]#011train-error:0.071733#011validation-error:0.1337\u001b[0m\n",
      "\u001b[34m[21:56:46] src/tree/updater_prune.cc:74: tree pruning end, 1 roots, 16 extra nodes, 2 pruned nodes, max_depth=5\u001b[0m\n",
      "\u001b[34m[202]#011train-error:0.071667#011validation-error:0.1336\u001b[0m\n",
      "\u001b[34m[21:56:48] src/tree/updater_prune.cc:74: tree pruning end, 1 roots, 12 extra nodes, 8 pruned nodes, max_depth=5\u001b[0m\n",
      "\u001b[34m[203]#011train-error:0.071067#011validation-error:0.1335\u001b[0m\n",
      "\u001b[34m[21:56:49] src/tree/updater_prune.cc:74: tree pruning end, 1 roots, 20 extra nodes, 6 pruned nodes, max_depth=5\u001b[0m\n",
      "\u001b[34m[204]#011train-error:0.070933#011validation-error:0.1337\u001b[0m\n",
      "\u001b[34m[21:56:50] src/tree/updater_prune.cc:74: tree pruning end, 1 roots, 10 extra nodes, 4 pruned nodes, max_depth=5\u001b[0m\n",
      "\u001b[34m[205]#011train-error:0.071#011validation-error:0.1339\u001b[0m\n",
      "\u001b[34m[21:56:51] src/tree/updater_prune.cc:74: tree pruning end, 1 roots, 12 extra nodes, 0 pruned nodes, max_depth=5\u001b[0m\n",
      "\u001b[34m[206]#011train-error:0.0706#011validation-error:0.1336\u001b[0m\n",
      "\u001b[34m[21:56:53] src/tree/updater_prune.cc:74: tree pruning end, 1 roots, 18 extra nodes, 4 pruned nodes, max_depth=5\u001b[0m\n",
      "\u001b[34m[207]#011train-error:0.0702#011validation-error:0.133\u001b[0m\n",
      "\u001b[34m[21:56:54] src/tree/updater_prune.cc:74: tree pruning end, 1 roots, 10 extra nodes, 4 pruned nodes, max_depth=5\u001b[0m\n",
      "\u001b[34m[208]#011train-error:0.0696#011validation-error:0.1324\u001b[0m\n",
      "\u001b[34m[21:56:55] src/tree/updater_prune.cc:74: tree pruning end, 1 roots, 14 extra nodes, 10 pruned nodes, max_depth=5\u001b[0m\n",
      "\u001b[34m[209]#011train-error:0.069667#011validation-error:0.1324\u001b[0m\n",
      "\u001b[34m[21:56:57] src/tree/updater_prune.cc:74: tree pruning end, 1 roots, 20 extra nodes, 18 pruned nodes, max_depth=5\u001b[0m\n",
      "\u001b[34m[210]#011train-error:0.0696#011validation-error:0.1342\u001b[0m\n",
      "\u001b[34m[21:56:58] src/tree/updater_prune.cc:74: tree pruning end, 1 roots, 12 extra nodes, 2 pruned nodes, max_depth=5\u001b[0m\n",
      "\u001b[34m[211]#011train-error:0.070067#011validation-error:0.1348\u001b[0m\n",
      "\u001b[34m[21:56:59] src/tree/updater_prune.cc:74: tree pruning end, 1 roots, 10 extra nodes, 2 pruned nodes, max_depth=5\u001b[0m\n",
      "\u001b[34m[212]#011train-error:0.0698#011validation-error:0.1341\u001b[0m\n",
      "\u001b[34m[21:57:00] src/tree/updater_prune.cc:74: tree pruning end, 1 roots, 10 extra nodes, 2 pruned nodes, max_depth=5\u001b[0m\n",
      "\u001b[34m[213]#011train-error:0.069667#011validation-error:0.1345\u001b[0m\n",
      "\u001b[34m[21:57:02] src/tree/updater_prune.cc:74: tree pruning end, 1 roots, 14 extra nodes, 8 pruned nodes, max_depth=5\u001b[0m\n",
      "\u001b[34m[214]#011train-error:0.069733#011validation-error:0.134\u001b[0m\n",
      "\u001b[34m[21:57:03] src/tree/updater_prune.cc:74: tree pruning end, 1 roots, 10 extra nodes, 8 pruned nodes, max_depth=5\u001b[0m\n",
      "\u001b[34m[215]#011train-error:0.069533#011validation-error:0.1334\u001b[0m\n",
      "\u001b[34m[21:57:04] src/tree/updater_prune.cc:74: tree pruning end, 1 roots, 20 extra nodes, 14 pruned nodes, max_depth=5\u001b[0m\n",
      "\u001b[34m[216]#011train-error:0.069267#011validation-error:0.1335\u001b[0m\n",
      "\u001b[34m[21:57:06] src/tree/updater_prune.cc:74: tree pruning end, 1 roots, 12 extra nodes, 16 pruned nodes, max_depth=5\u001b[0m\n",
      "\u001b[34m[217]#011train-error:0.069067#011validation-error:0.134\u001b[0m\n",
      "\u001b[34m[21:57:07] src/tree/updater_prune.cc:74: tree pruning end, 1 roots, 20 extra nodes, 8 pruned nodes, max_depth=5\u001b[0m\n",
      "\u001b[34m[218]#011train-error:0.068733#011validation-error:0.1341\u001b[0m\n",
      "\u001b[34mStopping. Best iteration:\u001b[0m\n",
      "\u001b[34m[208]#011train-error:0.0696#011validation-error:0.1324\n",
      "\u001b[0m\n",
      "\n",
      "2020-05-14 21:57:30 Uploading - Uploading generated training model\n",
      "2020-05-14 21:57:30 Completed - Training job completed\n",
      "Training seconds: 352\n",
      "Billable seconds: 352\n"
     ]
    }
   ],
   "source": [
    "xgb.fit({'train': s3_input_train, 'validation': s3_input_validation})"
   ]
  },
  {
   "cell_type": "markdown",
   "metadata": {},
   "source": [
    "## Step 5: Testing the model\n",
    "\n",
    "Now that we've fit our XGBoost model, it's time to see how well it performs. To do this we will use SageMakers Batch Transform functionality. Batch Transform is a convenient way to perform inference on a large dataset in a way that is not realtime. That is, we don't necessarily need to use our model's results immediately and instead we can perform inference on a large number of samples. An example of this in industry might be performing an end of month report. This method of inference can also be useful to us as it means that we can perform inference on our entire test set. \n",
    "\n",
    "To perform a Batch Transformation we need to first create a transformer objects from our trained estimator object."
   ]
  },
  {
   "cell_type": "code",
   "execution_count": 24,
   "metadata": {},
   "outputs": [],
   "source": [
    "xgb_transformer = xgb.transformer(instance_count = 1, instance_type = 'ml.m4.xlarge')"
   ]
  },
  {
   "cell_type": "markdown",
   "metadata": {},
   "source": [
    "Next we actually perform the transform job. When doing so we need to make sure to specify the type of data we are sending so that it is serialized correctly in the background. In our case we are providing our model with csv data so we specify `text/csv`. Also, if the test data that we have provided is too large to process all at once then we need to specify how the data file should be split up. Since each line is a single entry in our data set we tell SageMaker that it can split the input on each line."
   ]
  },
  {
   "cell_type": "code",
   "execution_count": 25,
   "metadata": {},
   "outputs": [],
   "source": [
    "xgb_transformer.transform(test_location, content_type='text/csv', split_type='Line')"
   ]
  },
  {
   "cell_type": "markdown",
   "metadata": {},
   "source": [
    "Currently the transform job is running but it is doing so in the background. Since we wish to wait until the transform job is done and we would like a bit of feedback we can run the `wait()` method."
   ]
  },
  {
   "cell_type": "code",
   "execution_count": 26,
   "metadata": {},
   "outputs": [
    {
     "name": "stdout",
     "output_type": "stream",
     "text": [
      "....................\u001b[34mArguments: serve\u001b[0m\n",
      "\u001b[35mArguments: serve\u001b[0m\n",
      "\u001b[34m[2020-05-14 22:00:56 +0000] [1] [INFO] Starting gunicorn 19.7.1\u001b[0m\n",
      "\u001b[34m[2020-05-14 22:00:56 +0000] [1] [INFO] Listening at: http://0.0.0.0:8080 (1)\u001b[0m\n",
      "\u001b[34m[2020-05-14 22:00:56 +0000] [1] [INFO] Using worker: gevent\u001b[0m\n",
      "\u001b[34m[2020-05-14 22:00:56 +0000] [38] [INFO] Booting worker with pid: 38\u001b[0m\n",
      "\u001b[34m[2020-05-14 22:00:56 +0000] [39] [INFO] Booting worker with pid: 39\u001b[0m\n",
      "\u001b[34m[2020-05-14:22:00:56:INFO] Model loaded successfully for worker : 38\u001b[0m\n",
      "\u001b[34m[2020-05-14 22:00:56 +0000] [40] [INFO] Booting worker with pid: 40\u001b[0m\n",
      "\u001b[34m[2020-05-14:22:00:56:INFO] Model loaded successfully for worker : 39\u001b[0m\n",
      "\u001b[34m[2020-05-14 22:00:56 +0000] [41] [INFO] Booting worker with pid: 41\u001b[0m\n",
      "\u001b[34m[2020-05-14:22:00:56:INFO] Model loaded successfully for worker : 40\u001b[0m\n",
      "\u001b[34m[2020-05-14:22:00:56:INFO] Model loaded successfully for worker : 41\u001b[0m\n",
      "\u001b[35m[2020-05-14 22:00:56 +0000] [1] [INFO] Starting gunicorn 19.7.1\u001b[0m\n",
      "\u001b[35m[2020-05-14 22:00:56 +0000] [1] [INFO] Listening at: http://0.0.0.0:8080 (1)\u001b[0m\n",
      "\u001b[35m[2020-05-14 22:00:56 +0000] [1] [INFO] Using worker: gevent\u001b[0m\n",
      "\u001b[35m[2020-05-14 22:00:56 +0000] [38] [INFO] Booting worker with pid: 38\u001b[0m\n",
      "\u001b[35m[2020-05-14 22:00:56 +0000] [39] [INFO] Booting worker with pid: 39\u001b[0m\n",
      "\u001b[35m[2020-05-14:22:00:56:INFO] Model loaded successfully for worker : 38\u001b[0m\n",
      "\u001b[35m[2020-05-14 22:00:56 +0000] [40] [INFO] Booting worker with pid: 40\u001b[0m\n",
      "\u001b[35m[2020-05-14:22:00:56:INFO] Model loaded successfully for worker : 39\u001b[0m\n",
      "\u001b[35m[2020-05-14 22:00:56 +0000] [41] [INFO] Booting worker with pid: 41\u001b[0m\n",
      "\u001b[35m[2020-05-14:22:00:56:INFO] Model loaded successfully for worker : 40\u001b[0m\n",
      "\u001b[35m[2020-05-14:22:00:56:INFO] Model loaded successfully for worker : 41\u001b[0m\n",
      "\u001b[34m[2020-05-14:22:01:08:INFO] Determined delimiter of CSV input is ','\u001b[0m\n",
      "\u001b[35m[2020-05-14:22:01:08:INFO] Determined delimiter of CSV input is ','\u001b[0m\n",
      "\u001b[34m[2020-05-14:22:01:09:INFO] Sniff delimiter as ','\u001b[0m\n",
      "\u001b[34m[2020-05-14:22:01:09:INFO] Determined delimiter of CSV input is ','\u001b[0m\n",
      "\u001b[34m[2020-05-14:22:01:09:INFO] Sniff delimiter as ','\u001b[0m\n",
      "\u001b[34m[2020-05-14:22:01:09:INFO] Determined delimiter of CSV input is ','\u001b[0m\n",
      "\u001b[34m[2020-05-14:22:01:10:INFO] Sniff delimiter as ','\u001b[0m\n",
      "\u001b[34m[2020-05-14:22:01:10:INFO] Determined delimiter of CSV input is ','\u001b[0m\n",
      "\u001b[35m[2020-05-14:22:01:09:INFO] Sniff delimiter as ','\u001b[0m\n",
      "\u001b[35m[2020-05-14:22:01:09:INFO] Determined delimiter of CSV input is ','\u001b[0m\n",
      "\u001b[35m[2020-05-14:22:01:09:INFO] Sniff delimiter as ','\u001b[0m\n",
      "\u001b[35m[2020-05-14:22:01:09:INFO] Determined delimiter of CSV input is ','\u001b[0m\n",
      "\u001b[35m[2020-05-14:22:01:10:INFO] Sniff delimiter as ','\u001b[0m\n",
      "\u001b[35m[2020-05-14:22:01:10:INFO] Determined delimiter of CSV input is ','\u001b[0m\n",
      "\u001b[34m[2020-05-14:22:01:11:INFO] Sniff delimiter as ','\u001b[0m\n",
      "\u001b[34m[2020-05-14:22:01:11:INFO] Determined delimiter of CSV input is ','\u001b[0m\n",
      "\u001b[35m[2020-05-14:22:01:11:INFO] Sniff delimiter as ','\u001b[0m\n",
      "\u001b[35m[2020-05-14:22:01:11:INFO] Determined delimiter of CSV input is ','\u001b[0m\n",
      "\u001b[34m[2020-05-14:22:01:12:INFO] Sniff delimiter as ','\u001b[0m\n",
      "\u001b[34m[2020-05-14:22:01:12:INFO] Determined delimiter of CSV input is ','\u001b[0m\n",
      "\u001b[34m[2020-05-14:22:01:12:INFO] Sniff delimiter as ','\u001b[0m\n",
      "\u001b[34m[2020-05-14:22:01:12:INFO] Determined delimiter of CSV input is ','\u001b[0m\n",
      "\u001b[35m[2020-05-14:22:01:12:INFO] Sniff delimiter as ','\u001b[0m\n",
      "\u001b[35m[2020-05-14:22:01:12:INFO] Determined delimiter of CSV input is ','\u001b[0m\n",
      "\u001b[35m[2020-05-14:22:01:12:INFO] Sniff delimiter as ','\u001b[0m\n",
      "\u001b[35m[2020-05-14:22:01:12:INFO] Determined delimiter of CSV input is ','\u001b[0m\n",
      "\u001b[34m[2020-05-14:22:01:13:INFO] Sniff delimiter as ','\u001b[0m\n",
      "\u001b[34m[2020-05-14:22:01:13:INFO] Determined delimiter of CSV input is ','\u001b[0m\n",
      "\u001b[34m[2020-05-14:22:01:13:INFO] Sniff delimiter as ','\u001b[0m\n",
      "\u001b[34m[2020-05-14:22:01:13:INFO] Determined delimiter of CSV input is ','\u001b[0m\n",
      "\u001b[34m[2020-05-14:22:01:13:INFO] Sniff delimiter as ','\u001b[0m\n",
      "\u001b[34m[2020-05-14:22:01:13:INFO] Determined delimiter of CSV input is ','\u001b[0m\n",
      "\u001b[35m[2020-05-14:22:01:13:INFO] Sniff delimiter as ','\u001b[0m\n",
      "\u001b[35m[2020-05-14:22:01:13:INFO] Determined delimiter of CSV input is ','\u001b[0m\n",
      "\u001b[35m[2020-05-14:22:01:13:INFO] Sniff delimiter as ','\u001b[0m\n",
      "\u001b[35m[2020-05-14:22:01:13:INFO] Determined delimiter of CSV input is ','\u001b[0m\n",
      "\u001b[35m[2020-05-14:22:01:13:INFO] Sniff delimiter as ','\u001b[0m\n",
      "\u001b[35m[2020-05-14:22:01:13:INFO] Determined delimiter of CSV input is ','\u001b[0m\n",
      "\u001b[34m[2020-05-14:22:01:15:INFO] Sniff delimiter as ','\u001b[0m\n",
      "\u001b[34m[2020-05-14:22:01:15:INFO] Determined delimiter of CSV input is ','\u001b[0m\n",
      "\u001b[34m[2020-05-14:22:01:15:INFO] Sniff delimiter as ','\u001b[0m\n",
      "\u001b[34m[2020-05-14:22:01:15:INFO] Determined delimiter of CSV input is ','\u001b[0m\n",
      "\u001b[35m[2020-05-14:22:01:15:INFO] Sniff delimiter as ','\u001b[0m\n",
      "\u001b[35m[2020-05-14:22:01:15:INFO] Determined delimiter of CSV input is ','\u001b[0m\n",
      "\u001b[35m[2020-05-14:22:01:15:INFO] Sniff delimiter as ','\u001b[0m\n",
      "\u001b[35m[2020-05-14:22:01:15:INFO] Determined delimiter of CSV input is ','\u001b[0m\n",
      "\u001b[32m2020-05-14T22:01:03.588:[sagemaker logs]: MaxConcurrentTransforms=4, MaxPayloadInMB=6, BatchStrategy=MULTI_RECORD\u001b[0m\n",
      "\u001b[34m[2020-05-14:22:01:16:INFO] Sniff delimiter as ','\u001b[0m\n",
      "\u001b[34m[2020-05-14:22:01:16:INFO] Determined delimiter of CSV input is ','\u001b[0m\n",
      "\u001b[34m[2020-05-14:22:01:16:INFO] Sniff delimiter as ','\u001b[0m\n",
      "\u001b[34m[2020-05-14:22:01:16:INFO] Determined delimiter of CSV input is ','\u001b[0m\n",
      "\u001b[35m[2020-05-14:22:01:16:INFO] Sniff delimiter as ','\u001b[0m\n",
      "\u001b[35m[2020-05-14:22:01:16:INFO] Determined delimiter of CSV input is ','\u001b[0m\n",
      "\u001b[35m[2020-05-14:22:01:16:INFO] Sniff delimiter as ','\u001b[0m\n",
      "\u001b[35m[2020-05-14:22:01:16:INFO] Determined delimiter of CSV input is ','\u001b[0m\n",
      "\u001b[34m[2020-05-14:22:01:18:INFO] Sniff delimiter as ','\u001b[0m\n",
      "\u001b[34m[2020-05-14:22:01:18:INFO] Determined delimiter of CSV input is ','\u001b[0m\n",
      "\u001b[34m[2020-05-14:22:01:19:INFO] Sniff delimiter as ','\u001b[0m\n",
      "\u001b[34m[2020-05-14:22:01:19:INFO] Determined delimiter of CSV input is ','\u001b[0m\n",
      "\u001b[34m[2020-05-14:22:01:19:INFO] Sniff delimiter as ','\u001b[0m\n",
      "\u001b[34m[2020-05-14:22:01:19:INFO] Determined delimiter of CSV input is ','\u001b[0m\n",
      "\u001b[34m[2020-05-14:22:01:19:INFO] Sniff delimiter as ','\u001b[0m\n",
      "\u001b[34m[2020-05-14:22:01:19:INFO] Determined delimiter of CSV input is ','\u001b[0m\n",
      "\u001b[35m[2020-05-14:22:01:18:INFO] Sniff delimiter as ','\u001b[0m\n",
      "\u001b[35m[2020-05-14:22:01:18:INFO] Determined delimiter of CSV input is ','\u001b[0m\n",
      "\u001b[35m[2020-05-14:22:01:19:INFO] Sniff delimiter as ','\u001b[0m\n",
      "\u001b[35m[2020-05-14:22:01:19:INFO] Determined delimiter of CSV input is ','\u001b[0m\n",
      "\u001b[35m[2020-05-14:22:01:19:INFO] Sniff delimiter as ','\u001b[0m\n",
      "\u001b[35m[2020-05-14:22:01:19:INFO] Determined delimiter of CSV input is ','\u001b[0m\n",
      "\u001b[35m[2020-05-14:22:01:19:INFO] Sniff delimiter as ','\u001b[0m\n",
      "\u001b[35m[2020-05-14:22:01:19:INFO] Determined delimiter of CSV input is ','\u001b[0m\n",
      "\u001b[34m[2020-05-14:22:01:21:INFO] Sniff delimiter as ','\u001b[0m\n",
      "\u001b[34m[2020-05-14:22:01:21:INFO] Determined delimiter of CSV input is ','\u001b[0m\n",
      "\u001b[34m[2020-05-14:22:01:21:INFO] Sniff delimiter as ','\u001b[0m\n",
      "\u001b[34m[2020-05-14:22:01:21:INFO] Determined delimiter of CSV input is ','\u001b[0m\n",
      "\u001b[35m[2020-05-14:22:01:21:INFO] Sniff delimiter as ','\u001b[0m\n",
      "\u001b[35m[2020-05-14:22:01:21:INFO] Determined delimiter of CSV input is ','\u001b[0m\n",
      "\u001b[35m[2020-05-14:22:01:21:INFO] Sniff delimiter as ','\u001b[0m\n",
      "\u001b[35m[2020-05-14:22:01:21:INFO] Determined delimiter of CSV input is ','\u001b[0m\n",
      "\u001b[34m[2020-05-14:22:01:21:INFO] Sniff delimiter as ','\u001b[0m\n",
      "\u001b[34m[2020-05-14:22:01:21:INFO] Determined delimiter of CSV input is ','\u001b[0m\n",
      "\u001b[34m[2020-05-14:22:01:21:INFO] Sniff delimiter as ','\u001b[0m\n",
      "\u001b[34m[2020-05-14:22:01:21:INFO] Determined delimiter of CSV input is ','\u001b[0m\n",
      "\u001b[35m[2020-05-14:22:01:21:INFO] Sniff delimiter as ','\u001b[0m\n",
      "\u001b[35m[2020-05-14:22:01:21:INFO] Determined delimiter of CSV input is ','\u001b[0m\n",
      "\u001b[35m[2020-05-14:22:01:21:INFO] Sniff delimiter as ','\u001b[0m\n",
      "\u001b[35m[2020-05-14:22:01:21:INFO] Determined delimiter of CSV input is ','\u001b[0m\n",
      "\u001b[34m[2020-05-14:22:01:23:INFO] Sniff delimiter as ','\u001b[0m\n",
      "\u001b[34m[2020-05-14:22:01:23:INFO] Determined delimiter of CSV input is ','\u001b[0m\n",
      "\u001b[34m[2020-05-14:22:01:23:INFO] Sniff delimiter as ','\u001b[0m\n",
      "\u001b[34m[2020-05-14:22:01:23:INFO] Determined delimiter of CSV input is ','\u001b[0m\n",
      "\u001b[34m[2020-05-14:22:01:24:INFO] Sniff delimiter as ','\u001b[0m\n",
      "\u001b[34m[2020-05-14:22:01:24:INFO] Determined delimiter of CSV input is ','\u001b[0m\n",
      "\u001b[34m[2020-05-14:22:01:24:INFO] Sniff delimiter as ','\u001b[0m\n",
      "\u001b[34m[2020-05-14:22:01:24:INFO] Determined delimiter of CSV input is ','\u001b[0m\n",
      "\u001b[35m[2020-05-14:22:01:23:INFO] Sniff delimiter as ','\u001b[0m\n",
      "\u001b[35m[2020-05-14:22:01:23:INFO] Determined delimiter of CSV input is ','\u001b[0m\n",
      "\u001b[35m[2020-05-14:22:01:23:INFO] Sniff delimiter as ','\u001b[0m\n",
      "\u001b[35m[2020-05-14:22:01:23:INFO] Determined delimiter of CSV input is ','\u001b[0m\n",
      "\u001b[35m[2020-05-14:22:01:24:INFO] Sniff delimiter as ','\u001b[0m\n",
      "\u001b[35m[2020-05-14:22:01:24:INFO] Determined delimiter of CSV input is ','\u001b[0m\n",
      "\u001b[35m[2020-05-14:22:01:24:INFO] Sniff delimiter as ','\u001b[0m\n",
      "\u001b[35m[2020-05-14:22:01:24:INFO] Determined delimiter of CSV input is ','\u001b[0m\n",
      "\u001b[34m[2020-05-14:22:01:26:INFO] Sniff delimiter as ','\u001b[0m\n",
      "\u001b[34m[2020-05-14:22:01:26:INFO] Determined delimiter of CSV input is ','\u001b[0m\n",
      "\u001b[34m[2020-05-14:22:01:26:INFO] Sniff delimiter as ','\u001b[0m\n",
      "\u001b[34m[2020-05-14:22:01:26:INFO] Determined delimiter of CSV input is ','\u001b[0m\n",
      "\u001b[35m[2020-05-14:22:01:26:INFO] Sniff delimiter as ','\u001b[0m\n",
      "\u001b[35m[2020-05-14:22:01:26:INFO] Determined delimiter of CSV input is ','\u001b[0m\n",
      "\u001b[35m[2020-05-14:22:01:26:INFO] Sniff delimiter as ','\u001b[0m\n",
      "\u001b[35m[2020-05-14:22:01:26:INFO] Determined delimiter of CSV input is ','\u001b[0m\n"
     ]
    },
    {
     "name": "stdout",
     "output_type": "stream",
     "text": [
      "\n",
      "\u001b[34m[2020-05-14:22:01:28:INFO] Sniff delimiter as ','\u001b[0m\n",
      "\u001b[34m[2020-05-14:22:01:28:INFO] Determined delimiter of CSV input is ','\u001b[0m\n",
      "\u001b[34m[2020-05-14:22:01:28:INFO] Sniff delimiter as ','\u001b[0m\n",
      "\u001b[34m[2020-05-14:22:01:28:INFO] Determined delimiter of CSV input is ','\u001b[0m\n",
      "\u001b[34m[2020-05-14:22:01:28:INFO] Sniff delimiter as ','\u001b[0m\n",
      "\u001b[34m[2020-05-14:22:01:28:INFO] Determined delimiter of CSV input is ','\u001b[0m\n",
      "\u001b[35m[2020-05-14:22:01:28:INFO] Sniff delimiter as ','\u001b[0m\n",
      "\u001b[35m[2020-05-14:22:01:28:INFO] Determined delimiter of CSV input is ','\u001b[0m\n",
      "\u001b[35m[2020-05-14:22:01:28:INFO] Sniff delimiter as ','\u001b[0m\n",
      "\u001b[35m[2020-05-14:22:01:28:INFO] Determined delimiter of CSV input is ','\u001b[0m\n",
      "\u001b[35m[2020-05-14:22:01:28:INFO] Sniff delimiter as ','\u001b[0m\n",
      "\u001b[35m[2020-05-14:22:01:28:INFO] Determined delimiter of CSV input is ','\u001b[0m\n"
     ]
    }
   ],
   "source": [
    "xgb_transformer.wait()"
   ]
  },
  {
   "cell_type": "markdown",
   "metadata": {},
   "source": [
    "Now the transform job has executed and the result, the estimated sentiment of each review, has been saved on S3. Since we would rather work on this file locally we can perform a bit of notebook magic to copy the file to the `data_dir`."
   ]
  },
  {
   "cell_type": "code",
   "execution_count": 27,
   "metadata": {},
   "outputs": [
    {
     "name": "stdout",
     "output_type": "stream",
     "text": [
      "Completed 256.0 KiB/370.7 KiB (3.7 MiB/s) with 1 file(s) remaining\r",
      "Completed 370.7 KiB/370.7 KiB (5.3 MiB/s) with 1 file(s) remaining\r",
      "download: s3://sagemaker-us-east-2-577314450857/xgboost-2020-05-14-21-57-48-598/test.csv.out to ../data/sentiment_web_app/test.csv.out\r\n"
     ]
    }
   ],
   "source": [
    "!aws s3 cp --recursive $xgb_transformer.output_path $data_dir"
   ]
  },
  {
   "cell_type": "markdown",
   "metadata": {},
   "source": [
    "The last step is now to read in the output from our model, convert the output to something a little more usable, in this case we want the sentiment to be either `1` (positive) or `0` (negative), and then compare to the ground truth labels."
   ]
  },
  {
   "cell_type": "code",
   "execution_count": 28,
   "metadata": {},
   "outputs": [],
   "source": [
    "predictions = pd.read_csv(os.path.join(data_dir, 'test.csv.out'), header=None)\n",
    "predictions = [round(num) for num in predictions.squeeze().values]"
   ]
  },
  {
   "cell_type": "code",
   "execution_count": 29,
   "metadata": {},
   "outputs": [
    {
     "data": {
      "text/plain": [
       "0.86356"
      ]
     },
     "execution_count": 29,
     "metadata": {},
     "output_type": "execute_result"
    }
   ],
   "source": [
    "from sklearn.metrics import accuracy_score\n",
    "accuracy_score(test_y, predictions)"
   ]
  },
  {
   "cell_type": "markdown",
   "metadata": {},
   "source": [
    "## Step 6: Deploying the model\n",
    "\n",
    "Once we construct and fit our model, SageMaker stores the resulting model artifacts and we can use those to deploy an endpoint (inference code). To see this, look in the SageMaker console and you should see that a model has been created along with a link to the S3 location where the model artifacts have been stored.\n",
    "\n",
    "Deploying an endpoint is a lot like training the model with a few important differences. The first is that a deployed model doesn't change the model artifacts, so as you send it various testing instances the model won't change. Another difference is that since we aren't performing a fixed computation, as we were in the training step or while performing a batch transform, the compute instance that gets started stays running until we tell it to stop. This is important to note as if we forget and leave it running we will be charged the entire time.\n",
    "\n",
    "In other words **If you are no longer using a deployed endpoint, shut it down!**"
   ]
  },
  {
   "cell_type": "code",
   "execution_count": 30,
   "metadata": {},
   "outputs": [
    {
     "name": "stderr",
     "output_type": "stream",
     "text": [
      "WARNING:sagemaker:Using already existing model: xgboost-2020-05-14-21-49-31-471\n"
     ]
    },
    {
     "name": "stdout",
     "output_type": "stream",
     "text": [
      "-------------!"
     ]
    }
   ],
   "source": [
    "xgb_predictor = xgb.deploy(initial_instance_count = 1, instance_type = 'ml.m4.xlarge')"
   ]
  },
  {
   "cell_type": "markdown",
   "metadata": {},
   "source": [
    "### Testing the model (again)\n",
    "\n",
    "Now that we have deployed our endpoint, we can send the testing data to it and get back the inference results. We already did this earlier using the batch transform functionality of SageMaker, however, we will test our model again using the newly deployed endpoint so that we can make sure that it works properly and to get a bit of a feel for how the endpoint works.\n",
    "\n",
    "When using the created endpoint it is important to know that we are limited in the amount of information we can send in each call so we need to break the testing data up into chunks and then send each chunk. Also, we need to serialize our data before we send it to the endpoint to ensure that our data is transmitted properly. Fortunately, SageMaker can do the serialization part for us provided we tell it the format of our data."
   ]
  },
  {
   "cell_type": "code",
   "execution_count": 31,
   "metadata": {},
   "outputs": [],
   "source": [
    "from sagemaker.predictor import csv_serializer\n",
    "\n",
    "# We need to tell the endpoint what format the data we are sending is in so that SageMaker can perform the serialization.\n",
    "xgb_predictor.content_type = 'text/csv'\n",
    "xgb_predictor.serializer = csv_serializer"
   ]
  },
  {
   "cell_type": "code",
   "execution_count": 32,
   "metadata": {},
   "outputs": [],
   "source": [
    "# We split the data into chunks and send each chunk seperately, accumulating the results.\n",
    "\n",
    "def predict(data, rows=512):\n",
    "    split_array = np.array_split(data, int(data.shape[0] / float(rows) + 1))\n",
    "    predictions = ''\n",
    "    for array in split_array:\n",
    "        predictions = ','.join([predictions, xgb_predictor.predict(array).decode('utf-8')])\n",
    "    \n",
    "    return np.fromstring(predictions[1:], sep=',')"
   ]
  },
  {
   "cell_type": "code",
   "execution_count": 33,
   "metadata": {},
   "outputs": [],
   "source": [
    "test_X = pd.read_csv(os.path.join(data_dir, 'test.csv'), header=None).values\n",
    "\n",
    "predictions = predict(test_X)\n",
    "predictions = [round(num) for num in predictions]"
   ]
  },
  {
   "cell_type": "markdown",
   "metadata": {},
   "source": [
    "Lastly, we check to see what the accuracy of our model is."
   ]
  },
  {
   "cell_type": "code",
   "execution_count": 34,
   "metadata": {},
   "outputs": [
    {
     "data": {
      "text/plain": [
       "0.86356"
      ]
     },
     "execution_count": 34,
     "metadata": {},
     "output_type": "execute_result"
    }
   ],
   "source": [
    "from sklearn.metrics import accuracy_score\n",
    "accuracy_score(test_y, predictions)"
   ]
  },
  {
   "cell_type": "markdown",
   "metadata": {},
   "source": [
    "And the results here should agree with the model testing that we did earlier using the batch transform job.\n",
    "\n",
    "### Cleaning up\n",
    "\n",
    "Now that we've determined that deploying our model works as expected, we are going to shut it down. Remember that the longer the endpoint is left running, the greater the cost and since we have a bit more work to do before we are able to use our endpoint with our simple web app, we should shut everything down."
   ]
  },
  {
   "cell_type": "code",
   "execution_count": null,
   "metadata": {},
   "outputs": [],
   "source": [
    "xgb_predictor.delete_endpoint()"
   ]
  },
  {
   "cell_type": "markdown",
   "metadata": {},
   "source": [
    "## Step 7: Putting our model to work\n",
    "\n",
    "As we've mentioned a few times now, our goal is to have our model deployed and then access it using a very simple web app. The intent is for this web app to take some user submitted data (a review), send it off to our endpoint (the model) and then display the result.\n",
    "\n",
    "However, there is a small catch. Currently the only way we can access the endpoint to send it data is using the SageMaker API. We can, if we wish, expose the actual URL that our model's endpoint is receiving data from, however, if we just send it data ourselves we will not get anything in return. This is because the endpoint created by SageMaker requires the entity accessing it have the correct permissions. So, we would need to somehow authenticate our web app with AWS.\n",
    "\n",
    "Having a website that authenticates to AWS seems a bit beyond the scope of this lesson so we will opt for an alternative approach. Namely, we will create a new endpoint which does not require authentication and which acts as a proxy for the SageMaker endpoint.\n",
    "\n",
    "As an additional constraint, we will try to avoid doing any data processing in the web app itself. Remember that when we constructed and tested our model we started with a movie review, then we simplified it by removing any html formatting and punctuation, then we constructed a bag of words embedding and the resulting vector is what we sent to our model. All of this needs to be done to our user input as well.\n",
    "\n",
    "Fortunately we can do all of this data processing in the backend, using Amazon's Lambda service.\n",
    "\n",
    "<img src=\"Web App Diagram.svg\">\n",
    "\n",
    "The diagram above gives an overview of how the various services will work together. On the far right is the model which we trained above and which will be deployed using SageMaker. On the far left is our web app that collects a user's movie review, sends it off and expects a positive or negative sentiment in return.\n",
    "\n",
    "In the middle is where some of the magic happens. We will construct a Lambda function, which you can think of as a straightforward Python function that can be executed whenever a specified event occurs. This Python function will do the data processing we need to perform on a user submitted review. In addition, we will give this function permission to send and recieve data from a SageMaker endpoint.\n",
    "\n",
    "Lastly, the method we will use to execute the Lambda function is a new endpoint that we will create using API Gateway. This endpoint will be a url that listens for data to be sent to it. Once it gets some data it will pass that data on to the Lambda function and then return whatever the Lambda function returns. Essentially it will act as an interface that lets our web app communicate with the Lambda function.\n",
    "\n",
    "### Processing a single review\n",
    "\n",
    "For now, suppose we are given a movie review by our user in the form of a string, like so:"
   ]
  },
  {
   "cell_type": "code",
   "execution_count": 35,
   "metadata": {},
   "outputs": [],
   "source": [
    "test_review = \"Nothing but a disgusting materialistic pageant of glistening abed remote control greed zombies, totally devoid of any heart or heat. A romantic comedy that has zero romantic chemestry and zero laughs!\""
   ]
  },
  {
   "cell_type": "markdown",
   "metadata": {},
   "source": [
    "How do we go from this string to the bag of words feature vector that is expected by our model?\n",
    "\n",
    "If we recall at the beginning of this notebook, the first step is to remove any unnecessary characters using the `review_to_words` method. Remember that we intentionally did this in a very simplistic way. This is because we are going to have to copy this method to our (eventual) Lambda function (we will go into more detail later) and this means it needs to be rather simplistic."
   ]
  },
  {
   "cell_type": "code",
   "execution_count": 36,
   "metadata": {},
   "outputs": [
    {
     "name": "stdout",
     "output_type": "stream",
     "text": [
      "nothing but a disgusting materialistic pageant of glistening abed remote control greed zombies totally devoid of any heart or heat a romantic comedy that has zero romantic chemestry and zero laughs\n"
     ]
    }
   ],
   "source": [
    "test_words = review_to_words(test_review)\n",
    "print(test_words)"
   ]
  },
  {
   "cell_type": "markdown",
   "metadata": {},
   "source": [
    "Next, we need to construct a bag of words embedding of the `test_words` string. To do this, remember that a bag of words embedding uses a `vocabulary` consisting of the most frequently appearing words in a set of documents. Then, for each word in the vocabulary we record the number of times that word appears in `test_words`. We constructed the `vocabulary` earlier using the training set for our problem so encoding `test_words` is relatively straightforward."
   ]
  },
  {
   "cell_type": "code",
   "execution_count": 37,
   "metadata": {},
   "outputs": [],
   "source": [
    "def bow_encoding(words, vocabulary):\n",
    "    bow = [0] * len(vocabulary) # Start by setting the count for each word in the vocabulary to zero.\n",
    "    for word in words.split():  # For each word in the string\n",
    "        if word in vocabulary:  # If the word is one that occurs in the vocabulary, increase its count.\n",
    "            bow[vocabulary[word]] += 1\n",
    "    return bow"
   ]
  },
  {
   "cell_type": "code",
   "execution_count": 38,
   "metadata": {},
   "outputs": [
    {
     "name": "stdout",
     "output_type": "stream",
     "text": [
      "[0, 0, 0, 0, 0, 0, 0, 0, 0, 0, 0, 0, 0, 0, 0, 0, 0, 0, 0, 0, 0, 0, 0, 0, 0, 0, 0, 0, 0, 0, 0, 0, 0, 0, 0, 0, 0, 0, 0, 0, 0, 0, 0, 0, 0, 0, 0, 0, 0, 0, 0, 0, 0, 0, 0, 0, 0, 0, 0, 0, 0, 0, 0, 0, 0, 0, 0, 0, 0, 0, 0, 0, 0, 0, 0, 0, 0, 0, 0, 0, 0, 0, 0, 0, 0, 0, 0, 0, 0, 0, 0, 0, 0, 0, 0, 0, 0, 0, 0, 0, 0, 0, 0, 0, 0, 0, 0, 0, 0, 0, 0, 0, 0, 0, 0, 0, 0, 0, 0, 0, 0, 0, 0, 0, 0, 0, 0, 0, 0, 0, 0, 0, 0, 0, 0, 0, 0, 0, 0, 0, 0, 0, 0, 0, 0, 0, 0, 0, 0, 0, 0, 0, 0, 0, 0, 0, 0, 0, 0, 0, 0, 0, 0, 0, 0, 0, 0, 0, 0, 0, 0, 0, 0, 0, 0, 0, 0, 0, 0, 0, 0, 0, 0, 0, 0, 0, 0, 0, 0, 0, 0, 0, 0, 0, 0, 0, 0, 0, 0, 0, 0, 0, 0, 0, 0, 0, 0, 0, 0, 0, 0, 0, 0, 0, 0, 0, 0, 0, 0, 0, 0, 0, 0, 0, 0, 0, 1, 0, 0, 0, 0, 0, 0, 0, 0, 0, 0, 0, 0, 0, 0, 0, 0, 0, 0, 0, 0, 0, 0, 0, 0, 0, 0, 0, 0, 0, 1, 0, 0, 0, 0, 0, 0, 0, 0, 0, 0, 0, 0, 0, 0, 0, 0, 0, 0, 0, 0, 0, 0, 0, 0, 0, 0, 0, 0, 0, 0, 0, 0, 0, 0, 0, 0, 0, 0, 0, 0, 0, 0, 0, 0, 0, 0, 0, 0, 0, 0, 0, 0, 0, 0, 0, 0, 0, 0, 0, 0, 0, 0, 0, 0, 0, 0, 0, 0, 0, 0, 0, 0, 0, 0, 0, 0, 0, 0, 0, 0, 0, 0, 0, 0, 0, 0, 0, 0, 0, 0, 0, 0, 0, 0, 0, 0, 0, 0, 0, 0, 0, 0, 0, 0, 0, 0, 0, 0, 0, 0, 0, 0, 0, 0, 0, 0, 0, 0, 0, 0, 0, 0, 0, 0, 0, 0, 0, 0, 0, 0, 0, 0, 0, 0, 0, 0, 0, 0, 0, 0, 0, 0, 0, 0, 0, 0, 0, 0, 0, 0, 0, 0, 0, 0, 0, 0, 0, 0, 0, 0, 0, 0, 0, 0, 0, 0, 0, 0, 0, 0, 0, 0, 0, 0, 0, 0, 0, 0, 0, 0, 0, 0, 0, 0, 0, 0, 0, 0, 0, 0, 0, 0, 0, 0, 0, 0, 0, 0, 0, 0, 0, 0, 0, 0, 0, 0, 0, 0, 0, 0, 0, 0, 0, 0, 0, 0, 0, 0, 0, 0, 0, 0, 0, 0, 0, 0, 0, 0, 0, 0, 0, 0, 0, 0, 0, 0, 0, 0, 0, 0, 0, 0, 0, 0, 0, 0, 0, 0, 0, 0, 0, 0, 0, 0, 0, 0, 0, 0, 0, 0, 0, 0, 0, 0, 0, 0, 0, 0, 0, 0, 0, 0, 0, 0, 0, 0, 0, 0, 0, 0, 0, 0, 0, 0, 0, 0, 0, 0, 0, 0, 0, 0, 0, 0, 0, 0, 0, 0, 0, 0, 0, 0, 0, 0, 0, 0, 0, 0, 0, 0, 0, 0, 0, 0, 0, 0, 0, 0, 0, 0, 0, 0, 0, 0, 0, 0, 0, 0, 0, 0, 0, 0, 0, 0, 0, 0, 0, 0, 0, 0, 0, 0, 0, 0, 0, 0, 0, 0, 0, 0, 0, 0, 0, 0, 0, 0, 0, 0, 0, 0, 0, 0, 0, 0, 0, 0, 0, 0, 0, 0, 0, 0, 0, 0, 0, 0, 0, 0, 0, 1, 0, 0, 0, 0, 0, 0, 0, 0, 0, 0, 0, 0, 0, 0, 0, 0, 0, 0, 0, 0, 0, 0, 0, 0, 0, 0, 0, 0, 0, 0, 0, 0, 0, 0, 0, 0, 0, 0, 0, 0, 0, 0, 0, 0, 0, 0, 0, 0, 0, 0, 0, 0, 0, 0, 0, 0, 0, 0, 0, 0, 0, 0, 0, 0, 0, 0, 0, 0, 0, 0, 0, 0, 0, 0, 0, 0, 0, 0, 0, 0, 0, 0, 0, 0, 0, 0, 0, 0, 0, 0, 0, 0, 0, 0, 0, 0, 0, 0, 0, 0, 0, 0, 0, 0, 0, 0, 0, 0, 0, 0, 0, 0, 0, 0, 0, 0, 0, 0, 0, 0, 0, 0, 0, 0, 0, 0, 0, 0, 0, 0, 0, 0, 0, 0, 0, 0, 0, 0, 0, 0, 0, 0, 0, 0, 0, 0, 0, 0, 0, 0, 0, 0, 0, 0, 0, 0, 0, 0, 0, 0, 0, 0, 0, 0, 0, 0, 0, 0, 0, 0, 0, 0, 0, 0, 0, 0, 0, 0, 0, 0, 0, 0, 0, 0, 0, 0, 0, 0, 0, 0, 0, 0, 0, 0, 0, 0, 0, 0, 0, 0, 0, 0, 0, 0, 0, 0, 0, 0, 0, 0, 0, 0, 0, 0, 0, 0, 0, 0, 0, 0, 0, 0, 0, 0, 0, 0, 0, 0, 0, 0, 0, 0, 0, 0, 0, 0, 0, 0, 0, 0, 0, 0, 0, 0, 0, 0, 0, 0, 0, 0, 0, 0, 0, 1, 0, 0, 0, 0, 0, 0, 0, 0, 0, 0, 0, 0, 0, 0, 0, 0, 0, 0, 0, 0, 0, 0, 0, 0, 0, 0, 0, 0, 0, 0, 0, 0, 0, 0, 0, 0, 0, 0, 0, 0, 0, 0, 0, 0, 0, 0, 0, 0, 0, 0, 0, 0, 0, 0, 0, 0, 0, 0, 0, 0, 0, 0, 0, 0, 0, 0, 0, 0, 0, 0, 0, 0, 0, 0, 0, 0, 0, 0, 0, 0, 0, 0, 0, 0, 0, 0, 1, 0, 0, 0, 0, 0, 0, 0, 0, 0, 0, 0, 0, 0, 0, 0, 0, 0, 0, 0, 0, 0, 0, 0, 0, 0, 0, 0, 0, 0, 0, 0, 0, 0, 0, 0, 0, 0, 0, 0, 0, 0, 0, 0, 0, 0, 0, 0, 0, 0, 0, 0, 0, 0, 0, 0, 0, 0, 0, 0, 0, 0, 0, 0, 0, 0, 0, 0, 0, 0, 0, 0, 0, 0, 0, 0, 0, 0, 0, 0, 0, 0, 0, 0, 0, 0, 0, 0, 0, 0, 0, 0, 0, 0, 0, 0, 0, 0, 0, 0, 0, 0, 0, 0, 0, 0, 0, 0, 0, 0, 0, 0, 0, 0, 0, 0, 0, 0, 0, 0, 0, 0, 0, 0, 0, 0, 0, 0, 0, 0, 0, 0, 0, 0, 0, 0, 0, 0, 0, 0, 0, 0, 0, 0, 0, 0, 0, 0, 0, 0, 0, 0, 0, 0, 0, 0, 0, 0, 0, 0, 0, 0, 0, 0, 0, 0, 0, 0, 0, 0, 0, 0, 0, 0, 0, 0, 0, 0, 0, 0, 0, 0, 0, 0, 0, 0, 0, 0, 0, 0, 0, 0, 0, 0, 0, 0, 0, 0, 0, 0, 0, 0, 0, 0, 0, 0, 0, 0, 0, 0, 0, 0, 0, 0, 0, 0, 0, 0, 0, 0, 0, 0, 0, 0, 0, 0, 0, 0, 0, 0, 0, 0, 0, 0, 0, 0, 0, 0, 0, 0, 0, 0, 0, 0, 0, 0, 0, 0, 0, 0, 0, 0, 0, 1, 0, 0, 0, 0, 0, 0, 0, 0, 0, 0, 0, 0, 0, 0, 0, 0, 0, 0, 0, 0, 0, 0, 0, 0, 0, 0, 0, 0, 0, 0, 0, 0, 0, 0, 0, 0, 0, 0, 0, 0, 0, 0, 0, 0, 0, 0, 0, 0, 0, 0, 0, 0, 0, 0, 0, 1, 0, 0, 0, 0, 0, 0, 0, 0, 0, 0, 0, 0, 0, 0, 0, 0, 0, 0, 0, 0, 0, 0, 0, 0, 0, 0, 0, 0, 0, 0, 0, 0, 0, 0, 0, 0, 0, 0, 0, 0, 0, 0, 0, 0, 0, 0, 0, 0, 0, 0, 0, 0, 0, 0, 0, 0, 0, 0, 0, 0, 0, 0, 0, 0, 0, 0, 0, 0, 0, 0, 0, 0, 0, 0, 0, 0, 0, 0, 0, 0, 0, 0, 0, 0, 0, 0, 0, 0, 0, 0, 0, 0, 0, 0, 0, 0, 0, 0, 0, 0, 0, 0, 0, 0, 0, 0, 0, 0, 0, 0, 0, 0, 0, 0, 0, 0, 0, 0, 0, 0, 0, 0, 0, 0, 0, 0, 0, 0, 0, 0, 0, 0, 0, 0, 0, 0, 0, 0, 0, 0, 0, 0, 0, 0, 0, 0, 0, 0, 0, 0, 0, 0, 0, 0, 0, 0, 0, 0, 0, 0, 0, 0, 0, 0, 0, 0, 0, 0, 0, 0, 0, 0, 0, 0, 0, 0, 0, 0, 0, 0, 0, 0, 0, 0, 0, 0, 0, 0, 0, 0, 0, 0, 0, 0, 0, 0, 0, 0, 0, 0, 0, 0, 0, 0, 0, 0, 0, 0, 0, 0, 0, 0, 0, 0, 0, 0, 0, 0, 0, 0, 0, 0, 0, 0, 0, 0, 0, 0, 0, 0, 0, 0, 0, 0, 0, 0, 0, 0, 0, 0, 0, 0, 0, 0, 0, 0, 0, 0, 0, 0, 0, 0, 0, 0, 0, 0, 0, 0, 0, 0, 0, 0, 0, 0, 0, 0, 0, 0, 0, 0, 0, 0, 0, 0, 0, 0, 0, 0, 0, 0, 0, 0, 0, 0, 0, 0, 0, 0, 0, 0, 0, 0, 0, 0, 0, 0, 0, 0, 0, 0, 0, 0, 0, 0, 0, 0, 0, 0, 0, 0, 0, 0, 0, 0, 0, 0, 0, 0, 0, 0, 0, 0, 0, 0, 0, 0, 0, 0, 0, 0, 0, 0, 0, 0, 0, 0, 0, 0, 0, 0, 0, 0, 0, 0, 0, 0, 0, 0, 0, 0, 0, 0, 0, 0, 0, 0, 0, 0, 0, 0, 0, 0, 0, 0, 0, 0, 0, 0, 0, 0, 0, 0, 0, 0, 0, 0, 0, 0, 0, 0, 0, 0, 0, 0, 0, 0, 0, 0, 0, 0, 0, 0, 0, 0, 0, 0, 0, 0, 0, 0, 0, 0, 0, 0, 0, 0, 0, 0, 0, 0, 0, 0, 0, 0, 0, 0, 0, 0, 0, 0, 0, 0, 0, 0, 0, 0, 0, 0, 0, 0, 0, 0, 0, 0, 0, 0, 0, 0, 0, 0, 0, 0, 0, 0, 0, 0, 0, 0, 0, 0, 0, 0, 0, 0, 0, 0, 0, 0, 0, 0, 0, 0, 0, 0, 0, 0, 0, 0, 0, 0, 0, 0, 0, 0, 0, 0, 0, 0, 0, 0, 0, 0, 0, 0, 0, 0, 0, 0, 0, 0, 0, 0, 0, 0, 0, 0, 0, 0, 0, 0, 0, 0, 0, 0, 0, 0, 0, 0, 0, 0, 0, 0, 0, 0, 0, 0, 0, 0, 0, 0, 0, 0, 0, 0, 0, 0, 0, 0, 0, 0, 0, 0, 0, 0, 0, 0, 0, 0, 0, 0, 0, 0, 0, 0, 0, 0, 0, 0, 0, 0, 0, 0, 0, 0, 0, 0, 0, 0, 0, 0, 0, 0, 0, 0, 0, 0, 0, 0, 0, 0, 0, 0, 0, 0, 0, 0, 0, 0, 0, 0, 0, 0, 0, 0, 0, 0, 0, 0, 0, 0, 0, 0, 0, 0, 0, 0, 0, 0, 0, 0, 0, 0, 0, 0, 0, 0, 0, 0, 0, 0, 0, 0, 0, 0, 0, 0, 0, 0, 0, 0, 0, 0, 0, 0, 0, 0, 0, 0, 0, 0, 0, 0, 0, 0, 0, 0, 0, 0, 0, 0, 0, 0, 0, 0, 0, 0, 0, 0, 0, 0, 0, 0, 0, 0, 0, 0, 0, 0, 0, 0, 0, 0, 0, 0, 0, 0, 0, 0, 0, 0, 0, 0, 0, 0, 0, 0, 0, 0, 0, 0, 0, 1, 0, 0, 0, 0, 0, 0, 0, 0, 0, 0, 0, 0, 0, 0, 0, 0, 0, 0, 0, 0, 0, 0, 0, 0, 0, 0, 0, 0, 0, 0, 0, 0, 0, 0, 0, 0, 0, 0, 0, 0, 0, 0, 0, 0, 0, 0, 0, 0, 0, 0, 0, 0, 0, 0, 0, 0, 0, 0, 0, 0, 0, 0, 0, 0, 0, 0, 0, 0, 0, 0, 0, 0, 0, 0, 1, 0, 0, 0, 0, 0, 0, 0, 0, 0, 0, 0, 0, 0, 0, 0, 0, 0, 0, 0, 0, 1, 0, 0, 1, 0, 0, 0, 0, 0, 0, 0, 0, 0, 0, 0, 0, 0, 0, 0, 0, 0, 0, 0, 0, 0, 0, 0, 0, 0, 0, 0, 0, 0, 0, 0, 0, 0, 0, 0, 0, 0, 0, 0, 0, 0, 0, 0, 0, 0, 0, 0, 0, 0, 0, 0, 0, 0, 0, 0, 0, 0, 0, 0, 0, 0, 0, 0, 0, 0, 0, 0, 0, 0, 0, 0, 0, 0, 0, 0, 0, 0, 0, 0, 0, 0, 0, 0, 0, 0, 0, 0, 0, 0, 0, 0, 0, 0, 0, 0, 0, 0, 0, 0, 0, 0, 0, 0, 0, 0, 0, 0, 0, 0, 0, 0, 0, 0, 0, 0, 0, 0, 0, 0, 0, 0, 0, 0, 0, 0, 0, 0, 0, 0, 0, 0, 0, 0, 0, 0, 0, 0, 0, 0, 0, 0, 0, 0, 0, 0, 0, 0, 0, 0, 0, 0, 0, 0, 0, 0, 0, 0, 0, 0, 0, 0, 0, 0, 0, 0, 0, 0, 0, 0, 0, 0, 0, 0, 0, 0, 0, 0, 0, 0, 0, 0, 0, 0, 0, 0, 0, 0, 0, 0, 0, 0, 0, 0, 0, 0, 0, 0, 0, 0, 0, 0, 0, 0, 0, 0, 0, 0, 0, 0, 0, 0, 0, 0, 0, 0, 0, 0, 0, 0, 0, 0, 0, 0, 0, 0, 0, 0, 0, 0, 0, 0, 0, 0, 0, 0, 0, 0, 0, 0, 0, 0, 0, 0, 0, 0, 0, 0, 0, 0, 0, 0, 0, 0, 0, 0, 0, 0, 0, 0, 0, 0, 0, 0, 0, 0, 0, 0, 0, 0, 0, 0, 0, 0, 0, 0, 0, 0, 0, 0, 0, 0, 0, 0, 0, 0, 0, 0, 0, 0, 0, 0, 0, 0, 0, 0, 0, 0, 0, 0, 0, 0, 0, 0, 0, 0, 0, 0, 0, 0, 0, 0, 0, 0, 0, 0, 0, 0, 0, 0, 0, 0, 0, 0, 0, 0, 0, 0, 0, 0, 0, 0, 0, 0, 0, 0, 0, 0, 0, 0, 0, 0, 0, 0, 0, 0, 0, 0, 0, 0, 0, 0, 0, 0, 0, 0, 0, 0, 0, 0, 0, 0, 0, 0, 0, 0, 0, 0, 0, 0, 0, 0, 0, 0, 0, 0, 0, 0, 0, 0, 0, 0, 0, 0, 0, 0, 0, 0, 0, 0, 0, 0, 0, 0, 0, 0, 0, 0, 0, 0, 0, 0, 0, 0, 0, 0, 0, 0, 0, 0, 0, 0, 0, 0, 0, 0, 0, 0, 0, 0, 0, 0, 0, 0, 0, 0, 0, 0, 0, 0, 0, 0, 0, 0, 0, 0, 0, 0, 0, 0, 0, 0, 0, 0, 0, 0, 0, 0, 0, 0, 0, 0, 0, 0, 0, 0, 0, 0, 0, 0, 0, 0, 0, 0, 0, 0, 0, 1, 0, 0, 0, 0, 0, 0, 0, 0, 0, 0, 0, 0, 0, 0, 0, 0, 0, 0, 0, 0, 0, 0, 0, 0, 0, 0, 0, 0, 0, 0, 0, 0, 0, 0, 0, 0, 0, 0, 0, 0, 0, 0, 0, 0, 0, 0, 0, 0, 0, 0, 0, 0, 0, 0, 0, 0, 0, 0, 0, 0, 0, 0, 0, 0, 0, 0, 0, 0, 0, 0, 0, 0, 0, 0, 0, 0, 0, 0, 0, 0, 0, 0, 0, 0, 0, 0, 0, 0, 0, 0, 0, 0, 0, 0, 0, 0, 0, 0, 0, 0, 0, 0, 0, 0, 0, 0, 0, 0, 0, 0, 0, 0, 0, 0, 0, 0, 0, 0, 0, 0, 0, 0, 0, 0, 0, 0, 0, 0, 0, 0, 0, 0, 0, 0, 0, 0, 0, 0, 0, 0, 0, 0, 0, 0, 0, 0, 0, 0, 0, 0, 0, 0, 0, 0, 0, 0, 0, 0, 0, 0, 0, 0, 0, 0, 0, 0, 0, 0, 0, 0, 0, 0, 0, 0, 0, 0, 0, 0, 0, 0, 0, 0, 0, 0, 0, 0, 0, 0, 0, 0, 0, 0, 0, 0, 0, 0, 0, 0, 0, 0, 0, 0, 0, 0, 0, 0, 0, 0, 0, 0, 0, 0, 0, 0, 0, 0, 0, 0, 0, 0, 0, 0, 0, 0, 0, 0, 0, 0, 0, 0, 0, 0, 0, 0, 0, 0, 0, 0, 0, 0, 0, 0, 0, 0, 0, 0, 0, 0, 0, 0, 0, 0, 0, 0, 0, 0, 0, 0, 0, 0, 0, 0, 0, 0, 0, 0, 0, 0, 0, 0, 0, 0, 0, 0, 0, 0, 0, 0, 0, 0, 0, 0, 0, 0, 0, 0, 0, 0, 0, 0, 0, 0, 0, 0, 0, 0, 0, 0, 0, 0, 0, 0, 0, 0, 0, 0, 0, 0, 0, 0, 0, 0, 0, 0, 0, 0, 0, 0, 0, 0, 0, 0, 0, 0, 0, 0, 0, 0, 0, 0, 0, 0, 0, 0, 0, 0, 0, 0, 0, 0, 0, 0, 0, 0, 0, 0, 0, 0, 0, 0, 0, 0, 0, 0, 0, 0, 0, 0, 0, 0, 0, 0, 0, 0, 0, 0, 0, 0, 0, 0, 0, 0, 0, 0, 0, 0, 0, 0, 0, 0, 0, 0, 0, 0, 0, 0, 0, 0, 0, 0, 0, 0, 0, 0, 0, 0, 0, 0, 0, 0, 0, 0, 0, 0, 0, 0, 0, 0, 0, 0, 0, 0, 0, 0, 0, 0, 0, 0, 0, 0, 0, 0, 0, 0, 0, 0, 0, 0, 0, 0, 0, 0, 0, 0, 0, 0, 0, 0, 0, 0, 0, 0, 0, 0, 0, 0, 0, 0, 0, 0, 0, 0, 0, 0, 0, 0, 0, 0, 0, 0, 0, 0, 0, 0, 0, 0, 0, 0, 0, 0, 0, 0, 0, 0, 0, 0, 0, 0, 0, 0, 0, 0, 0, 0, 0, 0, 0, 0, 0, 0, 0, 0, 0, 0, 0, 0, 0, 0, 0, 0, 0, 0, 0, 0, 0, 0, 0, 0, 0, 0, 0, 0, 1, 0, 0, 0, 0, 0, 0, 0, 0, 0, 0, 0, 0, 0, 0, 0, 0, 0, 0, 0, 0, 0, 0, 0, 0, 0, 0, 0, 0, 0, 0, 0, 0, 0, 0, 0, 2, 0, 0, 0, 0, 0, 0, 0, 0, 0, 0, 0, 0, 0, 0, 0, 0, 0, 0, 0, 0, 0, 0, 0, 0, 0, 0, 0, 0, 0, 0, 0, 0, 0, 0, 0, 0, 0, 0, 0, 0, 1, 0, 0, 0, 0, 0, 0, 0, 0, 0, 0, 0, 0, 0, 0, 0, 0, 0, 0, 0, 0, 0, 0, 0, 0, 0, 0, 0, 0, 0, 0, 0, 0, 0, 0, 0, 0, 0, 0, 0, 0, 0, 0, 0, 0, 0, 0, 0, 0, 0, 0, 0, 0, 0, 0, 0, 0, 0, 0, 0, 0, 0, 0, 0, 0, 0, 0, 0, 0, 0, 0, 0, 0, 0, 0, 0, 0, 0, 0, 0, 0, 0, 0, 0, 0, 0, 0, 0, 0, 0, 0, 0, 0, 0, 0, 0, 0, 0, 0, 0, 0, 0, 0, 0, 0, 0, 0, 0, 0, 0, 0, 0, 0, 0, 0, 0, 0, 0, 0, 0, 0, 0, 0, 0, 0, 0, 0, 0, 0, 0, 0, 0, 0, 0, 0, 0, 0, 0, 0, 0, 0, 0, 0, 0, 0, 0, 0, 0, 0, 0, 0, 0, 0, 0, 0, 0, 0, 0, 0, 0, 0, 0, 0, 0, 0, 0, 0, 0, 0, 0, 0, 0, 0, 0, 0, 0, 0, 0, 0, 0, 0, 0, 0, 0, 0, 0, 0, 0, 0, 0, 0, 0, 0, 0, 0, 0, 0, 0, 0, 0, 0, 0, 0, 0, 0, 0, 0, 0, 0, 0, 0, 0, 0, 0, 0, 0, 0, 0, 0, 0, 0, 0, 0, 0, 0, 0, 0, 0, 0, 0, 0, 0, 0, 0, 0, 0, 0, 0, 0, 0, 0, 0, 0, 0, 0, 0, 0, 0, 0, 0, 0, 0, 0, 0, 0, 0, 0, 0, 0, 0, 0, 0, 0, 0, 0, 0, 0, 0, 0, 0, 0, 0, 0, 0, 0, 0, 0, 0, 0, 0, 0, 0, 0, 0, 0, 0, 0, 0, 0, 0, 0, 0, 0, 0, 0, 0, 0, 0, 0, 0, 0, 0, 0, 0, 0, 0, 0, 0, 0, 0, 0, 0, 0, 0, 0, 0, 0, 0, 0, 0, 0, 0, 0, 0, 0, 0, 0, 0, 0, 0, 0, 0, 0, 0, 0, 0, 0, 0, 0, 0, 0, 0, 0, 0, 0, 0, 0, 0, 0, 0, 0, 0, 0, 0, 0, 0, 0, 0, 0, 0, 0, 0, 0, 0, 0, 0, 0, 0, 0, 0, 0, 0, 0, 0, 0, 0, 0, 0, 0, 0, 0, 0, 0, 0, 0, 0, 0, 0, 0, 0, 0, 0, 0, 0, 0, 0, 0, 0, 0, 0, 0, 0, 0, 0, 0, 0, 0, 0, 0, 0, 0, 0, 0, 0, 0, 0, 0, 0, 0, 0, 0, 0, 0, 0, 0, 0, 0, 0, 0, 0, 0, 0, 0, 0, 0, 0, 0, 0, 0, 0, 0, 0, 0, 0, 0, 0, 0, 0, 0, 0, 0, 0, 0, 0, 0, 0, 0, 0, 0, 0, 0, 0, 0, 0, 0, 0, 0, 0, 0, 0, 0, 0, 0, 0, 0, 0, 0, 0, 0, 0, 0, 0, 0, 0, 0, 0, 0, 0, 0, 0, 0, 0, 0, 0, 0, 0, 0, 0, 1, 0, 0, 0, 0, 0, 0, 0, 0, 0, 0, 0, 0, 0, 0, 0, 0, 0, 0, 0, 0, 0, 0, 0, 0, 0, 0, 0, 0, 0, 0, 0, 0, 0, 0, 0, 0, 0, 0, 0, 0, 0, 0, 0, 0, 0, 0, 0, 0, 0, 0, 0, 0, 0, 0, 0, 0, 0, 0, 0, 0, 0, 0, 0, 0, 0, 0, 0, 0, 0, 0, 0, 0, 0, 0, 0, 0, 0, 0, 0, 0, 0, 0, 0, 0, 0, 0, 0, 0, 0, 0, 0, 0, 0, 0, 0, 0, 0, 0, 0, 0, 0, 0, 0, 0, 0, 0, 0, 0, 0, 0, 2, 0, 0, 0, 0, 0, 0, 0, 0, 0, 0, 0, 0, 0, 0, 0, 0, 0, 0, 0, 0, 0, 0, 0, 0, 0, 0, 0, 0, 0, 0, 0, 0, 0, 0, 0, 0, 0, 0, 0, 0, 0, 0, 0, 0, 0, 0, 0, 0, 0, 0, 0, 0, 0, 0, 0, 0, 0, 0, 0, 0, 0, 0, 0, 0, 0, 0, 0, 0, 0, 0, 0, 0, 0, 0, 0, 0, 0, 0, 0, 0, 0, 0, 0, 0, 0, 0, 0, 0, 0, 0, 0, 0, 0, 0, 0, 0, 0, 0, 0, 0, 0, 0, 0, 0, 0, 0, 0, 0, 0, 0, 0, 0, 0, 0, 0, 0, 0, 0, 0, 0, 0, 0, 0, 0, 0, 0, 0, 0, 0, 0, 0, 0, 0, 0, 0, 0, 0, 0, 0, 0, 0, 0, 0, 0, 0, 0, 0, 0, 0, 0, 0, 0, 0, 0, 0, 0, 0, 0, 0, 0, 0, 0, 0, 0, 0, 0, 0, 0, 0, 0, 0, 0, 0, 0, 0, 0, 0, 0, 0, 0, 0, 0, 0, 0, 0, 0, 0, 0, 0, 0, 0, 0, 0, 0, 0, 0, 0, 0, 0, 0, 0, 0, 0, 0, 0, 0, 0, 0, 0, 0, 0, 0, 0, 0, 0, 0, 0, 0, 0, 0, 0, 0, 0, 0, 0, 0, 0, 0, 0, 0, 0, 0, 0, 0, 0, 0, 0, 0, 0, 0, 0, 0, 0, 0, 0, 0, 0, 0, 0, 0, 0, 0, 0, 0, 0, 0, 0, 0, 0, 0, 0, 0, 0, 0, 0, 0, 0, 0, 0, 0, 0, 0, 0, 0, 0, 0, 0, 0, 0, 0, 0, 0, 0, 0, 0, 0, 0, 0, 0, 0, 0, 0, 0, 0, 0, 0, 0, 0, 0, 0, 0, 0, 0, 0, 0, 0, 0, 0, 0, 0, 0, 0, 0, 0, 0, 0, 0, 0, 0, 0, 0, 0, 0, 0, 0, 0, 0, 0, 0, 0, 0, 0, 0, 0, 0, 0, 0, 0, 0, 0, 0, 0, 0, 0, 0, 0, 0, 0, 0, 0, 0, 0, 0, 0, 0, 0, 0, 0, 0, 0, 0, 0, 0, 0, 0, 0, 0, 0, 0, 0, 0, 0, 0, 0, 0, 0, 0, 0, 0, 0, 0, 0, 0, 0, 0, 0, 0, 0, 0, 0, 0, 0, 0, 0, 0, 0, 0, 0, 0, 0, 0, 0, 0, 0, 0, 0, 0, 0, 0, 0, 0, 0, 0, 0, 0, 0, 0, 0, 0, 0, 0, 0, 0, 0, 0, 0, 0, 0, 0, 0, 0, 0, 0, 0, 0, 0, 0, 0, 0, 0, 0, 0, 0, 0, 0, 0, 0, 0, 0, 0, 0, 0, 0, 0, 0, 0, 0, 0, 0, 0, 0, 0, 0, 0, 0, 0, 0, 0, 0, 0, 0, 0, 0, 0, 0, 0, 0, 0, 0, 0, 0, 0, 0, 0, 0, 0, 0, 0, 0, 0, 0, 0, 0, 0, 0, 0, 0, 0, 0, 0, 0, 0, 0, 0, 0, 0, 0, 0, 0, 0, 0, 0, 0, 0, 0, 0, 0, 0, 0, 0, 0, 0, 0, 0, 0, 0, 0, 0, 0, 0, 0, 0, 0, 0, 0, 0, 0, 0, 0, 0, 0, 0, 0, 0, 0, 0, 0, 0, 0, 0, 0, 0, 0, 0, 0, 0, 0, 0, 0, 0, 0, 0, 0, 0, 0, 0, 0, 0, 0, 0, 0, 0, 0, 0, 0, 0, 0, 0, 0, 0, 0, 0, 0, 0, 0, 0, 0, 0, 0, 0, 0, 0, 0, 0, 0, 0, 0, 0, 0, 0, 0, 0, 0, 0, 0, 0, 0, 0, 0, 0, 0, 0, 0, 0, 0, 0, 0, 0, 0, 0, 0, 0, 0, 0, 0, 0, 0, 0, 0, 0, 0, 0, 0, 0, 0, 0, 0, 0, 0, 0, 0, 0, 0, 0, 0, 0, 0, 0, 0, 0, 0, 0, 0, 0, 0, 0, 0, 0, 0, 0, 0, 0, 0, 0, 0, 0, 0, 0, 0, 0, 0, 0, 0, 0, 0, 0, 0, 0, 0, 0, 0, 0, 0, 0, 0, 0, 0, 0, 0, 0, 1, 0, 0, 0, 0, 0, 0, 0, 0, 0, 0, 0, 0, 0, 0, 0, 0, 0, 0, 0, 0, 0, 0, 0, 0, 0, 0, 0, 0, 0, 0, 0, 0, 0, 0, 0, 0, 0, 0, 0, 0, 0, 0, 0, 0, 0, 0, 0, 0, 0, 0, 0, 0, 0, 0, 0, 0, 0, 0, 0, 0, 0, 0, 0, 0, 0, 0, 0, 0, 0, 0, 0, 0, 0, 0, 0, 0, 0, 0, 0, 0, 0, 0, 0, 0, 0, 0, 0, 0, 0, 0, 0, 0, 0, 0, 0, 0, 0, 0, 0, 0, 0, 0, 0, 0, 0, 0, 0, 1, 0, 0, 0, 0, 0, 0, 0, 0, 0, 0, 0, 0, 0, 0, 0, 0, 0, 0, 0, 0, 0, 0, 0, 0, 0, 0, 0, 0, 0, 0, 0, 0, 0, 0, 0, 0, 0, 0, 0, 0, 0, 0, 0, 0, 0, 0, 0, 0, 0, 0, 0, 0, 0, 0, 0, 0, 0, 0, 0, 0, 0, 0, 0, 0, 0, 0, 0, 0, 0, 0, 0, 0, 0, 0, 0, 0, 0, 0, 0, 0, 0, 0, 0, 0, 0, 0, 0, 0, 0, 0, 0, 0, 0, 0, 0, 0, 0, 0, 0, 0, 0, 0, 0, 0, 0, 0, 0, 0, 0, 0, 0, 0, 0, 0, 0, 0, 0, 0, 0, 0, 0, 0, 0, 0, 0, 0, 0, 0, 0, 0, 0, 0, 0, 0, 0, 0, 0, 0, 0, 0, 0, 0, 0, 0, 0, 0, 0, 0, 0, 0, 0, 0, 0, 0, 0, 0, 0, 0, 0, 0, 0, 0, 0, 0, 0, 0, 0, 0, 0, 0, 0, 0, 0, 0, 0, 0, 0, 0, 0, 0, 0, 0, 0, 0, 0, 0, 0, 0, 0, 0, 0, 0, 0, 0, 0, 0, 0, 0, 0, 0, 0, 0, 0, 0, 0, 0, 0, 0, 0, 0, 0, 0, 0, 0, 0, 0, 0, 0, 0, 0, 0, 0, 0, 0, 0, 0, 0, 0, 0, 0, 0, 0, 0, 0, 0, 0, 0, 0, 0, 0, 0, 0, 0, 0, 0, 0, 0, 0, 0, 0, 0, 0, 0, 0, 0, 0, 0, 0, 0, 0, 0, 0, 0, 0, 0, 0, 0, 0, 0, 0, 0, 0, 0, 0, 0, 0, 0, 0, 0, 0, 0, 0, 0, 0, 0, 0, 0, 0, 0, 0, 0, 0, 0, 0, 0, 0, 0, 0, 0, 0, 0, 0, 0, 0, 0, 0, 0, 0, 0, 0, 0, 0, 0, 0, 0, 0, 0, 0, 0, 0, 0, 0, 0, 0, 0, 0, 0, 0, 0, 0, 0, 0, 0, 0, 0, 0, 0, 0, 0, 0, 0, 0, 0, 0, 0, 0, 0, 0, 0, 0, 0, 0, 0, 0, 0, 0, 0, 0, 0, 0, 0, 0, 0, 0, 0, 0, 0, 0, 0, 0, 0, 0, 0, 0, 0, 0, 0, 0, 0, 0, 0, 0, 0, 0, 0, 0, 0, 0, 0, 0, 0, 0, 0, 0, 0, 0, 0, 0, 0, 0, 0, 0, 0, 0, 0, 0, 0, 0, 0, 0, 0, 0, 0, 0, 0, 0, 0, 0, 0, 0, 0, 0, 0, 0, 0, 0, 0, 0, 0, 0, 0, 0, 0, 0, 0, 0, 0, 0, 0, 0, 0, 0, 0, 0, 0, 0, 0, 0, 0, 0, 0, 0, 0, 0, 0, 0, 0, 0, 0, 0, 0, 0, 0, 2, 0, 1, 0]\n"
     ]
    }
   ],
   "source": [
    "test_bow = bow_encoding(test_words, vocabulary)\n",
    "print(test_bow)"
   ]
  },
  {
   "cell_type": "code",
   "execution_count": 39,
   "metadata": {},
   "outputs": [
    {
     "data": {
      "text/plain": [
       "5000"
      ]
     },
     "execution_count": 39,
     "metadata": {},
     "output_type": "execute_result"
    }
   ],
   "source": [
    "len(test_bow)"
   ]
  },
  {
   "cell_type": "markdown",
   "metadata": {},
   "source": [
    "So now we know how to construct a bag of words encoding of a user provided review, how to we send it to our endpoint? First, we need to start the endpoint back up."
   ]
  },
  {
   "cell_type": "code",
   "execution_count": null,
   "metadata": {},
   "outputs": [],
   "source": [
    "xgb_predictor = xgb.deploy(initial_instance_count = 1, instance_type = 'ml.m4.xlarge')"
   ]
  },
  {
   "cell_type": "markdown",
   "metadata": {},
   "source": [
    "At this point we could just do the same thing that we did earlier when we tested our deployed model and send `test_bow` to our endpoint using the `xgb_predictor` object. However, when we eventually construct our Lambda function we won't have access to this object, so how do we call a SageMaker endpoint?\n",
    "\n",
    "It turns out that Python functions that are used in Lambda have access to another Amazon library called `boto3`. This library provides an API for working with Amazon services, including SageMaker. To start with, we need to get a handle to the SageMaker runtime."
   ]
  },
  {
   "cell_type": "code",
   "execution_count": 40,
   "metadata": {},
   "outputs": [],
   "source": [
    "import boto3\n",
    "\n",
    "runtime = boto3.Session().client('sagemaker-runtime')"
   ]
  },
  {
   "cell_type": "markdown",
   "metadata": {},
   "source": [
    "And now that we have access to the SageMaker runtime, we can ask it to make use of (invoke) an endpoint that has already been created. However, we need to provide SageMaker with the name of the deployed endpoint. To find this out we can print it out using the `xgb_predictor` object."
   ]
  },
  {
   "cell_type": "code",
   "execution_count": 41,
   "metadata": {},
   "outputs": [
    {
     "data": {
      "text/plain": [
       "'xgboost-2020-05-14-21-49-31-471'"
      ]
     },
     "execution_count": 41,
     "metadata": {},
     "output_type": "execute_result"
    }
   ],
   "source": [
    "xgb_predictor.endpoint"
   ]
  },
  {
   "cell_type": "markdown",
   "metadata": {},
   "source": [
    "Using the SageMaker runtime and the name of our endpoint, we can invoke the endpoint and send it the `test_bow` data."
   ]
  },
  {
   "cell_type": "code",
   "execution_count": 42,
   "metadata": {},
   "outputs": [
    {
     "ename": "ParamValidationError",
     "evalue": "Parameter validation failed:\nInvalid type for parameter Body, value: [0, 0, 0, 0, 0, 0, 0, 0, 0, 0, 0, 0, 0, 0, 0, 0, 0, 0, 0, 0, 0, 0, 0, 0, 0, 0, 0, 0, 0, 0, 0, 0, 0, 0, 0, 0, 0, 0, 0, 0, 0, 0, 0, 0, 0, 0, 0, 0, 0, 0, 0, 0, 0, 0, 0, 0, 0, 0, 0, 0, 0, 0, 0, 0, 0, 0, 0, 0, 0, 0, 0, 0, 0, 0, 0, 0, 0, 0, 0, 0, 0, 0, 0, 0, 0, 0, 0, 0, 0, 0, 0, 0, 0, 0, 0, 0, 0, 0, 0, 0, 0, 0, 0, 0, 0, 0, 0, 0, 0, 0, 0, 0, 0, 0, 0, 0, 0, 0, 0, 0, 0, 0, 0, 0, 0, 0, 0, 0, 0, 0, 0, 0, 0, 0, 0, 0, 0, 0, 0, 0, 0, 0, 0, 0, 0, 0, 0, 0, 0, 0, 0, 0, 0, 0, 0, 0, 0, 0, 0, 0, 0, 0, 0, 0, 0, 0, 0, 0, 0, 0, 0, 0, 0, 0, 0, 0, 0, 0, 0, 0, 0, 0, 0, 0, 0, 0, 0, 0, 0, 0, 0, 0, 0, 0, 0, 0, 0, 0, 0, 0, 0, 0, 0, 0, 0, 0, 0, 0, 0, 0, 0, 0, 0, 0, 0, 0, 0, 0, 0, 0, 0, 0, 0, 0, 0, 0, 1, 0, 0, 0, 0, 0, 0, 0, 0, 0, 0, 0, 0, 0, 0, 0, 0, 0, 0, 0, 0, 0, 0, 0, 0, 0, 0, 0, 0, 0, 1, 0, 0, 0, 0, 0, 0, 0, 0, 0, 0, 0, 0, 0, 0, 0, 0, 0, 0, 0, 0, 0, 0, 0, 0, 0, 0, 0, 0, 0, 0, 0, 0, 0, 0, 0, 0, 0, 0, 0, 0, 0, 0, 0, 0, 0, 0, 0, 0, 0, 0, 0, 0, 0, 0, 0, 0, 0, 0, 0, 0, 0, 0, 0, 0, 0, 0, 0, 0, 0, 0, 0, 0, 0, 0, 0, 0, 0, 0, 0, 0, 0, 0, 0, 0, 0, 0, 0, 0, 0, 0, 0, 0, 0, 0, 0, 0, 0, 0, 0, 0, 0, 0, 0, 0, 0, 0, 0, 0, 0, 0, 0, 0, 0, 0, 0, 0, 0, 0, 0, 0, 0, 0, 0, 0, 0, 0, 0, 0, 0, 0, 0, 0, 0, 0, 0, 0, 0, 0, 0, 0, 0, 0, 0, 0, 0, 0, 0, 0, 0, 0, 0, 0, 0, 0, 0, 0, 0, 0, 0, 0, 0, 0, 0, 0, 0, 0, 0, 0, 0, 0, 0, 0, 0, 0, 0, 0, 0, 0, 0, 0, 0, 0, 0, 0, 0, 0, 0, 0, 0, 0, 0, 0, 0, 0, 0, 0, 0, 0, 0, 0, 0, 0, 0, 0, 0, 0, 0, 0, 0, 0, 0, 0, 0, 0, 0, 0, 0, 0, 0, 0, 0, 0, 0, 0, 0, 0, 0, 0, 0, 0, 0, 0, 0, 0, 0, 0, 0, 0, 0, 0, 0, 0, 0, 0, 0, 0, 0, 0, 0, 0, 0, 0, 0, 0, 0, 0, 0, 0, 0, 0, 0, 0, 0, 0, 0, 0, 0, 0, 0, 0, 0, 0, 0, 0, 0, 0, 0, 0, 0, 0, 0, 0, 0, 0, 0, 0, 0, 0, 0, 0, 0, 0, 0, 0, 0, 0, 0, 0, 0, 0, 0, 0, 0, 0, 0, 0, 0, 0, 0, 0, 0, 0, 0, 0, 0, 0, 0, 0, 0, 0, 0, 0, 0, 0, 0, 0, 0, 0, 0, 0, 0, 0, 0, 0, 0, 0, 0, 0, 0, 0, 0, 0, 0, 0, 0, 0, 0, 0, 0, 0, 0, 0, 0, 0, 0, 0, 0, 0, 0, 0, 0, 0, 0, 0, 0, 0, 0, 0, 0, 0, 0, 0, 0, 0, 0, 0, 0, 0, 0, 1, 0, 0, 0, 0, 0, 0, 0, 0, 0, 0, 0, 0, 0, 0, 0, 0, 0, 0, 0, 0, 0, 0, 0, 0, 0, 0, 0, 0, 0, 0, 0, 0, 0, 0, 0, 0, 0, 0, 0, 0, 0, 0, 0, 0, 0, 0, 0, 0, 0, 0, 0, 0, 0, 0, 0, 0, 0, 0, 0, 0, 0, 0, 0, 0, 0, 0, 0, 0, 0, 0, 0, 0, 0, 0, 0, 0, 0, 0, 0, 0, 0, 0, 0, 0, 0, 0, 0, 0, 0, 0, 0, 0, 0, 0, 0, 0, 0, 0, 0, 0, 0, 0, 0, 0, 0, 0, 0, 0, 0, 0, 0, 0, 0, 0, 0, 0, 0, 0, 0, 0, 0, 0, 0, 0, 0, 0, 0, 0, 0, 0, 0, 0, 0, 0, 0, 0, 0, 0, 0, 0, 0, 0, 0, 0, 0, 0, 0, 0, 0, 0, 0, 0, 0, 0, 0, 0, 0, 0, 0, 0, 0, 0, 0, 0, 0, 0, 0, 0, 0, 0, 0, 0, 0, 0, 0, 0, 0, 0, 0, 0, 0, 0, 0, 0, 0, 0, 0, 0, 0, 0, 0, 0, 0, 0, 0, 0, 0, 0, 0, 0, 0, 0, 0, 0, 0, 0, 0, 0, 0, 0, 0, 0, 0, 0, 0, 0, 0, 0, 0, 0, 0, 0, 0, 0, 0, 0, 0, 0, 0, 0, 0, 0, 0, 0, 0, 0, 0, 0, 0, 0, 0, 0, 0, 0, 0, 0, 0, 0, 0, 0, 0, 0, 0, 1, 0, 0, 0, 0, 0, 0, 0, 0, 0, 0, 0, 0, 0, 0, 0, 0, 0, 0, 0, 0, 0, 0, 0, 0, 0, 0, 0, 0, 0, 0, 0, 0, 0, 0, 0, 0, 0, 0, 0, 0, 0, 0, 0, 0, 0, 0, 0, 0, 0, 0, 0, 0, 0, 0, 0, 0, 0, 0, 0, 0, 0, 0, 0, 0, 0, 0, 0, 0, 0, 0, 0, 0, 0, 0, 0, 0, 0, 0, 0, 0, 0, 0, 0, 0, 0, 0, 1, 0, 0, 0, 0, 0, 0, 0, 0, 0, 0, 0, 0, 0, 0, 0, 0, 0, 0, 0, 0, 0, 0, 0, 0, 0, 0, 0, 0, 0, 0, 0, 0, 0, 0, 0, 0, 0, 0, 0, 0, 0, 0, 0, 0, 0, 0, 0, 0, 0, 0, 0, 0, 0, 0, 0, 0, 0, 0, 0, 0, 0, 0, 0, 0, 0, 0, 0, 0, 0, 0, 0, 0, 0, 0, 0, 0, 0, 0, 0, 0, 0, 0, 0, 0, 0, 0, 0, 0, 0, 0, 0, 0, 0, 0, 0, 0, 0, 0, 0, 0, 0, 0, 0, 0, 0, 0, 0, 0, 0, 0, 0, 0, 0, 0, 0, 0, 0, 0, 0, 0, 0, 0, 0, 0, 0, 0, 0, 0, 0, 0, 0, 0, 0, 0, 0, 0, 0, 0, 0, 0, 0, 0, 0, 0, 0, 0, 0, 0, 0, 0, 0, 0, 0, 0, 0, 0, 0, 0, 0, 0, 0, 0, 0, 0, 0, 0, 0, 0, 0, 0, 0, 0, 0, 0, 0, 0, 0, 0, 0, 0, 0, 0, 0, 0, 0, 0, 0, 0, 0, 0, 0, 0, 0, 0, 0, 0, 0, 0, 0, 0, 0, 0, 0, 0, 0, 0, 0, 0, 0, 0, 0, 0, 0, 0, 0, 0, 0, 0, 0, 0, 0, 0, 0, 0, 0, 0, 0, 0, 0, 0, 0, 0, 0, 0, 0, 0, 0, 0, 0, 0, 0, 0, 0, 0, 0, 0, 0, 0, 0, 0, 0, 0, 1, 0, 0, 0, 0, 0, 0, 0, 0, 0, 0, 0, 0, 0, 0, 0, 0, 0, 0, 0, 0, 0, 0, 0, 0, 0, 0, 0, 0, 0, 0, 0, 0, 0, 0, 0, 0, 0, 0, 0, 0, 0, 0, 0, 0, 0, 0, 0, 0, 0, 0, 0, 0, 0, 0, 0, 1, 0, 0, 0, 0, 0, 0, 0, 0, 0, 0, 0, 0, 0, 0, 0, 0, 0, 0, 0, 0, 0, 0, 0, 0, 0, 0, 0, 0, 0, 0, 0, 0, 0, 0, 0, 0, 0, 0, 0, 0, 0, 0, 0, 0, 0, 0, 0, 0, 0, 0, 0, 0, 0, 0, 0, 0, 0, 0, 0, 0, 0, 0, 0, 0, 0, 0, 0, 0, 0, 0, 0, 0, 0, 0, 0, 0, 0, 0, 0, 0, 0, 0, 0, 0, 0, 0, 0, 0, 0, 0, 0, 0, 0, 0, 0, 0, 0, 0, 0, 0, 0, 0, 0, 0, 0, 0, 0, 0, 0, 0, 0, 0, 0, 0, 0, 0, 0, 0, 0, 0, 0, 0, 0, 0, 0, 0, 0, 0, 0, 0, 0, 0, 0, 0, 0, 0, 0, 0, 0, 0, 0, 0, 0, 0, 0, 0, 0, 0, 0, 0, 0, 0, 0, 0, 0, 0, 0, 0, 0, 0, 0, 0, 0, 0, 0, 0, 0, 0, 0, 0, 0, 0, 0, 0, 0, 0, 0, 0, 0, 0, 0, 0, 0, 0, 0, 0, 0, 0, 0, 0, 0, 0, 0, 0, 0, 0, 0, 0, 0, 0, 0, 0, 0, 0, 0, 0, 0, 0, 0, 0, 0, 0, 0, 0, 0, 0, 0, 0, 0, 0, 0, 0, 0, 0, 0, 0, 0, 0, 0, 0, 0, 0, 0, 0, 0, 0, 0, 0, 0, 0, 0, 0, 0, 0, 0, 0, 0, 0, 0, 0, 0, 0, 0, 0, 0, 0, 0, 0, 0, 0, 0, 0, 0, 0, 0, 0, 0, 0, 0, 0, 0, 0, 0, 0, 0, 0, 0, 0, 0, 0, 0, 0, 0, 0, 0, 0, 0, 0, 0, 0, 0, 0, 0, 0, 0, 0, 0, 0, 0, 0, 0, 0, 0, 0, 0, 0, 0, 0, 0, 0, 0, 0, 0, 0, 0, 0, 0, 0, 0, 0, 0, 0, 0, 0, 0, 0, 0, 0, 0, 0, 0, 0, 0, 0, 0, 0, 0, 0, 0, 0, 0, 0, 0, 0, 0, 0, 0, 0, 0, 0, 0, 0, 0, 0, 0, 0, 0, 0, 0, 0, 0, 0, 0, 0, 0, 0, 0, 0, 0, 0, 0, 0, 0, 0, 0, 0, 0, 0, 0, 0, 0, 0, 0, 0, 0, 0, 0, 0, 0, 0, 0, 0, 0, 0, 0, 0, 0, 0, 0, 0, 0, 0, 0, 0, 0, 0, 0, 0, 0, 0, 0, 0, 0, 0, 0, 0, 0, 0, 0, 0, 0, 0, 0, 0, 0, 0, 0, 0, 0, 0, 0, 0, 0, 0, 0, 0, 0, 0, 0, 0, 0, 0, 0, 0, 0, 0, 0, 0, 0, 0, 0, 0, 0, 0, 0, 0, 0, 0, 0, 0, 0, 0, 0, 0, 0, 0, 0, 0, 0, 0, 0, 0, 0, 0, 0, 0, 0, 0, 0, 0, 0, 0, 0, 0, 0, 0, 0, 0, 0, 0, 0, 0, 0, 0, 0, 0, 0, 0, 0, 0, 0, 0, 0, 0, 0, 0, 0, 0, 0, 0, 0, 0, 0, 0, 0, 0, 0, 0, 0, 0, 0, 0, 0, 0, 0, 0, 0, 0, 0, 0, 0, 0, 0, 0, 0, 0, 0, 0, 0, 0, 0, 0, 0, 0, 0, 0, 0, 0, 0, 0, 0, 0, 0, 0, 0, 0, 0, 0, 0, 0, 0, 0, 0, 0, 0, 0, 0, 0, 0, 0, 0, 0, 0, 0, 0, 0, 0, 0, 0, 0, 0, 0, 0, 0, 0, 0, 0, 0, 0, 0, 0, 0, 0, 0, 0, 0, 0, 0, 0, 0, 0, 0, 0, 0, 0, 0, 0, 0, 0, 0, 0, 0, 0, 0, 0, 0, 0, 0, 0, 0, 0, 0, 0, 0, 0, 0, 0, 0, 0, 0, 0, 0, 0, 0, 0, 0, 0, 0, 0, 0, 0, 0, 0, 0, 0, 0, 0, 0, 0, 0, 0, 0, 0, 0, 0, 0, 0, 0, 0, 0, 0, 0, 0, 0, 0, 0, 0, 0, 0, 0, 0, 0, 0, 0, 0, 0, 0, 0, 0, 0, 0, 1, 0, 0, 0, 0, 0, 0, 0, 0, 0, 0, 0, 0, 0, 0, 0, 0, 0, 0, 0, 0, 0, 0, 0, 0, 0, 0, 0, 0, 0, 0, 0, 0, 0, 0, 0, 0, 0, 0, 0, 0, 0, 0, 0, 0, 0, 0, 0, 0, 0, 0, 0, 0, 0, 0, 0, 0, 0, 0, 0, 0, 0, 0, 0, 0, 0, 0, 0, 0, 0, 0, 0, 0, 0, 0, 1, 0, 0, 0, 0, 0, 0, 0, 0, 0, 0, 0, 0, 0, 0, 0, 0, 0, 0, 0, 0, 1, 0, 0, 1, 0, 0, 0, 0, 0, 0, 0, 0, 0, 0, 0, 0, 0, 0, 0, 0, 0, 0, 0, 0, 0, 0, 0, 0, 0, 0, 0, 0, 0, 0, 0, 0, 0, 0, 0, 0, 0, 0, 0, 0, 0, 0, 0, 0, 0, 0, 0, 0, 0, 0, 0, 0, 0, 0, 0, 0, 0, 0, 0, 0, 0, 0, 0, 0, 0, 0, 0, 0, 0, 0, 0, 0, 0, 0, 0, 0, 0, 0, 0, 0, 0, 0, 0, 0, 0, 0, 0, 0, 0, 0, 0, 0, 0, 0, 0, 0, 0, 0, 0, 0, 0, 0, 0, 0, 0, 0, 0, 0, 0, 0, 0, 0, 0, 0, 0, 0, 0, 0, 0, 0, 0, 0, 0, 0, 0, 0, 0, 0, 0, 0, 0, 0, 0, 0, 0, 0, 0, 0, 0, 0, 0, 0, 0, 0, 0, 0, 0, 0, 0, 0, 0, 0, 0, 0, 0, 0, 0, 0, 0, 0, 0, 0, 0, 0, 0, 0, 0, 0, 0, 0, 0, 0, 0, 0, 0, 0, 0, 0, 0, 0, 0, 0, 0, 0, 0, 0, 0, 0, 0, 0, 0, 0, 0, 0, 0, 0, 0, 0, 0, 0, 0, 0, 0, 0, 0, 0, 0, 0, 0, 0, 0, 0, 0, 0, 0, 0, 0, 0, 0, 0, 0, 0, 0, 0, 0, 0, 0, 0, 0, 0, 0, 0, 0, 0, 0, 0, 0, 0, 0, 0, 0, 0, 0, 0, 0, 0, 0, 0, 0, 0, 0, 0, 0, 0, 0, 0, 0, 0, 0, 0, 0, 0, 0, 0, 0, 0, 0, 0, 0, 0, 0, 0, 0, 0, 0, 0, 0, 0, 0, 0, 0, 0, 0, 0, 0, 0, 0, 0, 0, 0, 0, 0, 0, 0, 0, 0, 0, 0, 0, 0, 0, 0, 0, 0, 0, 0, 0, 0, 0, 0, 0, 0, 0, 0, 0, 0, 0, 0, 0, 0, 0, 0, 0, 0, 0, 0, 0, 0, 0, 0, 0, 0, 0, 0, 0, 0, 0, 0, 0, 0, 0, 0, 0, 0, 0, 0, 0, 0, 0, 0, 0, 0, 0, 0, 0, 0, 0, 0, 0, 0, 0, 0, 0, 0, 0, 0, 0, 0, 0, 0, 0, 0, 0, 0, 0, 0, 0, 0, 0, 0, 0, 0, 0, 0, 0, 0, 0, 0, 0, 0, 0, 0, 0, 0, 0, 0, 0, 0, 0, 0, 0, 0, 0, 0, 0, 0, 0, 0, 0, 0, 0, 0, 0, 0, 0, 0, 0, 0, 0, 0, 0, 0, 0, 0, 0, 0, 0, 0, 0, 0, 0, 0, 0, 0, 0, 0, 0, 0, 0, 0, 0, 0, 0, 0, 0, 0, 0, 0, 0, 0, 0, 0, 0, 0, 0, 0, 0, 0, 0, 0, 0, 0, 0, 0, 0, 0, 1, 0, 0, 0, 0, 0, 0, 0, 0, 0, 0, 0, 0, 0, 0, 0, 0, 0, 0, 0, 0, 0, 0, 0, 0, 0, 0, 0, 0, 0, 0, 0, 0, 0, 0, 0, 0, 0, 0, 0, 0, 0, 0, 0, 0, 0, 0, 0, 0, 0, 0, 0, 0, 0, 0, 0, 0, 0, 0, 0, 0, 0, 0, 0, 0, 0, 0, 0, 0, 0, 0, 0, 0, 0, 0, 0, 0, 0, 0, 0, 0, 0, 0, 0, 0, 0, 0, 0, 0, 0, 0, 0, 0, 0, 0, 0, 0, 0, 0, 0, 0, 0, 0, 0, 0, 0, 0, 0, 0, 0, 0, 0, 0, 0, 0, 0, 0, 0, 0, 0, 0, 0, 0, 0, 0, 0, 0, 0, 0, 0, 0, 0, 0, 0, 0, 0, 0, 0, 0, 0, 0, 0, 0, 0, 0, 0, 0, 0, 0, 0, 0, 0, 0, 0, 0, 0, 0, 0, 0, 0, 0, 0, 0, 0, 0, 0, 0, 0, 0, 0, 0, 0, 0, 0, 0, 0, 0, 0, 0, 0, 0, 0, 0, 0, 0, 0, 0, 0, 0, 0, 0, 0, 0, 0, 0, 0, 0, 0, 0, 0, 0, 0, 0, 0, 0, 0, 0, 0, 0, 0, 0, 0, 0, 0, 0, 0, 0, 0, 0, 0, 0, 0, 0, 0, 0, 0, 0, 0, 0, 0, 0, 0, 0, 0, 0, 0, 0, 0, 0, 0, 0, 0, 0, 0, 0, 0, 0, 0, 0, 0, 0, 0, 0, 0, 0, 0, 0, 0, 0, 0, 0, 0, 0, 0, 0, 0, 0, 0, 0, 0, 0, 0, 0, 0, 0, 0, 0, 0, 0, 0, 0, 0, 0, 0, 0, 0, 0, 0, 0, 0, 0, 0, 0, 0, 0, 0, 0, 0, 0, 0, 0, 0, 0, 0, 0, 0, 0, 0, 0, 0, 0, 0, 0, 0, 0, 0, 0, 0, 0, 0, 0, 0, 0, 0, 0, 0, 0, 0, 0, 0, 0, 0, 0, 0, 0, 0, 0, 0, 0, 0, 0, 0, 0, 0, 0, 0, 0, 0, 0, 0, 0, 0, 0, 0, 0, 0, 0, 0, 0, 0, 0, 0, 0, 0, 0, 0, 0, 0, 0, 0, 0, 0, 0, 0, 0, 0, 0, 0, 0, 0, 0, 0, 0, 0, 0, 0, 0, 0, 0, 0, 0, 0, 0, 0, 0, 0, 0, 0, 0, 0, 0, 0, 0, 0, 0, 0, 0, 0, 0, 0, 0, 0, 0, 0, 0, 0, 0, 0, 0, 0, 0, 0, 0, 0, 0, 0, 0, 0, 0, 0, 0, 0, 0, 0, 0, 0, 0, 0, 0, 0, 0, 0, 0, 0, 0, 0, 0, 0, 0, 0, 0, 0, 0, 0, 0, 0, 0, 0, 0, 0, 0, 0, 0, 0, 0, 0, 0, 0, 0, 0, 0, 0, 0, 0, 0, 0, 0, 0, 0, 0, 0, 0, 0, 0, 0, 0, 0, 0, 0, 0, 0, 0, 0, 0, 0, 0, 0, 0, 0, 0, 0, 0, 0, 0, 0, 0, 0, 0, 0, 0, 0, 0, 0, 1, 0, 0, 0, 0, 0, 0, 0, 0, 0, 0, 0, 0, 0, 0, 0, 0, 0, 0, 0, 0, 0, 0, 0, 0, 0, 0, 0, 0, 0, 0, 0, 0, 0, 0, 0, 2, 0, 0, 0, 0, 0, 0, 0, 0, 0, 0, 0, 0, 0, 0, 0, 0, 0, 0, 0, 0, 0, 0, 0, 0, 0, 0, 0, 0, 0, 0, 0, 0, 0, 0, 0, 0, 0, 0, 0, 0, 1, 0, 0, 0, 0, 0, 0, 0, 0, 0, 0, 0, 0, 0, 0, 0, 0, 0, 0, 0, 0, 0, 0, 0, 0, 0, 0, 0, 0, 0, 0, 0, 0, 0, 0, 0, 0, 0, 0, 0, 0, 0, 0, 0, 0, 0, 0, 0, 0, 0, 0, 0, 0, 0, 0, 0, 0, 0, 0, 0, 0, 0, 0, 0, 0, 0, 0, 0, 0, 0, 0, 0, 0, 0, 0, 0, 0, 0, 0, 0, 0, 0, 0, 0, 0, 0, 0, 0, 0, 0, 0, 0, 0, 0, 0, 0, 0, 0, 0, 0, 0, 0, 0, 0, 0, 0, 0, 0, 0, 0, 0, 0, 0, 0, 0, 0, 0, 0, 0, 0, 0, 0, 0, 0, 0, 0, 0, 0, 0, 0, 0, 0, 0, 0, 0, 0, 0, 0, 0, 0, 0, 0, 0, 0, 0, 0, 0, 0, 0, 0, 0, 0, 0, 0, 0, 0, 0, 0, 0, 0, 0, 0, 0, 0, 0, 0, 0, 0, 0, 0, 0, 0, 0, 0, 0, 0, 0, 0, 0, 0, 0, 0, 0, 0, 0, 0, 0, 0, 0, 0, 0, 0, 0, 0, 0, 0, 0, 0, 0, 0, 0, 0, 0, 0, 0, 0, 0, 0, 0, 0, 0, 0, 0, 0, 0, 0, 0, 0, 0, 0, 0, 0, 0, 0, 0, 0, 0, 0, 0, 0, 0, 0, 0, 0, 0, 0, 0, 0, 0, 0, 0, 0, 0, 0, 0, 0, 0, 0, 0, 0, 0, 0, 0, 0, 0, 0, 0, 0, 0, 0, 0, 0, 0, 0, 0, 0, 0, 0, 0, 0, 0, 0, 0, 0, 0, 0, 0, 0, 0, 0, 0, 0, 0, 0, 0, 0, 0, 0, 0, 0, 0, 0, 0, 0, 0, 0, 0, 0, 0, 0, 0, 0, 0, 0, 0, 0, 0, 0, 0, 0, 0, 0, 0, 0, 0, 0, 0, 0, 0, 0, 0, 0, 0, 0, 0, 0, 0, 0, 0, 0, 0, 0, 0, 0, 0, 0, 0, 0, 0, 0, 0, 0, 0, 0, 0, 0, 0, 0, 0, 0, 0, 0, 0, 0, 0, 0, 0, 0, 0, 0, 0, 0, 0, 0, 0, 0, 0, 0, 0, 0, 0, 0, 0, 0, 0, 0, 0, 0, 0, 0, 0, 0, 0, 0, 0, 0, 0, 0, 0, 0, 0, 0, 0, 0, 0, 0, 0, 0, 0, 0, 0, 0, 0, 0, 0, 0, 0, 0, 0, 0, 0, 0, 0, 0, 0, 0, 0, 0, 0, 0, 0, 0, 0, 0, 0, 0, 0, 0, 0, 0, 0, 0, 0, 0, 0, 0, 0, 0, 0, 0, 0, 0, 0, 0, 0, 0, 0, 0, 0, 0, 0, 0, 0, 0, 0, 0, 0, 0, 0, 0, 0, 0, 0, 0, 0, 0, 0, 0, 0, 0, 0, 0, 0, 0, 0, 0, 0, 0, 0, 0, 0, 0, 0, 0, 0, 0, 0, 0, 0, 0, 0, 0, 0, 0, 0, 0, 0, 0, 1, 0, 0, 0, 0, 0, 0, 0, 0, 0, 0, 0, 0, 0, 0, 0, 0, 0, 0, 0, 0, 0, 0, 0, 0, 0, 0, 0, 0, 0, 0, 0, 0, 0, 0, 0, 0, 0, 0, 0, 0, 0, 0, 0, 0, 0, 0, 0, 0, 0, 0, 0, 0, 0, 0, 0, 0, 0, 0, 0, 0, 0, 0, 0, 0, 0, 0, 0, 0, 0, 0, 0, 0, 0, 0, 0, 0, 0, 0, 0, 0, 0, 0, 0, 0, 0, 0, 0, 0, 0, 0, 0, 0, 0, 0, 0, 0, 0, 0, 0, 0, 0, 0, 0, 0, 0, 0, 0, 0, 0, 0, 2, 0, 0, 0, 0, 0, 0, 0, 0, 0, 0, 0, 0, 0, 0, 0, 0, 0, 0, 0, 0, 0, 0, 0, 0, 0, 0, 0, 0, 0, 0, 0, 0, 0, 0, 0, 0, 0, 0, 0, 0, 0, 0, 0, 0, 0, 0, 0, 0, 0, 0, 0, 0, 0, 0, 0, 0, 0, 0, 0, 0, 0, 0, 0, 0, 0, 0, 0, 0, 0, 0, 0, 0, 0, 0, 0, 0, 0, 0, 0, 0, 0, 0, 0, 0, 0, 0, 0, 0, 0, 0, 0, 0, 0, 0, 0, 0, 0, 0, 0, 0, 0, 0, 0, 0, 0, 0, 0, 0, 0, 0, 0, 0, 0, 0, 0, 0, 0, 0, 0, 0, 0, 0, 0, 0, 0, 0, 0, 0, 0, 0, 0, 0, 0, 0, 0, 0, 0, 0, 0, 0, 0, 0, 0, 0, 0, 0, 0, 0, 0, 0, 0, 0, 0, 0, 0, 0, 0, 0, 0, 0, 0, 0, 0, 0, 0, 0, 0, 0, 0, 0, 0, 0, 0, 0, 0, 0, 0, 0, 0, 0, 0, 0, 0, 0, 0, 0, 0, 0, 0, 0, 0, 0, 0, 0, 0, 0, 0, 0, 0, 0, 0, 0, 0, 0, 0, 0, 0, 0, 0, 0, 0, 0, 0, 0, 0, 0, 0, 0, 0, 0, 0, 0, 0, 0, 0, 0, 0, 0, 0, 0, 0, 0, 0, 0, 0, 0, 0, 0, 0, 0, 0, 0, 0, 0, 0, 0, 0, 0, 0, 0, 0, 0, 0, 0, 0, 0, 0, 0, 0, 0, 0, 0, 0, 0, 0, 0, 0, 0, 0, 0, 0, 0, 0, 0, 0, 0, 0, 0, 0, 0, 0, 0, 0, 0, 0, 0, 0, 0, 0, 0, 0, 0, 0, 0, 0, 0, 0, 0, 0, 0, 0, 0, 0, 0, 0, 0, 0, 0, 0, 0, 0, 0, 0, 0, 0, 0, 0, 0, 0, 0, 0, 0, 0, 0, 0, 0, 0, 0, 0, 0, 0, 0, 0, 0, 0, 0, 0, 0, 0, 0, 0, 0, 0, 0, 0, 0, 0, 0, 0, 0, 0, 0, 0, 0, 0, 0, 0, 0, 0, 0, 0, 0, 0, 0, 0, 0, 0, 0, 0, 0, 0, 0, 0, 0, 0, 0, 0, 0, 0, 0, 0, 0, 0, 0, 0, 0, 0, 0, 0, 0, 0, 0, 0, 0, 0, 0, 0, 0, 0, 0, 0, 0, 0, 0, 0, 0, 0, 0, 0, 0, 0, 0, 0, 0, 0, 0, 0, 0, 0, 0, 0, 0, 0, 0, 0, 0, 0, 0, 0, 0, 0, 0, 0, 0, 0, 0, 0, 0, 0, 0, 0, 0, 0, 0, 0, 0, 0, 0, 0, 0, 0, 0, 0, 0, 0, 0, 0, 0, 0, 0, 0, 0, 0, 0, 0, 0, 0, 0, 0, 0, 0, 0, 0, 0, 0, 0, 0, 0, 0, 0, 0, 0, 0, 0, 0, 0, 0, 0, 0, 0, 0, 0, 0, 0, 0, 0, 0, 0, 0, 0, 0, 0, 0, 0, 0, 0, 0, 0, 0, 0, 0, 0, 0, 0, 0, 0, 0, 0, 0, 0, 0, 0, 0, 0, 0, 0, 0, 0, 0, 0, 0, 0, 0, 0, 0, 0, 0, 0, 0, 0, 0, 0, 0, 0, 0, 0, 0, 0, 0, 0, 0, 0, 0, 0, 0, 0, 0, 0, 0, 0, 0, 0, 0, 0, 0, 0, 0, 0, 0, 0, 0, 0, 0, 0, 0, 0, 0, 0, 0, 0, 0, 0, 0, 0, 0, 0, 0, 0, 0, 0, 0, 0, 0, 0, 0, 0, 0, 0, 0, 0, 0, 0, 0, 0, 0, 0, 0, 0, 0, 0, 0, 0, 0, 0, 0, 0, 0, 0, 0, 0, 0, 0, 0, 0, 0, 0, 0, 0, 0, 0, 0, 0, 0, 0, 0, 0, 0, 0, 0, 0, 0, 0, 0, 0, 0, 0, 0, 0, 0, 0, 0, 0, 0, 0, 0, 0, 0, 0, 0, 0, 0, 0, 0, 0, 0, 0, 0, 0, 0, 0, 0, 0, 0, 0, 0, 0, 0, 0, 0, 0, 0, 0, 0, 0, 0, 0, 0, 0, 0, 0, 1, 0, 0, 0, 0, 0, 0, 0, 0, 0, 0, 0, 0, 0, 0, 0, 0, 0, 0, 0, 0, 0, 0, 0, 0, 0, 0, 0, 0, 0, 0, 0, 0, 0, 0, 0, 0, 0, 0, 0, 0, 0, 0, 0, 0, 0, 0, 0, 0, 0, 0, 0, 0, 0, 0, 0, 0, 0, 0, 0, 0, 0, 0, 0, 0, 0, 0, 0, 0, 0, 0, 0, 0, 0, 0, 0, 0, 0, 0, 0, 0, 0, 0, 0, 0, 0, 0, 0, 0, 0, 0, 0, 0, 0, 0, 0, 0, 0, 0, 0, 0, 0, 0, 0, 0, 0, 0, 0, 1, 0, 0, 0, 0, 0, 0, 0, 0, 0, 0, 0, 0, 0, 0, 0, 0, 0, 0, 0, 0, 0, 0, 0, 0, 0, 0, 0, 0, 0, 0, 0, 0, 0, 0, 0, 0, 0, 0, 0, 0, 0, 0, 0, 0, 0, 0, 0, 0, 0, 0, 0, 0, 0, 0, 0, 0, 0, 0, 0, 0, 0, 0, 0, 0, 0, 0, 0, 0, 0, 0, 0, 0, 0, 0, 0, 0, 0, 0, 0, 0, 0, 0, 0, 0, 0, 0, 0, 0, 0, 0, 0, 0, 0, 0, 0, 0, 0, 0, 0, 0, 0, 0, 0, 0, 0, 0, 0, 0, 0, 0, 0, 0, 0, 0, 0, 0, 0, 0, 0, 0, 0, 0, 0, 0, 0, 0, 0, 0, 0, 0, 0, 0, 0, 0, 0, 0, 0, 0, 0, 0, 0, 0, 0, 0, 0, 0, 0, 0, 0, 0, 0, 0, 0, 0, 0, 0, 0, 0, 0, 0, 0, 0, 0, 0, 0, 0, 0, 0, 0, 0, 0, 0, 0, 0, 0, 0, 0, 0, 0, 0, 0, 0, 0, 0, 0, 0, 0, 0, 0, 0, 0, 0, 0, 0, 0, 0, 0, 0, 0, 0, 0, 0, 0, 0, 0, 0, 0, 0, 0, 0, 0, 0, 0, 0, 0, 0, 0, 0, 0, 0, 0, 0, 0, 0, 0, 0, 0, 0, 0, 0, 0, 0, 0, 0, 0, 0, 0, 0, 0, 0, 0, 0, 0, 0, 0, 0, 0, 0, 0, 0, 0, 0, 0, 0, 0, 0, 0, 0, 0, 0, 0, 0, 0, 0, 0, 0, 0, 0, 0, 0, 0, 0, 0, 0, 0, 0, 0, 0, 0, 0, 0, 0, 0, 0, 0, 0, 0, 0, 0, 0, 0, 0, 0, 0, 0, 0, 0, 0, 0, 0, 0, 0, 0, 0, 0, 0, 0, 0, 0, 0, 0, 0, 0, 0, 0, 0, 0, 0, 0, 0, 0, 0, 0, 0, 0, 0, 0, 0, 0, 0, 0, 0, 0, 0, 0, 0, 0, 0, 0, 0, 0, 0, 0, 0, 0, 0, 0, 0, 0, 0, 0, 0, 0, 0, 0, 0, 0, 0, 0, 0, 0, 0, 0, 0, 0, 0, 0, 0, 0, 0, 0, 0, 0, 0, 0, 0, 0, 0, 0, 0, 0, 0, 0, 0, 0, 0, 0, 0, 0, 0, 0, 0, 0, 0, 0, 0, 0, 0, 0, 0, 0, 0, 0, 0, 0, 0, 0, 0, 0, 0, 0, 0, 0, 0, 0, 0, 0, 0, 0, 0, 0, 0, 0, 0, 0, 0, 0, 0, 0, 0, 0, 0, 0, 0, 0, 0, 0, 0, 0, 0, 0, 0, 0, 0, 0, 0, 0, 0, 0, 0, 0, 0, 0, 0, 0, 0, 0, 0, 0, 0, 0, 0, 0, 2, 0, 1, 0], type: <class 'list'>, valid types: <class 'bytes'>, <class 'bytearray'>, file-like object",
     "output_type": "error",
     "traceback": [
      "\u001b[0;31m---------------------------------------------------------------------------\u001b[0m",
      "\u001b[0;31mParamValidationError\u001b[0m                      Traceback (most recent call last)",
      "\u001b[0;32m<ipython-input-42-c9ab54ae3a48>\u001b[0m in \u001b[0;36m<module>\u001b[0;34m()\u001b[0m\n\u001b[1;32m      1\u001b[0m response = runtime.invoke_endpoint(EndpointName = xgb_predictor.endpoint, # The name of the endpoint we created\n\u001b[1;32m      2\u001b[0m                                        \u001b[0mContentType\u001b[0m \u001b[0;34m=\u001b[0m \u001b[0;34m'text/csv'\u001b[0m\u001b[0;34m,\u001b[0m                     \u001b[0;31m# The data format that is expected\u001b[0m\u001b[0;34m\u001b[0m\u001b[0m\n\u001b[0;32m----> 3\u001b[0;31m                                        Body = test_bow)\n\u001b[0m",
      "\u001b[0;32m~/anaconda3/envs/python3/lib/python3.6/site-packages/botocore/client.py\u001b[0m in \u001b[0;36m_api_call\u001b[0;34m(self, *args, **kwargs)\u001b[0m\n\u001b[1;32m    314\u001b[0m                     \"%s() only accepts keyword arguments.\" % py_operation_name)\n\u001b[1;32m    315\u001b[0m             \u001b[0;31m# The \"self\" in this scope is referring to the BaseClient.\u001b[0m\u001b[0;34m\u001b[0m\u001b[0;34m\u001b[0m\u001b[0m\n\u001b[0;32m--> 316\u001b[0;31m             \u001b[0;32mreturn\u001b[0m \u001b[0mself\u001b[0m\u001b[0;34m.\u001b[0m\u001b[0m_make_api_call\u001b[0m\u001b[0;34m(\u001b[0m\u001b[0moperation_name\u001b[0m\u001b[0;34m,\u001b[0m \u001b[0mkwargs\u001b[0m\u001b[0;34m)\u001b[0m\u001b[0;34m\u001b[0m\u001b[0m\n\u001b[0m\u001b[1;32m    317\u001b[0m \u001b[0;34m\u001b[0m\u001b[0m\n\u001b[1;32m    318\u001b[0m         \u001b[0m_api_call\u001b[0m\u001b[0;34m.\u001b[0m\u001b[0m__name__\u001b[0m \u001b[0;34m=\u001b[0m \u001b[0mstr\u001b[0m\u001b[0;34m(\u001b[0m\u001b[0mpy_operation_name\u001b[0m\u001b[0;34m)\u001b[0m\u001b[0;34m\u001b[0m\u001b[0m\n",
      "\u001b[0;32m~/anaconda3/envs/python3/lib/python3.6/site-packages/botocore/client.py\u001b[0m in \u001b[0;36m_make_api_call\u001b[0;34m(self, operation_name, api_params)\u001b[0m\n\u001b[1;32m    597\u001b[0m         }\n\u001b[1;32m    598\u001b[0m         request_dict = self._convert_to_request_dict(\n\u001b[0;32m--> 599\u001b[0;31m             api_params, operation_model, context=request_context)\n\u001b[0m\u001b[1;32m    600\u001b[0m \u001b[0;34m\u001b[0m\u001b[0m\n\u001b[1;32m    601\u001b[0m         \u001b[0mservice_id\u001b[0m \u001b[0;34m=\u001b[0m \u001b[0mself\u001b[0m\u001b[0;34m.\u001b[0m\u001b[0m_service_model\u001b[0m\u001b[0;34m.\u001b[0m\u001b[0mservice_id\u001b[0m\u001b[0;34m.\u001b[0m\u001b[0mhyphenize\u001b[0m\u001b[0;34m(\u001b[0m\u001b[0;34m)\u001b[0m\u001b[0;34m\u001b[0m\u001b[0m\n",
      "\u001b[0;32m~/anaconda3/envs/python3/lib/python3.6/site-packages/botocore/client.py\u001b[0m in \u001b[0;36m_convert_to_request_dict\u001b[0;34m(self, api_params, operation_model, context)\u001b[0m\n\u001b[1;32m    645\u001b[0m             api_params, operation_model, context)\n\u001b[1;32m    646\u001b[0m         request_dict = self._serializer.serialize_to_request(\n\u001b[0;32m--> 647\u001b[0;31m             api_params, operation_model)\n\u001b[0m\u001b[1;32m    648\u001b[0m         \u001b[0;32mif\u001b[0m \u001b[0;32mnot\u001b[0m \u001b[0mself\u001b[0m\u001b[0;34m.\u001b[0m\u001b[0m_client_config\u001b[0m\u001b[0;34m.\u001b[0m\u001b[0minject_host_prefix\u001b[0m\u001b[0;34m:\u001b[0m\u001b[0;34m\u001b[0m\u001b[0m\n\u001b[1;32m    649\u001b[0m             \u001b[0mrequest_dict\u001b[0m\u001b[0;34m.\u001b[0m\u001b[0mpop\u001b[0m\u001b[0;34m(\u001b[0m\u001b[0;34m'host_prefix'\u001b[0m\u001b[0;34m,\u001b[0m \u001b[0;32mNone\u001b[0m\u001b[0;34m)\u001b[0m\u001b[0;34m\u001b[0m\u001b[0m\n",
      "\u001b[0;32m~/anaconda3/envs/python3/lib/python3.6/site-packages/botocore/validate.py\u001b[0m in \u001b[0;36mserialize_to_request\u001b[0;34m(self, parameters, operation_model)\u001b[0m\n\u001b[1;32m    295\u001b[0m                                                     operation_model.input_shape)\n\u001b[1;32m    296\u001b[0m             \u001b[0;32mif\u001b[0m \u001b[0mreport\u001b[0m\u001b[0;34m.\u001b[0m\u001b[0mhas_errors\u001b[0m\u001b[0;34m(\u001b[0m\u001b[0;34m)\u001b[0m\u001b[0;34m:\u001b[0m\u001b[0;34m\u001b[0m\u001b[0m\n\u001b[0;32m--> 297\u001b[0;31m                 \u001b[0;32mraise\u001b[0m \u001b[0mParamValidationError\u001b[0m\u001b[0;34m(\u001b[0m\u001b[0mreport\u001b[0m\u001b[0;34m=\u001b[0m\u001b[0mreport\u001b[0m\u001b[0;34m.\u001b[0m\u001b[0mgenerate_report\u001b[0m\u001b[0;34m(\u001b[0m\u001b[0;34m)\u001b[0m\u001b[0;34m)\u001b[0m\u001b[0;34m\u001b[0m\u001b[0m\n\u001b[0m\u001b[1;32m    298\u001b[0m         return self._serializer.serialize_to_request(parameters,\n\u001b[1;32m    299\u001b[0m                                                      operation_model)\n",
      "\u001b[0;31mParamValidationError\u001b[0m: Parameter validation failed:\nInvalid type for parameter Body, value: [0, 0, 0, 0, 0, 0, 0, 0, 0, 0, 0, 0, 0, 0, 0, 0, 0, 0, 0, 0, 0, 0, 0, 0, 0, 0, 0, 0, 0, 0, 0, 0, 0, 0, 0, 0, 0, 0, 0, 0, 0, 0, 0, 0, 0, 0, 0, 0, 0, 0, 0, 0, 0, 0, 0, 0, 0, 0, 0, 0, 0, 0, 0, 0, 0, 0, 0, 0, 0, 0, 0, 0, 0, 0, 0, 0, 0, 0, 0, 0, 0, 0, 0, 0, 0, 0, 0, 0, 0, 0, 0, 0, 0, 0, 0, 0, 0, 0, 0, 0, 0, 0, 0, 0, 0, 0, 0, 0, 0, 0, 0, 0, 0, 0, 0, 0, 0, 0, 0, 0, 0, 0, 0, 0, 0, 0, 0, 0, 0, 0, 0, 0, 0, 0, 0, 0, 0, 0, 0, 0, 0, 0, 0, 0, 0, 0, 0, 0, 0, 0, 0, 0, 0, 0, 0, 0, 0, 0, 0, 0, 0, 0, 0, 0, 0, 0, 0, 0, 0, 0, 0, 0, 0, 0, 0, 0, 0, 0, 0, 0, 0, 0, 0, 0, 0, 0, 0, 0, 0, 0, 0, 0, 0, 0, 0, 0, 0, 0, 0, 0, 0, 0, 0, 0, 0, 0, 0, 0, 0, 0, 0, 0, 0, 0, 0, 0, 0, 0, 0, 0, 0, 0, 0, 0, 0, 0, 1, 0, 0, 0, 0, 0, 0, 0, 0, 0, 0, 0, 0, 0, 0, 0, 0, 0, 0, 0, 0, 0, 0, 0, 0, 0, 0, 0, 0, 0, 1, 0, 0, 0, 0, 0, 0, 0, 0, 0, 0, 0, 0, 0, 0, 0, 0, 0, 0, 0, 0, 0, 0, 0, 0, 0, 0, 0, 0, 0, 0, 0, 0, 0, 0, 0, 0, 0, 0, 0, 0, 0, 0, 0, 0, 0, 0, 0, 0, 0, 0, 0, 0, 0, 0, 0, 0, 0, 0, 0, 0, 0, 0, 0, 0, 0, 0, 0, 0, 0, 0, 0, 0, 0, 0, 0, 0, 0, 0, 0, 0, 0, 0, 0, 0, 0, 0, 0, 0, 0, 0, 0, 0, 0, 0, 0, 0, 0, 0, 0, 0, 0, 0, 0, 0, 0, 0, 0, 0, 0, 0, 0, 0, 0, 0, 0, 0, 0, 0, 0, 0, 0, 0, 0, 0, 0, 0, 0, 0, 0, 0, 0, 0, 0, 0, 0, 0, 0, 0, 0, 0, 0, 0, 0, 0, 0, 0, 0, 0, 0, 0, 0, 0, 0, 0, 0, 0, 0, 0, 0, 0, 0, 0, 0, 0, 0, 0, 0, 0, 0, 0, 0, 0, 0, 0, 0, 0, 0, 0, 0, 0, 0, 0, 0, 0, 0, 0, 0, 0, 0, 0, 0, 0, 0, 0, 0, 0, 0, 0, 0, 0, 0, 0, 0, 0, 0, 0, 0, 0, 0, 0, 0, 0, 0, 0, 0, 0, 0, 0, 0, 0, 0, 0, 0, 0, 0, 0, 0, 0, 0, 0, 0, 0, 0, 0, 0, 0, 0, 0, 0, 0, 0, 0, 0, 0, 0, 0, 0, 0, 0, 0, 0, 0, 0, 0, 0, 0, 0, 0, 0, 0, 0, 0, 0, 0, 0, 0, 0, 0, 0, 0, 0, 0, 0, 0, 0, 0, 0, 0, 0, 0, 0, 0, 0, 0, 0, 0, 0, 0, 0, 0, 0, 0, 0, 0, 0, 0, 0, 0, 0, 0, 0, 0, 0, 0, 0, 0, 0, 0, 0, 0, 0, 0, 0, 0, 0, 0, 0, 0, 0, 0, 0, 0, 0, 0, 0, 0, 0, 0, 0, 0, 0, 0, 0, 0, 0, 0, 0, 0, 0, 0, 0, 0, 0, 0, 0, 0, 0, 0, 0, 0, 0, 0, 0, 0, 0, 0, 0, 0, 0, 0, 0, 0, 0, 0, 0, 0, 0, 0, 0, 0, 0, 0, 0, 0, 0, 0, 0, 0, 0, 1, 0, 0, 0, 0, 0, 0, 0, 0, 0, 0, 0, 0, 0, 0, 0, 0, 0, 0, 0, 0, 0, 0, 0, 0, 0, 0, 0, 0, 0, 0, 0, 0, 0, 0, 0, 0, 0, 0, 0, 0, 0, 0, 0, 0, 0, 0, 0, 0, 0, 0, 0, 0, 0, 0, 0, 0, 0, 0, 0, 0, 0, 0, 0, 0, 0, 0, 0, 0, 0, 0, 0, 0, 0, 0, 0, 0, 0, 0, 0, 0, 0, 0, 0, 0, 0, 0, 0, 0, 0, 0, 0, 0, 0, 0, 0, 0, 0, 0, 0, 0, 0, 0, 0, 0, 0, 0, 0, 0, 0, 0, 0, 0, 0, 0, 0, 0, 0, 0, 0, 0, 0, 0, 0, 0, 0, 0, 0, 0, 0, 0, 0, 0, 0, 0, 0, 0, 0, 0, 0, 0, 0, 0, 0, 0, 0, 0, 0, 0, 0, 0, 0, 0, 0, 0, 0, 0, 0, 0, 0, 0, 0, 0, 0, 0, 0, 0, 0, 0, 0, 0, 0, 0, 0, 0, 0, 0, 0, 0, 0, 0, 0, 0, 0, 0, 0, 0, 0, 0, 0, 0, 0, 0, 0, 0, 0, 0, 0, 0, 0, 0, 0, 0, 0, 0, 0, 0, 0, 0, 0, 0, 0, 0, 0, 0, 0, 0, 0, 0, 0, 0, 0, 0, 0, 0, 0, 0, 0, 0, 0, 0, 0, 0, 0, 0, 0, 0, 0, 0, 0, 0, 0, 0, 0, 0, 0, 0, 0, 0, 0, 0, 0, 0, 0, 1, 0, 0, 0, 0, 0, 0, 0, 0, 0, 0, 0, 0, 0, 0, 0, 0, 0, 0, 0, 0, 0, 0, 0, 0, 0, 0, 0, 0, 0, 0, 0, 0, 0, 0, 0, 0, 0, 0, 0, 0, 0, 0, 0, 0, 0, 0, 0, 0, 0, 0, 0, 0, 0, 0, 0, 0, 0, 0, 0, 0, 0, 0, 0, 0, 0, 0, 0, 0, 0, 0, 0, 0, 0, 0, 0, 0, 0, 0, 0, 0, 0, 0, 0, 0, 0, 0, 1, 0, 0, 0, 0, 0, 0, 0, 0, 0, 0, 0, 0, 0, 0, 0, 0, 0, 0, 0, 0, 0, 0, 0, 0, 0, 0, 0, 0, 0, 0, 0, 0, 0, 0, 0, 0, 0, 0, 0, 0, 0, 0, 0, 0, 0, 0, 0, 0, 0, 0, 0, 0, 0, 0, 0, 0, 0, 0, 0, 0, 0, 0, 0, 0, 0, 0, 0, 0, 0, 0, 0, 0, 0, 0, 0, 0, 0, 0, 0, 0, 0, 0, 0, 0, 0, 0, 0, 0, 0, 0, 0, 0, 0, 0, 0, 0, 0, 0, 0, 0, 0, 0, 0, 0, 0, 0, 0, 0, 0, 0, 0, 0, 0, 0, 0, 0, 0, 0, 0, 0, 0, 0, 0, 0, 0, 0, 0, 0, 0, 0, 0, 0, 0, 0, 0, 0, 0, 0, 0, 0, 0, 0, 0, 0, 0, 0, 0, 0, 0, 0, 0, 0, 0, 0, 0, 0, 0, 0, 0, 0, 0, 0, 0, 0, 0, 0, 0, 0, 0, 0, 0, 0, 0, 0, 0, 0, 0, 0, 0, 0, 0, 0, 0, 0, 0, 0, 0, 0, 0, 0, 0, 0, 0, 0, 0, 0, 0, 0, 0, 0, 0, 0, 0, 0, 0, 0, 0, 0, 0, 0, 0, 0, 0, 0, 0, 0, 0, 0, 0, 0, 0, 0, 0, 0, 0, 0, 0, 0, 0, 0, 0, 0, 0, 0, 0, 0, 0, 0, 0, 0, 0, 0, 0, 0, 0, 0, 0, 0, 0, 0, 0, 0, 1, 0, 0, 0, 0, 0, 0, 0, 0, 0, 0, 0, 0, 0, 0, 0, 0, 0, 0, 0, 0, 0, 0, 0, 0, 0, 0, 0, 0, 0, 0, 0, 0, 0, 0, 0, 0, 0, 0, 0, 0, 0, 0, 0, 0, 0, 0, 0, 0, 0, 0, 0, 0, 0, 0, 0, 1, 0, 0, 0, 0, 0, 0, 0, 0, 0, 0, 0, 0, 0, 0, 0, 0, 0, 0, 0, 0, 0, 0, 0, 0, 0, 0, 0, 0, 0, 0, 0, 0, 0, 0, 0, 0, 0, 0, 0, 0, 0, 0, 0, 0, 0, 0, 0, 0, 0, 0, 0, 0, 0, 0, 0, 0, 0, 0, 0, 0, 0, 0, 0, 0, 0, 0, 0, 0, 0, 0, 0, 0, 0, 0, 0, 0, 0, 0, 0, 0, 0, 0, 0, 0, 0, 0, 0, 0, 0, 0, 0, 0, 0, 0, 0, 0, 0, 0, 0, 0, 0, 0, 0, 0, 0, 0, 0, 0, 0, 0, 0, 0, 0, 0, 0, 0, 0, 0, 0, 0, 0, 0, 0, 0, 0, 0, 0, 0, 0, 0, 0, 0, 0, 0, 0, 0, 0, 0, 0, 0, 0, 0, 0, 0, 0, 0, 0, 0, 0, 0, 0, 0, 0, 0, 0, 0, 0, 0, 0, 0, 0, 0, 0, 0, 0, 0, 0, 0, 0, 0, 0, 0, 0, 0, 0, 0, 0, 0, 0, 0, 0, 0, 0, 0, 0, 0, 0, 0, 0, 0, 0, 0, 0, 0, 0, 0, 0, 0, 0, 0, 0, 0, 0, 0, 0, 0, 0, 0, 0, 0, 0, 0, 0, 0, 0, 0, 0, 0, 0, 0, 0, 0, 0, 0, 0, 0, 0, 0, 0, 0, 0, 0, 0, 0, 0, 0, 0, 0, 0, 0, 0, 0, 0, 0, 0, 0, 0, 0, 0, 0, 0, 0, 0, 0, 0, 0, 0, 0, 0, 0, 0, 0, 0, 0, 0, 0, 0, 0, 0, 0, 0, 0, 0, 0, 0, 0, 0, 0, 0, 0, 0, 0, 0, 0, 0, 0, 0, 0, 0, 0, 0, 0, 0, 0, 0, 0, 0, 0, 0, 0, 0, 0, 0, 0, 0, 0, 0, 0, 0, 0, 0, 0, 0, 0, 0, 0, 0, 0, 0, 0, 0, 0, 0, 0, 0, 0, 0, 0, 0, 0, 0, 0, 0, 0, 0, 0, 0, 0, 0, 0, 0, 0, 0, 0, 0, 0, 0, 0, 0, 0, 0, 0, 0, 0, 0, 0, 0, 0, 0, 0, 0, 0, 0, 0, 0, 0, 0, 0, 0, 0, 0, 0, 0, 0, 0, 0, 0, 0, 0, 0, 0, 0, 0, 0, 0, 0, 0, 0, 0, 0, 0, 0, 0, 0, 0, 0, 0, 0, 0, 0, 0, 0, 0, 0, 0, 0, 0, 0, 0, 0, 0, 0, 0, 0, 0, 0, 0, 0, 0, 0, 0, 0, 0, 0, 0, 0, 0, 0, 0, 0, 0, 0, 0, 0, 0, 0, 0, 0, 0, 0, 0, 0, 0, 0, 0, 0, 0, 0, 0, 0, 0, 0, 0, 0, 0, 0, 0, 0, 0, 0, 0, 0, 0, 0, 0, 0, 0, 0, 0, 0, 0, 0, 0, 0, 0, 0, 0, 0, 0, 0, 0, 0, 0, 0, 0, 0, 0, 0, 0, 0, 0, 0, 0, 0, 0, 0, 0, 0, 0, 0, 0, 0, 0, 0, 0, 0, 0, 0, 0, 0, 0, 0, 0, 0, 0, 0, 0, 0, 0, 0, 0, 0, 0, 0, 0, 0, 0, 0, 0, 0, 0, 0, 0, 0, 0, 0, 0, 0, 0, 0, 0, 0, 0, 0, 0, 0, 0, 0, 0, 0, 0, 0, 0, 0, 0, 0, 0, 0, 0, 0, 0, 0, 0, 0, 0, 0, 0, 0, 0, 0, 0, 0, 0, 0, 0, 0, 0, 0, 0, 0, 0, 0, 0, 0, 0, 0, 0, 0, 0, 0, 0, 0, 0, 0, 0, 0, 0, 0, 0, 0, 0, 0, 0, 0, 0, 0, 0, 0, 0, 0, 0, 0, 0, 0, 0, 0, 0, 0, 0, 0, 0, 0, 0, 0, 0, 0, 0, 0, 0, 0, 0, 0, 0, 0, 0, 0, 0, 0, 0, 0, 0, 0, 0, 0, 0, 0, 0, 0, 0, 0, 0, 0, 0, 0, 0, 0, 0, 0, 0, 0, 0, 0, 0, 0, 0, 0, 0, 0, 0, 0, 0, 0, 0, 0, 0, 0, 0, 0, 0, 0, 0, 1, 0, 0, 0, 0, 0, 0, 0, 0, 0, 0, 0, 0, 0, 0, 0, 0, 0, 0, 0, 0, 0, 0, 0, 0, 0, 0, 0, 0, 0, 0, 0, 0, 0, 0, 0, 0, 0, 0, 0, 0, 0, 0, 0, 0, 0, 0, 0, 0, 0, 0, 0, 0, 0, 0, 0, 0, 0, 0, 0, 0, 0, 0, 0, 0, 0, 0, 0, 0, 0, 0, 0, 0, 0, 0, 1, 0, 0, 0, 0, 0, 0, 0, 0, 0, 0, 0, 0, 0, 0, 0, 0, 0, 0, 0, 0, 1, 0, 0, 1, 0, 0, 0, 0, 0, 0, 0, 0, 0, 0, 0, 0, 0, 0, 0, 0, 0, 0, 0, 0, 0, 0, 0, 0, 0, 0, 0, 0, 0, 0, 0, 0, 0, 0, 0, 0, 0, 0, 0, 0, 0, 0, 0, 0, 0, 0, 0, 0, 0, 0, 0, 0, 0, 0, 0, 0, 0, 0, 0, 0, 0, 0, 0, 0, 0, 0, 0, 0, 0, 0, 0, 0, 0, 0, 0, 0, 0, 0, 0, 0, 0, 0, 0, 0, 0, 0, 0, 0, 0, 0, 0, 0, 0, 0, 0, 0, 0, 0, 0, 0, 0, 0, 0, 0, 0, 0, 0, 0, 0, 0, 0, 0, 0, 0, 0, 0, 0, 0, 0, 0, 0, 0, 0, 0, 0, 0, 0, 0, 0, 0, 0, 0, 0, 0, 0, 0, 0, 0, 0, 0, 0, 0, 0, 0, 0, 0, 0, 0, 0, 0, 0, 0, 0, 0, 0, 0, 0, 0, 0, 0, 0, 0, 0, 0, 0, 0, 0, 0, 0, 0, 0, 0, 0, 0, 0, 0, 0, 0, 0, 0, 0, 0, 0, 0, 0, 0, 0, 0, 0, 0, 0, 0, 0, 0, 0, 0, 0, 0, 0, 0, 0, 0, 0, 0, 0, 0, 0, 0, 0, 0, 0, 0, 0, 0, 0, 0, 0, 0, 0, 0, 0, 0, 0, 0, 0, 0, 0, 0, 0, 0, 0, 0, 0, 0, 0, 0, 0, 0, 0, 0, 0, 0, 0, 0, 0, 0, 0, 0, 0, 0, 0, 0, 0, 0, 0, 0, 0, 0, 0, 0, 0, 0, 0, 0, 0, 0, 0, 0, 0, 0, 0, 0, 0, 0, 0, 0, 0, 0, 0, 0, 0, 0, 0, 0, 0, 0, 0, 0, 0, 0, 0, 0, 0, 0, 0, 0, 0, 0, 0, 0, 0, 0, 0, 0, 0, 0, 0, 0, 0, 0, 0, 0, 0, 0, 0, 0, 0, 0, 0, 0, 0, 0, 0, 0, 0, 0, 0, 0, 0, 0, 0, 0, 0, 0, 0, 0, 0, 0, 0, 0, 0, 0, 0, 0, 0, 0, 0, 0, 0, 0, 0, 0, 0, 0, 0, 0, 0, 0, 0, 0, 0, 0, 0, 0, 0, 0, 0, 0, 0, 0, 0, 0, 0, 0, 0, 0, 0, 0, 0, 0, 0, 0, 0, 0, 0, 0, 0, 0, 0, 0, 0, 0, 0, 0, 0, 0, 0, 0, 0, 0, 0, 0, 0, 0, 0, 0, 0, 0, 0, 0, 0, 0, 0, 0, 0, 0, 0, 0, 0, 0, 0, 0, 0, 0, 0, 0, 0, 0, 0, 0, 0, 0, 0, 0, 0, 0, 0, 0, 0, 0, 0, 0, 0, 0, 0, 0, 0, 0, 0, 0, 0, 0, 0, 0, 0, 0, 0, 0, 0, 0, 0, 0, 0, 0, 0, 0, 1, 0, 0, 0, 0, 0, 0, 0, 0, 0, 0, 0, 0, 0, 0, 0, 0, 0, 0, 0, 0, 0, 0, 0, 0, 0, 0, 0, 0, 0, 0, 0, 0, 0, 0, 0, 0, 0, 0, 0, 0, 0, 0, 0, 0, 0, 0, 0, 0, 0, 0, 0, 0, 0, 0, 0, 0, 0, 0, 0, 0, 0, 0, 0, 0, 0, 0, 0, 0, 0, 0, 0, 0, 0, 0, 0, 0, 0, 0, 0, 0, 0, 0, 0, 0, 0, 0, 0, 0, 0, 0, 0, 0, 0, 0, 0, 0, 0, 0, 0, 0, 0, 0, 0, 0, 0, 0, 0, 0, 0, 0, 0, 0, 0, 0, 0, 0, 0, 0, 0, 0, 0, 0, 0, 0, 0, 0, 0, 0, 0, 0, 0, 0, 0, 0, 0, 0, 0, 0, 0, 0, 0, 0, 0, 0, 0, 0, 0, 0, 0, 0, 0, 0, 0, 0, 0, 0, 0, 0, 0, 0, 0, 0, 0, 0, 0, 0, 0, 0, 0, 0, 0, 0, 0, 0, 0, 0, 0, 0, 0, 0, 0, 0, 0, 0, 0, 0, 0, 0, 0, 0, 0, 0, 0, 0, 0, 0, 0, 0, 0, 0, 0, 0, 0, 0, 0, 0, 0, 0, 0, 0, 0, 0, 0, 0, 0, 0, 0, 0, 0, 0, 0, 0, 0, 0, 0, 0, 0, 0, 0, 0, 0, 0, 0, 0, 0, 0, 0, 0, 0, 0, 0, 0, 0, 0, 0, 0, 0, 0, 0, 0, 0, 0, 0, 0, 0, 0, 0, 0, 0, 0, 0, 0, 0, 0, 0, 0, 0, 0, 0, 0, 0, 0, 0, 0, 0, 0, 0, 0, 0, 0, 0, 0, 0, 0, 0, 0, 0, 0, 0, 0, 0, 0, 0, 0, 0, 0, 0, 0, 0, 0, 0, 0, 0, 0, 0, 0, 0, 0, 0, 0, 0, 0, 0, 0, 0, 0, 0, 0, 0, 0, 0, 0, 0, 0, 0, 0, 0, 0, 0, 0, 0, 0, 0, 0, 0, 0, 0, 0, 0, 0, 0, 0, 0, 0, 0, 0, 0, 0, 0, 0, 0, 0, 0, 0, 0, 0, 0, 0, 0, 0, 0, 0, 0, 0, 0, 0, 0, 0, 0, 0, 0, 0, 0, 0, 0, 0, 0, 0, 0, 0, 0, 0, 0, 0, 0, 0, 0, 0, 0, 0, 0, 0, 0, 0, 0, 0, 0, 0, 0, 0, 0, 0, 0, 0, 0, 0, 0, 0, 0, 0, 0, 0, 0, 0, 0, 0, 0, 0, 0, 0, 0, 0, 0, 0, 0, 0, 0, 0, 0, 0, 0, 0, 0, 0, 0, 0, 0, 0, 0, 0, 0, 0, 0, 0, 0, 0, 0, 0, 0, 0, 0, 0, 0, 0, 0, 0, 0, 0, 0, 0, 0, 0, 0, 0, 0, 0, 0, 0, 0, 0, 0, 0, 0, 0, 0, 0, 0, 0, 0, 0, 0, 0, 0, 0, 0, 0, 0, 0, 0, 0, 0, 0, 0, 0, 0, 0, 0, 0, 0, 0, 0, 0, 0, 0, 0, 0, 0, 0, 0, 0, 0, 0, 1, 0, 0, 0, 0, 0, 0, 0, 0, 0, 0, 0, 0, 0, 0, 0, 0, 0, 0, 0, 0, 0, 0, 0, 0, 0, 0, 0, 0, 0, 0, 0, 0, 0, 0, 0, 2, 0, 0, 0, 0, 0, 0, 0, 0, 0, 0, 0, 0, 0, 0, 0, 0, 0, 0, 0, 0, 0, 0, 0, 0, 0, 0, 0, 0, 0, 0, 0, 0, 0, 0, 0, 0, 0, 0, 0, 0, 1, 0, 0, 0, 0, 0, 0, 0, 0, 0, 0, 0, 0, 0, 0, 0, 0, 0, 0, 0, 0, 0, 0, 0, 0, 0, 0, 0, 0, 0, 0, 0, 0, 0, 0, 0, 0, 0, 0, 0, 0, 0, 0, 0, 0, 0, 0, 0, 0, 0, 0, 0, 0, 0, 0, 0, 0, 0, 0, 0, 0, 0, 0, 0, 0, 0, 0, 0, 0, 0, 0, 0, 0, 0, 0, 0, 0, 0, 0, 0, 0, 0, 0, 0, 0, 0, 0, 0, 0, 0, 0, 0, 0, 0, 0, 0, 0, 0, 0, 0, 0, 0, 0, 0, 0, 0, 0, 0, 0, 0, 0, 0, 0, 0, 0, 0, 0, 0, 0, 0, 0, 0, 0, 0, 0, 0, 0, 0, 0, 0, 0, 0, 0, 0, 0, 0, 0, 0, 0, 0, 0, 0, 0, 0, 0, 0, 0, 0, 0, 0, 0, 0, 0, 0, 0, 0, 0, 0, 0, 0, 0, 0, 0, 0, 0, 0, 0, 0, 0, 0, 0, 0, 0, 0, 0, 0, 0, 0, 0, 0, 0, 0, 0, 0, 0, 0, 0, 0, 0, 0, 0, 0, 0, 0, 0, 0, 0, 0, 0, 0, 0, 0, 0, 0, 0, 0, 0, 0, 0, 0, 0, 0, 0, 0, 0, 0, 0, 0, 0, 0, 0, 0, 0, 0, 0, 0, 0, 0, 0, 0, 0, 0, 0, 0, 0, 0, 0, 0, 0, 0, 0, 0, 0, 0, 0, 0, 0, 0, 0, 0, 0, 0, 0, 0, 0, 0, 0, 0, 0, 0, 0, 0, 0, 0, 0, 0, 0, 0, 0, 0, 0, 0, 0, 0, 0, 0, 0, 0, 0, 0, 0, 0, 0, 0, 0, 0, 0, 0, 0, 0, 0, 0, 0, 0, 0, 0, 0, 0, 0, 0, 0, 0, 0, 0, 0, 0, 0, 0, 0, 0, 0, 0, 0, 0, 0, 0, 0, 0, 0, 0, 0, 0, 0, 0, 0, 0, 0, 0, 0, 0, 0, 0, 0, 0, 0, 0, 0, 0, 0, 0, 0, 0, 0, 0, 0, 0, 0, 0, 0, 0, 0, 0, 0, 0, 0, 0, 0, 0, 0, 0, 0, 0, 0, 0, 0, 0, 0, 0, 0, 0, 0, 0, 0, 0, 0, 0, 0, 0, 0, 0, 0, 0, 0, 0, 0, 0, 0, 0, 0, 0, 0, 0, 0, 0, 0, 0, 0, 0, 0, 0, 0, 0, 0, 0, 0, 0, 0, 0, 0, 0, 0, 0, 0, 0, 0, 0, 0, 0, 0, 0, 0, 0, 0, 0, 0, 0, 0, 0, 0, 0, 0, 0, 0, 0, 0, 0, 0, 0, 0, 0, 0, 0, 0, 0, 0, 0, 0, 0, 0, 0, 0, 0, 0, 0, 0, 0, 0, 0, 0, 0, 0, 0, 0, 0, 0, 0, 0, 0, 0, 0, 0, 0, 0, 0, 0, 0, 0, 0, 0, 0, 0, 0, 0, 0, 0, 0, 0, 0, 0, 0, 0, 0, 0, 0, 0, 0, 0, 0, 1, 0, 0, 0, 0, 0, 0, 0, 0, 0, 0, 0, 0, 0, 0, 0, 0, 0, 0, 0, 0, 0, 0, 0, 0, 0, 0, 0, 0, 0, 0, 0, 0, 0, 0, 0, 0, 0, 0, 0, 0, 0, 0, 0, 0, 0, 0, 0, 0, 0, 0, 0, 0, 0, 0, 0, 0, 0, 0, 0, 0, 0, 0, 0, 0, 0, 0, 0, 0, 0, 0, 0, 0, 0, 0, 0, 0, 0, 0, 0, 0, 0, 0, 0, 0, 0, 0, 0, 0, 0, 0, 0, 0, 0, 0, 0, 0, 0, 0, 0, 0, 0, 0, 0, 0, 0, 0, 0, 0, 0, 0, 2, 0, 0, 0, 0, 0, 0, 0, 0, 0, 0, 0, 0, 0, 0, 0, 0, 0, 0, 0, 0, 0, 0, 0, 0, 0, 0, 0, 0, 0, 0, 0, 0, 0, 0, 0, 0, 0, 0, 0, 0, 0, 0, 0, 0, 0, 0, 0, 0, 0, 0, 0, 0, 0, 0, 0, 0, 0, 0, 0, 0, 0, 0, 0, 0, 0, 0, 0, 0, 0, 0, 0, 0, 0, 0, 0, 0, 0, 0, 0, 0, 0, 0, 0, 0, 0, 0, 0, 0, 0, 0, 0, 0, 0, 0, 0, 0, 0, 0, 0, 0, 0, 0, 0, 0, 0, 0, 0, 0, 0, 0, 0, 0, 0, 0, 0, 0, 0, 0, 0, 0, 0, 0, 0, 0, 0, 0, 0, 0, 0, 0, 0, 0, 0, 0, 0, 0, 0, 0, 0, 0, 0, 0, 0, 0, 0, 0, 0, 0, 0, 0, 0, 0, 0, 0, 0, 0, 0, 0, 0, 0, 0, 0, 0, 0, 0, 0, 0, 0, 0, 0, 0, 0, 0, 0, 0, 0, 0, 0, 0, 0, 0, 0, 0, 0, 0, 0, 0, 0, 0, 0, 0, 0, 0, 0, 0, 0, 0, 0, 0, 0, 0, 0, 0, 0, 0, 0, 0, 0, 0, 0, 0, 0, 0, 0, 0, 0, 0, 0, 0, 0, 0, 0, 0, 0, 0, 0, 0, 0, 0, 0, 0, 0, 0, 0, 0, 0, 0, 0, 0, 0, 0, 0, 0, 0, 0, 0, 0, 0, 0, 0, 0, 0, 0, 0, 0, 0, 0, 0, 0, 0, 0, 0, 0, 0, 0, 0, 0, 0, 0, 0, 0, 0, 0, 0, 0, 0, 0, 0, 0, 0, 0, 0, 0, 0, 0, 0, 0, 0, 0, 0, 0, 0, 0, 0, 0, 0, 0, 0, 0, 0, 0, 0, 0, 0, 0, 0, 0, 0, 0, 0, 0, 0, 0, 0, 0, 0, 0, 0, 0, 0, 0, 0, 0, 0, 0, 0, 0, 0, 0, 0, 0, 0, 0, 0, 0, 0, 0, 0, 0, 0, 0, 0, 0, 0, 0, 0, 0, 0, 0, 0, 0, 0, 0, 0, 0, 0, 0, 0, 0, 0, 0, 0, 0, 0, 0, 0, 0, 0, 0, 0, 0, 0, 0, 0, 0, 0, 0, 0, 0, 0, 0, 0, 0, 0, 0, 0, 0, 0, 0, 0, 0, 0, 0, 0, 0, 0, 0, 0, 0, 0, 0, 0, 0, 0, 0, 0, 0, 0, 0, 0, 0, 0, 0, 0, 0, 0, 0, 0, 0, 0, 0, 0, 0, 0, 0, 0, 0, 0, 0, 0, 0, 0, 0, 0, 0, 0, 0, 0, 0, 0, 0, 0, 0, 0, 0, 0, 0, 0, 0, 0, 0, 0, 0, 0, 0, 0, 0, 0, 0, 0, 0, 0, 0, 0, 0, 0, 0, 0, 0, 0, 0, 0, 0, 0, 0, 0, 0, 0, 0, 0, 0, 0, 0, 0, 0, 0, 0, 0, 0, 0, 0, 0, 0, 0, 0, 0, 0, 0, 0, 0, 0, 0, 0, 0, 0, 0, 0, 0, 0, 0, 0, 0, 0, 0, 0, 0, 0, 0, 0, 0, 0, 0, 0, 0, 0, 0, 0, 0, 0, 0, 0, 0, 0, 0, 0, 0, 0, 0, 0, 0, 0, 0, 0, 0, 0, 0, 0, 0, 0, 0, 0, 0, 0, 0, 0, 0, 0, 0, 0, 0, 0, 0, 0, 0, 0, 0, 0, 0, 0, 0, 0, 0, 0, 0, 0, 0, 0, 0, 0, 0, 0, 0, 0, 0, 0, 0, 0, 0, 0, 0, 0, 0, 0, 0, 0, 0, 0, 0, 0, 0, 0, 0, 0, 0, 0, 0, 0, 0, 0, 0, 0, 0, 0, 0, 0, 0, 0, 0, 0, 0, 0, 0, 0, 0, 0, 0, 0, 0, 0, 0, 0, 0, 0, 0, 0, 0, 0, 0, 0, 0, 0, 0, 0, 0, 0, 0, 0, 0, 0, 0, 0, 0, 0, 0, 0, 0, 0, 0, 0, 0, 0, 0, 0, 0, 0, 0, 0, 0, 0, 0, 0, 0, 0, 0, 0, 0, 0, 0, 0, 0, 0, 0, 0, 0, 0, 0, 0, 0, 0, 0, 1, 0, 0, 0, 0, 0, 0, 0, 0, 0, 0, 0, 0, 0, 0, 0, 0, 0, 0, 0, 0, 0, 0, 0, 0, 0, 0, 0, 0, 0, 0, 0, 0, 0, 0, 0, 0, 0, 0, 0, 0, 0, 0, 0, 0, 0, 0, 0, 0, 0, 0, 0, 0, 0, 0, 0, 0, 0, 0, 0, 0, 0, 0, 0, 0, 0, 0, 0, 0, 0, 0, 0, 0, 0, 0, 0, 0, 0, 0, 0, 0, 0, 0, 0, 0, 0, 0, 0, 0, 0, 0, 0, 0, 0, 0, 0, 0, 0, 0, 0, 0, 0, 0, 0, 0, 0, 0, 0, 1, 0, 0, 0, 0, 0, 0, 0, 0, 0, 0, 0, 0, 0, 0, 0, 0, 0, 0, 0, 0, 0, 0, 0, 0, 0, 0, 0, 0, 0, 0, 0, 0, 0, 0, 0, 0, 0, 0, 0, 0, 0, 0, 0, 0, 0, 0, 0, 0, 0, 0, 0, 0, 0, 0, 0, 0, 0, 0, 0, 0, 0, 0, 0, 0, 0, 0, 0, 0, 0, 0, 0, 0, 0, 0, 0, 0, 0, 0, 0, 0, 0, 0, 0, 0, 0, 0, 0, 0, 0, 0, 0, 0, 0, 0, 0, 0, 0, 0, 0, 0, 0, 0, 0, 0, 0, 0, 0, 0, 0, 0, 0, 0, 0, 0, 0, 0, 0, 0, 0, 0, 0, 0, 0, 0, 0, 0, 0, 0, 0, 0, 0, 0, 0, 0, 0, 0, 0, 0, 0, 0, 0, 0, 0, 0, 0, 0, 0, 0, 0, 0, 0, 0, 0, 0, 0, 0, 0, 0, 0, 0, 0, 0, 0, 0, 0, 0, 0, 0, 0, 0, 0, 0, 0, 0, 0, 0, 0, 0, 0, 0, 0, 0, 0, 0, 0, 0, 0, 0, 0, 0, 0, 0, 0, 0, 0, 0, 0, 0, 0, 0, 0, 0, 0, 0, 0, 0, 0, 0, 0, 0, 0, 0, 0, 0, 0, 0, 0, 0, 0, 0, 0, 0, 0, 0, 0, 0, 0, 0, 0, 0, 0, 0, 0, 0, 0, 0, 0, 0, 0, 0, 0, 0, 0, 0, 0, 0, 0, 0, 0, 0, 0, 0, 0, 0, 0, 0, 0, 0, 0, 0, 0, 0, 0, 0, 0, 0, 0, 0, 0, 0, 0, 0, 0, 0, 0, 0, 0, 0, 0, 0, 0, 0, 0, 0, 0, 0, 0, 0, 0, 0, 0, 0, 0, 0, 0, 0, 0, 0, 0, 0, 0, 0, 0, 0, 0, 0, 0, 0, 0, 0, 0, 0, 0, 0, 0, 0, 0, 0, 0, 0, 0, 0, 0, 0, 0, 0, 0, 0, 0, 0, 0, 0, 0, 0, 0, 0, 0, 0, 0, 0, 0, 0, 0, 0, 0, 0, 0, 0, 0, 0, 0, 0, 0, 0, 0, 0, 0, 0, 0, 0, 0, 0, 0, 0, 0, 0, 0, 0, 0, 0, 0, 0, 0, 0, 0, 0, 0, 0, 0, 0, 0, 0, 0, 0, 0, 0, 0, 0, 0, 0, 0, 0, 0, 0, 0, 0, 0, 0, 0, 0, 0, 0, 0, 0, 0, 0, 0, 0, 0, 0, 0, 0, 0, 0, 0, 0, 0, 0, 0, 0, 0, 0, 0, 0, 0, 0, 0, 0, 0, 0, 0, 0, 0, 0, 0, 0, 0, 0, 0, 0, 0, 0, 0, 0, 0, 0, 0, 0, 0, 0, 0, 0, 0, 0, 0, 0, 0, 0, 0, 0, 0, 0, 0, 2, 0, 1, 0], type: <class 'list'>, valid types: <class 'bytes'>, <class 'bytearray'>, file-like object"
     ]
    }
   ],
   "source": [
    "response = runtime.invoke_endpoint(EndpointName = xgb_predictor.endpoint, # The name of the endpoint we created\n",
    "                                       ContentType = 'text/csv',                     # The data format that is expected\n",
    "                                       Body = test_bow)"
   ]
  },
  {
   "cell_type": "markdown",
   "metadata": {},
   "source": [
    "So why did we get an error?\n",
    "\n",
    "Because we tried to send the endpoint a list of integers but it expected us to send data of type `text/csv`. So, we need to convert it."
   ]
  },
  {
   "cell_type": "code",
   "execution_count": 43,
   "metadata": {},
   "outputs": [],
   "source": [
    "response = runtime.invoke_endpoint(EndpointName = xgb_predictor.endpoint, # The name of the endpoint we created\n",
    "                                       ContentType = 'text/csv',                     # The data format that is expected\n",
    "                                       Body = ','.join([str(val) for val in test_bow]).encode('utf-8'))"
   ]
  },
  {
   "cell_type": "code",
   "execution_count": 44,
   "metadata": {},
   "outputs": [
    {
     "name": "stdout",
     "output_type": "stream",
     "text": [
      "{'ResponseMetadata': {'RequestId': '9da6aab6-ec15-4e47-99ee-3e84af919e5a', 'HTTPStatusCode': 200, 'HTTPHeaders': {'x-amzn-requestid': '9da6aab6-ec15-4e47-99ee-3e84af919e5a', 'x-amzn-invoked-production-variant': 'AllTraffic', 'date': 'Thu, 14 May 2020 22:14:08 GMT', 'content-type': 'text/csv; charset=utf-8', 'content-length': '14'}, 'RetryAttempts': 0}, 'ContentType': 'text/csv; charset=utf-8', 'InvokedProductionVariant': 'AllTraffic', 'Body': <botocore.response.StreamingBody object at 0x7f076bbbf518>}\n"
     ]
    }
   ],
   "source": [
    "print(response)"
   ]
  },
  {
   "cell_type": "markdown",
   "metadata": {},
   "source": [
    "As we can see, the response from our model is a somewhat complicated looking dict that contains a bunch of information. The bit that we are most interested in is `'Body'` object which is a streaming object that we need to `read` in order to make use of."
   ]
  },
  {
   "cell_type": "code",
   "execution_count": 45,
   "metadata": {},
   "outputs": [
    {
     "name": "stdout",
     "output_type": "stream",
     "text": [
      "0.394430756569\n"
     ]
    }
   ],
   "source": [
    "response = response['Body'].read().decode('utf-8')\n",
    "print(response)"
   ]
  },
  {
   "cell_type": "markdown",
   "metadata": {},
   "source": [
    "Now that we know how to process the incoming user data we can start setting up the infrastructure to make our simple web app work. To do this we will make use of two different services. Amazon's Lambda and API Gateway services.\n",
    "\n",
    "Lambda is a service which allows someone to write some relatively simple code and have it executed whenever a chosen trigger occurs. For example, you may want to update a database whenever new data is uploaded to a folder stored on S3.\n",
    "\n",
    "API Gateway is a service that allows you to create HTTP endpoints (url addresses) which are connected to other AWS services. One of the benefits to this is that you get to decide what credentials, if any, are required to access these endpoints.\n",
    "\n",
    "In our case we are going to set up an HTTP endpoint through API Gateway which is open to the public. Then, whenever anyone sends data to our public endpoint we will trigger a Lambda function which will send the input (in our case a review) to our model's endpoint and then return the result."
   ]
  },
  {
   "cell_type": "markdown",
   "metadata": {},
   "source": [
    "### Setting up a Lambda function\n",
    "\n",
    "The first thing we are going to do is set up a Lambda function. This Lambda function will be executed whenever our public API has data sent to it. When it is executed it will receive the data, perform any sort of processing that is required, send the data (the review) to the SageMaker endpoint we've created and then return the result.\n",
    "\n",
    "#### Part A: Create an IAM Role for the Lambda function\n",
    "\n",
    "Since we want the Lambda function to call a SageMaker endpoint, we need to make sure that it has permission to do so. To do this, we will construct a role that we can later give the Lambda function.\n",
    "\n",
    "Using the AWS Console, navigate to the **IAM** page and click on **Roles**. Then, click on **Create role**. Make sure that the **AWS service** is the type of trusted entity selected and choose **Lambda** as the service that will use this role, then click **Next: Permissions**.\n",
    "\n",
    "In the search box type `sagemaker` and select the check box next to the **AmazonSageMakerFullAccess** policy. Then, click on **Next: Review**.\n",
    "\n",
    "Lastly, give this role a name. Make sure you use a name that you will remember later on, for example `LambdaSageMakerRole`. Then, click on **Create role**."
   ]
  },
  {
   "cell_type": "markdown",
   "metadata": {},
   "source": [
    "#### Part B: Create a Lambda function\n",
    "\n",
    "Now it is time to actually create the Lambda function. Remember from earlier that in order to process the user provided input and send it to our endpoint we need to gather two pieces of information:\n",
    "\n",
    " - The name of the endpoint, and\n",
    " - the vocabulary object.\n",
    "\n",
    "We will copy these pieces of information to our Lambda function after we create it.\n",
    "\n",
    "To start, using the AWS Console, navigate to the AWS Lambda page and click on **Create a function**. When you get to the next page, make sure that **Author from scratch** is selected. Now, name your Lambda function, using a name that you will remember later on, for example `sentiment_analysis_xgboost_func`. Make sure that the **Python 3.6** runtime is selected and then choose the role that you created in the previous part. Then, click on **Create Function**.\n",
    "\n",
    "On the next page you will see some information about the Lambda function you've just created. If you scroll down you should see an editor in which you can write the code that will be executed when your Lambda function is triggered. Collecting the code we wrote above to process a single review and adding it to the provided example `lambda_handler` we arrive at the following.\n",
    "\n",
    "```python\n",
    "# We need to use the low-level library to interact with SageMaker since the SageMaker API\n",
    "# is not available natively through Lambda.\n",
    "import boto3\n",
    "\n",
    "# And we need the regular expression library to do some of the data processing\n",
    "import re\n",
    "\n",
    "REPLACE_NO_SPACE = re.compile(\"(\\.)|(\\;)|(\\:)|(\\!)|(\\')|(\\?)|(\\,)|(\\\")|(\\()|(\\))|(\\[)|(\\])\")\n",
    "REPLACE_WITH_SPACE = re.compile(\"(<br\\s*/><br\\s*/>)|(\\-)|(\\/)\")\n",
    "\n",
    "def review_to_words(review):\n",
    "    words = REPLACE_NO_SPACE.sub(\"\", review.lower())\n",
    "    words = REPLACE_WITH_SPACE.sub(\" \", words)\n",
    "    return words\n",
    "    \n",
    "def bow_encoding(words, vocabulary):\n",
    "    bow = [0] * len(vocabulary) # Start by setting the count for each word in the vocabulary to zero.\n",
    "    for word in words.split():  # For each word in the string\n",
    "        if word in vocabulary:  # If the word is one that occurs in the vocabulary, increase its count.\n",
    "            bow[vocabulary[word]] += 1\n",
    "    return bow\n",
    "\n",
    "\n",
    "def lambda_handler(event, context):\n",
    "    \n",
    "    vocab = \"*** ACTUAL VOCABULARY GOES HERE ***\"\n",
    "    \n",
    "    words = review_to_words(event['body'])\n",
    "    bow = bow_encoding(words, vocab)\n",
    "\n",
    "    # The SageMaker runtime is what allows us to invoke the endpoint that we've created.\n",
    "    runtime = boto3.Session().client('sagemaker-runtime')\n",
    "\n",
    "    # Now we use the SageMaker runtime to invoke our endpoint, sending the review we were given\n",
    "    response = runtime.invoke_endpoint(EndpointName = '***ENDPOINT NAME HERE***',# The name of the endpoint we created\n",
    "                                       ContentType = 'text/csv',                 # The data format that is expected\n",
    "                                       Body = ','.join([str(val) for val in bow]).encode('utf-8')) # The actual review\n",
    "\n",
    "    # The response is an HTTP response whose body contains the result of our inference\n",
    "    result = response['Body'].read().decode('utf-8')\n",
    "    \n",
    "    # Round the result so that our web app only gets '1' or '0' as a response.\n",
    "    result = round(float(result))\n",
    "\n",
    "    return {\n",
    "        'statusCode' : 200,\n",
    "        'headers' : { 'Content-Type' : 'text/plain', 'Access-Control-Allow-Origin' : '*' },\n",
    "        'body' : str(result)\n",
    "    }\n",
    "```"
   ]
  },
  {
   "cell_type": "markdown",
   "metadata": {},
   "source": [
    "Once you have copy and pasted the code above into the Lambda code editor, replace the `**ENDPOINT NAME HERE**` portion with the name of the endpoint that we deployed earlier. You can determine the name of the endpoint using the code cell below."
   ]
  },
  {
   "cell_type": "code",
   "execution_count": 46,
   "metadata": {},
   "outputs": [
    {
     "data": {
      "text/plain": [
       "'xgboost-2020-05-14-21-49-31-471'"
      ]
     },
     "execution_count": 46,
     "metadata": {},
     "output_type": "execute_result"
    }
   ],
   "source": [
    "xgb_predictor.endpoint"
   ]
  },
  {
   "cell_type": "markdown",
   "metadata": {},
   "source": [
    "In addition, you will need to copy the vocabulary dict to the appropriate place in the code at the beginning of the `lambda_handler` method. The cell below prints out the vocabulary dict in a way that is easy to copy and paste."
   ]
  },
  {
   "cell_type": "code",
   "execution_count": 47,
   "metadata": {},
   "outputs": [
    {
     "name": "stdout",
     "output_type": "stream",
     "text": [
      "{'oh': 3096, 'sam': 3777, 'we': 4823, 'know': 2489, 'you': 4986, 'tried': 4584, 'so': 4046, 'hard': 2033, 'this': 4457, 'is': 2360, 'your': 4991, 'shining': 3933, 'example': 1553, 'to': 4507, 'the': 4426, 'rest': 3657, 'of': 3083, 'us': 4690, 'that': 4424, 'are': 285, 'certainly': 738, 'worth': 4953, 'nomination': 3026, 'into': 2332, 'academy': 77, 'motion': 2913, 'picture': 3269, 'arts': 310, 'and': 226, 'as': 311, 'state': 4160, 'on': 3105, 'era': 1513, 'web': 4833, 'site': 4005, 'alas': 172, 'its': 2370, 'better': 472, 'remain': 3609, 'silent': 3975, 'be': 418, 'thought': 4462, 'fool': 1779, 'than': 4420, 'speak': 4094, 'all': 187, 'doubt': 1332, 'with': 4911, 'ben': 463, 'arthur': 305, 'do': 1302, 'just': 2437, 'seemingly': 3863, 'lack': 2502, 'or': 3124, 'education': 1424, 'films': 1721, 'screenplay': 3831, 'toward': 4539, 'truly': 4597, 'bizarre': 492, 'each': 1395, 'new': 3003, 'scene': 3809, 'insane': 2296, 'excuse': 1564, 'story': 4207, 'may': 2775, 'also': 199, 'best': 469, 'beginning': 443, 'characters': 760, 'attempt': 340, 'marry': 2745, 'going': 1931, 'far': 1653, 'fly': 1763, 'across': 96, 'country': 1014, 'in': 2257, 'finest': 1730, 'trees': 4577, 'but': 636, 'merely': 2815, 'lead': 2545, 'for': 1784, 'blood': 512, 'then': 4436, 'more': 2904, 'mean': 2779, 'there': 4438, 'must': 2950, 'at': 331, 'least': 2554, '20': 29, 'fake': 1635, 'make': 2713, 'up': 4683, 'final': 1722, 'third': 4455, 'film': 1716, 'technical': 4381, 'from': 1840, 'sound': 4081, 'editing': 1421, 'music': 2946, 'which': 4867, 'consists': 955, 'single': 3996, 'note': 3044, 'being': 448, 'held': 2074, 'wonder': 4926, 'even': 1533, 'holds': 2131, 'together': 4511, 'whatever': 4859, 'media': 2789, 'view': 4736, 'it': 2366, 'such': 4268, 'shame': 3918, 'some': 4061, 'decent': 1147, 'amateur': 206, 'performances': 3229, 'wasted': 4809, 'here': 2086, 'no': 3020, 'matter': 2769, 'im': 2232, 'sure': 4308, 'youve': 4995, 'made': 2697, 'five': 1743, 'figures': 1713, 'flick': 1754, 'drives': 1367, 'poor': 3328, 'souls': 4080, 'myself': 2953, 'sadly': 3769, 'were': 4848, 'not': 3040, 'laughing': 2533, 'finished': 1733, 'seeing': 3857, 'movie': 2926, '10': 0, 'minutes': 2859, 'still': 4188, 'cant': 671, 'believe': 454, 'what': 4858, 'ive': 2372, 'watched': 4813, 'absolutely': 72, 'worst': 4952, 'ever': 1538, 'if': 2222, 'would': 4957, 'list': 2617, 'flaws': 1752, 'review': 3676, 'take': 4349, 'me': 2778, 'lot': 2661, 'very': 4723, 'funny': 1852, 'because': 432, 'bad': 382, 'though': 4461, 'got': 1944, 'amazed': 208, 'skill': 4013, 'assigned': 325, 'rescue': 3643, 'plane': 3288, 'they': 4442, 'didnt': 1242, 'how': 2181, 'move': 2921, 'ice': 2210, 'actor': 103, 'thing': 4450, 'dont': 1324, 'understand': 4643, 'production': 3419, 'wanted': 4789, 'him': 2110, 'like': 2599, 'hero': 2088, 'hes': 2093, 'zero': 4996, 'course': 1019, 'major': 2711, 'will': 4886, 'landing': 2512, 'an': 223, 'only': 3110, 'guy': 2000, 'land': 2511, 'well': 4843, 'dead': 1132, 'had': 2003, 'almost': 193, 'strongly': 4231, 'recommend': 3571, 'watching': 4815, 'interesting': 2325, 'see': 3855, 'can': 665, 'something': 4066, 'get': 1899, 'was': 4805, 'different': 1248, 'show': 3953, 'typical': 4623, 'gay': 1876, 'stereotypes': 4179, 'used': 4693, 'doesnt': 1309, 'change': 749, 'fact': 1621, 'totally': 4532, 'lacks': 2505, 'storyline': 4208, 'many': 2732, 'men': 2805, 'who': 4871, 'happy': 2032, 'themselves': 4435, 'depicted': 1183, 'screen': 3829, 'since': 3990, 'black': 493, 'seen': 3865, 'when': 4862, 'usually': 4700, 'fully': 1847, 'developed': 1223, 'have': 2052, 'been': 438, 'writer': 4968, 'actually': 109, 'script': 3834, 'middle': 2833, 'end': 1468, 'about': 67, 'focused': 1767, 'really': 3556, 'seem': 3861, 'point': 3316, 'low': 2676, 'budget': 610, 'plot': 3309, 'likes': 2602, 'del': 1165, 'kim': 2475, 'involved': 2346, 'piece': 3272, 'garbage': 1870, 'poorly': 3329, 'written': 4972, 'directing': 1260, 'weak': 4824, 'both': 547, 'by': 642, 'same': 3778, 'person': 3238, 'find': 1726, 'one': 3107, 'dialogs': 1233, 'lame': 2510, 'called': 652, 'thriller': 4472, 'laughs': 2534, 'out': 3141, 'few': 1700, 'theatre': 4429, 'watch': 4811, 'chilling': 794, 'suddenly': 4273, 'turns': 4609, 'most': 2909, 'stupid': 4247, 'character': 758, 'dumb': 1385, 'she': 3923, 'stops': 4203, 'scream': 3826, 'god': 1926, 'where': 4864, 'people': 3221, 'after': 143, 'her': 2085, 'follow': 1772, 'takes': 4351, 'apparently': 270, 'wood': 4933, 'world': 4946, 'runs': 3757, 'over': 3148, 'place': 3282, 'killers': 2471, 'never': 3001, 'loose': 2650, 'track': 4544, 'happens': 2029, 'night': 3013, 'makes': 2716, 'writing': 4971, 'hollywood': 2137, 'spend': 4105, 'millions': 2848, 'producing': 3417, 'ok': 3098, 'overrated': 3156, 'bit': 488, 'those': 4460, 'reviews': 3679, 'did': 1241, 'enjoy': 1484, 'laugh': 2529, 'loud': 2664, 'my': 2951, 'interest': 2323, 'pulled': 3462, 'along': 195, 'without': 4913, 'dropping': 1371, 'any': 256, 'built': 618, 'yeah': 4977, 'knew': 2486, 'ending': 1471, 'genre': 1888, 'always': 203, 'does': 1308, 'quirky': 3493, 'sight': 3969, 'gags': 1862, 'could': 1007, 'miss': 2866, 'pay': 3216, 'attention': 345, 'stiller': 4189, 'delivered': 1170, 'yet': 4984, 'again': 146, 'good': 1937, 'team': 4378, 'should': 3951, 'work': 4940, 'cult': 1077, 'classic': 835, 'fun': 1848, 'ride': 3692, 'bob': 524, 'dirty': 1268, 'rotten': 3740, 'way': 4820, 'little': 2624, 'david': 1124, 'lynch': 2691, 'put': 3480, 'wrong': 4973, 'look': 2646, 'think': 4452, 'mind': 2849, 'perhaps': 3235, 'art': 304, 'creator': 1043, 'straight': 4210, 'theres': 4440, 'anything': 260, 'them': 4432, 'anyway': 261, 'through': 4477, 'rural': 3758, 'america': 212, 'real': 3547, 'life': 2592, 'journey': 2421, 'took': 4523, 'his': 2118, 'brothers': 599, 'house': 2178, 'he': 2056, 'miles': 2843, 'sick': 3963, 'brother': 598, 'past': 3207, 'heart': 2064, 'sweet': 4336, 'voiced': 4762, 'richard': 3686, 'brings': 587, 'right': 3696, 'simple': 3983, 'honest': 2146, 'slow': 4031, 'paced': 3162, 'matches': 2764, 'meets': 2795, 'confused': 941, 'young': 4989, 'girl': 1909, 'pregnant': 3369, 'has': 2043, 'decided': 1149, 'run': 3755, 'away': 369, 'situation': 4008, 'listening': 2620, 'family': 1645, 'later': 2525, 'witnesses': 4916, 'woman': 4921, 'kill': 2468, 'car': 680, 'killed': 2469, 'several': 3905, 'leaves': 2556, 'feels': 1687, 'smart': 4035, 'enough': 1491, 'cook': 988, 'dear': 1140, 'meat': 2787, 'loses': 2657, 'nearly': 2981, 'kills': 2474, 'nice': 3008, 'man': 2721, 'wife': 4884, 'let': 2579, 'stay': 4166, 'their': 4431, 'while': 4868, 'gets': 1900, 'call': 651, 'daughter': 1121, 'nicely': 3009, 'played': 3297, 'whose': 4877, 'haunted': 2050, 'terrible': 4407, 'tragedy': 4551, 'own': 3158, 'paying': 3217, 'offers': 3090, 'drive': 1363, 'pleasure': 3306, 'thanks': 4423, 'goes': 1930, 'off': 3084, 'bar': 396, 'old': 3100, 'discuss': 1283, 'war': 4792, 'price': 3389, 'fatal': 1664, 'mistake': 2871, 'forever': 1792, 'encounters': 1467, 'two': 4620, 'talks': 4361, 'down': 1335, 'calling': 653, 'high': 2100, 'costs': 1004, 'helps': 2082, 'appreciate': 279, 'another': 250, 'learning': 2552, 'mistakes': 2873, 'before': 440, 'mans': 2730, 'hat': 2045, 'tells': 4397, 'honor': 2150, 'having': 2054, 'asks': 319, 'write': 4967, 'perfect': 3224, 'simplicity': 3984, 'continues': 971, 'help': 2079, 'want': 4788, 'full': 1846, 'last': 2521, 'performance': 3228, 'amazing': 209, 'pride': 3391, 'listen': 2619, 'wisdom': 4902, 'ultimately': 4628, 'feel': 1684, 'pain': 3170, 'becomes': 434, 'taken': 4350, 'back': 378, 'justice': 2438, 'sitting': 4007, 'lives': 2628, 'hopes': 2159, 'says': 3801, 'stars': 4155, 'spite': 4117, 'rating': 3529, 'engaging': 1481, 'long': 2644, 'chemistry': 782, 'between': 475, 'chaplin': 756, 'acting': 99, 'first': 1736, 'class': 833, 'represented': 3638, 'sometimes': 4067, 'director': 1264, 'couldnt': 1008, 'decide': 1148, 'himself': 2111, 'drama': 1346, 'romantic': 3733, 'comedy': 890, 'portrayal': 3341, 'law': 2538, 'shy': 3962, 'porn': 3336, 'hidden': 2096, 'bedroom': 437, 'creates': 1038, 'plenty': 3307, 'moments': 2887, 'eyes': 1613, 'offering': 3089, 'john': 2409, 'taste': 4369, 'time': 4495, 'other': 3135, 'times': 4497, 'actors': 104, 'especially': 1520, 'give': 1912, 'quite': 3495, 'dramatic': 1348, 'disney': 1289, 'might': 2835, 'kids': 2467, 'ages': 152, 'love': 2669, 'saw': 3798, 'now': 3054, 'years': 4979, 'danny': 1112, 'glover': 1923, 'superb': 4296, 'play': 3296, 'part': 3193, 'christopher': 811, 'lloyd': 2630, 'hilarious': 2106, 'tony': 4521, 'believable': 453, 'mel': 2796, 'clark': 832, 'peter': 3247, 'sellers': 3872, 'plays': 3301, 'dick': 1239, 'ship': 3934, 'captain': 674, 'murders': 2943, 'previous': 3387, 'although': 201, 'witnessed': 4915, 'treasure': 4571, 'buried': 624, 'begins': 444, 'losing': 2658, 'memory': 2804, 'map': 2733, 'blank': 501, 'thus': 4486, 'forced': 1787, 'someone': 4064, 'ghosts': 1903, 'ad': 110, 'path': 3209, 'anyone': 259, 'pointless': 3318, 'former': 1800, 'spike': 4111, 'replaced': 3634, 'given': 1913, 'talents': 4356, 'probably': 3407, 'guess': 1989, 'lit': 2621, 'scenes': 3811, 'directors': 1266, 'chair': 742, 'brief': 579, 'appearance': 274, 'doomed': 1327, 'frankenstein': 1822, 'released': 3603, 'year': 4978, 'filmed': 1717, 'keep': 2449, 'looks': 2649, 'handsome': 2021, 'power': 3359, 'behind': 447, 'pretty': 3384, 'desperate': 1208, 'makeup': 2717, 'hair': 2005, 'looking': 2648, 'filming': 1718, 'lines': 2612, 'these': 4441, 'possible': 3350, 'youll': 4988, 'wont': 4932, 'ill': 2228, 'free': 1827, 'thats': 4425, 'jokes': 2415, 'much': 2934, 'material': 2766, 'available': 361, 'vhs': 4725, '15': 7, 'ago': 154, 'received': 3564, 'british': 589, 'tv': 4610, 'program': 3424, 'fred': 1825, 'starring': 4154, 'directed': 1259, 'great': 1964, 'canadian': 667, 'filmmaker': 1719, 'mary': 2751, 'cultural': 1078, 'laid': 2508, 'bare': 398, 'artistic': 308, 'sixties': 4011, 'hollow': 2135, 'eighties': 1437, 'notorious': 3051, 'bettie': 473, 'page': 3167, 'points': 3319, 'eye': 1611, 'moral': 2902, 'joe': 2407, 'sexual': 3908, 'result': 3660, 'next': 3007, 'decade': 1144, 'co': 867, 'turner': 4607, 'clearly': 840, 'interested': 2324, 'standard': 4144, 'sex': 3907, 'underground': 4640, 'icon': 2211, 'pure': 3471, 'sexuality': 3909, 'revealed': 3671, 'thoughts': 4464, 'culture': 1079, 'beauty': 430, 'nude': 3058, 'body': 527, 'details': 1219, 'concerned': 932, 'why': 4878, 'tragic': 4552, 'period': 3236, 'begin': 442, 'americas': 215, 'attitudes': 347, 'towards': 4540, 'imagery': 2234, 'atmospheric': 334, 'cinematography': 820, 'iii': 2227, 'goal': 1925, 'holding': 2130, 'mirror': 2861, 'making': 2718, 'audience': 352, 'century': 736, 'under': 4639, 'needed': 2988, 'kind': 2476, 'drugs': 1374, 'accused': 91, 'claire': 831, 'danes': 1108, 'kate': 2446, 'drug': 1373, 'go': 1924, 'stinks': 4192, 'prefer': 3368, 'visit': 4755, 'germany': 1898, 'meet': 2793, 'beautiful': 428, 'women': 4923, 'rather': 3528, 'stick': 4185, 'united': 4664, 'states': 4163, 'instead': 2307, 'including': 2264, 'false': 1641, 'left': 2561, 'money': 2888, 'cannot': 670, 'forget': 1793, 'superhero': 4299, 'our': 3139, 'leave': 2555, 'wanting': 4790, 'tough': 4537, 'sorts': 4078, 'detail': 1217, 'action': 100, 'limited': 2606, 'resources': 3651, 'puts': 3481, 'big': 478, 'star': 4150, 'productions': 3420, 'related': 3594, 'movies': 2927, 'main': 2707, 'supporting': 4304, 'act': 97, 'finally': 1724, 'superman': 4301, 'super': 4295, 'batman': 413, 'rubber': 3747, 'ripped': 3701, 'hide': 2097, 'paid': 3169, 'deliver': 1169, 'wish': 4904, 'warner': 4799, 'gives': 1914, 'produce': 3413, 'length': 2569, 'adaptation': 113, 'care': 684, 'theaters': 4428, 'dvd': 1391, 'tired': 4501, 'itself': 2371, 'earned': 1401, 'hope': 2155, 'produced': 3414, 'robin': 3715, 'etc': 1527, 'learn': 2550, 'small': 4033, 'shouldnt': 3952, 'reason': 3557, 'bomb': 531, 'mr': 2929, 'need': 2987, 'collection': 874, 'documentaries': 1306, '11': 2, 'seconds': 3848, 'frame': 1815, 'artists': 309, 'deal': 1135, 'theme': 4433, 'minor': 2857, 'cases': 708, 'others': 3136, 'strong': 4229, 'political': 3324, 'solely': 4056, 'simply': 3986, 'use': 4692, 'touch': 4533, 'human': 2188, 'feelings': 1686, 'emotions': 1461, 'universal': 4665, 'mainstream': 2709, 'fashion': 1659, 'raw': 3532, 'powerful': 3360, 'controversial': 978, 'conservative': 948, 'americans': 214, 'segments': 3868, 'american': 213, 'soldier': 4053, 'come': 886, 'spirits': 4115, 'uk': 4626, '1973': 19, 'deaths': 1142, 'horrible': 2163, 'segment': 3867, 'mexico': 2827, 'fall': 1637, 'resulting': 3661, 'death': 1141, 'vivid': 4760, 'product': 3418, 'uneven': 4649, 'difficult': 1249, 'rank': 3518, 'giving': 1915, 'excellent': 1555, 'covered': 1023, 'issues': 2365, 'japan': 2381, 'succeed': 4262, 'effort': 1432, 'sense': 3877, 'however': 2183, 'lies': 2591, 'problem': 3408, 'intentions': 2321, 'obviously': 3072, 'complex': 923, 'drawn': 1351, 'deep': 1154, 'within': 4912, 'screenwriter': 3833, 'maybe': 2776, 'telling': 4396, 'experiment': 1583, 'face': 1616, 'case': 707, 'moment': 2886, 'meeting': 2794, 'fate': 1665, 'realizes': 3554, 'hit': 2122, 'success': 4265, 'blind': 506, 'chance': 747, 'dreams': 1355, 'reality': 3551, 'nevertheless': 3002, 'room': 3735, 'hint': 2112, 'emotion': 1458, 'tiny': 4500, 'extent': 1605, 'allowing': 191, 'connection': 946, 'school': 3813, 'machine': 2693, 'gun': 1996, 'speed': 4103, 'camera': 659, 'upon': 4684, 'am': 204, 'realize': 3552, 'cuts': 1091, 'movement': 2923, 'effects': 1431, 'atmosphere': 333, 'suppose': 4305, 'purpose': 3474, 'barely': 399, 'came': 656, 'sit': 4003, 'unaware': 4632, 'presence': 3373, 'latter': 2528, 'morgan': 2905, 'freeman': 1829, 'unusual': 4681, 'george': 1893, 'burns': 628, 'bore': 540, 'carrey': 696, 'wannabe': 4787, 'carried': 698, 'frustrated': 1842, 'girlfriend': 1910, 'usual': 4699, 'consider': 949, 'either': 1438, 'ugly': 4625, 'favorite': 1671, 'opened': 3113, 'thinking': 4453, 'hold': 2129, 'history': 2121, 'spot': 4131, 'events': 1536, 'bathroom': 412, 'humor': 2192, 'rolling': 3730, 'number': 3060, 'except': 1556, 'beat': 423, 'brilliant': 583, 'wonderful': 4928, 'loved': 2670, 'stories': 4205, 'kevin': 2457, 'steve': 4181, 'martin': 2748, 'style': 4249, 'whole': 4873, 'speech': 4102, 'gave': 1875, 'near': 2979, 'grand': 1953, 'larry': 2520, 'dialogue': 1234, 'ways': 4822, 'smith': 4038, 'three': 4469, 'dimensional': 1253, 'messages': 2820, 'positive': 3346, 'german': 1896, 'managed': 2723, 'task': 4368, 'horror': 2168, 'fans': 1650, 'impossible': 2249, 'fellow': 1691, 'uwe': 4703, 'boll': 529, 'ed': 1415, 'laughable': 2530, 'proud': 3444, 'embarrassed': 1453, 'say': 3799, 'fascinated': 1657, 'set': 3898, 'answer': 251, 'pit': 3278, 'cast': 710, 'international': 2326, 'lived': 2626, 'los': 2653, 'angeles': 233, 'every': 1539, 'doctor': 1304, 'waiting': 4772, 'discovered': 1280, 'easily': 1406, 'willing': 4889, 'ridiculous': 3693, 'dialog': 1232, 'cop': 991, 'thick': 4447, 'accent': 78, 'aside': 315, 'serial': 3889, 'killer': 2470, 'la': 2500, 'despite': 1211, 'innocent': 2294, 'drags': 1345, 'home': 2142, 'top': 4525, 'floor': 1759, 'plain': 3286, 'refuses': 3587, 'investigate': 2342, 'physically': 3263, 'attack': 337, 'ninja': 3018, 'apartment': 265, 'sets': 3899, 'included': 2262, 'paint': 3173, 'cardboard': 682, 'wall': 4781, 'non': 3027, 'sad': 3767, 'european': 1530, 'possibly': 3351, 'acted': 98, 'native': 2972, 'aged': 149, 'spent': 4108, 'special': 4097, 'locations': 2636, 'value': 4709, 'fair': 1630, 'mention': 2810, 'spring': 4134, 'genuine': 1891, 'police': 3322, 'afford': 138, 'cops': 993, 'cruise': 1071, 'streets': 4217, 'rental': 3627, 'half': 2007, 'focuses': 1768, 'officer': 3092, 'efforts': 1433, 'stop': 4201, 'mess': 2818, 'vague': 4705, 'shot': 3949, 'career': 686, 'fits': 1741, 'tortured': 4530, 'brando': 566, 'needs': 2990, 'appreciated': 280, 'title': 4504, 'zombie': 4997, 'victims': 4730, 'spell': 4104, 'ask': 316, 'resort': 3650, 'murdered': 2940, 'accept': 80, 'logic': 2638, 'absurd': 73, 'hand': 2015, 'girls': 1911, 'manage': 2722, 'exactly': 1551, 'around': 297, 'nothing': 3047, 'zombies': 4998, 'models': 2881, 'ready': 3546, 'creative': 1041, 'large': 2517, 'cheesy': 781, 'trash': 4565, 'soundtrack': 4085, 'talking': 4360, 'noise': 3024, 'stuff': 4243, 'shake': 3914, 'unlike': 4670, 'normal': 3033, 'becoming': 435, 'opportunities': 3120, 'shower': 3957, 'golden': 1934, 'yes': 4982, 'spoil': 4121, 'revealing': 3672, 'shock': 3938, 'perfectly': 3226, 'tune': 4602, 'masterpiece': 2759, 'spirit': 4113, 'russian': 3762, 'scientist': 3818, 'science': 3816, 'involves': 2348, 'shark': 3921, 'definitely': 1162, 'deserves': 1201, 'serious': 3891, 'investigation': 2343, 'remote': 3622, 'field': 1704, '2005': 35, 'background': 380, 'charming': 768, 'hitchcock': 2123, 'birds': 485, 'spare': 4093, 'cheap': 774, 'sci': 3815, 'fi': 1701, 'service': 3896, 'disbelief': 1277, 'seriously': 3892, 'overall': 3150, 'concept': 930, 'tell': 4395, 'else': 1448, 'tour': 4538, 'de': 1131, 'force': 1786, 'buff': 611, 'worthy': 4956, 'day': 1129, 'crazy': 1035, 'mad': 2696, 'thinks': 4454, 'idea': 2213, 'nearby': 2980, 'water': 4816, 'question': 3487, 'intelligence': 2313, 'ability': 65, 'writers': 4969, 'remotely': 3623, 'plausible': 3295, 'guys': 2001, 'wear': 4830, 'werent': 4849, 'sort': 4077, 'cold': 872, 'khan': 2459, 'bridge': 578, 'bird': 484, 'ear': 1397, 'moving': 2928, 'chick': 786, 'heston': 2094, 'wait': 4770, 'tom': 4514, 'trying': 4601, 'escape': 1517, 'helicopter': 2076, 'ground': 1979, 'wasting': 4810, 'clip': 851, 'attached': 336, 'terms': 4406, 'species': 4098, 'suffice': 4279, 'references': 3583, 'female': 1693, 'protagonist': 3441, 'fiction': 1702, 'scenery': 3810, 'intended': 2315, 'natural': 2973, 'sean': 3840, 'neither': 2996, 'block': 508, 'reached': 3537, 'intention': 2319, 'things': 4451, 'enjoyed': 1486, 'supernatural': 4302, 'don': 1320, 'strangely': 4212, 'aforementioned': 139, 'broadcast': 591, 'bbc': 417, 'television': 4394, 'weekend': 4838, 'tonight': 4519, 'screening': 3830, 'heaven': 2068, 'compare': 911, 'structure': 4233, 'husband': 2204, 'child': 789, 'widow': 4883, 'late': 2523, 'running': 3756, 'wearing': 4831, 'red': 3576, 'occur': 3076, 'massive': 2756, 'twist': 4617, 'essential': 1522, 'explained': 1587, 'depth': 1190, 'ruins': 3752, 'mentioned': 2811, 'values': 4710, 'notice': 3048, 'white': 4870, 'capital': 673, 'letters': 2582, 'sequence': 3887, 'tries': 4585, 'via': 4726, 'spoken': 4126, 'feeling': 1685, 'twists': 4619, 'flat': 1748, 'premise': 3370, 'honestly': 2147, 'gordon': 1940, '80s': 59, 'inept': 2281, 'empire': 1464, 'stood': 4199, 'masterful': 2758, 'hands': 2020, 'ancient': 225, 'copy': 994, 'coming': 896, 'obscure': 3068, 'turned': 4606, 'less': 2575, 'pleasant': 3302, 'surprise': 4312, 'starts': 4159, 'tale': 4353, 'dark': 1115, 'soon': 4074, 'silly': 3976, 'turn': 4605, 'present': 3374, 'attacks': 339, 'museum': 2945, 'particular': 3194, 'ann': 244, 'evil': 1548, 'twenty': 4612, 'led': 2558, 'attacked': 338, 'lost': 2660, 'wants': 4791, 'revenge': 3675, 'older': 3101, 'burned': 626, 'unfolds': 4651, 'mixture': 2878, 'general': 1880, 'tad': 4347, 'thrown': 4481, 'measure': 2786, 'senseless': 3878, 'complete': 921, 'boredom': 542, 'too': 4522, 'often': 3095, 'contemporary': 965, 'terror': 4412, 'jumps': 2432, 'forth': 1804, 'flashbacks': 1747, 'keeps': 2451, 'amusing': 221, 'fast': 1661, 'fascinating': 1658, 'reminiscent': 3621, 'williams': 4888, 'known': 2492, 'stage': 4139, '1996': 26, 'couple': 1016, 'cool': 989, 'sequences': 3888, 'teacher': 4375, 'journalist': 2420, 'library': 2589, 'committed': 905, 'ghost': 1902, 'devil': 1228, 'completely': 922, 'plus': 3311, 'build': 614, 'directorial': 1265, 'ten': 4399, 'indeed': 2271, 'critics': 1064, 'shows': 3960, 'expect': 1575, 'weird': 4841, 'using': 4698, 'primary': 3394, 'unique': 4662, 'possessed': 3347, 'stand': 4143, 'dated': 1119, 'personally': 3243, 'series': 3890, 'able': 66, 'read': 3543, 'taught': 4370, 'happen': 2026, 'raise': 3507, 'level': 2584, 'role': 3726, 'avoided': 364, 'include': 2261, 'teenagers': 4391, 'adult': 125, 'nature': 2975, 'casting': 711, 'otherwise': 3137, 'mill': 2845, 'mediocre': 2791, 'subtle': 4260, 'creators': 1044, 'pile': 3275, 'scenario': 3808, 'trite': 4589, 'happily': 2030, 'sympathy': 4343, 'diane': 1238, 'lane': 2515, 'anna': 245, 'nor': 3032, 'line': 2610, 'slowly': 4032, 'predictable': 3367, 'pathetic': 3210, 'conclusion': 936, 'watchable': 4812, 'stunning': 4244, 'topless': 4527, 'heres': 2087, 'occurs': 3078, '30': 42, 'forward': 1808, 'skip': 4016, 'warned': 4798, 'waste': 4808, 'basically': 407, 'everything': 1544, 'annoying': 249, 'throw': 4479, 'wasnt': 4807, 'doing': 1312, 'everyone': 1542, 'youre': 4992, 'parts': 3199, 'supposedly': 4307, 'isnt': 2362, 'succeeds': 4264, 'practically': 3362, 'student': 4238, 'shoot': 3942, 'clichés': 846, 'fault': 1668, 'hated': 2047, 'jeff': 2390, 'park': 3190, 'went': 4847, 'downhill': 1336, 'roles': 3727, 'opportunity': 3121, 'japanese': 2382, 'blown': 516, 'entertaining': 1499, 'epic': 1506, 'transfer': 4559, 'unless': 4669, 'bay': 416, 'gore': 1941, 'stands': 4147, 'channel': 753, 'effective': 1429, 'sounded': 4082, 'adds': 119, 'enjoyment': 1488, 'realized': 3553, 'extremely': 1610, 'brutal': 603, 'head': 2057, 'filled': 1715, 'womans': 4922, 'burn': 625, 'hardcore': 2034, 'italian': 2367, 'pieces': 3273, 'clean': 838, 'horrendous': 2162, 'experience': 1580, 'entirely': 1503, 'lets': 2580, 'dubbing': 1380, 'charm': 767, 'genius': 1887, 'highest': 2102, 'terrific': 4409, 'thumbs': 4485, 'nose': 3037, 'traditional': 4550, 'standards': 4145, 'tons': 4520, 'kick': 2460, 'test': 4416, 'video': 4733, 'nail': 2957, 'rick': 3689, 'tradition': 4549, 'quality': 3484, 'name': 2960, 'quick': 3490, 'cash': 709, 'lazy': 2543, 'accidentally': 85, 'relatives': 3601, 'repeat': 3630, 'original': 3129, 'instantly': 2306, 'visual': 4757, 'days': 1130, 'incredible': 2269, 'done': 1322, 'properly': 3437, 'cinematographer': 819, 'dean': 1139, 'job': 2405, 'pick': 3265, 'thankfully': 4422, 'recently': 3567, 'id': 2212, 'missed': 2867, 'paris': 3189, 'short': 3946, 'showing': 3958, 'various': 4715, 'expectations': 1576, 'harry': 2039, 'prisoner': 3402, 'features': 1680, 'nick': 3012, 'haunting': 2051, 'maggie': 2702, 'actress': 105, 'portrayed': 3342, 'vampire': 4711, 'victim': 4729, 'surreal': 4317, 'emily': 1456, 'cute': 1090, 'wes': 4851, 'pre': 3365, 'visually': 4758, 'french': 1830, 'boy': 557, 'mature': 2773, 'execution': 1566, 'latin': 2527, 'equally': 1510, 'inducing': 2279, 'driven': 1365, 'carefully': 689, 'memorable': 2802, 'quotes': 3497, 'cheating': 776, 'eventually': 1537, 'mistress': 2874, 'dying': 1393, 'pretending': 3382, 'became': 431, 'offer': 3087, 'hate': 2046, 'freedom': 1828, 'remember': 3616, 'early': 1400, 'nuclear': 3057, 'destruction': 1216, 'confusion': 943, 'ned': 2986, 'showed': 3956, 'type': 4621, 'triumph': 4590, 'inspiration': 2300, 'burt': 629, 'draws': 1352, 'obvious': 3071, 'brad': 560, 'jennifer': 2392, 'jim': 2402, 'happening': 2028, 'theyre': 4445, 'direct': 1258, 'somewhere': 4069, 'lots': 2662, 're': 3535, 'shoots': 3944, 'potential': 3355, 'rock': 3720, 'busy': 635, 'longer': 2645, 'wrapped': 4964, 'anthony': 253, 'edge': 1418, 'entertainment': 1500, 'describe': 1194, 'centers': 734, 'newly': 3004, 'married': 2744, 'husbands': 2205, 'died': 1244, 'mysterious': 2955, 'circumstances': 822, 'sounds': 4084, 'hour': 2176, 'warning': 4800, 'promises': 3432, 'dies': 1245, 'trust': 4598, 'plastic': 3294, 'doors': 1329, 'constant': 957, 'figure': 1711, 'secret': 3849, 'hitting': 2126, 'considering': 952, 'boring': 543, 'figured': 1712, 'average': 362, 'none': 3028, 'scary': 3807, 'messed': 2821, 'double': 1331, 'feature': 1678, 'unfortunately': 4654, 'tomatoes': 4515, 'franchise': 1817, 'brutally': 604, 'recent': 3566, 'parody': 3192, 'desire': 1205, 'uses': 4697, 'basic': 406, 'gone': 1935, 'terribly': 4408, 'slap': 4018, 'disaster': 1276, 'illegal': 2229, 'nights': 3016, 'cup': 1080, 'tea': 4373, 'stuck': 4237, 'grown': 1984, 'cover': 1022, 'joke': 2414, 'speaking': 4095, 'voice': 4761, 'hitler': 2124, 'narrative': 2966, 'explain': 1586, 'government': 1948, 'told': 4513, 'correct': 1000, 'paranoia': 3186, 'control': 977, 'today': 4508, 'oddly': 3081, 'selling': 3873, 'pack': 3165, 'magic': 2703, 'tricks': 4583, 'fear': 1676, 'broke': 593, 'gag': 1861, 'somebody': 4062, 'asleep': 320, 'please': 3304, 'members': 2801, 'likely': 2601, 'join': 2412, 'add': 115, 'fashioned': 1660, 'dinner': 1254, 'works': 4945, 'bell': 458, 'green': 1971, 'shelf': 3926, 'splendid': 4119, 'nowhere': 3056, 'save': 3794, 'dozen': 1338, 'cinematic': 818, 'dollar': 1314, 'theater': 4427, 'friend': 1835, 'sold': 4052, 'walked': 4776, '2000': 30, 'friends': 1837, 'reaction': 3541, 'common': 906, 'found': 1811, 'offensive': 3086, '18': 10, 'unfunny': 4655, 'devoid': 1230, 'air': 164, 'failure': 1629, 'vision': 4754, 'surprised': 4313, 'mine': 2853, 'hell': 2077, 'odd': 3080, 'seemed': 3862, 'blue': 518, 'apparent': 269, 'disappointed': 1273, 'member': 2800, 'discover': 1279, 'among': 217, 'skills': 4014, 'catch': 714, 'during': 1387, 'training': 4558, 'returned': 3666, 'society': 4050, 'changed': 750, 'names': 2963, 'fights': 1710, 'joy': 2422, 'fighting': 1709, 'snake': 4042, 'fight': 1707, 'jumping': 2431, 'stays': 4169, 'wide': 4880, 'tends': 4402, 'drag': 1342, 'until': 4680, 'sneak': 4043, 'preview': 3386, 'streep': 4215, 'return': 3665, 'break': 569, 'halfway': 2008, 'blame': 499, 'true': 4596, 'second': 3846, 'expecting': 1578, 'credits': 1050, 'appear': 273, 'horrid': 2165, 'convincing': 985, 'halloween': 2010, 'lighting': 2596, 'generally': 1881, 'someones': 4065, 'borrowed': 545, 'shine': 3931, 'forgive': 1795, 'actual': 108, 'content': 966, 'footage': 1782, 'self': 3869, 'worry': 4950, 'spoilers': 4124, 'cause': 723, 'favourite': 1673, 'become': 433, '50s': 52, '60s': 54, 'freak': 1824, 'ones': 3108, 'corny': 997, 'technically': 4382, 'pity': 3281, 'earth': 1403, 'utter': 4701, 'forbidden': 1785, 'planet': 3289, 'space': 4090, 'fantastic': 1651, 'alone': 194, 'examples': 1554, 'attempts': 343, 'thrill': 4471, 'process': 3412, 'once': 3106, 'crap': 1031, 'seems': 3864, 'dog': 1310, 'factory': 1623, 'queen': 3485, 'outer': 3143, 'lower': 2677, 'hey': 2095, 'leslie': 2574, 'anne': 246, 'francis': 1818, 'walter': 4784, 'earl': 1398, 'robot': 3717, 'fetched': 1698, 'futuristic': 1857, 'version': 4720, 'cinderella': 815, 'legend': 2564, 'songs': 4072, 'fairly': 1631, 'tame': 4363, 'ends': 1474, 'expensive': 1579, 'al': 170, 'viewers': 4739, 'easy': 1410, 'forgotten': 1797, 'rob': 3710, 'load': 2631, 'wedding': 4836, 'drunken': 1376, 'vegas': 4717, 'vacation': 4704, 'children': 792, 'already': 197, 'due': 1382, 'eight': 1436, 'builds': 617, 'close': 853, 'frank': 1821, 'patrick': 3213, 'construction': 960, 'similar': 3978, 'step': 4175, 'carol': 693, 'hilariously': 2107, 'relationship': 3597, 'trip': 4588, 'lily': 2605, 'andrew': 228, 'younger': 4990, 'andy': 230, 'particularly': 3195, 'disgusting': 1286, 'families': 1644, 'shots': 3950, 'kenneth': 2455, 'versions': 4721, 'shakespeare': 3915, 'classics': 837, 'surely': 4309, 'choices': 798, 'passion': 3205, 'intensity': 2317, 'grows': 1985, 'stronger': 4230, 'alongside': 196, 'furthermore': 1854, 'chosen': 805, 'blend': 504, 'hatred': 2049, 'branagh': 564, 'bleak': 503, 'whilst': 4869, 'enjoyable': 1485, 'frankly': 1823, 'beyond': 476, 'brain': 562, 'hurt': 2202, 'understood': 4647, 'taking': 4352, 'incomprehensible': 2267, 'animation': 242, 'involving': 2349, 'cat': 713, 'twisted': 4618, 'occasionally': 3075, 'disturbing': 1300, 'translation': 4562, 'treated': 4573, 'images': 2235, 'trick': 4582, 'lady': 2507, 'clever': 841, 'animals': 240, 'fire': 1734, 'random': 3514, 'awful': 372, 'teen': 4388, 'age': 148, 'start': 4156, 'identity': 2217, 'greatly': 1967, 'affected': 137, 'mother': 2911, 'prostitute': 3440, 'father': 1666, 'definition': 1163, 'likewise': 2603, 'compelling': 916, 'greatest': 1966, 'twice': 4613, 'equipment': 1511, 'create': 1036, 'dr': 1340, 'explains': 1589, 'theory': 4437, 'south': 4087, 'indians': 2275, 'fell': 1690, 'documentary': 1307, 'follows': 1775, 'crew': 1053, 'river': 3707, 'sea': 3838, 'adventure': 130, 'strength': 4219, 'surviving': 4323, 'means': 2783, 'yourself': 4993, 'sat': 3786, 'alex': 179, 'winter': 4900, 'bill': 481, 'fame': 1642, 'historically': 2120, 'accurate': 90, 'depicting': 1184, 'famous': 1647, 'summer': 4291, 'opinion': 3118, 'certain': 737, 'sheer': 3925, 'romance': 3732, 'captivating': 675, 'qualities': 3483, 'painting': 3175, 'colors': 879, 'settings': 3901, 'hung': 2197, 'walls': 4783, 'costumes': 1006, 'gorgeous': 1942, 'comfortable': 892, 'clothes': 860, 'lake': 2509, 'historical': 2119, 'besides': 468, 'harsh': 2040, 'surrounded': 4318, 'practice': 3363, 'form': 1798, 'shelley': 3928, 'suffered': 4276, 'lord': 2652, 'foot': 1781, 'surprising': 4315, 'key': 2458, 'religion': 3607, 'philosophy': 3254, 'creation': 1040, 'talented': 4355, 'alice': 182, 'factor': 1622, 'experiences': 1582, 'actresses': 106, 'fitting': 1742, 'direction': 1261, 'captured': 677, 'essence': 1521, 'based': 404, 'book': 535, 'author': 359, 'loves': 2674, 'gothic': 1945, 'birth': 486, 'monster': 2892, 'playing': 3300, 'definite': 1161, 'festival': 1697, 'disappointment': 1275, 'fan': 1648, 'lewis': 2586, 'books': 536, 'excited': 1561, 'uncomfortable': 4637, 'normally': 3034, 'modern': 2882, 'familiar': 1643, 'pop': 3330, 'juvenile': 2441, 'proved': 3446, 'horribly': 2164, 'ridiculously': 3694, 'assume': 328, 'current': 1084, 'lose': 2654, 'highlight': 2103, 'opening': 3114, 'rabbit': 3498, 'score': 3822, 'imitation': 2241, 'game': 1864, 'dance': 1103, 'genuinely': 1892, 'angry': 238, 'road': 3709, 'simon': 3982, 'harvey': 2042, 'son': 4070, 'paul': 3214, 'charles': 764, 'buildings': 616, 'mission': 2870, 'gain': 1863, 'proof': 3434, 'alien': 183, 'discovers': 1281, 'strange': 4211, 'creature': 1045, 'sticks': 4186, 'town': 4541, 'california': 650, 'decides': 1150, 'share': 3920, 'discovery': 1282, 'van': 4713, 'der': 1191, 'meanwhile': 2785, 'food': 1778, 'businessman': 634, 'steals': 4172, 'idiotic': 2219, 'dude': 1381, 'jon': 2416, 'knife': 2487, 'individual': 2277, 'grow': 1982, 'separate': 3883, 'creatures': 1046, 'amongst': 218, 'painful': 3171, 'misses': 2868, 'target': 4366, 'mile': 2842, 'humour': 2194, 'appeal': 271, 'teens': 4392, 'explanation': 1590, 'manages': 2725, 'english': 1483, 'quickly': 3491, 'learns': 2553, '1984': 23, 'rip': 3700, 'elements': 1443, 'moronic': 2907, 'charlie': 765, 'dad': 1095, 'hardy': 2037, 'embarrassing': 1454, 'rubbish': 3748, 'fails': 1628, 'guessed': 1990, 'working': 4944, 'entire': 1502, 'houses': 2180, 'desert': 1198, 'incompetent': 2266, 'dolls': 1316, 'pulls': 3464, 'string': 4227, 'arm': 292, 'stress': 4220, 'wouldnt': 4958, 'convince': 983, 'yesterday': 4983, 'total': 4531, 'sucks': 4271, 'design': 1202, 'prove': 3445, 'achieve': 92, 'advice': 133, 'decision': 1151, 'hunter': 2199, 'alright': 198, 'episode': 1507, 'funnier': 1850, 'described': 1195, 'hurts': 2203, 'jump': 2429, 'terry': 4415, 'baby': 376, 'joey': 2408, 'gonna': 1936, 'feed': 1683, 'kid': 2464, 'pg': 3250, '13': 4, 'knowledge': 2491, 'knows': 2493, 'albeit': 173, 'proves': 3447, 'useless': 4695, 'against': 147, 'watches': 4814, 'try': 4600, 'agree': 155, 'saying': 3800, 'fat': 1663, 'dogs': 1311, 'eating': 1413, 'remake': 3612, 'cinema': 816, 'eddie': 1416, 'murphy': 2944, 'miscast': 2862, 'professor': 3422, 'ideas': 2215, 'ladies': 2506, 'signs': 3973, 'delightful': 1168, 'humans': 2190, 'worse': 4951, 'parents': 3188, 'trailer': 4554, 'followed': 1773, 'irritating': 2359, 'chris': 806, 'bunch': 623, 'local': 2634, 'newspaper': 3006, 'project': 3427, 'careful': 688, 'liked': 2600, 'baseball': 403, 'season': 3843, 'falls': 1640, 'comes': 891, 'placed': 3283, 'obsession': 3070, 'relate': 3593, 'sits': 4006, 'games': 1865, 'obsessed': 3069, 'strike': 4224, 'rent': 3626, 'attempted': 341, 'suicide': 4283, 'building': 615, 'midnight': 2834, 'needless': 2989, 'reasons': 3560, 'polanski': 3321, 'descent': 1193, 'madness': 2698, 'vicious': 4728, 'beautifully': 429, 'impression': 2252, 'obnoxious': 3067, 'funniest': 1851, 'shes': 3930, 'unbelievable': 4634, 'occasional': 3074, 'remarks': 3615, 'supposed': 4306, 'thoughtful': 4463, 'sympathetic': 4342, 'started': 4157, 'dressed': 1358, 'captures': 678, 'living': 2629, 'dig': 1250, 'reference': 3582, 'deeply': 1156, 'significant': 3972, 'picking': 3267, 'avoid': 363, 'western': 4853, 'core': 995, 'violent': 4748, 'fresh': 1833, 'inane': 2258, 'makers': 2715, 'bite': 489, 'steps': 4177, 'heard': 2062, 'said': 3774, 'live': 2625, 'whether': 4866, 'provides': 3450, 'candy': 668, 'commercials': 903, 'shallow': 3917, 'unrealistic': 4677, 'dreadful': 1353, 'flaw': 1749, 'uninspired': 4657, 'unnecessary': 4672, 'richards': 3687, 'bear': 420, 'remarkable': 3613, 'resemblance': 3645, 'faithful': 1634, 'clothing': 861, 'surprisingly': 4316, 'color': 877, 'whats': 4860, 'happened': 2027, 'mostly': 2910, 'personal': 3240, 'talk': 4358, 'babe': 375, 'nation': 2969, 'thank': 4421, 'painfully': 3172, 'dull': 1384, 'spoof': 4127, 'pretentious': 3383, 'heavy': 2070, 'important': 2247, 'drivel': 1364, 'designed': 1203, 'satire': 3788, 'tedious': 4387, 'spoiled': 4122, 'teenage': 4389, 'theyve': 4446, 'award': 366, 'blew': 505, 'incident': 2260, 'gruesome': 1986, 'tense': 4403, 'exposed': 1598, 'sequel': 3885, 'buy': 640, 'exists': 1573, 'military': 2844, 'unlikely': 4671, 'suspend': 4329, 'belief': 451, 'area': 286, 'unable': 4631, 'army': 295, 'combat': 882, 'soldiers': 4054, 'capable': 672, 'armed': 293, 'movements': 2924, 'superior': 4300, 'radio': 3504, 'support': 4303, 'handle': 2018, 'danger': 1109, 'issue': 2364, 'phone': 3255, 'chances': 748, 'check': 777, 'search': 3841, 'order': 3126, 'chain': 741, 'command': 897, 'dangerous': 1110, 'forces': 1788, 'intelligent': 2314, 'trained': 4557, 'competent': 917, 'below': 462, 'imagine': 2238, 'expected': 1577, 'dealing': 1136, 'veteran': 4724, 'insulting': 2310, 'health': 2060, 'somewhat': 4068, 'demons': 1178, 'demon': 1177, 'whos': 4876, 'sleeping': 4025, 'ass': 323, 'buddy': 609, 'jealous': 2388, 'killing': 2472, 'boat': 523, 'spots': 4132, 'hiding': 2099, 'changes': 751, 'sword': 4340, 'pull': 3461, 'massacre': 2754, 'carries': 699, 'witty': 4917, 'trap': 4563, 'cost': 1003, 'prevent': 3385, 'unreal': 4676, 'photography': 3260, 'carrying': 701, 'che': 773, 'extraordinary': 1607, 'steven': 4182, 'breaking': 570, 'conventional': 979, 'rules': 3754, 'admire': 121, 'message': 2819, 'includes': 2263, 'fail': 1625, 'felt': 1692, 'irrelevant': 2358, 'summary': 4290, 'brave': 567, 'account': 89, 'caught': 722, 'york': 4985, 'fx': 1858, 'card': 681, 'shorts': 3948, 'par': 3184, 'anymore': 258, 'relies': 3606, 'image': 2233, 'suited': 4286, 'subject': 4253, 'audiences': 353, 'ah': 158, 'inner': 2292, 'attempting': 342, 'crappy': 1032, 'forgettable': 1794, 'vehicle': 4718, 'solid': 4057, 'harris': 2038, 'rate': 3526, 'mystery': 2956, 'contrived': 976, 'violence': 4747, 'degree': 1164, 'charisma': 762, 'manipulative': 2727, 'julia': 2427, 'noir': 3023, 'suffers': 4278, 'fifteen': 1706, 'growing': 1983, 'nervous': 2999, 'wreck': 4965, 'teachers': 4376, 'answers': 252, 'secretary': 3850, 'hired': 2117, 'immediately': 2242, 'mrs': 2930, 'ralph': 3510, 'agent': 150, 'front': 1841, 'boyfriend': 558, 'allowed': 190, 'castle': 712, 'subtitles': 4259, 'dubbed': 1379, 'difference': 1246, 'recall': 3562, 'appears': 278, 'rich': 3685, 'bet': 470, 'luck': 2681, 'manner': 2729, 'win': 4892, 'creepy': 1052, 'previously': 3388, 'lovely': 2671, 'barbara': 397, 'earlier': 1399, 'suspense': 4330, 'marks': 2742, 'creating': 1039, 'wondering': 4930, 'negative': 2991, 'sorry': 4076, 'hardly': 2036, 'necessary': 2984, 'nudity': 3059, 'ratings': 3530, 'pleased': 3305, 'anger': 235, 'guilt': 1994, 'initially': 2291, 'lovers': 2673, 'subtlety': 4261, 'brian': 576, 'president': 3378, 'club': 863, 'eric': 1514, 'choice': 797, 'jr': 2423, 'compared': 912, 'awesome': 371, 'hollywoods': 2138, 'jack': 2373, 'london': 2641, 'winds': 4895, 'importantly': 2248, 'integrity': 2311, 'michael': 2829, 'receive': 3563, 'wild': 4885, 'spending': 4106, 'mountains': 2918, 'buck': 605, 'virginia': 4750, 'susan': 4326, 'unfortunate': 4653, 'yellow': 4981, 'ii': 2226, '24': 39, 'alfred': 181, 'league': 2549, 'jeremy': 2394, 'mark': 2739, 'underrated': 4642, 'perfection': 3225, 'hello': 2078, 'dave': 1123, 'pushing': 3479, 'britain': 588, 'arguably': 289, 'balls': 390, 'steel': 4173, 'fond': 1776, 'cube': 1076, 'kept': 2456, 'liking': 2604, 'prequel': 3372, 'intrigued': 2334, 'fix': 1744, 'problems': 3409, 'provide': 3448, 'charge': 761, 'filmmakers': 1720, 'providing': 3451, 'daily': 1097, 'routine': 3743, 'questions': 3489, 'created': 1037, 'concerning': 933, 'send': 3875, 'operation': 3117, 'viewer': 4738, 'moved': 2922, 'relatively': 3600, 'develop': 1222, 'doubts': 1333, 'group': 1980, 'trapped': 4564, 'cheese': 780, 'sent': 3880, 'introduced': 2337, 'villain': 4744, 'directly': 1263, 'james': 2378, 'bond': 532, 'popular': 3333, 'glass': 1917, 'pace': 3161, 'incredibly': 2270, 'bored': 541, 'further': 1853, 'interaction': 2322, 'following': 1774, 'failing': 1627, 'impress': 2250, 'searching': 3842, 'vs': 4767, 'suspicious': 4332, 'retarded': 3663, 'bother': 548, 'criticism': 1063, '90': 60, '80': 58, 'okay': 3099, 'pacing': 3163, 'talked': 4359, 'sentence': 3881, 'minute': 2858, '70': 55, 'peoples': 3222, 'walking': 4779, 'choose': 799, 'moves': 2925, 'satisfied': 3789, 'respect': 3652, 'post': 3352, 'anti': 254, 'nazis': 2978, 'politics': 3326, 'challenge': 743, 'scripts': 3836, 'serve': 3893, 'code': 869, 'nobody': 3022, 'recognition': 3568, 'ahead': 159, 'lee': 2559, 'repeatedly': 3632, 'trouble': 4592, 'bitter': 491, 'fairy': 1632, 'sends': 3876, 'existence': 1571, 'village': 4743, 'friendship': 1838, 'neighbor': 2992, 'alan': 171, 'claims': 830, 'belong': 459, 'location': 2635, 'somehow': 4063, 'dentist': 1180, 'priest': 3392, 'painted': 3174, 'beaten': 424, 'ex': 1549, 'beloved': 461, 'sister': 4001, 'jail': 2376, 'trial': 4580, 'crimes': 1056, 'humanity': 2189, 'cell': 730, 'above': 68, 'hours': 2177, 'conversations': 981, 'commercial': 902, 'statement': 4162, 'adults': 126, 'patient': 3211, 'chases': 771, 'open': 3112, 'approach': 282, 'grasp': 1960, 'emotional': 1459, 'sole': 4055, 'street': 4216, 'curious': 1083, 'stopped': 4202, 'depression': 1189, 'youth': 4994, 'requires': 3642, 'bring': 585, 'robert': 3713, 'disc': 1278, 'huge': 2185, 'fine': 1729, 'soft': 4051, 'odds': 3082, 'dream': 1354, 'winning': 4898, 'recommended': 3572, 'bottom': 551, 'entertained': 1498, 'opens': 3115, 'accident': 84, 'cut': 1089, 'community': 908, 'hole': 2132, 'levels': 2585, 'showdown': 3955, 'survivors': 4325, 'heroes': 2089, 'flesh': 1753, 'meant': 2784, 'commentary': 899, 'information': 2288, 'experienced': 1581, 'todd': 4510, 'trashy': 4566, 'humble': 2191, 'interviews': 2330, 'mixed': 2877, 'news': 3005, 'places': 3284, 'fox': 1814, 'mtv': 2933, 'rough': 3741, 'enjoying': 1487, 'arent': 288, 'flawed': 1750, 'release': 3602, 'extras': 1608, 'splatter': 4118, 'folks': 1771, 'succeeded': 4263, 'emotionally': 1460, 'rage': 3505, 'throughout': 4478, 'highly': 2105, 'joan': 2404, 'department': 1182, 'store': 4204, 'contain': 962, 'cars': 702, 'upper': 4685, 'appearances': 275, 'mindless': 2851, 'hot': 2174, 'chicks': 787, 'count': 1010, 'explosion': 1596, 'executive': 1567, 'sir': 4000, '35': 45, 'market': 2740, 'hundred': 2195, 'dolph': 1317, 'flicks': 1755, 'generic': 1885, 'higher': 2101, 'range': 3516, 'flawless': 1751, 'joseph': 2419, 'ups': 4686, 'faces': 1618, 'visuals': 4759, 'struggle': 4234, 'male': 2719, 'returning': 3667, 'andrews': 229, 'troubled': 4593, 'detective': 1220, 'females': 1694, 'fallen': 1638, 'onto': 3111, 'regular': 3592, 'struggling': 4236, 'silver': 3977, 'suggested': 4281, 'interpretation': 2328, 'psychological': 3458, 'crisis': 1060, 'turning': 4608, 'crime': 1055, 'gotten': 1947, 'belongs': 460, 'kirk': 2482, 'douglas': 1334, 'william': 4887, 'theatrical': 4430, 'side': 3965, 'contrast': 975, 'gene': 1879, 'criminal': 1057, 'types': 4622, 'table': 4346, 'touches': 4535, 'inspiring': 2302, 'opposite': 3123, 'represent': 3637, 'possibilities': 3348, 'leading': 2547, 'duty': 1390, 'thoroughly': 4459, 'endings': 1472, 'bruce': 602, 'willis': 4890, 'pitt': 3280, 'twelve': 4611, 'monkeys': 2891, 'four': 1812, 'delivers': 1172, 'convincingly': 986, 'cole': 873, 'cartoon': 704, 'foul': 1810, 'redeeming': 3577, 'whatsoever': 4861, 'language': 2516, 'buying': 641, 'banned': 395, 'virtually': 4751, 'nasty': 2968, 'exploitation': 1592, 'promise': 3430, 'necessarily': 2983, 'pops': 3332, 'viewing': 4740, 'promised': 3431, 'inspired': 2301, 'finish': 1732, 'aid': 160, 'fortune': 1806, 'marketing': 2741, 'technique': 4383, 'slasher': 4020, 'attractive': 351, 'concert': 935, 'nancy': 2964, 'mansion': 2731, 'constantly': 958, 'sleep': 4024, 'psycho': 3457, 'carl': 692, 'woods': 4935, 'mothers': 2912, 'intense': 2316, 'hanging': 2023, 'contact': 961, 'everyones': 1543, 'disappeared': 1271, 'missing': 2869, 'easier': 1405, 'overwhelming': 3157, 'worked': 4941, 'tension': 4404, 'truth': 4599, 'opinions': 3119, 'views': 4742, 'reactions': 3542, 'relevant': 3604, 'endless': 1473, 'conversation': 980, 'aware': 368, 'actions': 101, '75': 57, 'helped': 2080, 'atrocious': 335, 'finding': 1727, 'specifically': 4100, 'knowing': 2490, 'spectacular': 4101, 'murder': 2939, 'faster': 1662, 'die': 1243, 'luke': 2687, 'warm': 4794, 'cliff': 847, 'credit': 1049, 'tiresome': 4502, 'herself': 2092, 'amount': 219, 'eat': 1411, 'bed': 436, 'light': 2595, 'biggest': 480, 'convoluted': 987, 'putting': 3482, 'raising': 3509, 'finds': 1728, 'impact': 2244, 'element': 1442, 'technology': 4385, '1930s': 11, 'illness': 2230, 'scientific': 3817, 'witness': 4914, 'stealing': 4171, 'addition': 118, 'literally': 2622, 'karloff': 2445, 'friendly': 1836, 'lugosi': 2686, 'deadly': 1133, 'hysterical': 2208, 'mentioning': 2812, 'horrors': 2169, 'grew': 1972, 'friday': 1834, 'provided': 3449, 'memories': 2803, 'outside': 3146, 'faults': 1669, 'experiments': 1584, 'realistic': 3550, 'reading': 3544, 'minds': 2852, 'computer': 927, 'results': 3662, 'overacting': 3149, 'suitable': 4285, 'truck': 4595, 'driver': 1366, 'principal': 3398, 'believes': 456, 'faith': 1633, 'secrets': 3852, 'appropriate': 283, 'react': 3540, 'beings': 449, 'strictly': 4223, 'thrills': 4475, 'exercise': 1568, 'philosophical': 3253, 'sky': 4017, 'laws': 2540, 'base': 402, 'adequate': 120, 'bat': 410, 'failed': 1626, 'studio': 4240, 'pitch': 3279, 'combine': 884, '1940s': 13, 'wow': 4962, 'explosions': 1597, 'unconvincing': 4638, 'awe': 370, 'floating': 1758, 'generated': 1882, 'intriguing': 2335, 'setting': 3900, 'flop': 1760, 'cgi': 740, 'graphics': 1959, 'amazingly': 210, 'train': 4556, 'voices': 4763, 'crying': 1074, 'rings': 3699, 'ironic': 2355, 'tim': 4494, 'city': 825, 'repeated': 3631, 'mario': 2738, 'lisa': 2616, 'shown': 3959, '70s': 56, 'critical': 1062, 'considered': 951, 'mass': 2753, 'producer': 3415, 'adding': 117, 'hideous': 2098, 'suck': 4269, 'huh': 2187, 'grade': 1951, 'keeping': 2450, 'miserably': 2864, 'destroy': 1213, 'artist': 307, 'destroyed': 1214, 'toilet': 4512, 'downright': 1337, 'curiosity': 1082, 'sake': 3775, 'plague': 3285, 'board': 522, 'unexpected': 4650, 'leads': 2548, 'wondered': 4927, 'lesbian': 2573, 'lifetime': 2594, 'focus': 1766, 'handled': 2019, 'largely': 2518, 'stephen': 4176, 'molly': 2884, 'endearing': 1469, 'portrait': 3339, 'june': 2433, '16': 8, 'novel': 3052, 'recognized': 3570, 'whom': 4875, 'viewings': 4741, 'carry': 700, 'adventures': 131, 'sees': 3866, 'sid': 3964, 'gang': 1867, 'fourth': 1813, 'hospital': 2172, 'et': 1526, 'performers': 3232, 'equal': 1509, 'changing': 752, 'physical': 3262, 'lacking': 2504, 'format': 1799, 'reminds': 3620, 'scott': 3824, 'drink': 1361, 'episodes': 1508, 'deceased': 1146, 'nurse': 3063, 'farce': 1654, 'irony': 2357, 'description': 1197, 'relations': 3596, 'priceless': 3390, 'shop': 3945, 'tear': 4379, 'strip': 4228, 'hearing': 2063, 'whenever': 4863, 'lab': 2501, 'johnny': 2410, 'dress': 1357, 'ashamed': 312, 'absolute': 71, 'imdb': 2240, 'noticed': 3049, 'entry': 1504, 'named': 2961, 'brought': 600, 'formula': 1802, 'mistaken': 2872, 'europe': 1529, 'arrival': 299, 'mix': 2876, 'unpredictable': 4675, 'twins': 4616, 'exception': 1557, 'havent': 2053, 'ashley': 313, 'stereotypical': 4180, 'unbelievably': 4635, 'exotic': 1574, 'getting': 1901, 'falling': 1639, 'split': 4120, 'artificial': 306, 'laughter': 2535, 'disneys': 1290, 'morris': 2908, 'sports': 4130, 'debut': 1143, '1999': 27, 'synopsis': 4344, 'childhood': 790, 'football': 1783, 'texas': 4418, 'dennis': 1179, 'coach': 868, 'player': 3298, 'express': 1600, 'throws': 4482, 'agrees': 157, 'players': 3299, 'threw': 4470, 'outstanding': 3147, 'offered': 3088, 'contract': 973, 'months': 2897, 'increasingly': 2268, 'likable': 2598, 'pulling': 3463, 'portraying': 3343, 'professional': 3421, 'timeless': 4496, 'tight': 4492, 'distant': 1295, 'closer': 856, 'christian': 808, 'wing': 4896, 'presumably': 3380, '12': 3, '14': 6, 'initial': 2290, 'ended': 1470, 'throwing': 4480, 'dvds': 1392, 'link': 2613, 'titled': 4505, 'testament': 4417, 'dislike': 1288, 'lemmon': 2567, 'matthau': 2771, 'comedic': 888, 'neil': 2995, 'wrote': 4974, 'box': 555, 'corner': 996, 'survive': 4321, 'cross': 1066, 'animal': 239, 'whoever': 4872, 'responsible': 3656, 'contained': 963, 'butt': 638, 'martial': 2747, 'expert': 1585, 'continuity': 972, 'errors': 1516, 'heroine': 2091, 'sexually': 3910, 'corrupt': 1001, 'judge': 2424, 'evidence': 1546, 'daring': 1114, 'crush': 1072, 'continue': 969, 'battle': 414, 'section': 3853, 'producers': 3416, 'sub': 4252, 'kinds': 2478, 'response': 3654, 'sleazy': 4023, 'camp': 662, 'exploration': 1593, 'system': 4345, 'purely': 3472, 'reviewers': 3678, 'till': 4493, 'pamela': 3179, 'doctors': 1305, 'position': 3345, 'witch': 4909, 'tooth': 4524, 'folk': 1770, 'generous': 1886, 'nightmares': 3015, 'category': 718, 'darkness': 1117, '2003': 33, 'promising': 3433, 'surrounding': 4319, 'device': 1227, 'scripted': 3835, 'dialogues': 1235, 'bland': 500, 'chuck': 812, 'inventive': 2341, 'kinda': 2477, 'scares': 3806, 'tone': 4517, 'reasonably': 3559, 'slick': 4026, 'nonetheless': 3029, 'threatening': 4468, 'west': 4852, 'carrie': 697, 'warn': 4797, 'nonsense': 3030, 'helen': 2075, 'stated': 4161, 'featuring': 1681, 'villains': 4745, 'plots': 3310, 'airplane': 166, 'depressed': 1187, 'reduced': 3579, 'exposure': 1599, 'pilot': 3276, 'headed': 2058, 'mainly': 2708, 'shirley': 3936, 'cutting': 1092, 'broadway': 592, 'relief': 3605, 'eve': 1532, 'wicked': 4879, 'garden': 1872, 'matthew': 2772, 'prince': 3396, 'jean': 2389, 'southern': 4088, 'characterization': 759, 'royal': 3746, 'flow': 1762, 'comments': 901, 'week': 4837, 'angels': 234, 'portrays': 3344, 'survival': 4320, 'courage': 1018, 'opera': 3116, 'introduction': 2339, 'discussion': 1284, 'restored': 3659, 'kurt': 2499, 'future': 1856, 'picked': 3266, 'darker': 1116, 'underlying': 4641, 'spy': 4135, 'complexity': 924, 'howard': 2182, 'featured': 1679, 'briefly': 580, 'revelation': 3674, 'campbell': 663, 'propaganda': 3435, 'master': 2757, 'berlin': 467, 'prison': 3401, 'writes': 4970, 'pretend': 3381, 'nazi': 2977, 'semi': 3874, 'poetry': 3314, 'nyc': 3065, 'surface': 4310, 'bigger': 479, 'lie': 2590, 'comic': 893, 'twin': 4615, 'laura': 2536, 'multiple': 2936, 'reveals': 3673, 'reflect': 3584, 'rise': 3702, 'storytelling': 4209, 'fabulous': 1615, 'jane': 2380, 'eyre': 1614, 'annoyed': 248, 'morning': 2906, 'rochester': 3719, 'dalton': 1098, '100': 1, 'complaint': 920, 'lasted': 2522, 'empty': 1465, 'eyed': 1612, 'screaming': 3827, 'words': 4938, 'travesty': 4570, 'established': 1524, 'inspector': 2299, 'ludicrous': 2685, 'stan': 4142, 'laurel': 2537, 'oliver': 3102, 'persona': 3239, 'associated': 327, 'reed': 3580, 'divorce': 1301, 'restaurant': 3658, 'shell': 3927, 'worthless': 4954, 'safe': 3771, 'breaks': 571, 'storm': 4206, 'hits': 2125, 'bits': 490, 'awards': 367, 'oscar': 3133, 'won': 4925, 'currently': 1085, 'host': 2173, 'lifestyle': 2593, 'property': 3438, 'mid': 2832, '1980s': 21, 'psychotic': 3459, 'acid': 95, 'snow': 4045, 'aka': 168, 'sheriff': 3929, 'arrested': 298, 'costume': 1005, 'cartoons': 705, 'pan': 3180, 'elizabeth': 1445, 'bought': 552, 'treat': 4572, 'gentle': 1890, 'expressed': 1601, 'gift': 1906, 'profound': 3423, 'wandering': 4785, 'monk': 2889, 'advance': 127, 'maria': 2736, 'comment': 898, 'passed': 3202, 'backdrop': 379, 'served': 3894, 'heck': 2071, 'report': 3635, 'groups': 1981, 'peace': 3219, 'social': 4049, 'conceived': 929, 'regarding': 3589, 'facts': 1624, 'industry': 2280, 'france': 1816, 'official': 3094, 'un': 4630, 'regard': 3588, 'smiling': 4037, 'sign': 3970, 'sensitive': 3879, 'praise': 3364, 'honesty': 2148, 'revolution': 3680, '1968': 16, 'civil': 826, 'pays': 3218, 'cities': 823, 'hang': 2022, 'zone': 4999, 'closing': 859, 'horse': 2170, 'shooting': 3943, 'loving': 2675, 'everyday': 1541, 'subjects': 4254, '2007': 37, 'therefore': 4439, 'effectively': 1430, 'scare': 3803, 'business': 633, 'authentic': 358, 'themes': 4434, 'tend': 4400, 'buddies': 608, 'attitude': 346, 'leaving': 2557, 'clear': 839, 'spoiler': 4123, 'alert': 178, 'loser': 2655, 'blonde': 511, 'kicks': 2463, 'firstly': 1737, 'unbearable': 4633, 'cannibal': 669, 'jerry': 2396, 'warren': 4801, 'rated': 3527, 'public': 3460, 'greater': 1965, 'identify': 2216, 'justin': 2440, 'daddy': 1096, 'drinking': 1362, 'ho': 2127, 'uninteresting': 4660, 'clichéd': 845, 'humorous': 2193, 'audio': 354, 'isolated': 2363, 'tracks': 4545, 'inside': 2297, 'circle': 821, 'rose': 3739, 'brown': 601, 'alternate': 200, 'trailers': 4555, 'sally': 3776, 'skin': 4015, 'appeared': 276, 'davis': 1126, 'matt': 2768, 'adams': 112, 'miller': 2846, 'satisfying': 3791, 'arrive': 300, 'looked': 2647, 'dust': 1388, 'innocence': 2293, 'closed': 854, 'saving': 3797, 'grace': 1950, 'gem': 1877, 'felix': 1689, 'neat': 2982, 'jobs': 2406, 'oscars': 3134, 'driving': 1368, 'neighbors': 2994, 'kicked': 2461, 'lucky': 2683, 'seeking': 3859, 'meaning': 2780, 'stale': 4141, 'max': 2774, 'badly': 383, 'edited': 1420, 'disappear': 1270, 'guide': 1993, 'dancer': 1104, 'carradine': 695, 'noted': 3045, 'garbo': 1871, '30s': 44, 'wears': 4832, 'outfit': 3144, 'pool': 3327, 'invasion': 2340, 'scottish': 3825, 'majority': 2712, '3rd': 47, 'holy': 2140, 'window': 4894, 'australia': 356, 'italy': 2368, 'pseudo': 3454, 'risk': 3704, 'indian': 2274, 'commented': 900, 'stretched': 4222, 'development': 1225, 'akshay': 169, 'abraham': 69, 'aspects': 322, 'lesser': 2576, 'kiss': 2483, 'passing': 3204, 'stranger': 4213, 'improve': 2254, 'aunt': 355, 'cousin': 1021, 'jackie': 2374, 'kennedy': 2454, 'stayed': 4167, 'subsequent': 4257, 'utterly': 4702, 'presents': 3377, 'guns': 1998, 'portray': 3340, 'defend': 1158, 'user': 4696, 'analysis': 224, 'apart': 264, 'farm': 1656, 'gory': 1943, 'hints': 2113, 'mountain': 2917, 'vincent': 4746, 'legs': 2566, 'musical': 2947, 'ellen': 1446, 'status': 4165, 'ms': 2931, 'thru': 4483, 'handed': 2016, 'sloppy': 4030, 'thin': 4449, 'bobby': 525, 'choreography': 802, 'sing': 3992, 'dancing': 1107, 'pictures': 3270, 'kapoor': 2443, 'wake': 4774, 'personalities': 3241, 'protagonists': 3442, 'ensemble': 1492, 'learned': 2551, 'perspective': 3245, 'slightly': 4029, 'disappointing': 1274, 'hype': 2207, 'refreshing': 3586, 'wacky': 4769, 'indie': 2276, 'sucked': 4270, 'adam': 111, 'sandler': 3781, 'mildly': 2840, 'aliens': 184, 'comparison': 914, 'comedies': 889, '40': 48, 'virgin': 4749, 'inappropriate': 2259, 'sink': 3999, 'worthwhile': 4955, '3000': 43, 'poster': 3353, 'swear': 4334, 'everybody': 1540, 'murderer': 2941, 'exaggerated': 1552, 'distracting': 1297, 'deals': 1137, 'ignore': 2224, 'rid': 3690, 'asking': 318, 'anybody': 257, 'chest': 784, 'respected': 3653, 'prior': 3400, 'impressed': 2251, 'timing': 4498, 'talent': 4354, 'word': 4937, 'glad': 1916, 'touching': 4536, 'guts': 1999, 'waves': 4819, 'defense': 1159, 'dressing': 1359, 'questionable': 3488, 'accents': 79, 'study': 4242, 'charlotte': 766, 'entertain': 1497, 'soccer': 4048, 'authority': 360, 'unforgettable': 4652, 'crude': 1069, 'mild': 2839, 'lovable': 2668, 'frustration': 1843, 'womens': 4924, 'behavior': 446, 'cleverly': 842, 'methods': 2825, 'shoes': 3941, 'connect': 944, 'edition': 1422, 'kitchen': 2485, 'wonderfully': 4929, 'lousy': 2667, 'hundreds': 2196, 'thousands': 4466, 'dollars': 1315, 'benefit': 465, 'enormous': 1490, 'gangster': 1868, 'installment': 2303, 'influence': 2286, 'heads': 2059, 'determined': 1221, 'dragon': 1344, 'china': 795, 'race': 3499, 'devoted': 1231, 'sides': 3967, 'jet': 2400, 'influenced': 2287, 'glorious': 1921, 'louis': 2665, 'gangsters': 1869, 'impressive': 2253, 'striking': 4226, 'innovative': 2295, 'angles': 237, 'officers': 3093, 'dedicated': 1153, 'punch': 3466, 'complicated': 925, 'depressing': 1188, 'acceptable': 81, 'weakest': 4825, 'sin': 3988, 'commit': 904, 'ticket': 4487, 'rival': 3706, 'roll': 3728, 'square': 4136, 'party': 3200, 'wed': 4835, 'youd': 4987, 'throat': 4476, 'climactic': 848, 'scooby': 3820, 'doo': 1325, 'nostalgia': 3038, 'buffs': 612, 'aspect': 321, 'kay': 2447, 'absence': 70, 'wives': 4918, 'leo': 2571, 'sons': 4073, 'push': 3477, 'originally': 3131, 'betty': 474, '1950s': 14, 'photos': 3261, 'door': 1328, 'decades': 1145, 'photographed': 3258, 'elvis': 1451, 'julie': 2428, '1990': 24, 'suits': 4287, 'diamond': 1236, 'reporter': 3636, 'covers': 1024, 'shines': 3932, 'convey': 982, 'rule': 3753, 'press': 3379, 'abuse': 74, 'enter': 1494, 'bollywood': 530, 'flight': 1757, 'extreme': 1609, 'unhappy': 4656, 'cry': 1073, 'mexican': 2826, 'shirt': 3937, 'stinker': 4191, 'england': 1482, 'bin': 483, 'hood': 2151, 'annie': 247, 'pink': 3277, 'minimal': 2855, 'suggests': 4282, 'macy': 2695, 'quiet': 3492, 'quit': 3494, 'psychiatrist': 3455, 'sarah': 3785, 'fit': 1740, 'prime': 3395, 'shed': 3924, 'melodramatic': 2798, 'notable': 3041, 'thugs': 4484, 'song': 4071, 'appealing': 272, 'ambitious': 211, 'bloody': 513, 'remarkably': 3614, 'coherent': 871, 'bang': 393, 'satan': 3787, 'bands': 392, 'punk': 3468, 'ultra': 4629, 'portion': 3338, 'cg': 739, 'cameras': 660, 'display': 1291, 'boys': 559, 'detailed': 1218, 'brains': 563, 'bodies': 526, 'required': 3641, 'online': 3109, 'existent': 1572, 'advise': 134, 'claimed': 829, 'roger': 3724, 'brilliantly': 584, 'plight': 3308, 'gary': 1873, 'torn': 4528, 'turkey': 4604, 'letting': 2583, 'chinese': 796, 'knock': 2488, 'bus': 631, 'claim': 828, 'seek': 3858, 'magnificent': 2705, 'masterpieces': 2760, 'hamlet': 2013, 'styles': 4250, 'achievement': 94, 'challenging': 744, 'marvelous': 2750, 'ie': 2221, 'doc': 1303, 'savage': 3793, 'idiot': 2218, 'gold': 1932, 'march': 2734, 'scores': 3823, 'instance': 2304, 'homage': 2141, 'pulp': 3465, 'aint': 163, 'demented': 1176, '90s': 61, 'comparing': 913, 'mom': 2885, 'waters': 4817, 'polished': 3323, 'slaughter': 4021, 'heavily': 2069, 'marty': 2749, 'naked': 2959, 'reunion': 3669, 'beer': 439, 'abandoned': 62, 'understanding': 4645, 'april': 284, 'hasnt': 2044, 'renting': 3629, 'campy': 664, 'wooden': 4934, 'fathers': 1667, 'cabin': 643, 'fears': 1677, 'blond': 510, 'judy': 2426, 'shortly': 3947, 'funeral': 1849, 'date': 1118, 'performer': 3231, 'band': 391, 'secretly': 3851, 'marriage': 2743, 'wealthy': 4827, 'ian': 2209, 'combined': 885, 'blues': 519, 'vampires': 4712, 'robots': 3718, 'gas': 1874, 'san': 3780, 'francisco': 1819, 'basis': 408, 'cards': 683, 'temple': 4398, 'beating': 425, 'jimmy': 2403, 'snl': 4044, 'clips': 852, 'ears': 1402, 'hear': 2061, 'stretch': 4221, 'drew': 1360, 'goodness': 1938, 'taxi': 4371, 'fever': 1699, 'starting': 4158, 'hanks': 2025, 'russell': 3761, 'australian': 357, 'soap': 4047, 'wishing': 4907, 'successful': 4266, 'caliber': 649, 'fortunately': 1805, 'numerous': 3062, 'mike': 2838, 'boom': 537, 'shadow': 3912, 'rarely': 3524, 'overly': 3155, 'plan': 3287, 'drops': 1372, 'sell': 3871, 'favor': 1670, 'grave': 1962, 'nominated': 3025, 'hearted': 2065, 'curse': 1086, 'students': 4239, 'worlds': 4947, 'record': 3573, 'insight': 2298, 'liners': 2611, 'porno': 3337, 'deliberately': 1166, 'research': 3644, 'added': 116, 'purposes': 3475, 'planned': 3290, 'loss': 2659, 'elderly': 1440, 'moon': 2900, 'perry': 3237, 'nicholas': 3010, 'cage': 645, 'argue': 290, 'convinced': 984, 'tied': 4489, 'causes': 725, 'affair': 135, 'argument': 291, 'resolution': 3649, 'uncle': 4636, 'raymond': 3534, 'effect': 1428, 'smooth': 4041, 'assistant': 326, 'mentions': 2813, 'afraid': 140, 'seven': 3903, 'dropped': 1370, 'homeless': 2143, 'rare': 3523, 'guessing': 1991, 'enters': 1496, 'hopper': 2161, 'singing': 3995, 'matters': 2770, 'gerard': 1895, 'butler': 637, 'dracula': 1341, 'legendary': 2565, 'remind': 3618, 'remains': 3611, 'climax': 849, 'illogical': 2231, 'emma': 1457, 'energy': 1478, 'cheated': 775, 'dawson': 1128, 'menacing': 2807, 'stylish': 4251, 'arnold': 296, 'jesse': 2397, 'rocks': 3722, 'outrageous': 3145, 'counter': 1011, 'performing': 3233, 'perform': 3227, 'thirty': 4456, 'ignored': 2225, 'hopefully': 2157, 'sidney': 3968, 'lumet': 2688, 'sum': 4289, 'multi': 2935, 'exceptional': 1558, 'notion': 3050, 'philip': 3252, 'hoffman': 2128, 'ethan': 1528, 'hank': 2024, 'albert': 174, 'deserved': 1200, 'amy': 222, 'ryan': 3765, 'performs': 3234, 'twilight': 4614, 'educational': 1425, 'planning': 3291, 'teach': 4374, 'superficial': 4298, 'animated': 241, 'beatty': 427, 'slight': 4027, 'lion': 2614, 'island': 2361, 'lesson': 2577, 'stock': 4193, 'relationships': 3598, 'pat': 3208, 'jay': 2386, 'caused': 724, 'rush': 3759, 'hbo': 2055, 'jessica': 2398, 'bag': 384, 'drunk': 1375, 'edward': 1426, 'sexy': 3911, 'forgot': 1796, 'spread': 4133, 'confidence': 938, 'pointed': 3317, 'enemy': 1477, 'terrorist': 4413, 'wound': 4960, 'manager': 2724, 'welcome': 4842, 'scientists': 3819, 'tiger': 4491, 'security': 3854, 'center': 732, 'mate': 2765, 'giant': 1905, 'exciting': 1563, 'angel': 231, 'davies': 1125, 'curtis': 1087, 'originality': 3130, 'wave': 4818, 'introduce': 2336, 'critic': 1061, 'gotta': 1946, 'favorites': 1672, 'eg': 1434, 'singer': 3993, 'grant': 1956, 'alcoholic': 177, 'hugh': 2186, 'wilson': 4891, 'bride': 577, 'daughters': 1122, 'mars': 2746, 'richardson': 3688, 'worried': 4949, 'differences': 1247, 'evening': 1534, 'encounter': 1466, 'vote': 4766, 'brazil': 568, 'caring': 691, 'cared': 685, 'mitchell': 2875, 'rented': 3628, 'print': 3399, 'worn': 4948, 'realism': 3549, 'proceedings': 3410, 'crafted': 1029, 'speaks': 4096, 'arrives': 302, 'dorothy': 1330, 'montage': 2894, 'exact': 1550, 'picks': 3268, 'instinct': 2308, 'catherine': 719, 'stone': 4197, 'hire': 2116, 'mentally': 2809, 'naturally': 2974, 'similarities': 3979, 'explicit': 1591, 'miserable': 2863, 'mst3k': 2932, 'ordinary': 3128, 'shocked': 3939, 'hooked': 2153, 'lucas': 2680, 'sinister': 3998, 'blacks': 494, 'frightening': 1839, 'mysteries': 2954, 'chorus': 803, 'gandhi': 1866, 'musicals': 2948, 'glory': 1922, 'dancers': 1105, 'singers': 3994, 'ballet': 389, 'jazz': 2387, 'tap': 4364, 'lively': 2627, 'imagination': 2236, 'evident': 1547, 'awkward': 374, 'removed': 3624, 'insult': 2309, 'wit': 4908, 'closest': 857, 'shape': 3919, 'rambo': 3511, 'recognize': 3569, 'reads': 3545, 'lover': 2672, 'agents': 151, 'popcorn': 3331, 'burton': 630, 'calm': 655, 'parallel': 3185, 'universe': 4666, 'website': 4834, 'facial': 1619, 'expression': 1602, 'damage': 1099, 'essentially': 1523, 'acts': 107, 'bottle': 550, 'starred': 4153, 'chan': 746, 'sitcom': 4004, 'jewish': 2401, 'irish': 2353, 'catholic': 720, 'couples': 1017, 'weight': 4840, 'projects': 3428, 'st': 4137, 'elsewhere': 1449, 'ties': 4490, 'aired': 165, 'saturday': 3792, 'moore': 2901, 'remembered': 3617, 'chapter': 757, 'unpleasant': 4674, 'spirited': 4114, 'saved': 3795, 'nuts': 3064, 'eager': 1396, 'successfully': 4267, 'relative': 3599, 'importance': 2246, 'fill': 1714, 'holes': 2133, 'reasonable': 3558, 'teenager': 4390, 'lawrence': 2539, 'greedy': 1969, 'sun': 4292, 'afterwards': 145, 'ruin': 3750, 'interview': 2329, 'mouth': 2920, 'roman': 3731, 'holiday': 2134, 'unintentional': 4658, 'surprises': 4314, 'stellar': 4174, 'hunt': 2198, 'independent': 2272, 'tender': 4401, 'contains': 964, 'todays': 4509, 'mini': 2854, 'beats': 426, 'sunshine': 4294, 'fantasy': 1652, 'boot': 538, 'condition': 937, 'unit': 4663, 'orders': 3127, 'protect': 3443, 'poem': 3312, 'context': 968, 'mood': 2898, 'rendition': 3625, 'spooky': 4128, 'tall': 4362, 'everywhere': 1545, 'drop': 1369, 'bringing': 586, 'godfather': 1927, 'hong': 2149, 'kong': 2494, 'genres': 1889, 'mafia': 2700, 'spielberg': 4110, 'scale': 3802, 'kubrick': 2496, 'welles': 4844, 'appalling': 268, 'executed': 1565, 'private': 3404, 'began': 441, 'smile': 4036, 'event': 1535, 'vietnam': 4735, 'jaw': 2384, 'metal': 2823, 'ego': 1435, 'allows': 192, 'enjoys': 1489, 'gritty': 1977, 'colour': 880, 'emphasis': 1463, 'couldve': 1009, 'reel': 3581, 'recorded': 3574, 'hates': 2048, 'situations': 4009, 'hoped': 2156, 'bothered': 549, 'anywhere': 263, 'slightest': 4028, 'empathy': 1462, 'cable': 644, 'lately': 2524, '13th': 5, 'suffer': 4275, 'presented': 3376, 'bright': 581, 'noble': 3021, 'office': 3091, 'bo': 521, 'national': 2970, 'daniel': 1111, 'spanish': 4092, 'urban': 4688, 'explored': 1595, 'bette': 471, 'superbly': 4297, '2001': 31, 'trilogy': 4586, 'jackson': 2375, 'wars': 4804, 'closely': 855, 'quest': 3486, 'ring': 3698, 'bakshi': 386, 'laughed': 2532, 'hoping': 2160, 'pie': 3271, 'generation': 1883, 'ron': 3734, 'engaged': 1480, 'dating': 1120, 'scared': 3805, 'accomplished': 87, 'wanna': 4786, 'tears': 4380, 'conflict': 939, 'copies': 992, 'omen': 3104, 'photographer': 3259, 'wished': 4905, 'asian': 314, 'disjointed': 1287, 'stunt': 4245, 'unsettling': 4679, 'choreographed': 801, 'resembles': 3646, 'nightmare': 3014, 'robbery': 3711, 'demands': 1175, 'ted': 4386, 'victoria': 4732, 'traveling': 4568, 'reach': 3536, 'bank': 394, 'stolen': 4195, 'safety': 3772, 'denzel': 1181, 'washington': 4806, 'powers': 3361, 'logical': 2639, 'depicts': 1186, 'foster': 1809, 'mayor': 2777, 'chief': 788, 'offended': 3085, 'crack': 1027, 'disagree': 1269, 'timothy': 4499, 'anderson': 227, 'defeat': 1157, 'allow': 189, 'possibility': 3349, 'sequels': 3886, 'guard': 1988, 'colonel': 876, 'conspiracy': 956, 'bullets': 621, 'larger': 2519, 'battles': 415, 'tongue': 4518, 'cheek': 779, 'college': 875, 'jason': 2383, 'immensely': 2243, 'infamous': 2284, 'stanwyck': 4149, 'proceeds': 3411, 'corporate': 998, 'travel': 4567, 'repetitive': 3633, 'latest': 2526, 'fest': 1696, 'losers': 2656, 'met': 2822, 'calls': 654, '60': 53, 'walk': 4775, 'treatment': 4574, 'gray': 1963, 'excitement': 1562, 'pearl': 3220, 'extra': 1606, 'finale': 1723, 'parties': 3196, 'lonely': 2643, 'crowd': 1067, 'slave': 4022, 'walken': 4777, 'smoking': 4040, 'beach': 419, 'stargate': 4151, 'wise': 4903, 'alive': 186, 'model': 2880, 'proper': 3436, 'affect': 136, 'relation': 3595, 'tunes': 4603, 'bugs': 613, 'apes': 267, 'hadnt': 2004, 'monkey': 2890, 'exist': 1569, 'despair': 1207, 'destroying': 1215, 'shocking': 3940, 'confusing': 942, 'cruel': 1070, 'complain': 919, 'quote': 3496, 'ray': 3533, 'forty': 1807, 'damn': 1100, 'billy': 482, 'chased': 770, 'widmark': 4882, 'rats': 3531, 'clint': 850, 'panic': 3181, 'dramas': 1347, 'simplistic': 3985, 'cliché': 844, 'distinct': 1296, 'presentation': 3375, 'pet': 3246, 'king': 2479, 'clown': 862, 'clumsy': 866, 'admittedly': 123, 'shall': 3916, 'celluloid': 731, 'breasts': 572, 'highlights': 2104, 'advantage': 129, 'chicago': 785, 'weeks': 4839, 'trek': 4578, 'ran': 3513, 'enterprise': 1495, 'weve': 4856, 'gripping': 1976, 'freddy': 1826, 'roots': 3738, 'goofy': 1939, 'precious': 3366, 'existed': 1570, '25': 40, 'nine': 3017, 'orson': 3132, 'menace': 2806, 'occurred': 3077, 'numbers': 3061, 'asked': 317, 'editor': 1423, 'involve': 2345, 'donald': 1321, 'wind': 4893, 'suspect': 4327, 'fulci': 1845, 'similarly': 3980, 'handful': 2017, 'notch': 3043, 'developing': 1224, 'corpse': 999, 'paper': 3183, 'thief': 4448, 'smoke': 4039, 'flying': 1764, 'lying': 2690, 'station': 4164, 'walks': 4780, 'escapes': 1519, 'blowing': 515, 'concerns': 934, 'explore': 1594, 'pushed': 3478, 'feet': 1688, 'kung': 2498, 'fu': 1844, 'medical': 2790, 'stomach': 4196, 'chasing': 772, 'screams': 3828, 'dawn': 1127, 'regardless': 3590, 'cameron': 661, 'saves': 3796, 'wealth': 4826, 'adapted': 114, 'schools': 3814, '50': 51, 'term': 4405, 'match': 2762, 'involvement': 2347, 'bible': 477, 'lees': 2560, 'hip': 2114, 'hop': 2154, 'admit': 122, 'competition': 918, 'album': 175, 'horrific': 2166, 'elm': 1447, 'titles': 4506, 'hill': 2108, 'capture': 676, 'masses': 2755, 'improvement': 2256, 'scope': 3821, 'fbi': 1675, 'winner': 4897, 'johnson': 2411, '1933': 12, 'nelson': 2997, 'joined': 2413, 'homer': 2144, 'michelle': 2830, 'chase': 769, 'edgar': 1417, 'weapons': 4829, 'gratuitous': 1961, 'develops': 1226, 'touched': 4534, 'pair': 3176, 'em': 1452, 'stereotype': 4178, 'attracted': 349, 'appearing': 277, '1970s': 17, 'bargain': 400, 'lone': 2642, 'checking': 778, 'reviewer': 3677, 'threat': 4467, 'virus': 4752, 'domestic': 1318, 'defined': 1160, 'reveal': 3670, 'beneath': 464, 'plant': 3293, 'access': 83, 'pass': 3201, 'showcase': 3954, 'criminals': 1058, 'jenny': 2393, 'intent': 2318, 'terrifying': 4410, 'dire': 1257, 'returns': 3668, 'charismatic': 763, 'barry': 401, 'plans': 3292, 'global': 1920, 'hook': 2152, 'worker': 4942, 'bud': 607, 'samurai': 3779, 'expressions': 1603, 'thrillers': 4473, 'usa': 4691, 'sinatra': 3989, 'contrary': 974, 'wishes': 4906, 'catchy': 717, 'performed': 3230, 'opposed': 3122, 'wonders': 4931, 'heat': 2067, 'thousand': 4465, 'sudden': 4272, 'simmons': 3981, 'balance': 387, 'method': 2824, 'dances': 1106, 'cats': 721, 'cuba': 1075, 'flashback': 1746, 'seat': 3845, 'instant': 2305, 'cameos': 658, 'bumbling': 622, 'pleasantly': 3303, 'comical': 894, 'rushed': 3760, 'phony': 3256, 'dealt': 1138, 'justify': 2439, 'brosnan': 597, 'grey': 1973, 'understated': 4646, 'bucks': 606, 'powell': 3358, 'court': 1020, 'soul': 4079, 'intimate': 2331, 'pot': 3354, 'silence': 3974, 'strangers': 4214, 'namely': 2962, 'delivering': 1171, 'kudos': 2497, 'warming': 4795, 'ward': 4793, 'jumped': 2430, 'chose': 804, 'classes': 834, 'teaching': 4377, 'beast': 422, 'deaf': 1134, 'cynical': 1093, 'rain': 3506, 'widely': 4881, 'deeper': 1155, 'fare': 1655, 'warrior': 4802, 'seeks': 3860, 'ease': 1404, 'fancy': 1649, 'disappoint': 1272, 'individuals': 2278, '1990s': 25, 'junk': 2436, 'unintentionally': 4659, 'rex': 3683, 'henry': 2084, 'cringe': 1059, 'hal': 2006, 'burning': 627, 'craig': 1030, 'kicking': 2462, 'cares': 690, 'lessons': 2578, 'brady': 561, '20th': 38, 'locked': 2637, 'kelly': 2452, 'mgm': 2828, 'considerable': 950, 'dry': 1377, 'brooklyn': 595, 'personality': 3242, 'mouse': 2919, 'kingdom': 2480, 'navy': 2976, 'combination': 883, 'solution': 4059, 'parker': 3191, '3d': 46, 'understandable': 4644, 'nowadays': 3055, 'ps': 3453, 'ideal': 2214, 'anime': 243, 'million': 2847, 'spends': 4107, 'pants': 3182, 'centered': 733, 'suit': 4284, 'progress': 3425, 'broken': 594, 'struggles': 4235, 'awfully': 373, 'minded': 2850, 'miracle': 2860, 'blows': 517, 'faced': 1617, 'fish': 1738, 'leader': 2546, 'alexander': 180, 'lights': 2597, 'capturing': 679, 'hearts': 2066, 'prom': 3429, 'donna': 1323, 'jonathan': 2417, 'escaped': 1518, 'lol': 2640, '2004': 34, 'subplots': 4256, 'hotel': 2175, 'guarantee': 1987, 'smaller': 4034, 'cried': 1054, 'wouldve': 4959, 'imagined': 2239, 'colorful': 878, 'intrigue': 2333, 'breath': 573, 'topic': 4526, 'rape': 3521, '1960s': 15, 'company': 910, 'assault': 324, 'raised': 3508, 'bull': 619, 'naive': 2958, 'round': 3742, 'signed': 3971, 'engage': 1479, 'network': 3000, 'frequently': 1832, 'wore': 4939, 'keaton': 2448, 'substance': 4258, 'shadows': 3913, 'maker': 2714, 'waitress': 4773, 'narration': 2965, 'solve': 4060, 'bourne': 554, 'cia': 814, 'territory': 4411, 'decisions': 1152, 'spain': 4091, 'trade': 4547, 'september': 3884, 'root': 3737, 'bone': 533, 'wayne': 4821, 'seasons': 3844, 'trademark': 4548, 'travels': 4569, 'reminded': 3619, 'landscapes': 2514, 'judging': 2425, 'pages': 3168, 'attend': 344, 'medium': 2792, 'designs': 1204, 'vast': 4716, 'specific': 4099, 'standing': 4146, 'clue': 864, 'believing': 457, 'staff': 4138, 'recording': 3575, 'causing': 726, 'accompanied': 86, 'wins': 4899, 'slapstick': 4019, 'antics': 255, 'formulaic': 1803, 'imaginative': 2237, 'videos': 4734, 'torture': 4529, 'limits': 2607, 'motivations': 2915, 'helping': 2081, 'carter': 703, 'von': 4765, 'idiots': 2220, 'inevitably': 2283, 'germans': 1897, 'pacino': 3164, 'jones': 2418, 'eastern': 1408, 'broad': 590, 'sharp': 3922, 'staying': 4168, 'lips': 2615, 'subplot': 4255, 'iraq': 2351, 'junior': 2435, 'unwatchable': 4682, 'blah': 496, 'civilization': 827, 'yelling': 4980, 'kissing': 2484, 'hudson': 2184, 'financial': 1725, 'arrogant': 303, 'walker': 4778, 'woody': 4936, 'serves': 3895, 'paltrow': 3178, 'passes': 3203, 'dinosaur': 1255, 'politically': 3325, 'psychic': 3456, 'caine': 647, 'sophisticated': 4075, 'wholly': 4874, 'spin': 4112, 'glimpse': 1919, 'religious': 3608, 'ruined': 3751, 'troubles': 4594, 'derek': 1192, 'leg': 2562, 'whale': 4857, 'motivation': 2914, 'tracy': 4546, 'ritter': 3705, 'sutherland': 4333, 'mail': 2706, 'receives': 3565, 'monsters': 2893, 'stevens': 4183, 'ruthless': 3764, 'flynn': 1765, 'boss': 546, 'altogether': 202, 'pal': 3177, 'believed': 455, 'giallo': 1904, 'bound': 553, 'companion': 909, 'laughably': 2531, 'manhattan': 2726, 'swedish': 4335, 'revolves': 3682, 'solo': 4058, 'rising': 3703, 'transition': 4561, 'guest': 1992, 'alike': 185, 'arrived': 301, 'oz': 3160, 'childish': 791, 'saga': 3773, 'improved': 2255, 'bonus': 534, 'cary': 706, '40s': 49, 'survivor': 4324, '45': 50, 'versus': 4722, 'wrestling': 4966, 'tag': 4348, 'kane': 2442, 'duo': 1386, 'soviet': 4089, 'wwii': 4975, 'eerie': 1427, 'guilty': 1995, 'narrator': 2967, 'hippie': 2115, 'countless': 1012, 'accepted': 82, 'mall': 2720, 'forest': 1791, 'ha': 2002, 'iron': 2354, 'christmas': 810, 'franco': 1820, 'according': 88, 'muslim': 2949, 'east': 1407, 'india': 2273, 'anyways': 262, 'morality': 2903, 'catching': 716, 'dan': 1102, 'embarrassment': 1455, 'dinosaurs': 1256, 'comics': 895, 'astaire': 330, 'rooms': 3736, 'shut': 3961, 'unseen': 4678, 'dragged': 1343, 'afternoon': 144, 'deserve': 1199, 'cinemas': 817, 'screens': 3832, 'notes': 3046, 'teeth': 4393, 'reaches': 3538, 'gross': 1978, 'rachel': 3500, 'tribute': 4581, 'suggest': 4280, 'airport': 167, 'brooks': 596, 'horses': 2171, 'closet': 858, 'neighborhood': 2993, 'ourselves': 3140, 'novels': 3053, 'redemption': 3578, 'aids': 161, 'unoriginal': 4673, 'lay': 2542, 'hamilton': 2012, 'erotic': 1515, 'destiny': 1212, 'photo': 3257, 'ball': 388, 'childrens': 793, 'foreign': 1790, 'merits': 2817, 'bears': 421, 'reputation': 3640, 'arms': 294, 'provoking': 3452, 'maintain': 2710, 'unknown': 4668, 'mask': 2752, 'hence': 2083, 'mob': 2879, 'prisoners': 3403, 'cure': 1081, 'da': 1094, 'blow': 514, 'taylor': 4372, 'celebrity': 729, 'displayed': 1292, 'vulnerable': 4768, 'credible': 1048, 'raped': 3522, 'racism': 3502, 'intellectual': 2312, 'consistent': 953, 'sentimental': 3882, 'household': 2179, 'prize': 3405, 'literature': 2623, 'appreciation': 281, 'piano': 3264, 'nonsensical': 3031, 'letter': 2581, 'severe': 3906, 'resist': 3648, 'depiction': 1185, 'potentially': 3356, '2002': 32, 'purchased': 3470, 'nostalgic': 3039, 'theyll': 4444, 'toys': 4543, 'awake': 365, 'ham': 2011, 'lacked': 2503, 'dozens': 1339, 'theyd': 4443, 'grab': 1949, 'typically': 4624, 'grinch': 1975, 'jeffrey': 2391, 'poignant': 3315, 'delight': 1167, 'granted': 1957, 'inevitable': 2282, 'hammer': 2014, 'overlooked': 3154, 'object': 3066, 'desired': 1206, 'sacrifice': 3766, 'jungle': 2434, 'lyrics': 2692, 'pro': 3406, 'struck': 4232, 'prepared': 3371, 'whereas': 4865, 'primarily': 3393, 'advertising': 132, 'cliche': 843, 'karen': 2444, 'orange': 3125, 'stanley': 4148, 'killings': 2473, 'basement': 405, 'continued': 970, 'domino': 1319, 'mere': 2814, 'lucy': 2684, 'credibility': 1047, 'born': 544, 'desperately': 1209, 'text': 4419, 'hills': 2109, 'mental': 2808, 'disease': 1285, 'matched': 2763, 'drawing': 1350, 'ships': 3935, 'racial': 3501, 'cowboy': 1025, 'partly': 3197, 'liberal': 2588, 'masters': 2761, 'blade': 495, 'ought': 3138, '1st': 28, 'overcome': 3151, 'allen': 188, 'myers': 2952, 'cake': 648, 'devils': 1229, 'disturbed': 1299, 'describes': 1196, 'demand': 1174, '1972': 18, 'elaborate': 1439, 'bath': 411, 'steal': 4170, '1980': 20, 'suspenseful': 4331, 'tales': 4357, 'fisher': 1739, 'compelled': 915, 'communist': 907, 'fictional': 1703, 'tape': 4365, 'outcome': 3142, 'adorable': 124, 'sappy': 3784, 'source': 4086, 'basketball': 409, 'championship': 745, 'itll': 2369, 'six': 4010, 'packed': 3166, 'warmth': 4796, 'undoubtedly': 4648, 'techniques': 4384, 'westerns': 4854, 'vice': 4727, 'melting': 2799, 'flies': 1756, 'bullet': 620, 'wolf': 4920, '1983': 22, 'clues': 865, 'suspects': 4328, 'upset': 4687, 'birthday': 487, 'rogers': 3725, 'popularity': 3334, 'ginger': 1908, 'cameo': 657, 'gabriel': 1859, 'ya': 4976, 'le': 2544, 'glenn': 1918, 'catches': 715, 'horrifying': 2167, 'rocket': 3721, 'amitabh': 216, 'inferior': 2285, 'consistently': 954, 'merit': 2816, 'lawyer': 2541, 'leonard': 2572, 'dignity': 1252, 'wallace': 4782, 'extended': 1604, 'realise': 3548, 'lust': 2689, 'bacall': 377, 'aging': 153, 'owner': 3159, 'crash': 1033, 'retired': 3664, 'tree': 4576, 'channels': 754, 'blake': 498, 'happiness': 2031, 'santa': 3783, 'melodrama': 2797, 'oil': 3097, 'desperation': 1210, 'motives': 2916, 'mechanical': 2788, 'riding': 3695, 'pokemon': 3320, 'greed': 1968, 'ireland': 2352, 'phantom': 3251, 'sisters': 4002, 'church': 813, 'trio': 4587, 'fed': 1682, 'thomas': 4458, 'cd': 728, 'activities': 102, 'countries': 1013, 'nations': 2971, 'draw': 1349, 'valuable': 4708, 'grandmother': 1955, 'excessive': 1560, 'titanic': 4503, 'internet': 2327, 'matrix': 2767, 'symbolism': 4341, 'stilted': 4190, 'kings': 2481, 'variety': 4714, 'represents': 3639, 'blair': 497, 'revolutionary': 3681, 'randomly': 3515, 'stones': 4198, 'directs': 1267, 'homosexual': 2145, 'jerk': 2395, 'generations': 1884, 'central': 735, 'passionate': 3206, 'princess': 3397, 'ken': 2453, 'constructed': 959, 'enthusiasm': 1501, 'amateurish': 207, 'aimed': 162, 'secondly': 3847, 'jesus': 2399, 'christ': 807, 'implausible': 2245, 'peters': 3248, 'terrorists': 4414, 'ocean': 3079, 'chooses': 800, 'persons': 3244, 'citizen': 824, 'wizard': 4919, 'purchase': 3469, 'florida': 1761, 'hed': 2072, 'ultimate': 4627, 'incoherent': 2265, 'sadness': 3770, 'sidekick': 3966, 'remaining': 3610, 'lena': 2568, 'familys': 1646, 'fooled': 1780, 'rebel': 3561, 'notably': 3042, 'reaching': 3539, 'sue': 4274, 'pig': 3274, 'tie': 4488, 'graphic': 1958, 'reflection': 3585, 'sandra': 3782, 'niro': 3019, 'doll': 1313, 'staged': 4140, 'diana': 1237, 'lou': 2663, 'flash': 1745, 'tremendous': 4579, 'population': 3335, 'robinson': 3716, 'props': 3439, 'wounded': 4961, 'parent': 3187, 'korean': 2495, 'contest': 967, 'rolled': 3729, 'union': 4661, 'bush': 632, 'displays': 1293, 'stiff': 4187, 'abc': 63, 'mundane': 2938, 'robbins': 3712, 'magical': 2704, 'border': 539, 'canada': 666, 'bold': 528, 'harder': 2035, 'patients': 3212, 'explaining': 1588, 'carpenter': 694, 'craven': 1034, 'studios': 4241, 'cagney': 646, 'abilities': 64, 'partner': 3198, 'ruby': 3749, 'ironically': 2356, 'gradually': 1952, 'poverty': 3357, 'heights': 2073, 'intentionally': 2320, 'alcohol': 176, 'african': 142, 'godzilla': 1929, 'enemies': 1476, 'distance': 1294, 'roy': 3745, 'margaret': 2735, 'sincere': 3991, 'minimum': 2856, 'focusing': 1769, 'boxing': 556, 'greek': 1970, 'brand': 565, 'rap': 3520, 'agreed': 156, 'suffering': 4277, 'hunting': 2201, 'abysmal': 76, 'advanced': 128, 'atlantis': 332, 'viewed': 4737, 'riveting': 3708, 'hall': 2009, 'werewolf': 4850, 'occasion': 3073, 'month': 2896, 'overdone': 3152, 'creativity': 1042, 'vaguely': 4706, 'behave': 445, 'abusive': 75, 'hopeless': 2158, 'holmes': 2139, 'dickens': 1240, 'distribution': 1298, 'stole': 4194, 'toy': 4542, 'reynolds': 3684, 'finger': 1731, 'jamie': 2379, 'visible': 4753, 'pursuit': 3476, 'areas': 287, 'meaningful': 2781, 'corruption': 1002, 'survived': 4322, 'duke': 1383, 'digital': 1251, 'wet': 4855, 'useful': 4694, 'magazine': 2701, 'connected': 945, 'racist': 3503, 'cusack': 1088, 'fonda': 1777, 'blockbuster': 509, 'comedian': 887, 'consequences': 947, 'chaos': 755, 'staring': 4152, 'spiritual': 4116, 'poetic': 3313, 'blatant': 502, 'sings': 3997, 'goldberg': 1933, 'rat': 3525, 'mann': 2728, 'stewart': 4184, 'dutch': 1389, 'breathtaking': 574, 'winters': 4901, 'classical': 836, 'angle': 236, 'christians': 809, 'stunts': 4246, 'bergman': 466, 'troops': 4591, 'thrilling': 4474, 'kidding': 2465, 'grim': 1974, 'misery': 2865, 'workers': 4943, 'gifted': 1907, 'overlook': 3153, 'rights': 3697, 'beliefs': 452, '2006': 36, 'cooper': 990, 'waited': 4771, 'dare': 1113, 'attorney': 348, 'loyal': 2679, 'scheme': 3812, 'heroic': 2090, 'voight': 4764, 'cox': 1026, 'rocky': 3723, 'countryside': 1015, 'landscape': 2513, 'selfish': 3870, 'environment': 1505, 'stupidity': 4248, 'tarzan': 4367, 'simpson': 3987, 'treats': 4575, 'seed': 3856, 'petty': 3249, 'marie': 2737, 'lengthy': 2570, 'valley': 4707, 'gods': 1928, 'realizing': 3555, 'frequent': 1831, 'georges': 1894, 'progresses': 3426, 'urge': 4689, 'backgrounds': 381, 'delivery': 1173, 'crucial': 1068, 'ranks': 3519, 'listed': 2618, 'li': 2587, 'meaningless': 2782, 'norman': 3035, 'sadistic': 3768, 'amanda': 205, 'hyde': 2206, 'directions': 1262, 'ignorant': 2223, 'loosely': 2651, 'regret': 3591, 'estate': 1525, 'ruth': 3763, 'size': 4012, 'fay': 1674, 'roberts': 3714, 'transformation': 4560, 'swim': 4337, 'invisible': 2344, 'eaten': 1412, 'craft': 1028, 'achieved': 93, 'blunt': 520, 'chess': 783, 'eva': 1531, 'satisfy': 3790, 'luckily': 2682, 'serving': 3897, 'iran': 2350, 'africa': 141, 'sunday': 4293, 'brenda': 575, 'loaded': 2632, 'exceptionally': 1559, 'victor': 4731, 'equivalent': 1512, 'coffee': 870, 'neck': 2985, 'rangers': 3517, 'composed': 926, 'swimming': 4338, 'grandfather': 1954, 'eccentric': 1414, 'falk': 1636, 'columbo': 881, 'fired': 1735, '17': 9, 'fighter': 1708, 'dreary': 1356, 'seagal': 3839, 'elegant': 1441, 'montana': 2895, 'elephant': 1444, 'murderous': 2942, 'crocodile': 1065, 'attraction': 350, 'feminist': 1695, 'trail': 4553, 'witches': 4910, 'forms': 1801, 'resident': 3647, 'ramones': 3512, 'kidnapped': 2466, 'sport': 4129, 'madonna': 2699, 'strikes': 4225, 'legal': 2563, 'conflicts': 940, 'introduces': 2338, 'dub': 1378, 'sounding': 4083, 'streisand': 4218, 'wendy': 4846, 'machines': 2694, '2nd': 41, 'tommy': 4516, 'careers': 687, 'scarecrow': 3804, 'hart': 2041, 'mighty': 2836, 'louise': 2666, 'responsibility': 3655, 'eastwood': 1409, 'loads': 2633, 'visits': 4756, 'vengeance': 4719, 'row': 3744, 'con': 928, 'weapon': 4828, 'jake': 2377, 'cave': 727, 'brilliance': 582, 'spider': 4109, 'hunters': 2200, 'baker': 385, 'wells': 4845, 'bela': 450, 'purple': 3473, 'ensues': 1493, 'ingredients': 2289, 'ape': 266, 'wrap': 4963, 'scrooge': 3837, 'neo': 2998, 'seventies': 3904, 'amounts': 220, 'mickey': 2831, 'stooges': 4200, 'linda': 2609, 'mildred': 2841, 'damon': 1101, 'per': 3223, 'sullivan': 4288, 'lincoln': 2608, 'moody': 2899, 'olivier': 3103, 'miike': 2837, 'concern': 931, 'facing': 1620, 'fields': 1705, 'paulie': 3215, 'settle': 3902, 'endure': 1475, 'doom': 1326, 'holly': 2136, 'dynamic': 1394, 'warriors': 4803, 'button': 639, 'fury': 1855, 'lowest': 2678, 'angela': 232, 'punishment': 3467, 'north': 3036, 'assumed': 329, 'nicholson': 3011, 'creep': 1051, 'jaws': 2385, 'switch': 4339, 'edie': 1419, 'ridden': 3691, 'university': 4667, 'blob': 507, 'ford': 1789, 'gender': 1878, 'mummy': 2937, 'elvira': 1450, 'spoke': 4125, 'surfing': 4311, 'gundam': 1997, 'modesty': 2883, 'gadget': 1860}\n"
     ]
    }
   ],
   "source": [
    "print(str(vocabulary))"
   ]
  },
  {
   "cell_type": "markdown",
   "metadata": {},
   "source": [
    "Once you have added the endpoint name to the Lambda function, click on **Save**. Your Lambda function is now up and running. Next we need to create a way for our web app to execute the Lambda function."
   ]
  },
  {
   "cell_type": "markdown",
   "metadata": {},
   "source": [
    "### Setting up API Gateway\n",
    "\n",
    "Now that our Lambda function is set up, it is time to create a new API using API Gateway that will trigger the Lambda function we have just created.\n",
    "\n",
    "Using AWS Console, navigate to **Amazon API Gateway** and then click on **Get started**.\n",
    "\n",
    "On the next page, make sure that **New API** is selected and give the new api a name, for example, `sentiment_analysis_web_app`. Then, click on **Create API**.\n",
    "\n",
    "Now we have created an API, however it doesn't currently do anything. What we want it to do is to trigger the Lambda function that we created earlier.\n",
    "\n",
    "Select the **Actions** dropdown menu and click **Create Method**. A new blank method will be created, select its dropdown menu and select **POST**, then click on the check mark beside it.\n",
    "\n",
    "For the integration point, make sure that **Lambda Function** is selected and click on the **Use Lambda Proxy integration**. This option makes sure that the data that is sent to the API is then sent directly to the Lambda function with no processing. It also means that the return value must be a proper response object as it will also not be processed by API Gateway.\n",
    "\n",
    "Type the name of the Lambda function you created earlier into the **Lambda Function** text entry box and then click on **Save**. Click on **OK** in the pop-up box that then appears, giving permission to API Gateway to invoke the Lambda function you created.\n",
    "\n",
    "The last step in creating the API Gateway is to select the **Actions** dropdown and click on **Deploy API**. You will need to create a new Deployment stage and name it anything you like, for example `prod`.\n",
    "\n",
    "You have now successfully set up a public API to access your SageMaker model. Make sure to copy or write down the URL provided to invoke your newly created public API as this will be needed in the next step. This URL can be found at the top of the page, highlighted in blue next to the text **Invoke URL**."
   ]
  },
  {
   "cell_type": "markdown",
   "metadata": {},
   "source": [
    "## Step 7: Deploying our web app\n",
    "\n",
    "Now that we have a publicly available API, we can start using it in a web app. For our purposes, we have provided a simple static html file which can make use of the public api you created earlier.\n",
    "\n",
    "In the `website` folder there should be a file called `index.html`. Download the file to your computer and open that file up in a text editor of your choice. There should be a line which contains **\\*\\*REPLACE WITH PUBLIC API URL\\*\\***. Replace this string with the url that you wrote down in the last step and then save the file.\n",
    "\n",
    "Now, if you open `index.html` on your local computer, your browser will behave as a local web server and you can use the provided site to interact with your SageMaker model.\n",
    "\n",
    "If you'd like to go further, you can host this html file anywhere you'd like, for example using github or hosting a static site on Amazon's S3. Once you have done this you can share the link with anyone you'd like and have them play with it too!\n",
    "\n",
    "> **Important Note** In order for the web app to communicate with the SageMaker endpoint, the endpoint has to actually be deployed and running. This means that you are paying for it. Make sure that the endpoint is running when you want to use the web app but that you shut it down when you don't need it, otherwise you will end up with a surprisingly large AWS bill."
   ]
  },
  {
   "cell_type": "markdown",
   "metadata": {},
   "source": [
    "### Delete the endpoint\n",
    "\n",
    "Remember to always shut down your endpoint if you are no longer using it. You are charged for the length of time that the endpoint is running so if you forget and leave it on you could end up with an unexpectedly large bill."
   ]
  },
  {
   "cell_type": "code",
   "execution_count": 48,
   "metadata": {},
   "outputs": [],
   "source": [
    "xgb_predictor.delete_endpoint()"
   ]
  },
  {
   "cell_type": "markdown",
   "metadata": {},
   "source": [
    "## Optional: Clean up\n",
    "\n",
    "The default notebook instance on SageMaker doesn't have a lot of excess disk space available. As you continue to complete and execute notebooks you will eventually fill up this disk space, leading to errors which can be difficult to diagnose. Once you are completely finished using a notebook it is a good idea to remove the files that you created along the way. Of course, you can do this from the terminal or from the notebook hub if you would like. The cell below contains some commands to clean up the created files from within the notebook."
   ]
  },
  {
   "cell_type": "code",
   "execution_count": 49,
   "metadata": {},
   "outputs": [],
   "source": [
    "# First we will remove all of the files contained in the data_dir directory\n",
    "!rm $data_dir/*\n",
    "\n",
    "# And then we delete the directory itself\n",
    "!rmdir $data_dir\n",
    "\n",
    "# Similarly we remove the files in the cache_dir directory and the directory itself\n",
    "!rm $cache_dir/*\n",
    "!rmdir $cache_dir"
   ]
  }
 ],
 "metadata": {
  "kernelspec": {
   "display_name": "conda_python3",
   "language": "python",
   "name": "conda_python3"
  },
  "language_info": {
   "codemirror_mode": {
    "name": "ipython",
    "version": 3
   },
   "file_extension": ".py",
   "mimetype": "text/x-python",
   "name": "python",
   "nbconvert_exporter": "python",
   "pygments_lexer": "ipython3",
   "version": "3.6.5"
  }
 },
 "nbformat": 4,
 "nbformat_minor": 2
}
