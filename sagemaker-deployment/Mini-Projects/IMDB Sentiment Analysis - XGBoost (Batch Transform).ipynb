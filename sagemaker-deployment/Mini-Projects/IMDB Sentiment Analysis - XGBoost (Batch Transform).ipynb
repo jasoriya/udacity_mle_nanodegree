{
 "cells": [
  {
   "cell_type": "markdown",
   "metadata": {},
   "source": [
    "# Sentiment Analysis\n",
    "\n",
    "## Using XGBoost in SageMaker\n",
    "\n",
    "_Deep Learning Nanodegree Program | Deployment_\n",
    "\n",
    "---\n",
    "\n",
    "As our first example of using Amazon's SageMaker service we will construct a random tree model to predict the sentiment of a movie review. You may have seen a version of this example in a pervious lesson although it would have been done using the sklearn package. Instead, we will be using the XGBoost package as it is provided to us by Amazon.\n",
    "\n",
    "## Instructions\n",
    "\n",
    "Some template code has already been provided for you, and you will need to implement additional functionality to successfully complete this notebook. You will not need to modify the included code beyond what is requested. Sections that begin with '**TODO**' in the header indicate that you need to complete or implement some portion within them. Instructions will be provided for each section and the specifics of the implementation are marked in the code block with a `# TODO: ...` comment. Please be sure to read the instructions carefully!\n",
    "\n",
    "In addition to implementing code, there may be questions for you to answer which relate to the task and your implementation. Each section where you will answer a question is preceded by a '**Question:**' header. Carefully read each question and provide your answer below the '**Answer:**' header by editing the Markdown cell.\n",
    "\n",
    "> **Note**: Code and Markdown cells can be executed using the **Shift+Enter** keyboard shortcut. In addition, a cell can be edited by typically clicking it (double-click for Markdown cells) or by pressing **Enter** while it is highlighted."
   ]
  },
  {
   "cell_type": "markdown",
   "metadata": {},
   "source": [
    "## Step 1: Downloading the data\n",
    "\n",
    "The dataset we are going to use is very popular among researchers in Natural Language Processing, usually referred to as the [IMDb dataset](http://ai.stanford.edu/~amaas/data/sentiment/). It consists of movie reviews from the website [imdb.com](http://www.imdb.com/), each labeled as either '**pos**itive', if the reviewer enjoyed the film, or '**neg**ative' otherwise.\n",
    "\n",
    "> Maas, Andrew L., et al. [Learning Word Vectors for Sentiment Analysis](http://ai.stanford.edu/~amaas/data/sentiment/). In _Proceedings of the 49th Annual Meeting of the Association for Computational Linguistics: Human Language Technologies_. Association for Computational Linguistics, 2011.\n",
    "\n",
    "We begin by using some Jupyter Notebook magic to download and extract the dataset."
   ]
  },
  {
   "cell_type": "code",
   "execution_count": 1,
   "metadata": {},
   "outputs": [
    {
     "name": "stdout",
     "output_type": "stream",
     "text": [
      "--2020-05-11 14:40:43--  http://ai.stanford.edu/~amaas/data/sentiment/aclImdb_v1.tar.gz\n",
      "Resolving ai.stanford.edu (ai.stanford.edu)... 171.64.68.10\n",
      "Connecting to ai.stanford.edu (ai.stanford.edu)|171.64.68.10|:80... connected.\n",
      "HTTP request sent, awaiting response... 200 OK\n",
      "Length: 84125825 (80M) [application/x-gzip]\n",
      "Saving to: ‘../data/aclImdb_v1.tar.gz’\n",
      "\n",
      "../data/aclImdb_v1. 100%[===================>]  80.23M  28.3MB/s    in 2.8s    \n",
      "\n",
      "2020-05-11 14:40:46 (28.3 MB/s) - ‘../data/aclImdb_v1.tar.gz’ saved [84125825/84125825]\n",
      "\n"
     ]
    }
   ],
   "source": [
    "%mkdir ../data\n",
    "!wget -O ../data/aclImdb_v1.tar.gz http://ai.stanford.edu/~amaas/data/sentiment/aclImdb_v1.tar.gz\n",
    "!tar -zxf ../data/aclImdb_v1.tar.gz -C ../data"
   ]
  },
  {
   "cell_type": "markdown",
   "metadata": {},
   "source": [
    "## Step 2: Preparing the data\n",
    "\n",
    "The data we have downloaded is split into various files, each of which contains a single review. It will be much easier going forward if we combine these individual files into two large files, one for training and one for testing."
   ]
  },
  {
   "cell_type": "code",
   "execution_count": 20,
   "metadata": {},
   "outputs": [],
   "source": [
    "import os\n",
    "import glob\n",
    "\n",
    "def read_imdb_data(data_dir='../data/aclImdb'):\n",
    "    data = {}\n",
    "    labels = {}\n",
    "    \n",
    "    for data_type in ['train', 'test']:\n",
    "        data[data_type] = {}\n",
    "        labels[data_type] = {}\n",
    "        \n",
    "        for sentiment in ['pos', 'neg']:\n",
    "            data[data_type][sentiment] = []\n",
    "            labels[data_type][sentiment] = []\n",
    "            \n",
    "            path = os.path.join(data_dir, data_type, sentiment, '*.txt')\n",
    "            files = glob.glob(path)\n",
    "            \n",
    "            for f in files:\n",
    "                with open(f) as review:\n",
    "                    data[data_type][sentiment].append(review.read())\n",
    "                    # Here we represent a positive review by '1' and a negative review by '0'\n",
    "                    labels[data_type][sentiment].append(1 if sentiment == 'pos' else 0)\n",
    "                    \n",
    "            assert len(data[data_type][sentiment]) == len(labels[data_type][sentiment]), \\\n",
    "                    \"{}/{} data size does not match labels size\".format(data_type, sentiment)\n",
    "                \n",
    "    return data, labels"
   ]
  },
  {
   "cell_type": "code",
   "execution_count": 21,
   "metadata": {},
   "outputs": [
    {
     "name": "stdout",
     "output_type": "stream",
     "text": [
      "IMDB reviews: train = 12500 pos / 12500 neg, test = 12500 pos / 12500 neg\n"
     ]
    }
   ],
   "source": [
    "data, labels = read_imdb_data()\n",
    "print(\"IMDB reviews: train = {} pos / {} neg, test = {} pos / {} neg\".format(\n",
    "            len(data['train']['pos']), len(data['train']['neg']),\n",
    "            len(data['test']['pos']), len(data['test']['neg'])))"
   ]
  },
  {
   "cell_type": "code",
   "execution_count": 22,
   "metadata": {},
   "outputs": [],
   "source": [
    "from sklearn.utils import shuffle\n",
    "\n",
    "def prepare_imdb_data(data, labels):\n",
    "    \"\"\"Prepare training and test sets from IMDb movie reviews.\"\"\"\n",
    "    \n",
    "    #Combine positive and negative reviews and labels\n",
    "    data_train = data['train']['pos'] + data['train']['neg']\n",
    "    data_test = data['test']['pos'] + data['test']['neg']\n",
    "    labels_train = labels['train']['pos'] + labels['train']['neg']\n",
    "    labels_test = labels['test']['pos'] + labels['test']['neg']\n",
    "    \n",
    "    #Shuffle reviews and corresponding labels within training and test sets\n",
    "    data_train, labels_train = shuffle(data_train, labels_train)\n",
    "    data_test, labels_test = shuffle(data_test, labels_test)\n",
    "    \n",
    "    # Return a unified training data, test data, training labels, test labets\n",
    "    return data_train, data_test, labels_train, labels_test"
   ]
  },
  {
   "cell_type": "code",
   "execution_count": 23,
   "metadata": {},
   "outputs": [
    {
     "name": "stdout",
     "output_type": "stream",
     "text": [
      "IMDb reviews (combined): train = 25000, test = 25000\n"
     ]
    }
   ],
   "source": [
    "train_X, test_X, train_y, test_y = prepare_imdb_data(data, labels)\n",
    "print(\"IMDb reviews (combined): train = {}, test = {}\".format(len(train_X), len(test_X)))"
   ]
  },
  {
   "cell_type": "code",
   "execution_count": 24,
   "metadata": {},
   "outputs": [
    {
     "data": {
      "text/plain": [
       "'I watched this film over a hundred times. It is really best Serbian movie made ever.I wood like to recommend this movie to everyone. It is very good comedy. I surely like it!!!!'"
      ]
     },
     "execution_count": 24,
     "metadata": {},
     "output_type": "execute_result"
    }
   ],
   "source": [
    "train_X[100]"
   ]
  },
  {
   "cell_type": "markdown",
   "metadata": {},
   "source": [
    "## Step 3: Processing the data\n",
    "\n",
    "Now that we have our training and testing datasets merged and ready to use, we need to start processing the raw data into something that will be useable by our machine learning algorithm. To begin with, we remove any html formatting that may appear in the reviews and perform some standard natural language processing in order to homogenize the data."
   ]
  },
  {
   "cell_type": "code",
   "execution_count": 25,
   "metadata": {},
   "outputs": [
    {
     "name": "stdout",
     "output_type": "stream",
     "text": [
      "[nltk_data] Downloading package stopwords to\n",
      "[nltk_data]     /home/ec2-user/nltk_data...\n",
      "[nltk_data]   Package stopwords is already up-to-date!\n"
     ]
    }
   ],
   "source": [
    "import nltk\n",
    "nltk.download(\"stopwords\")\n",
    "from nltk.corpus import stopwords\n",
    "from nltk.stem.porter import *\n",
    "stemmer = PorterStemmer()"
   ]
  },
  {
   "cell_type": "code",
   "execution_count": 26,
   "metadata": {},
   "outputs": [],
   "source": [
    "import re\n",
    "from bs4 import BeautifulSoup\n",
    "\n",
    "def review_to_words(review):\n",
    "    text = BeautifulSoup(review, \"html.parser\").get_text() # Remove HTML tags\n",
    "    text = re.sub(r\"[^a-zA-Z0-9]\", \" \", text.lower()) # Convert to lower case\n",
    "    words = text.split() # Split string into words\n",
    "    words = [w for w in words if w not in stopwords.words(\"english\")] # Remove stopwords\n",
    "    words = [PorterStemmer().stem(w) for w in words] # stem\n",
    "    \n",
    "    return words"
   ]
  },
  {
   "cell_type": "code",
   "execution_count": 27,
   "metadata": {},
   "outputs": [],
   "source": [
    "import pickle\n",
    "\n",
    "cache_dir = os.path.join(\"../cache\", \"sentiment_analysis\")  # where to store cache files\n",
    "os.makedirs(cache_dir, exist_ok=True)  # ensure cache directory exists\n",
    "\n",
    "def preprocess_data(data_train, data_test, labels_train, labels_test,\n",
    "                    cache_dir=cache_dir, cache_file=\"preprocessed_data.pkl\"):\n",
    "    \"\"\"Convert each review to words; read from cache if available.\"\"\"\n",
    "\n",
    "    # If cache_file is not None, try to read from it first\n",
    "    cache_data = None\n",
    "    if cache_file is not None:\n",
    "        try:\n",
    "            with open(os.path.join(cache_dir, cache_file), \"rb\") as f:\n",
    "                cache_data = pickle.load(f)\n",
    "            print(\"Read preprocessed data from cache file:\", cache_file)\n",
    "        except:\n",
    "            pass  # unable to read from cache, but that's okay\n",
    "    \n",
    "    # If cache is missing, then do the heavy lifting\n",
    "    if cache_data is None:\n",
    "        # Preprocess training and test data to obtain words for each review\n",
    "        #words_train = list(map(review_to_words, data_train))\n",
    "        #words_test = list(map(review_to_words, data_test))\n",
    "        words_train = [review_to_words(review) for review in data_train]\n",
    "        words_test = [review_to_words(review) for review in data_test]\n",
    "        \n",
    "        # Write to cache file for future runs\n",
    "        if cache_file is not None:\n",
    "            cache_data = dict(words_train=words_train, words_test=words_test,\n",
    "                              labels_train=labels_train, labels_test=labels_test)\n",
    "            with open(os.path.join(cache_dir, cache_file), \"wb\") as f:\n",
    "                pickle.dump(cache_data, f)\n",
    "            print(\"Wrote preprocessed data to cache file:\", cache_file)\n",
    "    else:\n",
    "        # Unpack data loaded from cache file\n",
    "        words_train, words_test, labels_train, labels_test = (cache_data['words_train'],\n",
    "                cache_data['words_test'], cache_data['labels_train'], cache_data['labels_test'])\n",
    "    \n",
    "    return words_train, words_test, labels_train, labels_test"
   ]
  },
  {
   "cell_type": "code",
   "execution_count": 28,
   "metadata": {},
   "outputs": [
    {
     "name": "stdout",
     "output_type": "stream",
     "text": [
      "Read preprocessed data from cache file: preprocessed_data.pkl\n"
     ]
    }
   ],
   "source": [
    "# Preprocess data\n",
    "train_X, test_X, train_y, test_y = preprocess_data(train_X, test_X, train_y, test_y)"
   ]
  },
  {
   "cell_type": "markdown",
   "metadata": {},
   "source": [
    "### Extract Bag-of-Words features\n",
    "\n",
    "For the model we will be implementing, rather than using the reviews directly, we are going to transform each review into a Bag-of-Words feature representation. Keep in mind that 'in the wild' we will only have access to the training set so our transformer can only use the training set to construct a representation."
   ]
  },
  {
   "cell_type": "code",
   "execution_count": 29,
   "metadata": {},
   "outputs": [],
   "source": [
    "import numpy as np\n",
    "from sklearn.feature_extraction.text import CountVectorizer\n",
    "from sklearn.externals import joblib\n",
    "# joblib is an enhanced version of pickle that is more efficient for storing NumPy arrays\n",
    "\n",
    "def extract_BoW_features(words_train, words_test, vocabulary_size=5000,\n",
    "                         cache_dir=cache_dir, cache_file=\"bow_features.pkl\"):\n",
    "    \"\"\"Extract Bag-of-Words for a given set of documents, already preprocessed into words.\"\"\"\n",
    "    \n",
    "    # If cache_file is not None, try to read from it first\n",
    "    cache_data = None\n",
    "    if cache_file is not None:\n",
    "        try:\n",
    "            with open(os.path.join(cache_dir, cache_file), \"rb\") as f:\n",
    "                cache_data = joblib.load(f)\n",
    "            print(\"Read features from cache file:\", cache_file)\n",
    "        except:\n",
    "            pass  # unable to read from cache, but that's okay\n",
    "    \n",
    "    # If cache is missing, then do the heavy lifting\n",
    "    if cache_data is None:\n",
    "        # Fit a vectorizer to training documents and use it to transform them\n",
    "        # NOTE: Training documents have already been preprocessed and tokenized into words;\n",
    "        #       pass in dummy functions to skip those steps, e.g. preprocessor=lambda x: x\n",
    "        vectorizer = CountVectorizer(max_features=vocabulary_size,\n",
    "                preprocessor=lambda x: x, tokenizer=lambda x: x)  # already preprocessed\n",
    "        features_train = vectorizer.fit_transform(words_train).toarray()\n",
    "\n",
    "        # Apply the same vectorizer to transform the test documents (ignore unknown words)\n",
    "        features_test = vectorizer.transform(words_test).toarray()\n",
    "        \n",
    "        # NOTE: Remember to convert the features using .toarray() for a compact representation\n",
    "        \n",
    "        # Write to cache file for future runs (store vocabulary as well)\n",
    "        if cache_file is not None:\n",
    "            vocabulary = vectorizer.vocabulary_\n",
    "            cache_data = dict(features_train=features_train, features_test=features_test,\n",
    "                             vocabulary=vocabulary)\n",
    "            with open(os.path.join(cache_dir, cache_file), \"wb\") as f:\n",
    "                joblib.dump(cache_data, f)\n",
    "            print(\"Wrote features to cache file:\", cache_file)\n",
    "    else:\n",
    "        # Unpack data loaded from cache file\n",
    "        features_train, features_test, vocabulary = (cache_data['features_train'],\n",
    "                cache_data['features_test'], cache_data['vocabulary'])\n",
    "    \n",
    "    # Return both the extracted features as well as the vocabulary\n",
    "    return features_train, features_test, vocabulary"
   ]
  },
  {
   "cell_type": "code",
   "execution_count": 30,
   "metadata": {},
   "outputs": [
    {
     "name": "stdout",
     "output_type": "stream",
     "text": [
      "Read features from cache file: bow_features.pkl\n"
     ]
    }
   ],
   "source": [
    "# Extract Bag of Words features for both training and test datasets\n",
    "train_X, test_X, vocabulary = extract_BoW_features(train_X, test_X)"
   ]
  },
  {
   "cell_type": "markdown",
   "metadata": {},
   "source": [
    "## Step 4: Classification using XGBoost\n",
    "\n",
    "Now that we have created the feature representation of our training (and testing) data, it is time to start setting up and using the XGBoost classifier provided by SageMaker.\n",
    "\n",
    "### (TODO) Writing the dataset\n",
    "\n",
    "The XGBoost classifier that we will be using requires the dataset to be written to a file and stored using Amazon S3. To do this, we will start by splitting the training dataset into two parts, the data we will train the model with and a validation set. Then, we will write those datasets to a file and upload the files to S3. In addition, we will write the test set input to a file and upload the file to S3. This is so that we can use SageMakers Batch Transform functionality to test our model once we've fit it."
   ]
  },
  {
   "cell_type": "code",
   "execution_count": 31,
   "metadata": {},
   "outputs": [],
   "source": [
    "import pandas as pd\n",
    "from sklearn.model_selection import train_test_split\n",
    "# TODO: Split the train_X and train_y arrays into the DataFrames val_X, train_X and val_y, train_y. Make sure that\n",
    "#       val_X and val_y contain 10 000 entires while train_X and train_y contain the remaining 15 000 entries.\n",
    "train_X = pd.DataFrame(train_X, columns=vocabulary)\n",
    "train_y = pd.DataFrame(train_y)\n",
    "train_X, val_X, train_y, val_y = train_test_split(train_X, train_y, test_size=10000, random_state=42)"
   ]
  },
  {
   "cell_type": "markdown",
   "metadata": {},
   "source": [
    "The documentation for the XGBoost algorithm in SageMaker requires that the saved datasets should contain no headers or index and that for the training and validation data, the label should occur first for each sample.\n",
    "\n",
    "For more information about this and other algorithms, the SageMaker developer documentation can be found on __[Amazon's website.](https://docs.aws.amazon.com/sagemaker/latest/dg/)__"
   ]
  },
  {
   "cell_type": "code",
   "execution_count": 32,
   "metadata": {},
   "outputs": [],
   "source": [
    "# First we make sure that the local directory in which we'd like to store the training and validation csv files exists.\n",
    "data_dir = '../data/xgboost'\n",
    "if not os.path.exists(data_dir):\n",
    "    os.makedirs(data_dir)"
   ]
  },
  {
   "cell_type": "code",
   "execution_count": 33,
   "metadata": {},
   "outputs": [],
   "source": [
    "# First, save the test data to test.csv in the data_dir directory. Note that we do not save the associated ground truth\n",
    "# labels, instead we will use them later to compare with our model output.\n",
    "\n",
    "pd.DataFrame(test_X).to_csv(os.path.join(data_dir, 'test.csv'), header=False, index=False)\n",
    "\n",
    "# TODO: Save the training and validation data to train.csv and validation.csv in the data_dir directory.\n",
    "#       Make sure that the files you create are in the correct format.\n",
    "pd.concat([val_y, val_X], axis=1).to_csv(os.path.join(data_dir, 'validation.csv'), header=False, index=False)\n",
    "pd.concat([train_y, train_X], axis=1).to_csv(os.path.join(data_dir, 'train.csv'), header=False, index=False)"
   ]
  },
  {
   "cell_type": "code",
   "execution_count": 34,
   "metadata": {},
   "outputs": [],
   "source": [
    "# To save a bit of memory we can set text_X, train_X, val_X, train_y and val_y to None.\n",
    "\n",
    "test_X = train_X = val_X = train_y = val_y = None"
   ]
  },
  {
   "cell_type": "markdown",
   "metadata": {},
   "source": [
    "### (TODO) Uploading Training / Validation files to S3\n",
    "\n",
    "Amazon's S3 service allows us to store files that can be access by both the built-in training models such as the XGBoost model we will be using as well as custom models such as the one we will see a little later.\n",
    "\n",
    "For this, and most other tasks we will be doing using SageMaker, there are two methods we could use. The first is to use the low level functionality of SageMaker which requires knowing each of the objects involved in the SageMaker environment. The second is to use the high level functionality in which certain choices have been made on the user's behalf. The low level approach benefits from allowing the user a great deal of flexibility while the high level approach makes development much quicker. For our purposes we will opt to use the high level approach although using the low-level approach is certainly an option.\n",
    "\n",
    "Recall the method `upload_data()` which is a member of object representing our current SageMaker session. What this method does is upload the data to the default bucket (which is created if it does not exist) into the path described by the key_prefix variable. To see this for yourself, once you have uploaded the data files, go to the S3 console and look to see where the files have been uploaded.\n",
    "\n",
    "For additional resources, see the __[SageMaker API documentation](http://sagemaker.readthedocs.io/en/latest/)__ and in addition the __[SageMaker Developer Guide.](https://docs.aws.amazon.com/sagemaker/latest/dg/)__"
   ]
  },
  {
   "cell_type": "code",
   "execution_count": 35,
   "metadata": {},
   "outputs": [],
   "source": [
    "import sagemaker\n",
    "\n",
    "session = sagemaker.Session() # Store the current SageMaker session\n",
    "\n",
    "# S3 prefix (which folder will we use)\n",
    "prefix = 'sentiment-xgboost'\n",
    "\n",
    "# TODO: Upload the test.csv, train.csv and validation.csv files which are contained in data_dir to S3 using sess.upload_data().\n",
    "test_location = session.upload_data(os.path.join(data_dir, 'test.csv'), key_prefix=prefix)\n",
    "val_location = session.upload_data(os.path.join(data_dir, 'validation.csv'), key_prefix=prefix)\n",
    "train_location = session.upload_data(os.path.join(data_dir, 'train.csv'), key_prefix=prefix)"
   ]
  },
  {
   "cell_type": "markdown",
   "metadata": {},
   "source": [
    "### (TODO) Creating the XGBoost model\n",
    "\n",
    "Now that the data has been uploaded it is time to create the XGBoost model. To begin with, we need to do some setup. At this point it is worth discussing what a model is in SageMaker. It is easiest to think of a model of comprising three different objects in the SageMaker ecosystem, which interact with one another.\n",
    "\n",
    "- Model Artifacts\n",
    "- Training Code (Container)\n",
    "- Inference Code (Container)\n",
    "\n",
    "The Model Artifacts are what you might think of as the actual model itself. For example, if you were building a neural network, the model artifacts would be the weights of the various layers. In our case, for an XGBoost model, the artifacts are the actual trees that are created during training.\n",
    "\n",
    "The other two objects, the training code and the inference code are then used the manipulate the training artifacts. More precisely, the training code uses the training data that is provided and creates the model artifacts, while the inference code uses the model artifacts to make predictions on new data.\n",
    "\n",
    "The way that SageMaker runs the training and inference code is by making use of Docker containers. For now, think of a container as being a way of packaging code up so that dependencies aren't an issue."
   ]
  },
  {
   "cell_type": "code",
   "execution_count": 36,
   "metadata": {},
   "outputs": [],
   "source": [
    "from sagemaker import get_execution_role\n",
    "\n",
    "# Our current execution role is require when creating the model as the training\n",
    "# and inference code will need to access the model artifacts.\n",
    "role = get_execution_role()"
   ]
  },
  {
   "cell_type": "code",
   "execution_count": 38,
   "metadata": {},
   "outputs": [],
   "source": [
    "# We need to retrieve the location of the container which is provided by Amazon for using XGBoost.\n",
    "# As a matter of convenience, the training and inference code both use the same container.\n",
    "from sagemaker.amazon.amazon_estimator import get_image_uri\n",
    "\n",
    "container = get_image_uri(session.boto_region_name, 'xgboost', '0.90-2')"
   ]
  },
  {
   "cell_type": "code",
   "execution_count": 39,
   "metadata": {},
   "outputs": [],
   "source": [
    "# TODO: Create a SageMaker estimator using the container location determined in the previous cell.\n",
    "#       It is recommended that you use a single training instance of type ml.m4.xlarge. It is also\n",
    "#       recommended that you use 's3://{}/{}/output'.format(session.default_bucket(), prefix) as the\n",
    "#       output path.\n",
    "\n",
    "xgb = sagemaker.estimator.Estimator(container,\n",
    "                                   role,\n",
    "                                   train_instance_count=1,\n",
    "                                   train_instance_type='ml.m4.xlarge',\n",
    "                                   output_path='s3://{}/{}/output'.format(session.default_bucket(), prefix),\n",
    "                                   sagemaker_session=session)\n",
    "\n",
    "\n",
    "# TODO: Set the XGBoost hyperparameters in the xgb object. Don't forget that in this case we have a binary\n",
    "#       label so we should be using the 'binary:logistic' objective.\n",
    "xgb.set_hyperparameters(max_depth=8,\n",
    "                        eta=0.1,\n",
    "                        objective='binary:logistic',\n",
    "                        early_stopping_rounds=10,\n",
    "                        num_round=500)"
   ]
  },
  {
   "cell_type": "markdown",
   "metadata": {},
   "source": [
    "### Fit the XGBoost model\n",
    "\n",
    "Now that our model has been set up we simply need to attach the training and validation datasets and then ask SageMaker to set up the computation."
   ]
  },
  {
   "cell_type": "code",
   "execution_count": 40,
   "metadata": {},
   "outputs": [],
   "source": [
    "s3_input_train = sagemaker.s3_input(s3_data=train_location, content_type='csv')\n",
    "s3_input_validation = sagemaker.s3_input(s3_data=val_location, content_type='csv')"
   ]
  },
  {
   "cell_type": "code",
   "execution_count": 41,
   "metadata": {},
   "outputs": [
    {
     "name": "stdout",
     "output_type": "stream",
     "text": [
      "2020-05-12 03:22:16 Starting - Starting the training job...\n",
      "2020-05-12 03:22:17 Starting - Launching requested ML instances.........\n",
      "2020-05-12 03:23:48 Starting - Preparing the instances for training...\n",
      "2020-05-12 03:24:39 Downloading - Downloading input data...\n",
      "2020-05-12 03:24:57 Training - Downloading the training image...\n",
      "2020-05-12 03:25:28 Training - Training image download completed. Training in progress..\u001b[34mINFO:sagemaker-containers:Imported framework sagemaker_xgboost_container.training\u001b[0m\n",
      "\u001b[34mINFO:sagemaker-containers:Failed to parse hyperparameter objective value binary:logistic to Json.\u001b[0m\n",
      "\u001b[34mReturning the value itself\u001b[0m\n",
      "\u001b[34mINFO:sagemaker-containers:No GPUs detected (normal if no gpus installed)\u001b[0m\n",
      "\u001b[34mINFO:sagemaker_xgboost_container.training:Running XGBoost Sagemaker in algorithm mode\u001b[0m\n",
      "\u001b[34mINFO:root:Determined delimiter of CSV input is ','\u001b[0m\n",
      "\u001b[34mINFO:root:Determined delimiter of CSV input is ','\u001b[0m\n",
      "\u001b[34mINFO:root:Determined delimiter of CSV input is ','\u001b[0m\n",
      "\u001b[34m[03:25:32] 15000x5000 matrix with 75000000 entries loaded from /opt/ml/input/data/train?format=csv&label_column=0&delimiter=,\u001b[0m\n",
      "\u001b[34mINFO:root:Determined delimiter of CSV input is ','\u001b[0m\n",
      "\u001b[34m[03:25:33] 10000x5000 matrix with 50000000 entries loaded from /opt/ml/input/data/validation?format=csv&label_column=0&delimiter=,\u001b[0m\n",
      "\u001b[34mINFO:root:Single node training.\u001b[0m\n",
      "\u001b[34mINFO:root:Train matrix has 15000 rows\u001b[0m\n",
      "\u001b[34mINFO:root:Validation matrix has 10000 rows\u001b[0m\n",
      "\u001b[34m[0]#011train-error:0.248533#011validation-error:0.2838\u001b[0m\n",
      "\u001b[34m[1]#011train-error:0.243733#011validation-error:0.2774\u001b[0m\n",
      "\u001b[34m[2]#011train-error:0.2346#011validation-error:0.2679\u001b[0m\n",
      "\u001b[34m[3]#011train-error:0.224733#011validation-error:0.2626\u001b[0m\n",
      "\u001b[34m[4]#011train-error:0.225667#011validation-error:0.2642\u001b[0m\n",
      "\u001b[34m[5]#011train-error:0.224133#011validation-error:0.2637\u001b[0m\n",
      "\u001b[34m[6]#011train-error:0.215467#011validation-error:0.2564\u001b[0m\n",
      "\u001b[34m[7]#011train-error:0.2152#011validation-error:0.252\u001b[0m\n",
      "\u001b[34m[8]#011train-error:0.211733#011validation-error:0.2501\u001b[0m\n",
      "\u001b[34m[9]#011train-error:0.206#011validation-error:0.2469\u001b[0m\n",
      "\u001b[34m[10]#011train-error:0.204267#011validation-error:0.2444\u001b[0m\n",
      "\u001b[34m[11]#011train-error:0.200467#011validation-error:0.2393\u001b[0m\n",
      "\u001b[34m[12]#011train-error:0.1952#011validation-error:0.2378\u001b[0m\n",
      "\u001b[34m[13]#011train-error:0.192533#011validation-error:0.2349\u001b[0m\n",
      "\u001b[34m[14]#011train-error:0.187933#011validation-error:0.2329\u001b[0m\n",
      "\u001b[34m[15]#011train-error:0.186733#011validation-error:0.2317\u001b[0m\n",
      "\u001b[34m[16]#011train-error:0.183867#011validation-error:0.23\u001b[0m\n",
      "\u001b[34m[17]#011train-error:0.179867#011validation-error:0.227\u001b[0m\n",
      "\u001b[34m[18]#011train-error:0.177733#011validation-error:0.2249\u001b[0m\n",
      "\u001b[34m[19]#011train-error:0.172933#011validation-error:0.2234\u001b[0m\n",
      "\u001b[34m[20]#011train-error:0.169533#011validation-error:0.2189\u001b[0m\n",
      "\u001b[34m[21]#011train-error:0.166733#011validation-error:0.217\u001b[0m\n",
      "\u001b[34m[22]#011train-error:0.164467#011validation-error:0.215\u001b[0m\n",
      "\u001b[34m[23]#011train-error:0.161467#011validation-error:0.2135\u001b[0m\n",
      "\u001b[34m[24]#011train-error:0.1598#011validation-error:0.2143\u001b[0m\n",
      "\u001b[34m[25]#011train-error:0.1568#011validation-error:0.2124\u001b[0m\n",
      "\u001b[34m[26]#011train-error:0.154467#011validation-error:0.2095\u001b[0m\n",
      "\u001b[34m[27]#011train-error:0.150533#011validation-error:0.2064\u001b[0m\n",
      "\u001b[34m[28]#011train-error:0.148333#011validation-error:0.2058\u001b[0m\n",
      "\u001b[34m[29]#011train-error:0.1458#011validation-error:0.2042\u001b[0m\n",
      "\u001b[34m[30]#011train-error:0.144333#011validation-error:0.2034\u001b[0m\n",
      "\u001b[34m[31]#011train-error:0.1408#011validation-error:0.2007\u001b[0m\n",
      "\u001b[34m[32]#011train-error:0.137667#011validation-error:0.2001\u001b[0m\n",
      "\u001b[34m[33]#011train-error:0.133467#011validation-error:0.1987\u001b[0m\n",
      "\u001b[34m[34]#011train-error:0.1322#011validation-error:0.1983\u001b[0m\n",
      "\u001b[34m[35]#011train-error:0.130867#011validation-error:0.1964\u001b[0m\n",
      "\u001b[34m[36]#011train-error:0.127267#011validation-error:0.1948\u001b[0m\n",
      "\u001b[34m[37]#011train-error:0.125333#011validation-error:0.1938\u001b[0m\n",
      "\u001b[34m[38]#011train-error:0.1238#011validation-error:0.1923\u001b[0m\n",
      "\u001b[34m[39]#011train-error:0.1222#011validation-error:0.1918\u001b[0m\n",
      "\u001b[34m[40]#011train-error:0.120533#011validation-error:0.1912\u001b[0m\n",
      "\u001b[34m[41]#011train-error:0.120067#011validation-error:0.1921\u001b[0m\n",
      "\u001b[34m[42]#011train-error:0.118267#011validation-error:0.1901\u001b[0m\n",
      "\u001b[34m[43]#011train-error:0.115867#011validation-error:0.1902\u001b[0m\n",
      "\u001b[34m[44]#011train-error:0.115133#011validation-error:0.1883\u001b[0m\n",
      "\u001b[34m[45]#011train-error:0.113667#011validation-error:0.1879\u001b[0m\n",
      "\u001b[34m[46]#011train-error:0.1124#011validation-error:0.1882\u001b[0m\n",
      "\u001b[34m[47]#011train-error:0.111333#011validation-error:0.1872\u001b[0m\n",
      "\u001b[34m[48]#011train-error:0.1104#011validation-error:0.1857\u001b[0m\n",
      "\u001b[34m[49]#011train-error:0.1082#011validation-error:0.1838\u001b[0m\n",
      "\u001b[34m[50]#011train-error:0.1074#011validation-error:0.1832\u001b[0m\n",
      "\u001b[34m[51]#011train-error:0.105667#011validation-error:0.1823\u001b[0m\n",
      "\u001b[34m[52]#011train-error:0.104133#011validation-error:0.1811\u001b[0m\n",
      "\u001b[34m[53]#011train-error:0.103667#011validation-error:0.1811\u001b[0m\n",
      "\u001b[34m[54]#011train-error:0.1018#011validation-error:0.1808\u001b[0m\n",
      "\u001b[34m[55]#011train-error:0.101667#011validation-error:0.1809\u001b[0m\n",
      "\u001b[34m[56]#011train-error:0.1008#011validation-error:0.1806\u001b[0m\n",
      "\u001b[34m[57]#011train-error:0.098267#011validation-error:0.1796\u001b[0m\n",
      "\u001b[34m[58]#011train-error:0.097267#011validation-error:0.1793\u001b[0m\n",
      "\u001b[34m[59]#011train-error:0.096467#011validation-error:0.1791\u001b[0m\n",
      "\u001b[34m[60]#011train-error:0.095933#011validation-error:0.1784\u001b[0m\n",
      "\u001b[34m[61]#011train-error:0.095267#011validation-error:0.1774\u001b[0m\n",
      "\u001b[34m[62]#011train-error:0.094933#011validation-error:0.1764\u001b[0m\n",
      "\u001b[34m[63]#011train-error:0.094067#011validation-error:0.1753\u001b[0m\n",
      "\u001b[34m[64]#011train-error:0.092267#011validation-error:0.1743\u001b[0m\n",
      "\u001b[34m[65]#011train-error:0.091667#011validation-error:0.1745\u001b[0m\n",
      "\u001b[34m[66]#011train-error:0.091267#011validation-error:0.1739\u001b[0m\n",
      "\u001b[34m[67]#011train-error:0.090267#011validation-error:0.1736\u001b[0m\n",
      "\u001b[34m[68]#011train-error:0.0896#011validation-error:0.1732\u001b[0m\n",
      "\u001b[34m[69]#011train-error:0.0886#011validation-error:0.1739\u001b[0m\n",
      "\u001b[34m[70]#011train-error:0.087867#011validation-error:0.1729\u001b[0m\n",
      "\u001b[34m[71]#011train-error:0.0876#011validation-error:0.1725\u001b[0m\n",
      "\u001b[34m[72]#011train-error:0.086933#011validation-error:0.1718\u001b[0m\n",
      "\u001b[34m[73]#011train-error:0.0862#011validation-error:0.1709\u001b[0m\n",
      "\u001b[34m[74]#011train-error:0.085533#011validation-error:0.1715\u001b[0m\n",
      "\u001b[34m[75]#011train-error:0.0848#011validation-error:0.1711\u001b[0m\n",
      "\u001b[34m[76]#011train-error:0.084067#011validation-error:0.1699\u001b[0m\n",
      "\u001b[34m[77]#011train-error:0.082867#011validation-error:0.1694\u001b[0m\n",
      "\u001b[34m[78]#011train-error:0.081933#011validation-error:0.1688\u001b[0m\n",
      "\u001b[34m[79]#011train-error:0.0812#011validation-error:0.1683\u001b[0m\n",
      "\u001b[34m[80]#011train-error:0.080267#011validation-error:0.1676\u001b[0m\n",
      "\u001b[34m[81]#011train-error:0.079533#011validation-error:0.1672\u001b[0m\n",
      "\u001b[34m[82]#011train-error:0.079067#011validation-error:0.1661\u001b[0m\n",
      "\u001b[34m[83]#011train-error:0.078267#011validation-error:0.1665\u001b[0m\n",
      "\u001b[34m[84]#011train-error:0.078333#011validation-error:0.1661\u001b[0m\n",
      "\u001b[34m[85]#011train-error:0.077533#011validation-error:0.167\u001b[0m\n",
      "\u001b[34m[86]#011train-error:0.077#011validation-error:0.1669\u001b[0m\n",
      "\u001b[34m[87]#011train-error:0.076667#011validation-error:0.1666\u001b[0m\n",
      "\u001b[34m[88]#011train-error:0.075867#011validation-error:0.1664\u001b[0m\n",
      "\u001b[34m[89]#011train-error:0.075467#011validation-error:0.1657\u001b[0m\n",
      "\u001b[34m[90]#011train-error:0.075067#011validation-error:0.1658\u001b[0m\n",
      "\u001b[34m[91]#011train-error:0.074133#011validation-error:0.1651\u001b[0m\n",
      "\u001b[34m[92]#011train-error:0.0736#011validation-error:0.1649\u001b[0m\n",
      "\u001b[34m[93]#011train-error:0.072733#011validation-error:0.1637\u001b[0m\n",
      "\u001b[34m[94]#011train-error:0.072467#011validation-error:0.1634\u001b[0m\n",
      "\u001b[34m[95]#011train-error:0.071667#011validation-error:0.163\u001b[0m\n",
      "\u001b[34m[96]#011train-error:0.0712#011validation-error:0.1632\u001b[0m\n",
      "\u001b[34m[97]#011train-error:0.071067#011validation-error:0.1631\u001b[0m\n",
      "\u001b[34m[98]#011train-error:0.070733#011validation-error:0.1629\u001b[0m\n",
      "\u001b[34m[99]#011train-error:0.070533#011validation-error:0.1624\u001b[0m\n",
      "\u001b[34m[100]#011train-error:0.069467#011validation-error:0.1622\u001b[0m\n",
      "\u001b[34m[101]#011train-error:0.068267#011validation-error:0.1619\u001b[0m\n",
      "\u001b[34m[102]#011train-error:0.067933#011validation-error:0.161\u001b[0m\n",
      "\u001b[34m[103]#011train-error:0.067667#011validation-error:0.161\u001b[0m\n",
      "\u001b[34m[104]#011train-error:0.066467#011validation-error:0.1618\u001b[0m\n",
      "\u001b[34m[105]#011train-error:0.066333#011validation-error:0.161\u001b[0m\n",
      "\u001b[34m[106]#011train-error:0.0658#011validation-error:0.1606\u001b[0m\n",
      "\u001b[34m[107]#011train-error:0.0652#011validation-error:0.1604\u001b[0m\n",
      "\u001b[34m[108]#011train-error:0.065067#011validation-error:0.1605\u001b[0m\n",
      "\u001b[34m[109]#011train-error:0.064333#011validation-error:0.1597\u001b[0m\n",
      "\u001b[34m[110]#011train-error:0.063533#011validation-error:0.1596\u001b[0m\n",
      "\u001b[34m[111]#011train-error:0.063133#011validation-error:0.1603\u001b[0m\n"
     ]
    },
    {
     "name": "stdout",
     "output_type": "stream",
     "text": [
      "\u001b[34m[112]#011train-error:0.062733#011validation-error:0.1605\u001b[0m\n",
      "\u001b[34m[113]#011train-error:0.0628#011validation-error:0.1605\u001b[0m\n",
      "\u001b[34m[114]#011train-error:0.062067#011validation-error:0.1604\u001b[0m\n",
      "\u001b[34m[115]#011train-error:0.062067#011validation-error:0.1602\u001b[0m\n",
      "\u001b[34m[116]#011train-error:0.061467#011validation-error:0.1593\u001b[0m\n",
      "\u001b[34m[117]#011train-error:0.060533#011validation-error:0.1589\u001b[0m\n",
      "\u001b[34m[118]#011train-error:0.060267#011validation-error:0.1588\u001b[0m\n",
      "\u001b[34m[119]#011train-error:0.060133#011validation-error:0.158\u001b[0m\n",
      "\u001b[34m[120]#011train-error:0.060067#011validation-error:0.1577\u001b[0m\n",
      "\u001b[34m[121]#011train-error:0.058867#011validation-error:0.1572\u001b[0m\n",
      "\u001b[34m[122]#011train-error:0.058467#011validation-error:0.1574\u001b[0m\n",
      "\u001b[34m[123]#011train-error:0.0584#011validation-error:0.1567\u001b[0m\n",
      "\u001b[34m[124]#011train-error:0.0584#011validation-error:0.1566\u001b[0m\n",
      "\u001b[34m[125]#011train-error:0.0576#011validation-error:0.1561\u001b[0m\n",
      "\u001b[34m[126]#011train-error:0.057067#011validation-error:0.1556\u001b[0m\n",
      "\u001b[34m[127]#011train-error:0.0568#011validation-error:0.1547\u001b[0m\n",
      "\u001b[34m[128]#011train-error:0.0564#011validation-error:0.1548\u001b[0m\n",
      "\u001b[34m[129]#011train-error:0.056133#011validation-error:0.155\u001b[0m\n",
      "\u001b[34m[130]#011train-error:0.055333#011validation-error:0.1554\u001b[0m\n",
      "\u001b[34m[131]#011train-error:0.0552#011validation-error:0.1552\u001b[0m\n",
      "\u001b[34m[132]#011train-error:0.0546#011validation-error:0.1542\u001b[0m\n",
      "\u001b[34m[133]#011train-error:0.054067#011validation-error:0.1537\u001b[0m\n",
      "\u001b[34m[134]#011train-error:0.0534#011validation-error:0.1545\u001b[0m\n",
      "\u001b[34m[135]#011train-error:0.052667#011validation-error:0.154\u001b[0m\n",
      "\u001b[34m[136]#011train-error:0.052467#011validation-error:0.1534\u001b[0m\n",
      "\u001b[34m[137]#011train-error:0.0524#011validation-error:0.1533\u001b[0m\n",
      "\u001b[34m[138]#011train-error:0.051933#011validation-error:0.1531\u001b[0m\n",
      "\u001b[34m[139]#011train-error:0.051467#011validation-error:0.1526\u001b[0m\n",
      "\u001b[34m[140]#011train-error:0.051267#011validation-error:0.1519\u001b[0m\n",
      "\u001b[34m[141]#011train-error:0.0508#011validation-error:0.1509\u001b[0m\n",
      "\u001b[34m[142]#011train-error:0.050533#011validation-error:0.1509\u001b[0m\n",
      "\u001b[34m[143]#011train-error:0.050067#011validation-error:0.1503\u001b[0m\n",
      "\u001b[34m[144]#011train-error:0.049867#011validation-error:0.1502\u001b[0m\n",
      "\u001b[34m[145]#011train-error:0.049733#011validation-error:0.1497\u001b[0m\n",
      "\u001b[34m[146]#011train-error:0.049267#011validation-error:0.1499\u001b[0m\n",
      "\u001b[34m[147]#011train-error:0.0496#011validation-error:0.1505\u001b[0m\n",
      "\u001b[34m[148]#011train-error:0.049067#011validation-error:0.1502\u001b[0m\n",
      "\u001b[34m[149]#011train-error:0.048733#011validation-error:0.1501\u001b[0m\n",
      "\u001b[34m[150]#011train-error:0.048667#011validation-error:0.15\u001b[0m\n",
      "\u001b[34m[151]#011train-error:0.048333#011validation-error:0.1501\u001b[0m\n",
      "\u001b[34m[152]#011train-error:0.047533#011validation-error:0.1502\u001b[0m\n",
      "\u001b[34m[153]#011train-error:0.047267#011validation-error:0.1502\u001b[0m\n",
      "\u001b[34m[154]#011train-error:0.047#011validation-error:0.1496\u001b[0m\n",
      "\u001b[34m[155]#011train-error:0.0466#011validation-error:0.1492\u001b[0m\n",
      "\u001b[34m[156]#011train-error:0.046467#011validation-error:0.1496\u001b[0m\n",
      "\u001b[34m[157]#011train-error:0.046133#011validation-error:0.1489\u001b[0m\n",
      "\u001b[34m[158]#011train-error:0.046067#011validation-error:0.1488\u001b[0m\n",
      "\u001b[34m[159]#011train-error:0.045667#011validation-error:0.1483\u001b[0m\n",
      "\u001b[34m[160]#011train-error:0.0454#011validation-error:0.1487\u001b[0m\n",
      "\u001b[34m[161]#011train-error:0.045067#011validation-error:0.1484\u001b[0m\n",
      "\u001b[34m[162]#011train-error:0.045133#011validation-error:0.1486\u001b[0m\n",
      "\u001b[34m[163]#011train-error:0.044933#011validation-error:0.1486\u001b[0m\n",
      "\u001b[34m[164]#011train-error:0.044867#011validation-error:0.1484\u001b[0m\n",
      "\u001b[34m[165]#011train-error:0.0444#011validation-error:0.1485\u001b[0m\n",
      "\u001b[34m[166]#011train-error:0.0444#011validation-error:0.1478\u001b[0m\n",
      "\u001b[34m[167]#011train-error:0.044267#011validation-error:0.1478\u001b[0m\n",
      "\u001b[34m[168]#011train-error:0.044133#011validation-error:0.1473\u001b[0m\n",
      "\u001b[34m[169]#011train-error:0.0438#011validation-error:0.1475\u001b[0m\n",
      "\u001b[34m[170]#011train-error:0.042933#011validation-error:0.1468\u001b[0m\n",
      "\u001b[34m[171]#011train-error:0.043133#011validation-error:0.147\u001b[0m\n",
      "\u001b[34m[172]#011train-error:0.042933#011validation-error:0.1467\u001b[0m\n",
      "\u001b[34m[173]#011train-error:0.0428#011validation-error:0.1467\u001b[0m\n",
      "\u001b[34m[174]#011train-error:0.043#011validation-error:0.1458\u001b[0m\n",
      "\u001b[34m[175]#011train-error:0.042867#011validation-error:0.1461\u001b[0m\n",
      "\u001b[34m[176]#011train-error:0.042467#011validation-error:0.146\u001b[0m\n",
      "\u001b[34m[177]#011train-error:0.042533#011validation-error:0.1462\u001b[0m\n",
      "\u001b[34m[178]#011train-error:0.0426#011validation-error:0.1463\u001b[0m\n",
      "\u001b[34m[179]#011train-error:0.042067#011validation-error:0.1464\u001b[0m\n",
      "\u001b[34m[180]#011train-error:0.041867#011validation-error:0.1459\u001b[0m\n",
      "\u001b[34m[181]#011train-error:0.0412#011validation-error:0.1468\u001b[0m\n",
      "\u001b[34m[182]#011train-error:0.041#011validation-error:0.147\u001b[0m\n",
      "\u001b[34m[183]#011train-error:0.040333#011validation-error:0.1468\u001b[0m\n",
      "\u001b[34m[184]#011train-error:0.040267#011validation-error:0.1468\u001b[0m\n",
      "\n",
      "2020-05-12 03:30:40 Uploading - Uploading generated training model\n",
      "2020-05-12 03:30:40 Completed - Training job completed\n",
      "Training seconds: 361\n",
      "Billable seconds: 361\n"
     ]
    }
   ],
   "source": [
    "xgb.fit({'train': s3_input_train, 'validation': s3_input_validation})"
   ]
  },
  {
   "cell_type": "markdown",
   "metadata": {},
   "source": [
    "### (TODO) Testing the model\n",
    "\n",
    "Now that we've fit our XGBoost model, it's time to see how well it performs. To do this we will use SageMakers Batch Transform functionality. Batch Transform is a convenient way to perform inference on a large dataset in a way that is not realtime. That is, we don't necessarily need to use our model's results immediately and instead we can peform inference on a large number of samples. An example of this in industry might be peforming an end of month report. This method of inference can also be useful to us as it means to can perform inference on our entire test set. \n",
    "\n",
    "To perform a Batch Transformation we need to first create a transformer objects from our trained estimator object."
   ]
  },
  {
   "cell_type": "code",
   "execution_count": 42,
   "metadata": {},
   "outputs": [],
   "source": [
    "# TODO: Create a transformer object from the trained model. Using an instance count of 1 and an instance type of ml.m4.xlarge\n",
    "#       should be more than enough.\n",
    "xgb_transformer = xgb.transformer(instance_count = 1, instance_type = 'ml.m4.xlarge')"
   ]
  },
  {
   "cell_type": "markdown",
   "metadata": {},
   "source": [
    "Next we actually perform the transform job. When doing so we need to make sure to specify the type of data we are sending so that it is serialized correctly in the background. In our case we are providing our model with csv data so we specify `text/csv`. Also, if the test data that we have provided is too large to process all at once then we need to specify how the data file should be split up. Since each line is a single entry in our data set we tell SageMaker that it can split the input on each line."
   ]
  },
  {
   "cell_type": "code",
   "execution_count": 43,
   "metadata": {},
   "outputs": [],
   "source": [
    "# TODO: Start the transform job. Make sure to specify the content type and the split type of the test data.\n",
    "xgb_transformer.transform(test_location, content_type='text/csv', split_type='Line')"
   ]
  },
  {
   "cell_type": "markdown",
   "metadata": {},
   "source": [
    "Currently the transform job is running but it is doing so in the background. Since we wish to wait until the transform job is done and we would like a bit of feedback we can run the `wait()` method."
   ]
  },
  {
   "cell_type": "code",
   "execution_count": 44,
   "metadata": {},
   "outputs": [
    {
     "name": "stdout",
     "output_type": "stream",
     "text": [
      "......................\u001b[32m2020-05-12T03:34:27.922:[sagemaker logs]: MaxConcurrentTransforms=4, MaxPayloadInMB=6, BatchStrategy=MULTI_RECORD\u001b[0m\n",
      "\u001b[34m[2020-05-12 03:34:23 +0000] [15] [INFO] Starting gunicorn 19.10.0\u001b[0m\n",
      "\u001b[34m[2020-05-12 03:34:23 +0000] [15] [INFO] Listening at: unix:/tmp/gunicorn.sock (15)\u001b[0m\n",
      "\u001b[34m[2020-05-12 03:34:23 +0000] [15] [INFO] Using worker: gevent\u001b[0m\n",
      "\u001b[34m[2020-05-12 03:34:23 +0000] [22] [INFO] Booting worker with pid: 22\u001b[0m\n",
      "\u001b[34m[2020-05-12 03:34:23 +0000] [23] [INFO] Booting worker with pid: 23\u001b[0m\n",
      "\u001b[34m[2020-05-12 03:34:23 +0000] [24] [INFO] Booting worker with pid: 24\u001b[0m\n",
      "\u001b[34m[2020-05-12 03:34:23 +0000] [28] [INFO] Booting worker with pid: 28\u001b[0m\n",
      "\u001b[34m[2020-05-12:03:34:27:INFO] No GPUs detected (normal if no gpus installed)\u001b[0m\n",
      "\u001b[34m169.254.255.130 - - [12/May/2020:03:34:27 +0000] \"GET /ping HTTP/1.1\" 200 0 \"-\" \"Go-http-client/1.1\"\u001b[0m\n",
      "\u001b[34m[2020-05-12:03:34:27:INFO] No GPUs detected (normal if no gpus installed)\u001b[0m\n",
      "\u001b[34m169.254.255.130 - - [12/May/2020:03:34:27 +0000] \"GET /execution-parameters HTTP/1.1\" 200 84 \"-\" \"Go-http-client/1.1\"\u001b[0m\n",
      "\u001b[35m[2020-05-12 03:34:23 +0000] [15] [INFO] Starting gunicorn 19.10.0\u001b[0m\n",
      "\u001b[35m[2020-05-12 03:34:23 +0000] [15] [INFO] Listening at: unix:/tmp/gunicorn.sock (15)\u001b[0m\n",
      "\u001b[35m[2020-05-12 03:34:23 +0000] [15] [INFO] Using worker: gevent\u001b[0m\n",
      "\u001b[35m[2020-05-12 03:34:23 +0000] [22] [INFO] Booting worker with pid: 22\u001b[0m\n",
      "\u001b[35m[2020-05-12 03:34:23 +0000] [23] [INFO] Booting worker with pid: 23\u001b[0m\n",
      "\u001b[35m[2020-05-12 03:34:23 +0000] [24] [INFO] Booting worker with pid: 24\u001b[0m\n",
      "\u001b[35m[2020-05-12 03:34:23 +0000] [28] [INFO] Booting worker with pid: 28\u001b[0m\n",
      "\u001b[35m[2020-05-12:03:34:27:INFO] No GPUs detected (normal if no gpus installed)\u001b[0m\n",
      "\u001b[35m169.254.255.130 - - [12/May/2020:03:34:27 +0000] \"GET /ping HTTP/1.1\" 200 0 \"-\" \"Go-http-client/1.1\"\u001b[0m\n",
      "\u001b[35m[2020-05-12:03:34:27:INFO] No GPUs detected (normal if no gpus installed)\u001b[0m\n",
      "\u001b[35m169.254.255.130 - - [12/May/2020:03:34:27 +0000] \"GET /execution-parameters HTTP/1.1\" 200 84 \"-\" \"Go-http-client/1.1\"\u001b[0m\n",
      "\u001b[34m[2020-05-12:03:34:31:INFO] No GPUs detected (normal if no gpus installed)\u001b[0m\n",
      "\u001b[34m[2020-05-12:03:34:31:INFO] No GPUs detected (normal if no gpus installed)\u001b[0m\n",
      "\u001b[34m[2020-05-12:03:34:31:INFO] Determined delimiter of CSV input is ','\u001b[0m\n",
      "\u001b[34m[2020-05-12:03:34:31:INFO] Determined delimiter of CSV input is ','\u001b[0m\n",
      "\u001b[34m[2020-05-12:03:34:31:INFO] Determined delimiter of CSV input is ','\u001b[0m\n",
      "\u001b[34m[2020-05-12:03:34:31:INFO] Determined delimiter of CSV input is ','\u001b[0m\n",
      "\u001b[35m[2020-05-12:03:34:31:INFO] No GPUs detected (normal if no gpus installed)\u001b[0m\n",
      "\u001b[35m[2020-05-12:03:34:31:INFO] No GPUs detected (normal if no gpus installed)\u001b[0m\n",
      "\u001b[35m[2020-05-12:03:34:31:INFO] Determined delimiter of CSV input is ','\u001b[0m\n",
      "\u001b[35m[2020-05-12:03:34:31:INFO] Determined delimiter of CSV input is ','\u001b[0m\n",
      "\u001b[35m[2020-05-12:03:34:31:INFO] Determined delimiter of CSV input is ','\u001b[0m\n",
      "\u001b[35m[2020-05-12:03:34:31:INFO] Determined delimiter of CSV input is ','\u001b[0m\n",
      "\u001b[34m169.254.255.130 - - [12/May/2020:03:34:34 +0000] \"POST /invocations HTTP/1.1\" 200 12208 \"-\" \"Go-http-client/1.1\"\u001b[0m\n",
      "\u001b[34m169.254.255.130 - - [12/May/2020:03:34:34 +0000] \"POST /invocations HTTP/1.1\" 200 12225 \"-\" \"Go-http-client/1.1\"\u001b[0m\n",
      "\u001b[34m169.254.255.130 - - [12/May/2020:03:34:34 +0000] \"POST /invocations HTTP/1.1\" 200 12171 \"-\" \"Go-http-client/1.1\"\u001b[0m\n",
      "\u001b[34m169.254.255.130 - - [12/May/2020:03:34:34 +0000] \"POST /invocations HTTP/1.1\" 200 12206 \"-\" \"Go-http-client/1.1\"\u001b[0m\n",
      "\u001b[35m169.254.255.130 - - [12/May/2020:03:34:34 +0000] \"POST /invocations HTTP/1.1\" 200 12208 \"-\" \"Go-http-client/1.1\"\u001b[0m\n",
      "\u001b[35m169.254.255.130 - - [12/May/2020:03:34:34 +0000] \"POST /invocations HTTP/1.1\" 200 12225 \"-\" \"Go-http-client/1.1\"\u001b[0m\n",
      "\u001b[35m169.254.255.130 - - [12/May/2020:03:34:34 +0000] \"POST /invocations HTTP/1.1\" 200 12171 \"-\" \"Go-http-client/1.1\"\u001b[0m\n",
      "\u001b[35m169.254.255.130 - - [12/May/2020:03:34:34 +0000] \"POST /invocations HTTP/1.1\" 200 12206 \"-\" \"Go-http-client/1.1\"\u001b[0m\n",
      "\u001b[34m[2020-05-12:03:34:35:INFO] Determined delimiter of CSV input is ','\u001b[0m\n",
      "\u001b[34m[2020-05-12:03:34:35:INFO] Determined delimiter of CSV input is ','\u001b[0m\n",
      "\u001b[34m[2020-05-12:03:34:35:INFO] Determined delimiter of CSV input is ','\u001b[0m\n",
      "\u001b[34m[2020-05-12:03:34:35:INFO] Determined delimiter of CSV input is ','\u001b[0m\n",
      "\u001b[35m[2020-05-12:03:34:35:INFO] Determined delimiter of CSV input is ','\u001b[0m\n",
      "\u001b[35m[2020-05-12:03:34:35:INFO] Determined delimiter of CSV input is ','\u001b[0m\n",
      "\u001b[35m[2020-05-12:03:34:35:INFO] Determined delimiter of CSV input is ','\u001b[0m\n",
      "\u001b[35m[2020-05-12:03:34:35:INFO] Determined delimiter of CSV input is ','\u001b[0m\n",
      "\u001b[34m169.254.255.130 - - [12/May/2020:03:34:38 +0000] \"POST /invocations HTTP/1.1\" 200 12227 \"-\" \"Go-http-client/1.1\"\u001b[0m\n",
      "\u001b[34m169.254.255.130 - - [12/May/2020:03:34:38 +0000] \"POST /invocations HTTP/1.1\" 200 12201 \"-\" \"Go-http-client/1.1\"\u001b[0m\n",
      "\u001b[34m169.254.255.130 - - [12/May/2020:03:34:38 +0000] \"POST /invocations HTTP/1.1\" 200 12210 \"-\" \"Go-http-client/1.1\"\u001b[0m\n",
      "\u001b[34m169.254.255.130 - - [12/May/2020:03:34:38 +0000] \"POST /invocations HTTP/1.1\" 200 12170 \"-\" \"Go-http-client/1.1\"\u001b[0m\n",
      "\u001b[34m[2020-05-12:03:34:38:INFO] Determined delimiter of CSV input is ','\u001b[0m\n",
      "\u001b[34m[2020-05-12:03:34:38:INFO] Determined delimiter of CSV input is ','\u001b[0m\n",
      "\u001b[34m[2020-05-12:03:34:38:INFO] Determined delimiter of CSV input is ','\u001b[0m\n",
      "\u001b[34m[2020-05-12:03:34:38:INFO] Determined delimiter of CSV input is ','\u001b[0m\n",
      "\u001b[35m169.254.255.130 - - [12/May/2020:03:34:38 +0000] \"POST /invocations HTTP/1.1\" 200 12227 \"-\" \"Go-http-client/1.1\"\u001b[0m\n",
      "\u001b[35m169.254.255.130 - - [12/May/2020:03:34:38 +0000] \"POST /invocations HTTP/1.1\" 200 12201 \"-\" \"Go-http-client/1.1\"\u001b[0m\n",
      "\u001b[35m169.254.255.130 - - [12/May/2020:03:34:38 +0000] \"POST /invocations HTTP/1.1\" 200 12210 \"-\" \"Go-http-client/1.1\"\u001b[0m\n",
      "\u001b[35m169.254.255.130 - - [12/May/2020:03:34:38 +0000] \"POST /invocations HTTP/1.1\" 200 12170 \"-\" \"Go-http-client/1.1\"\u001b[0m\n",
      "\u001b[35m[2020-05-12:03:34:38:INFO] Determined delimiter of CSV input is ','\u001b[0m\n",
      "\u001b[35m[2020-05-12:03:34:38:INFO] Determined delimiter of CSV input is ','\u001b[0m\n",
      "\u001b[35m[2020-05-12:03:34:38:INFO] Determined delimiter of CSV input is ','\u001b[0m\n",
      "\u001b[35m[2020-05-12:03:34:38:INFO] Determined delimiter of CSV input is ','\u001b[0m\n",
      "\u001b[34m169.254.255.130 - - [12/May/2020:03:34:45 +0000] \"POST /invocations HTTP/1.1\" 200 12181 \"-\" \"Go-http-client/1.1\"\u001b[0m\n",
      "\u001b[35m169.254.255.130 - - [12/May/2020:03:34:45 +0000] \"POST /invocations HTTP/1.1\" 200 12181 \"-\" \"Go-http-client/1.1\"\u001b[0m\n",
      "\u001b[34m169.254.255.130 - - [12/May/2020:03:34:46 +0000] \"POST /invocations HTTP/1.1\" 200 12241 \"-\" \"Go-http-client/1.1\"\u001b[0m\n",
      "\u001b[35m169.254.255.130 - - [12/May/2020:03:34:46 +0000] \"POST /invocations HTTP/1.1\" 200 12241 \"-\" \"Go-http-client/1.1\"\u001b[0m\n",
      "\u001b[34m169.254.255.130 - - [12/May/2020:03:34:46 +0000] \"POST /invocations HTTP/1.1\" 200 12193 \"-\" \"Go-http-client/1.1\"\u001b[0m\n",
      "\u001b[34m169.254.255.130 - - [12/May/2020:03:34:46 +0000] \"POST /invocations HTTP/1.1\" 200 12213 \"-\" \"Go-http-client/1.1\"\u001b[0m\n",
      "\u001b[34m[2020-05-12:03:34:46:INFO] Determined delimiter of CSV input is ','\u001b[0m\n",
      "\u001b[34m[2020-05-12:03:34:46:INFO] Determined delimiter of CSV input is ','\u001b[0m\n",
      "\u001b[34m[2020-05-12:03:34:46:INFO] Determined delimiter of CSV input is ','\u001b[0m\n",
      "\u001b[35m169.254.255.130 - - [12/May/2020:03:34:46 +0000] \"POST /invocations HTTP/1.1\" 200 12193 \"-\" \"Go-http-client/1.1\"\u001b[0m\n",
      "\u001b[35m169.254.255.130 - - [12/May/2020:03:34:46 +0000] \"POST /invocations HTTP/1.1\" 200 12213 \"-\" \"Go-http-client/1.1\"\u001b[0m\n",
      "\u001b[35m[2020-05-12:03:34:46:INFO] Determined delimiter of CSV input is ','\u001b[0m\n",
      "\u001b[35m[2020-05-12:03:34:46:INFO] Determined delimiter of CSV input is ','\u001b[0m\n",
      "\u001b[35m[2020-05-12:03:34:46:INFO] Determined delimiter of CSV input is ','\u001b[0m\n",
      "\u001b[34m[2020-05-12:03:34:49:INFO] Determined delimiter of CSV input is ','\u001b[0m\n",
      "\u001b[35m[2020-05-12:03:34:49:INFO] Determined delimiter of CSV input is ','\u001b[0m\n",
      "\u001b[34m169.254.255.130 - - [12/May/2020:03:34:50 +0000] \"POST /invocations HTTP/1.1\" 200 12238 \"-\" \"Go-http-client/1.1\"\u001b[0m\n",
      "\u001b[35m169.254.255.130 - - [12/May/2020:03:34:50 +0000] \"POST /invocations HTTP/1.1\" 200 12238 \"-\" \"Go-http-client/1.1\"\u001b[0m\n",
      "\u001b[34m169.254.255.130 - - [12/May/2020:03:34:51 +0000] \"POST /invocations HTTP/1.1\" 200 12220 \"-\" \"Go-http-client/1.1\"\u001b[0m\n",
      "\u001b[34m169.254.255.130 - - [12/May/2020:03:34:51 +0000] \"POST /invocations HTTP/1.1\" 200 12201 \"-\" \"Go-http-client/1.1\"\u001b[0m\n",
      "\u001b[34m[2020-05-12:03:34:51:INFO] Determined delimiter of CSV input is ','\u001b[0m\n",
      "\u001b[34m[2020-05-12:03:34:51:INFO] Determined delimiter of CSV input is ','\u001b[0m\n",
      "\u001b[34m[2020-05-12:03:34:51:INFO] Determined delimiter of CSV input is ','\u001b[0m\n",
      "\u001b[34m[2020-05-12:03:34:52:INFO] Determined delimiter of CSV input is ','\u001b[0m\n",
      "\u001b[35m169.254.255.130 - - [12/May/2020:03:34:51 +0000] \"POST /invocations HTTP/1.1\" 200 12220 \"-\" \"Go-http-client/1.1\"\u001b[0m\n",
      "\u001b[35m169.254.255.130 - - [12/May/2020:03:34:51 +0000] \"POST /invocations HTTP/1.1\" 200 12201 \"-\" \"Go-http-client/1.1\"\u001b[0m\n",
      "\u001b[35m[2020-05-12:03:34:51:INFO] Determined delimiter of CSV input is ','\u001b[0m\n",
      "\u001b[35m[2020-05-12:03:34:51:INFO] Determined delimiter of CSV input is ','\u001b[0m\n",
      "\u001b[35m[2020-05-12:03:34:51:INFO] Determined delimiter of CSV input is ','\u001b[0m\n",
      "\u001b[35m[2020-05-12:03:34:52:INFO] Determined delimiter of CSV input is ','\u001b[0m\n",
      "\u001b[34m169.254.255.130 - - [12/May/2020:03:34:55 +0000] \"POST /invocations HTTP/1.1\" 200 12181 \"-\" \"Go-http-client/1.1\"\u001b[0m\n",
      "\u001b[34m169.254.255.130 - - [12/May/2020:03:34:55 +0000] \"POST /invocations HTTP/1.1\" 200 12201 \"-\" \"Go-http-client/1.1\"\u001b[0m\n",
      "\u001b[34m169.254.255.130 - - [12/May/2020:03:34:55 +0000] \"POST /invocations HTTP/1.1\" 200 12188 \"-\" \"Go-http-client/1.1\"\u001b[0m\n",
      "\u001b[34m169.254.255.130 - - [12/May/2020:03:34:55 +0000] \"POST /invocations HTTP/1.1\" 200 12183 \"-\" \"Go-http-client/1.1\"\u001b[0m\n",
      "\u001b[34m[2020-05-12:03:34:55:INFO] Determined delimiter of CSV input is ','\u001b[0m\n",
      "\u001b[34m[2020-05-12:03:34:55:INFO] Determined delimiter of CSV input is ','\u001b[0m\n",
      "\u001b[34m[2020-05-12:03:34:55:INFO] Determined delimiter of CSV input is ','\u001b[0m\n",
      "\u001b[34m[2020-05-12:03:34:55:INFO] Determined delimiter of CSV input is ','\u001b[0m\n",
      "\u001b[35m169.254.255.130 - - [12/May/2020:03:34:55 +0000] \"POST /invocations HTTP/1.1\" 200 12181 \"-\" \"Go-http-client/1.1\"\u001b[0m\n",
      "\u001b[35m169.254.255.130 - - [12/May/2020:03:34:55 +0000] \"POST /invocations HTTP/1.1\" 200 12201 \"-\" \"Go-http-client/1.1\"\u001b[0m\n",
      "\u001b[35m169.254.255.130 - - [12/May/2020:03:34:55 +0000] \"POST /invocations HTTP/1.1\" 200 12188 \"-\" \"Go-http-client/1.1\"\u001b[0m\n",
      "\u001b[35m169.254.255.130 - - [12/May/2020:03:34:55 +0000] \"POST /invocations HTTP/1.1\" 200 12183 \"-\" \"Go-http-client/1.1\"\u001b[0m\n",
      "\u001b[35m[2020-05-12:03:34:55:INFO] Determined delimiter of CSV input is ','\u001b[0m\n",
      "\u001b[35m[2020-05-12:03:34:55:INFO] Determined delimiter of CSV input is ','\u001b[0m\n",
      "\u001b[35m[2020-05-12:03:34:55:INFO] Determined delimiter of CSV input is ','\u001b[0m\n",
      "\u001b[35m[2020-05-12:03:34:55:INFO] Determined delimiter of CSV input is ','\u001b[0m\n",
      "\u001b[34m169.254.255.130 - - [12/May/2020:03:34:58 +0000] \"POST /invocations HTTP/1.1\" 200 12196 \"-\" \"Go-http-client/1.1\"\u001b[0m\n",
      "\u001b[34m169.254.255.130 - - [12/May/2020:03:34:59 +0000] \"POST /invocations HTTP/1.1\" 200 12206 \"-\" \"Go-http-client/1.1\"\u001b[0m\n",
      "\u001b[35m169.254.255.130 - - [12/May/2020:03:34:58 +0000] \"POST /invocations HTTP/1.1\" 200 12196 \"-\" \"Go-http-client/1.1\"\u001b[0m\n",
      "\u001b[35m169.254.255.130 - - [12/May/2020:03:34:59 +0000] \"POST /invocations HTTP/1.1\" 200 12206 \"-\" \"Go-http-client/1.1\"\u001b[0m\n",
      "\u001b[34m169.254.255.130 - - [12/May/2020:03:34:59 +0000] \"POST /invocations HTTP/1.1\" 200 12204 \"-\" \"Go-http-client/1.1\"\u001b[0m\n",
      "\u001b[34m[2020-05-12:03:34:59:INFO] Determined delimiter of CSV input is ','\u001b[0m\n",
      "\u001b[34m169.254.255.130 - - [12/May/2020:03:34:59 +0000] \"POST /invocations HTTP/1.1\" 200 12196 \"-\" \"Go-http-client/1.1\"\u001b[0m\n",
      "\u001b[34m[2020-05-12:03:34:59:INFO] Determined delimiter of CSV input is ','\u001b[0m\n",
      "\u001b[34m[2020-05-12:03:34:59:INFO] Determined delimiter of CSV input is ','\u001b[0m\n",
      "\u001b[34m[2020-05-12:03:34:59:INFO] Determined delimiter of CSV input is ','\u001b[0m\n",
      "\u001b[35m169.254.255.130 - - [12/May/2020:03:34:59 +0000] \"POST /invocations HTTP/1.1\" 200 12204 \"-\" \"Go-http-client/1.1\"\u001b[0m\n",
      "\u001b[35m[2020-05-12:03:34:59:INFO] Determined delimiter of CSV input is ','\u001b[0m\n",
      "\u001b[35m169.254.255.130 - - [12/May/2020:03:34:59 +0000] \"POST /invocations HTTP/1.1\" 200 12196 \"-\" \"Go-http-client/1.1\"\u001b[0m\n",
      "\u001b[35m[2020-05-12:03:34:59:INFO] Determined delimiter of CSV input is ','\u001b[0m\n",
      "\u001b[35m[2020-05-12:03:34:59:INFO] Determined delimiter of CSV input is ','\u001b[0m\n",
      "\u001b[35m[2020-05-12:03:34:59:INFO] Determined delimiter of CSV input is ','\u001b[0m\n"
     ]
    },
    {
     "name": "stdout",
     "output_type": "stream",
     "text": [
      "\u001b[34m[2020-05-12:03:35:03:INFO] Determined delimiter of CSV input is ','\u001b[0m\n",
      "\u001b[35m[2020-05-12:03:35:03:INFO] Determined delimiter of CSV input is ','\u001b[0m\n",
      "\u001b[34m[2020-05-12:03:35:03:INFO] Determined delimiter of CSV input is ','\u001b[0m\n",
      "\u001b[35m[2020-05-12:03:35:03:INFO] Determined delimiter of CSV input is ','\u001b[0m\n",
      "\u001b[34m169.254.255.130 - - [12/May/2020:03:35:06 +0000] \"POST /invocations HTTP/1.1\" 200 12179 \"-\" \"Go-http-client/1.1\"\u001b[0m\n",
      "\u001b[35m169.254.255.130 - - [12/May/2020:03:35:06 +0000] \"POST /invocations HTTP/1.1\" 200 12179 \"-\" \"Go-http-client/1.1\"\u001b[0m\n",
      "\u001b[34m169.254.255.130 - - [12/May/2020:03:35:06 +0000] \"POST /invocations HTTP/1.1\" 200 12203 \"-\" \"Go-http-client/1.1\"\u001b[0m\n",
      "\u001b[34m[2020-05-12:03:35:06:INFO] Determined delimiter of CSV input is ','\u001b[0m\n",
      "\u001b[34m169.254.255.130 - - [12/May/2020:03:35:06 +0000] \"POST /invocations HTTP/1.1\" 200 12254 \"-\" \"Go-http-client/1.1\"\u001b[0m\n",
      "\u001b[34m[2020-05-12:03:35:06:INFO] Determined delimiter of CSV input is ','\u001b[0m\n",
      "\u001b[34m169.254.255.130 - - [12/May/2020:03:35:06 +0000] \"POST /invocations HTTP/1.1\" 200 12218 \"-\" \"Go-http-client/1.1\"\u001b[0m\n",
      "\u001b[35m169.254.255.130 - - [12/May/2020:03:35:06 +0000] \"POST /invocations HTTP/1.1\" 200 12203 \"-\" \"Go-http-client/1.1\"\u001b[0m\n",
      "\u001b[35m[2020-05-12:03:35:06:INFO] Determined delimiter of CSV input is ','\u001b[0m\n",
      "\u001b[35m169.254.255.130 - - [12/May/2020:03:35:06 +0000] \"POST /invocations HTTP/1.1\" 200 12254 \"-\" \"Go-http-client/1.1\"\u001b[0m\n",
      "\u001b[35m[2020-05-12:03:35:06:INFO] Determined delimiter of CSV input is ','\u001b[0m\n",
      "\u001b[35m169.254.255.130 - - [12/May/2020:03:35:06 +0000] \"POST /invocations HTTP/1.1\" 200 12218 \"-\" \"Go-http-client/1.1\"\u001b[0m\n",
      "\n"
     ]
    }
   ],
   "source": [
    "xgb_transformer.wait()"
   ]
  },
  {
   "cell_type": "markdown",
   "metadata": {},
   "source": [
    "Now the transform job has executed and the result, the estimated sentiment of each review, has been saved on S3. Since we would rather work on this file locally we can perform a bit of notebook magic to copy the file to the `data_dir`."
   ]
  },
  {
   "cell_type": "code",
   "execution_count": 45,
   "metadata": {},
   "outputs": [
    {
     "name": "stdout",
     "output_type": "stream",
     "text": [
      "Completed 256.0 KiB/473.5 KiB (4.0 MiB/s) with 1 file(s) remaining\r",
      "Completed 473.5 KiB/473.5 KiB (7.1 MiB/s) with 1 file(s) remaining\r",
      "download: s3://sagemaker-us-east-2-577314450857/sagemaker-xgboost-2020-05-12-03-31-01-217/test.csv.out to ../data/xgboost/test.csv.out\r\n"
     ]
    }
   ],
   "source": [
    "!aws s3 cp --recursive $xgb_transformer.output_path $data_dir"
   ]
  },
  {
   "cell_type": "markdown",
   "metadata": {},
   "source": [
    "The last step is now to read in the output from our model, convert the output to something a little more usable, in this case we want the sentiment to be either `1` (positive) or `0` (negative), and then compare to the ground truth labels."
   ]
  },
  {
   "cell_type": "code",
   "execution_count": 46,
   "metadata": {},
   "outputs": [],
   "source": [
    "predictions = pd.read_csv(os.path.join(data_dir, 'test.csv.out'), header=None)\n",
    "predictions = [round(num) for num in predictions.squeeze().values]"
   ]
  },
  {
   "cell_type": "code",
   "execution_count": 47,
   "metadata": {},
   "outputs": [
    {
     "data": {
      "text/plain": [
       "0.85528"
      ]
     },
     "execution_count": 47,
     "metadata": {},
     "output_type": "execute_result"
    }
   ],
   "source": [
    "from sklearn.metrics import accuracy_score\n",
    "accuracy_score(test_y, predictions)"
   ]
  },
  {
   "cell_type": "markdown",
   "metadata": {},
   "source": [
    "## Optional: Clean up\n",
    "\n",
    "The default notebook instance on SageMaker doesn't have a lot of excess disk space available. As you continue to complete and execute notebooks you will eventually fill up this disk space, leading to errors which can be difficult to diagnose. Once you are completely finished using a notebook it is a good idea to remove the files that you created along the way. Of course, you can do this from the terminal or from the notebook hub if you would like. The cell below contains some commands to clean up the created files from within the notebook."
   ]
  },
  {
   "cell_type": "code",
   "execution_count": 48,
   "metadata": {},
   "outputs": [],
   "source": [
    "# First we will remove all of the files contained in the data_dir directory\n",
    "!rm $data_dir/*\n",
    "\n",
    "# And then we delete the directory itself\n",
    "!rmdir $data_dir\n",
    "\n",
    "# Similarly we will remove the files in the cache_dir directory and the directory itself\n",
    "!rm $cache_dir/*\n",
    "!rmdir $cache_dir"
   ]
  },
  {
   "cell_type": "code",
   "execution_count": null,
   "metadata": {},
   "outputs": [],
   "source": []
  }
 ],
 "metadata": {
  "kernelspec": {
   "display_name": "conda_python3",
   "language": "python",
   "name": "conda_python3"
  },
  "language_info": {
   "codemirror_mode": {
    "name": "ipython",
    "version": 3
   },
   "file_extension": ".py",
   "mimetype": "text/x-python",
   "name": "python",
   "nbconvert_exporter": "python",
   "pygments_lexer": "ipython3",
   "version": "3.6.5"
  }
 },
 "nbformat": 4,
 "nbformat_minor": 4
}
