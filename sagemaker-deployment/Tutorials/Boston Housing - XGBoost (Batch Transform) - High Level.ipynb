{
 "cells": [
  {
   "cell_type": "markdown",
   "metadata": {},
   "source": [
    "# Predicting Boston Housing Prices\n",
    "\n",
    "## Using XGBoost in SageMaker (Batch Transform)\n",
    "\n",
    "_Deep Learning Nanodegree Program | Deployment_\n",
    "\n",
    "---\n",
    "\n",
    "As an introduction to using SageMaker's High Level Python API we will look at a relatively simple problem. Namely, we will use the [Boston Housing Dataset](https://www.cs.toronto.edu/~delve/data/boston/bostonDetail.html) to predict the median value of a home in the area of Boston Mass.\n",
    "\n",
    "The documentation for the high level API can be found on the [ReadTheDocs page](http://sagemaker.readthedocs.io/en/latest/)\n",
    "\n",
    "## General Outline\n",
    "\n",
    "Typically, when using a notebook instance with SageMaker, you will proceed through the following steps. Of course, not every step will need to be done with each project. Also, there is quite a lot of room for variation in many of the steps, as you will see throughout these lessons.\n",
    "\n",
    "1. Download or otherwise retrieve the data.\n",
    "2. Process / Prepare the data.\n",
    "3. Upload the processed data to S3.\n",
    "4. Train a chosen model.\n",
    "5. Test the trained model (typically using a batch transform job).\n",
    "6. Deploy the trained model.\n",
    "7. Use the deployed model.\n",
    "\n",
    "In this notebook we will only be covering steps 1 through 5 as we just want to get a feel for using SageMaker. In later notebooks we will talk about deploying a trained model in much more detail."
   ]
  },
  {
   "cell_type": "markdown",
   "metadata": {},
   "source": [
    "## Step 0: Setting up the notebook\n",
    "\n",
    "We begin by setting up all of the necessary bits required to run our notebook. To start that means loading all of the Python modules we will need."
   ]
  },
  {
   "cell_type": "code",
   "execution_count": 1,
   "metadata": {},
   "outputs": [],
   "source": [
    "%matplotlib inline\n",
    "\n",
    "import os\n",
    "\n",
    "import numpy as np\n",
    "import pandas as pd\n",
    "\n",
    "import matplotlib.pyplot as plt\n",
    "\n",
    "from sklearn.datasets import load_boston\n",
    "import sklearn.model_selection"
   ]
  },
  {
   "cell_type": "markdown",
   "metadata": {},
   "source": [
    "In addition to the modules above, we need to import the various bits of SageMaker that we will be using. "
   ]
  },
  {
   "cell_type": "code",
   "execution_count": 2,
   "metadata": {},
   "outputs": [],
   "source": [
    "import sagemaker\n",
    "from sagemaker import get_execution_role\n",
    "from sagemaker.amazon.amazon_estimator import get_image_uri\n",
    "from sagemaker.predictor import csv_serializer\n",
    "\n",
    "# This is an object that represents the SageMaker session that we are currently operating in. This\n",
    "# object contains some useful information that we will need to access later such as our region.\n",
    "session = sagemaker.Session()\n",
    "\n",
    "# This is an object that represents the IAM role that we are currently assigned. When we construct\n",
    "# and launch the training job later we will need to tell it what IAM role it should have. Since our\n",
    "# use case is relatively simple we will simply assign the training job the role we currently have.\n",
    "role = get_execution_role()"
   ]
  },
  {
   "cell_type": "markdown",
   "metadata": {},
   "source": [
    "## Step 1: Downloading the data\n",
    "\n",
    "Fortunately, this dataset can be retrieved using sklearn and so this step is relatively straightforward."
   ]
  },
  {
   "cell_type": "code",
   "execution_count": 3,
   "metadata": {},
   "outputs": [],
   "source": [
    "boston = load_boston()"
   ]
  },
  {
   "cell_type": "markdown",
   "metadata": {},
   "source": [
    "## Step 2: Preparing and splitting the data\n",
    "\n",
    "Given that this is clean tabular data, we don't need to do any processing. However, we do need to split the rows in the dataset up into train, test and validation sets."
   ]
  },
  {
   "cell_type": "code",
   "execution_count": 4,
   "metadata": {},
   "outputs": [],
   "source": [
    "# First we package up the input data and the target variable (the median value) as pandas dataframes. This\n",
    "# will make saving the data to a file a little easier later on.\n",
    "\n",
    "X_bos_pd = pd.DataFrame(boston.data, columns=boston.feature_names)\n",
    "Y_bos_pd = pd.DataFrame(boston.target)\n",
    "\n",
    "# We split the dataset into 2/3 training and 1/3 testing sets.\n",
    "X_train, X_test, Y_train, Y_test = sklearn.model_selection.train_test_split(X_bos_pd, Y_bos_pd, test_size=0.33)\n",
    "\n",
    "# Then we split the training set further into 2/3 training and 1/3 validation sets.\n",
    "X_train, X_val, Y_train, Y_val = sklearn.model_selection.train_test_split(X_train, Y_train, test_size=0.33)"
   ]
  },
  {
   "cell_type": "markdown",
   "metadata": {},
   "source": [
    "## Step 3: Uploading the data files to S3\n",
    "\n",
    "When a training job is constructed using SageMaker, a container is executed which performs the training operation. This container is given access to data that is stored in S3. This means that we need to upload the data we want to use for training to S3. In addition, when we perform a batch transform job, SageMaker expects the input data to be stored on S3. We can use the SageMaker API to do this and hide some of the details.\n",
    "\n",
    "### Save the data locally\n",
    "\n",
    "First we need to create the test, train and validation csv files which we will then upload to S3."
   ]
  },
  {
   "cell_type": "code",
   "execution_count": 6,
   "metadata": {},
   "outputs": [],
   "source": [
    "# This is our local data directory. We need to make sure that it exists.\n",
    "data_dir = '../data/boston'\n",
    "if not os.path.exists(data_dir):\n",
    "    os.makedirs(data_dir)"
   ]
  },
  {
   "cell_type": "code",
   "execution_count": 7,
   "metadata": {},
   "outputs": [],
   "source": [
    "# We use pandas to save our test, train and validation data to csv files. Note that we make sure not to include header\n",
    "# information or an index as this is required by the built in algorithms provided by Amazon. Also, for the train and\n",
    "# validation data, it is assumed that the first entry in each row is the target variable.\n",
    "\n",
    "X_test.to_csv(os.path.join(data_dir, 'test.csv'), header=False, index=False)\n",
    "\n",
    "pd.concat([Y_val, X_val], axis=1).to_csv(os.path.join(data_dir, 'validation.csv'), header=False, index=False)\n",
    "pd.concat([Y_train, X_train], axis=1).to_csv(os.path.join(data_dir, 'train.csv'), header=False, index=False)"
   ]
  },
  {
   "cell_type": "markdown",
   "metadata": {},
   "source": [
    "### Upload to S3\n",
    "\n",
    "Since we are currently running inside of a SageMaker session, we can use the object which represents this session to upload our data to the 'default' S3 bucket. Note that it is good practice to provide a custom prefix (essentially an S3 folder) to make sure that you don't accidentally interfere with data uploaded from some other notebook or project."
   ]
  },
  {
   "cell_type": "code",
   "execution_count": 8,
   "metadata": {},
   "outputs": [],
   "source": [
    "prefix = 'boston-xgboost-HL'\n",
    "\n",
    "test_location = session.upload_data(os.path.join(data_dir, 'test.csv'), key_prefix=prefix)\n",
    "val_location = session.upload_data(os.path.join(data_dir, 'validation.csv'), key_prefix=prefix)\n",
    "train_location = session.upload_data(os.path.join(data_dir, 'train.csv'), key_prefix=prefix)"
   ]
  },
  {
   "cell_type": "markdown",
   "metadata": {},
   "source": [
    "## Step 4: Train the XGBoost model\n",
    "\n",
    "Now that we have the training and validation data uploaded to S3, we can construct our XGBoost model and train it. We will be making use of the high level SageMaker API to do this which will make the resulting code a little easier to read at the cost of some flexibility.\n",
    "\n",
    "To construct an estimator, the object which we wish to train, we need to provide the location of a container which contains the training code. Since we are using a built in algorithm this container is provided by Amazon. However, the full name of the container is a bit lengthy and depends on the region that we are operating in. Fortunately, SageMaker provides a useful utility method called `get_image_uri` that constructs the image name for us.\n",
    "\n",
    "To use the `get_image_uri` method we need to provide it with our current region, which can be obtained from the session object, and the name of the algorithm we wish to use. In this notebook we will be using XGBoost however you could try another algorithm if you wish. The list of built in algorithms can be found in the list of [Common Parameters](https://docs.aws.amazon.com/sagemaker/latest/dg/sagemaker-algo-docker-registry-paths.html)."
   ]
  },
  {
   "cell_type": "code",
   "execution_count": 10,
   "metadata": {},
   "outputs": [],
   "source": [
    "# As stated above, we use this utility method to construct the image name for the training container.\n",
    "container = get_image_uri(session.boto_region_name, 'xgboost', '0.90-2')\n",
    "\n",
    "# Now that we know which container to use, we can construct the estimator object.\n",
    "xgb = sagemaker.estimator.Estimator(container, # The image name of the training container\n",
    "                                    role,      # The IAM role to use (our current role in this case)\n",
    "                                    train_instance_count=1, # The number of instances to use for training\n",
    "                                    train_instance_type='ml.m4.xlarge', # The type of instance to use for training\n",
    "                                    output_path='s3://{}/{}/output'.format(session.default_bucket(), prefix),\n",
    "                                                                        # Where to save the output (the model artifacts)\n",
    "                                    sagemaker_session=session) # The current SageMaker session"
   ]
  },
  {
   "cell_type": "markdown",
   "metadata": {},
   "source": [
    "Before asking SageMaker to begin the training job, we should probably set any model specific hyperparameters. There are quite a few that can be set when using the XGBoost algorithm, below are just a few of them. If you would like to change the hyperparameters below or modify additional ones you can find additional information on the [XGBoost hyperparameter page](https://docs.aws.amazon.com/sagemaker/latest/dg/xgboost_hyperparameters.html)"
   ]
  },
  {
   "cell_type": "code",
   "execution_count": 11,
   "metadata": {},
   "outputs": [],
   "source": [
    "xgb.set_hyperparameters(max_depth=5,\n",
    "                        eta=0.2,\n",
    "                        gamma=4,\n",
    "                        min_child_weight=6,\n",
    "                        subsample=0.8,\n",
    "                        objective='reg:linear',\n",
    "                        early_stopping_rounds=10,\n",
    "                        num_round=200)"
   ]
  },
  {
   "cell_type": "markdown",
   "metadata": {},
   "source": [
    "Now that we have our estimator object completely set up, it is time to train it. To do this we make sure that SageMaker knows our input data is in csv format and then execute the `fit` method."
   ]
  },
  {
   "cell_type": "code",
   "execution_count": 12,
   "metadata": {},
   "outputs": [
    {
     "name": "stdout",
     "output_type": "stream",
     "text": [
      "2020-05-08 02:23:49 Starting - Starting the training job...\n",
      "2020-05-08 02:23:51 Starting - Launching requested ML instances......\n",
      "2020-05-08 02:24:54 Starting - Preparing the instances for training...\n",
      "2020-05-08 02:25:47 Downloading - Downloading input data...\n",
      "2020-05-08 02:26:05 Training - Downloading the training image..\n",
      "2020-05-08 02:26:44 Uploading - Uploading generated training model\n",
      "2020-05-08 02:26:44 Completed - Training job completed\n",
      "\u001b[34mINFO:sagemaker-containers:Imported framework sagemaker_xgboost_container.training\u001b[0m\n",
      "\u001b[34mINFO:sagemaker-containers:Failed to parse hyperparameter objective value reg:linear to Json.\u001b[0m\n",
      "\u001b[34mReturning the value itself\u001b[0m\n",
      "\u001b[34mINFO:sagemaker-containers:No GPUs detected (normal if no gpus installed)\u001b[0m\n",
      "\u001b[34mINFO:sagemaker_xgboost_container.training:Running XGBoost Sagemaker in algorithm mode\u001b[0m\n",
      "\u001b[34mINFO:root:Determined delimiter of CSV input is ','\u001b[0m\n",
      "\u001b[34mINFO:root:Determined delimiter of CSV input is ','\u001b[0m\n",
      "\u001b[34mINFO:root:Determined delimiter of CSV input is ','\u001b[0m\n",
      "\u001b[34m[02:26:34] 227x13 matrix with 2951 entries loaded from /opt/ml/input/data/train?format=csv&label_column=0&delimiter=,\u001b[0m\n",
      "\u001b[34mINFO:root:Determined delimiter of CSV input is ','\u001b[0m\n",
      "\u001b[34m[02:26:34] 112x13 matrix with 1456 entries loaded from /opt/ml/input/data/validation?format=csv&label_column=0&delimiter=,\u001b[0m\n",
      "\u001b[34mINFO:root:Single node training.\u001b[0m\n",
      "\u001b[34mINFO:root:Train matrix has 227 rows\u001b[0m\n",
      "\u001b[34mINFO:root:Validation matrix has 112 rows\u001b[0m\n",
      "\u001b[34m[02:26:34] WARNING: /workspace/src/objective/regression_obj.cu:152: reg:linear is now deprecated in favor of reg:squarederror.\u001b[0m\n",
      "\u001b[34m[0]#011train-rmse:19.5626#011validation-rmse:20.3054\u001b[0m\n",
      "\u001b[34m[1]#011train-rmse:15.9537#011validation-rmse:16.8857\u001b[0m\n",
      "\u001b[34m[2]#011train-rmse:13.0469#011validation-rmse:14.0298\u001b[0m\n",
      "\u001b[34m[3]#011train-rmse:10.7587#011validation-rmse:11.8317\u001b[0m\n",
      "\u001b[34m[4]#011train-rmse:8.92868#011validation-rmse:10.111\u001b[0m\n",
      "\u001b[34m[5]#011train-rmse:7.44211#011validation-rmse:8.78372\u001b[0m\n",
      "\u001b[34m[6]#011train-rmse:6.24307#011validation-rmse:7.67396\u001b[0m\n",
      "\u001b[34m[7]#011train-rmse:5.28077#011validation-rmse:6.8106\u001b[0m\n",
      "\u001b[34m[8]#011train-rmse:4.54702#011validation-rmse:6.13417\u001b[0m\n",
      "\u001b[34m[9]#011train-rmse:3.98031#011validation-rmse:5.70422\u001b[0m\n",
      "\u001b[34m[10]#011train-rmse:3.51019#011validation-rmse:5.33005\u001b[0m\n",
      "\u001b[34m[11]#011train-rmse:3.21615#011validation-rmse:5.10597\u001b[0m\n",
      "\u001b[34m[12]#011train-rmse:2.90992#011validation-rmse:4.821\u001b[0m\n",
      "\u001b[34m[13]#011train-rmse:2.70879#011validation-rmse:4.69941\u001b[0m\n",
      "\u001b[34m[14]#011train-rmse:2.56559#011validation-rmse:4.54587\u001b[0m\n",
      "\u001b[34m[15]#011train-rmse:2.45324#011validation-rmse:4.44586\u001b[0m\n",
      "\u001b[34m[16]#011train-rmse:2.33983#011validation-rmse:4.34944\u001b[0m\n",
      "\u001b[34m[17]#011train-rmse:2.26137#011validation-rmse:4.30772\u001b[0m\n",
      "\u001b[34m[18]#011train-rmse:2.14523#011validation-rmse:4.24304\u001b[0m\n",
      "\u001b[34m[19]#011train-rmse:2.08547#011validation-rmse:4.24848\u001b[0m\n",
      "\u001b[34m[20]#011train-rmse:2.01555#011validation-rmse:4.20541\u001b[0m\n",
      "\u001b[34m[21]#011train-rmse:1.94589#011validation-rmse:4.15931\u001b[0m\n",
      "\u001b[34m[22]#011train-rmse:1.87943#011validation-rmse:4.1122\u001b[0m\n",
      "\u001b[34m[23]#011train-rmse:1.86186#011validation-rmse:4.09862\u001b[0m\n",
      "\u001b[34m[24]#011train-rmse:1.83702#011validation-rmse:4.08167\u001b[0m\n",
      "\u001b[34m[25]#011train-rmse:1.80411#011validation-rmse:4.05303\u001b[0m\n",
      "\u001b[34m[26]#011train-rmse:1.7835#011validation-rmse:4.03768\u001b[0m\n",
      "\u001b[34m[27]#011train-rmse:1.75875#011validation-rmse:4.00569\u001b[0m\n",
      "\u001b[34m[28]#011train-rmse:1.70387#011validation-rmse:3.9866\u001b[0m\n",
      "\u001b[34m[29]#011train-rmse:1.68829#011validation-rmse:3.95223\u001b[0m\n",
      "\u001b[34m[30]#011train-rmse:1.63407#011validation-rmse:3.91825\u001b[0m\n",
      "\u001b[34m[31]#011train-rmse:1.61506#011validation-rmse:3.91885\u001b[0m\n",
      "\u001b[34m[32]#011train-rmse:1.58679#011validation-rmse:3.91335\u001b[0m\n",
      "\u001b[34m[33]#011train-rmse:1.5699#011validation-rmse:3.89169\u001b[0m\n",
      "\u001b[34m[34]#011train-rmse:1.56686#011validation-rmse:3.91552\u001b[0m\n",
      "\u001b[34m[35]#011train-rmse:1.54838#011validation-rmse:3.89039\u001b[0m\n",
      "\u001b[34m[36]#011train-rmse:1.53363#011validation-rmse:3.90013\u001b[0m\n",
      "\u001b[34m[37]#011train-rmse:1.5081#011validation-rmse:3.88941\u001b[0m\n",
      "\u001b[34m[38]#011train-rmse:1.49588#011validation-rmse:3.89829\u001b[0m\n",
      "\u001b[34m[39]#011train-rmse:1.47172#011validation-rmse:3.88497\u001b[0m\n",
      "\u001b[34m[40]#011train-rmse:1.44217#011validation-rmse:3.8478\u001b[0m\n",
      "\u001b[34m[41]#011train-rmse:1.42746#011validation-rmse:3.81491\u001b[0m\n",
      "\u001b[34m[42]#011train-rmse:1.3811#011validation-rmse:3.78721\u001b[0m\n",
      "\u001b[34m[43]#011train-rmse:1.34977#011validation-rmse:3.80324\u001b[0m\n",
      "\u001b[34m[44]#011train-rmse:1.31469#011validation-rmse:3.77487\u001b[0m\n",
      "\u001b[34m[45]#011train-rmse:1.31646#011validation-rmse:3.79059\u001b[0m\n",
      "\u001b[34m[46]#011train-rmse:1.30746#011validation-rmse:3.77809\u001b[0m\n",
      "\u001b[34m[47]#011train-rmse:1.30304#011validation-rmse:3.78278\u001b[0m\n",
      "\u001b[34m[48]#011train-rmse:1.28878#011validation-rmse:3.78979\u001b[0m\n",
      "\u001b[34m[49]#011train-rmse:1.28137#011validation-rmse:3.77564\u001b[0m\n",
      "\u001b[34m[50]#011train-rmse:1.25735#011validation-rmse:3.75357\u001b[0m\n",
      "\u001b[34m[51]#011train-rmse:1.25171#011validation-rmse:3.75543\u001b[0m\n",
      "\u001b[34m[52]#011train-rmse:1.20852#011validation-rmse:3.76885\u001b[0m\n",
      "\u001b[34m[53]#011train-rmse:1.19699#011validation-rmse:3.76118\u001b[0m\n",
      "\u001b[34m[54]#011train-rmse:1.18251#011validation-rmse:3.76319\u001b[0m\n",
      "\u001b[34m[55]#011train-rmse:1.17056#011validation-rmse:3.76049\u001b[0m\n",
      "\u001b[34m[56]#011train-rmse:1.14643#011validation-rmse:3.75366\u001b[0m\n",
      "\u001b[34m[57]#011train-rmse:1.14101#011validation-rmse:3.74652\u001b[0m\n",
      "\u001b[34m[58]#011train-rmse:1.11386#011validation-rmse:3.73209\u001b[0m\n",
      "\u001b[34m[59]#011train-rmse:1.09313#011validation-rmse:3.71211\u001b[0m\n",
      "\u001b[34m[60]#011train-rmse:1.07818#011validation-rmse:3.71312\u001b[0m\n",
      "\u001b[34m[61]#011train-rmse:1.06543#011validation-rmse:3.72022\u001b[0m\n",
      "\u001b[34m[62]#011train-rmse:1.06521#011validation-rmse:3.72594\u001b[0m\n",
      "\u001b[34m[63]#011train-rmse:1.05757#011validation-rmse:3.73264\u001b[0m\n",
      "\u001b[34m[64]#011train-rmse:1.02515#011validation-rmse:3.74731\u001b[0m\n",
      "\u001b[34m[65]#011train-rmse:1.00885#011validation-rmse:3.7404\u001b[0m\n",
      "\u001b[34m[66]#011train-rmse:1.00615#011validation-rmse:3.73247\u001b[0m\n",
      "\u001b[34m[67]#011train-rmse:0.983687#011validation-rmse:3.75155\u001b[0m\n",
      "\u001b[34m[68]#011train-rmse:0.984771#011validation-rmse:3.75666\u001b[0m\n",
      "\u001b[34m[69]#011train-rmse:0.977072#011validation-rmse:3.74285\u001b[0m\n",
      "Training seconds: 57\n",
      "Billable seconds: 57\n"
     ]
    }
   ],
   "source": [
    "# This is a wrapper around the location of our train and validation data, to make sure that SageMaker\n",
    "# knows our data is in csv format.\n",
    "s3_input_train = sagemaker.s3_input(s3_data=train_location, content_type='csv')\n",
    "s3_input_validation = sagemaker.s3_input(s3_data=val_location, content_type='csv')\n",
    "\n",
    "xgb.fit({'train': s3_input_train, 'validation': s3_input_validation})"
   ]
  },
  {
   "cell_type": "markdown",
   "metadata": {},
   "source": [
    "## Step 5: Test the model\n",
    "\n",
    "Now that we have fit our model to the training data, using the validation data to avoid overfitting, we can test our model. To do this we will make use of SageMaker's Batch Transform functionality. To start with, we need to build a transformer object from our fit model."
   ]
  },
  {
   "cell_type": "code",
   "execution_count": 14,
   "metadata": {},
   "outputs": [
    {
     "name": "stderr",
     "output_type": "stream",
     "text": [
      "WARNING:sagemaker:Using already existing model: sagemaker-xgboost-2020-05-08-02-23-49-434\n"
     ]
    }
   ],
   "source": [
    "xgb_transformer = xgb.transformer(instance_count = 1, instance_type = 'ml.m4.xlarge')"
   ]
  },
  {
   "cell_type": "markdown",
   "metadata": {},
   "source": [
    "Next we ask SageMaker to begin a batch transform job using our trained model and applying it to the test data we previously stored in S3. We need to make sure to provide SageMaker with the type of data that we are providing to our model, in our case `text/csv`, so that it knows how to serialize our data. In addition, we need to make sure to let SageMaker know how to split our data up into chunks if the entire data set happens to be too large to send to our model all at once.\n",
    "\n",
    "Note that when we ask SageMaker to do this it will execute the batch transform job in the background. Since we need to wait for the results of this job before we can continue, we use the `wait()` method. An added benefit of this is that we get some output from our batch transform job which lets us know if anything went wrong."
   ]
  },
  {
   "cell_type": "code",
   "execution_count": 15,
   "metadata": {},
   "outputs": [],
   "source": [
    "xgb_transformer.transform(test_location, content_type='text/csv', split_type='Line')"
   ]
  },
  {
   "cell_type": "code",
   "execution_count": null,
   "metadata": {},
   "outputs": [
    {
     "name": "stdout",
     "output_type": "stream",
     "text": [
      "..."
     ]
    }
   ],
   "source": [
    "xgb_transformer.wait()"
   ]
  },
  {
   "cell_type": "markdown",
   "metadata": {},
   "source": [
    "Now that the batch transform job has finished, the resulting output is stored on S3. Since we wish to analyze the output inside of our notebook we can use a bit of notebook magic to copy the output file from its S3 location and save it locally."
   ]
  },
  {
   "cell_type": "code",
   "execution_count": null,
   "metadata": {},
   "outputs": [],
   "source": [
    "!aws s3 cp --recursive $xgb_transformer.output_path $data_dir"
   ]
  },
  {
   "cell_type": "markdown",
   "metadata": {},
   "source": [
    "To see how well our model works we can create a simple scatter plot between the predicted and actual values. If the model was completely accurate the resulting scatter plot would look like the line $x=y$. As we can see, our model seems to have done okay but there is room for improvement."
   ]
  },
  {
   "cell_type": "code",
   "execution_count": null,
   "metadata": {},
   "outputs": [],
   "source": [
    "Y_pred = pd.read_csv(os.path.join(data_dir, 'test.csv.out'), header=None)"
   ]
  },
  {
   "cell_type": "code",
   "execution_count": null,
   "metadata": {},
   "outputs": [],
   "source": [
    "plt.scatter(Y_test, Y_pred)\n",
    "plt.xlabel(\"Median Price\")\n",
    "plt.ylabel(\"Predicted Price\")\n",
    "plt.title(\"Median Price vs Predicted Price\")"
   ]
  },
  {
   "cell_type": "markdown",
   "metadata": {},
   "source": [
    "## Optional: Clean up\n",
    "\n",
    "The default notebook instance on SageMaker doesn't have a lot of excess disk space available. As you continue to complete and execute notebooks you will eventually fill up this disk space, leading to errors which can be difficult to diagnose. Once you are completely finished using a notebook it is a good idea to remove the files that you created along the way. Of course, you can do this from the terminal or from the notebook hub if you would like. The cell below contains some commands to clean up the created files from within the notebook."
   ]
  },
  {
   "cell_type": "code",
   "execution_count": null,
   "metadata": {},
   "outputs": [],
   "source": [
    "# First we will remove all of the files contained in the data_dir directory\n",
    "!rm $data_dir/*\n",
    "\n",
    "# And then we delete the directory itself\n",
    "!rmdir $data_dir"
   ]
  },
  {
   "cell_type": "code",
   "execution_count": null,
   "metadata": {},
   "outputs": [],
   "source": []
  }
 ],
 "metadata": {
  "kernelspec": {
   "display_name": "conda_pytorch_p36",
   "language": "python",
   "name": "conda_pytorch_p36"
  },
  "language_info": {
   "codemirror_mode": {
    "name": "ipython",
    "version": 3
   },
   "file_extension": ".py",
   "mimetype": "text/x-python",
   "name": "python",
   "nbconvert_exporter": "python",
   "pygments_lexer": "ipython3",
   "version": "3.6.5"
  }
 },
 "nbformat": 4,
 "nbformat_minor": 4
}
